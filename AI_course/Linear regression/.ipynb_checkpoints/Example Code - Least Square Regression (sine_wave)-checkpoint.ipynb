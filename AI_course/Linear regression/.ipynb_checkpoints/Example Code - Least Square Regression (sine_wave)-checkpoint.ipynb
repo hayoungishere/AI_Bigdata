{
 "cells": [
  {
   "cell_type": "markdown",
   "metadata": {
    "slideshow": {
     "slide_type": "slide"
    }
   },
   "source": [
    "# Linear Regression\n",
    "###     (preliminary: Linear Model)\n",
    "## 1. Library and Data, Preprocessing\n",
    "## 2. Compute W and b with 4 methods "
   ]
  },
  {
   "cell_type": "markdown",
   "metadata": {
    "slideshow": {
     "slide_type": "skip"
    }
   },
   "source": [
    "## 3. [Advanced] Regularization: Ridge, Lasso"
   ]
  },
  {
   "cell_type": "markdown",
   "metadata": {
    "slideshow": {
     "slide_type": "slide"
    }
   },
   "source": [
    "# Library"
   ]
  },
  {
   "cell_type": "code",
   "execution_count": 2,
   "metadata": {
    "slideshow": {
     "slide_type": "fragment"
    }
   },
   "outputs": [],
   "source": [
    "import numpy as np\n",
    "import tensorflow as tf\n",
    "from matplotlib import pyplot as plt"
   ]
  },
  {
   "cell_type": "markdown",
   "metadata": {
    "slideshow": {
     "slide_type": "slide"
    }
   },
   "source": [
    "# simple data"
   ]
  },
  {
   "cell_type": "code",
   "execution_count": 5,
   "metadata": {
    "slideshow": {
     "slide_type": "fragment"
    }
   },
   "outputs": [
    {
     "data": {
      "image/png": "[encoded data removed]",
      "text/plain": [
       "<Figure size 432x288 with 1 Axes>"
      ]
     },
     "metadata": {
      "needs_background": "light"
     },
     "output_type": "display_data"
    }
   ],
   "source": [
    "plt.figure()\n",
    "\n",
    "# true data\n",
    "N = 40\n",
    "X = np.linspace(-np.pi/2, np.pi/2, N).reshape(N, 1) # 40 x 1\n",
    "y = np.sin(X)\n",
    "plt.plot(X, y)\n",
    "\n",
    "# add noise\n",
    "y += 0.1*np.random.randn(N, 1)\n",
    "\n",
    "plt.scatter(X, y)\n",
    "plt.title('sine wave data')\n",
    "plt.show()"
   ]
  },
  {
   "cell_type": "markdown",
   "metadata": {
    "slideshow": {
     "slide_type": "slide"
    }
   },
   "source": [
    "# Make feature"
   ]
  },
  {
   "cell_type": "code",
   "execution_count": 7,
   "metadata": {
    "slideshow": {
     "slide_type": "fragment"
    }
   },
   "outputs": [
    {
     "name": "stdout",
     "output_type": "stream",
     "text": [
      "PHI.shape:  (40, 2)\n",
      "PHI[:3] \n",
      " [[ 1.         -1.57079633]\n",
      " [ 1.         -1.49024267]\n",
      " [ 1.         -1.40968901]]\n"
     ]
    }
   ],
   "source": [
    "n_feature = 2\n",
    "\n",
    "PHI = np.ones(X.shape[0]).reshape(-1, 1) # 40 x 1\n",
    "for i in range(1, n_feature):\n",
    "    PHI = np.concatenate((PHI, np.power(X, i)), axis=1)\n",
    "print('PHI.shape: ', PHI.shape) # 40 x 2\n",
    "print('PHI[:3] \\n', PHI[:3])\n",
    "\n",
    "# shuffle\n",
    "idx = np.random.permutation(N)\n",
    "shuffle_X = X[idx]\n",
    "shuffle_PHI = PHI[idx]\n",
    "shuffle_y = y[idx]"
   ]
  },
  {
   "cell_type": "markdown",
   "metadata": {
    "slideshow": {
     "slide_type": "slide"
    }
   },
   "source": [
    "# Split train / test dataset"
   ]
  },
  {
   "cell_type": "code",
   "execution_count": 8,
   "metadata": {
    "slideshow": {
     "slide_type": "fragment"
    }
   },
   "outputs": [
    {
     "name": "stdout",
     "output_type": "stream",
     "text": [
      "[[ 1.         -1.16802804]\n",
      " [ 1.         -0.2819378 ]\n",
      " [ 1.         -1.2485817 ]\n",
      " [ 1.          1.00692072]\n",
      " [ 1.         -0.76525975]\n",
      " [ 1.          0.84581341]\n",
      " [ 1.         -1.00692072]\n",
      " [ 1.         -0.04027683]\n",
      " [ 1.          0.52359878]\n",
      " [ 1.         -0.60415243]\n",
      " [ 1.         -0.12083049]\n",
      " [ 1.          0.12083049]\n",
      " [ 1.          1.49024267]\n",
      " [ 1.          1.40968901]\n",
      " [ 1.          1.32913535]\n",
      " [ 1.          0.20138414]\n",
      " [ 1.          0.36249146]\n",
      " [ 1.          1.2485817 ]\n",
      " [ 1.         -0.20138414]\n",
      " [ 1.         -0.92636706]]\n",
      "(20, 2)\n",
      "[[ 1.         -1.16802804]\n",
      " [ 1.         -0.2819378 ]\n",
      " [ 1.         -1.2485817 ]\n",
      " [ 1.          1.00692072]\n",
      " [ 1.         -0.76525975]\n",
      " [ 1.          0.84581341]\n",
      " [ 1.         -1.00692072]\n",
      " [ 1.         -0.04027683]\n",
      " [ 1.          0.52359878]\n",
      " [ 1.         -0.60415243]\n",
      " [ 1.         -0.12083049]\n",
      " [ 1.          0.12083049]\n",
      " [ 1.          1.49024267]\n",
      " [ 1.          1.40968901]\n",
      " [ 1.          1.32913535]\n",
      " [ 1.          0.20138414]\n",
      " [ 1.          0.36249146]\n",
      " [ 1.          1.2485817 ]\n",
      " [ 1.         -0.20138414]\n",
      " [ 1.         -0.92636706]\n",
      " [ 1.          0.60415243]\n",
      " [ 1.          0.44304512]\n",
      " [ 1.         -0.36249146]\n",
      " [ 1.          0.76525975]\n",
      " [ 1.         -1.40968901]\n",
      " [ 1.         -0.84581341]\n",
      " [ 1.          0.68470609]\n",
      " [ 1.          0.92636706]\n",
      " [ 1.          1.08747438]\n",
      " [ 1.          1.57079633]\n",
      " [ 1.         -0.68470609]\n",
      " [ 1.          0.04027683]\n",
      " [ 1.         -1.32913535]\n",
      " [ 1.         -0.52359878]\n",
      " [ 1.         -1.49024267]\n",
      " [ 1.          0.2819378 ]\n",
      " [ 1.         -1.08747438]\n",
      " [ 1.         -1.57079633]\n",
      " [ 1.         -0.44304512]\n",
      " [ 1.          1.16802804]]\n",
      "(40, 2)\n"
     ]
    }
   ],
   "source": [
    "n = N-20\n",
    "\n",
    "# train data\n",
    "X_train = shuffle_X[:n]\n",
    "PHI_train = shuffle_PHI[:n]\n",
    "y_train = shuffle_y[:n]\n",
    "\n",
    "print(PHI_train)\n",
    "print(PHI_train.shape)\n",
    "\n",
    "# test data\n",
    "X_test = shuffle_X[:]\n",
    "PHI_test = shuffle_PHI[:]\n",
    "y_test = shuffle_y[:]\n",
    "\n",
    "print(PHI_test)\n",
    "print(PHI_test.shape)"
   ]
  },
  {
   "cell_type": "code",
   "execution_count": 10,
   "metadata": {
    "slideshow": {
     "slide_type": "subslide"
    }
   },
   "outputs": [
    {
     "data": {
      "image/png": "[encoded data removed]",
      "text/plain": [
       "<Figure size 432x288 with 1 Axes>"
      ]
     },
     "metadata": {
      "needs_background": "light"
     },
     "output_type": "display_data"
    },
    {
     "data": {
      "image/png": "[encoded data removed]",
      "text/plain": [
       "<Figure size 432x288 with 1 Axes>"
      ]
     },
     "metadata": {
      "needs_background": "light"
     },
     "output_type": "display_data"
    }
   ],
   "source": [
    "# plot\n",
    "plt.figure()\n",
    "plt.scatter(X_train, y_train, label='train')\n",
    "plt.legend()\n",
    "plt.title('sine wave train data')\n",
    "plt.show()\n",
    "\n",
    "plt.figure()\n",
    "plt.scatter(X_test, y_test, label='test')\n",
    "plt.legend()\n",
    "plt.title('sine wave test data')\n",
    "plt.show()"
   ]
  },
  {
   "cell_type": "markdown",
   "metadata": {
    "slideshow": {
     "slide_type": "slide"
    }
   },
   "source": [
    "# Linear Regression (Formula)\n",
    "## method 1: compute W and b with numpy"
   ]
  },
  {
   "cell_type": "code",
   "execution_count": 11,
   "metadata": {
    "slideshow": {
     "slide_type": "fragment"
    }
   },
   "outputs": [
    {
     "name": "stdout",
     "output_type": "stream",
     "text": [
      "[b, W] = W_\n",
      "W_.shape:  (2, 1)\n",
      "W_ \n",
      " [[-0.01033562]\n",
      " [ 0.7468937 ]]\n"
     ]
    }
   ],
   "source": [
    "# compute W_ with PHI_train.\n",
    "W_ = np.linalg.inv(PHI_train.T @ PHI_train) @ PHI_train.T @ y_train\n",
    "print('[b, W] = W_')\n",
    "print('W_.shape: ', W_.shape)\n",
    "print('W_ \\n', W_)"
   ]
  },
  {
   "cell_type": "code",
   "execution_count": 12,
   "metadata": {
    "slideshow": {
     "slide_type": "subslide"
    }
   },
   "outputs": [
    {
     "data": {
      "image/png": "[encoded data removed]",
      "text/plain": [
       "<Figure size 432x288 with 1 Axes>"
      ]
     },
     "metadata": {
      "needs_background": "light"
     },
     "output_type": "display_data"
    },
    {
     "data": {
      "image/png": "[encoded data removed]",
      "text/plain": [
       "<Figure size 432x288 with 1 Axes>"
      ]
     },
     "metadata": {
      "needs_background": "light"
     },
     "output_type": "display_data"
    }
   ],
   "source": [
    "plt.figure()\n",
    "plt.scatter(X_train, PHI_train @ W_, label='pred')\n",
    "plt.scatter(X_train, y_train, label='target')\n",
    "plt.title('train data')\n",
    "plt.show()\n",
    "\n",
    "plt.figure()\n",
    "plt.scatter(X_test, PHI_test @ W_, label='pred')\n",
    "plt.scatter(X_test, y_test, label='target')\n",
    "plt.legend()\n",
    "plt.title('test data')\n",
    "plt.show()"
   ]
  },
  {
   "cell_type": "markdown",
   "metadata": {
    "slideshow": {
     "slide_type": "slide"
    }
   },
   "source": [
    "# Linear Regression (Formula)\n",
    "## method 2: compute W and b with sklearn library"
   ]
  },
  {
   "cell_type": "code",
   "execution_count": 13,
   "metadata": {
    "slideshow": {
     "slide_type": "fragment"
    }
   },
   "outputs": [
    {
     "name": "stdout",
     "output_type": "stream",
     "text": [
      "b:  [-0.01033562]\n",
      "W:  [[ 0.7468937]]\n"
     ]
    }
   ],
   "source": [
    "from sklearn.linear_model import LinearRegression\n",
    "reg = LinearRegression()\n",
    "reg.fit(X_train, y_train)\n",
    "\n",
    "print('b: ', reg.intercept_)\n",
    "print('W: ', reg.coef_)"
   ]
  },
  {
   "cell_type": "code",
   "execution_count": 14,
   "metadata": {
    "slideshow": {
     "slide_type": "subslide"
    }
   },
   "outputs": [
    {
     "data": {
      "image/png": "[encoded data removed]",
      "text/plain": [
       "<Figure size 432x288 with 1 Axes>"
      ]
     },
     "metadata": {
      "needs_background": "light"
     },
     "output_type": "display_data"
    },
    {
     "data": {
      "image/png": "[encoded data removed]",
      "text/plain": [
       "<Figure size 432x288 with 1 Axes>"
      ]
     },
     "metadata": {
      "needs_background": "light"
     },
     "output_type": "display_data"
    }
   ],
   "source": [
    "plt.figure()\n",
    "plt.scatter(X_train, reg.predict(X_train), label='pred')\n",
    "plt.scatter(X_train, y_train, label='target')\n",
    "plt.legend()\n",
    "plt.title('train data')\n",
    "plt.show()\n",
    "\n",
    "plt.figure()\n",
    "plt.scatter(X_test, reg.predict(X_test), label='pred')\n",
    "plt.scatter(X_test, y_test, label='target')\n",
    "plt.legend()\n",
    "plt.title('test data')\n",
    "plt.show()"
   ]
  },
  {
   "cell_type": "markdown",
   "metadata": {
    "slideshow": {
     "slide_type": "slide"
    }
   },
   "source": [
    "# Linear Regression (Formula)\n",
    "## method 3: compute W and b with tensorflow library (basic)"
   ]
  },
  {
   "cell_type": "code",
   "execution_count": 16,
   "metadata": {
    "slideshow": {
     "slide_type": "fragment"
    }
   },
   "outputs": [
    {
     "name": "stdout",
     "output_type": "stream",
     "text": [
      "[b, W]:  [[-0.01033567]\n",
      " [ 0.74689382]]\n"
     ]
    }
   ],
   "source": [
    "import tensorflow as tf\n",
    "tf.reset_default_graph()\n",
    "tf_PHI = tf.placeholder(tf.float32, [None, n_feature])\n",
    "tf_y = tf.placeholder(tf.float32, [None, 1])\n",
    "\n",
    "# train with PHI_train, so w shape is [n_feature, 1]\n",
    "w = tf.get_variable('w', [n_feature, 1])\n",
    "# train without bias. (PHI_train term have 1, have bias already.)\n",
    "y_pred = tf_PHI @ w\n",
    "\n",
    "loss = tf.reduce_mean( tf.reduce_sum( tf.pow(tf_y - y_pred, 2), axis=1) )\n",
    "optimizer = tf.train.GradientDescentOptimizer(1e-1).minimize(loss)\n",
    "\n",
    "with tf.Session() as sess:\n",
    "    sess.run(tf.global_variables_initializer())\n",
    "    \n",
    "    for i in range(100):\n",
    "        sess.run(optimizer, feed_dict={tf_PHI:PHI_train, tf_y:y_train})\n",
    "    \n",
    "    print('[b, W]: ', sess.run(w))\n",
    "    y_train_pred = sess.run(y_pred, feed_dict={tf_PHI:PHI_train})\n",
    "    y_test_pred = sess.run(y_pred, feed_dict={tf_PHI:PHI_test})"
   ]
  },
  {
   "cell_type": "code",
   "execution_count": 17,
   "metadata": {
    "scrolled": false,
    "slideshow": {
     "slide_type": "subslide"
    }
   },
   "outputs": [
    {
     "data": {
      "image/png": "[encoded data removed]",
      "text/plain": [
       "<Figure size 432x288 with 1 Axes>"
      ]
     },
     "metadata": {
      "needs_background": "light"
     },
     "output_type": "display_data"
    },
    {
     "data": {
      "image/png": "[encoded data removed]",
      "text/plain": [
       "<Figure size 432x288 with 1 Axes>"
      ]
     },
     "metadata": {
      "needs_background": "light"
     },
     "output_type": "display_data"
    }
   ],
   "source": [
    "plt.figure()\n",
    "plt.scatter(X_train, y_train_pred, label='pred')\n",
    "plt.scatter(X_train, y_train, label='target')\n",
    "plt.legend()\n",
    "plt.title('train data')\n",
    "plt.show()\n",
    "\n",
    "plt.figure()\n",
    "plt.scatter(X_test, y_test_pred, label='pred')\n",
    "plt.scatter(X_test, y_test, label='target')\n",
    "plt.legend()\n",
    "plt.title('test data')\n",
    "plt.show()"
   ]
  },
  {
   "cell_type": "markdown",
   "metadata": {
    "slideshow": {
     "slide_type": "slide"
    }
   },
   "source": [
    "# Linear Regression (Formula)\n",
    "## method 4: compute W and b with tensorflow library (intermediate)"
   ]
  },
  {
   "cell_type": "code",
   "execution_count": 18,
   "metadata": {
    "slideshow": {
     "slide_type": "fragment"
    }
   },
   "outputs": [],
   "source": [
    "import tensorflow as tf\n",
    "tf.reset_default_graph()\n",
    "tf_PHI = tf.placeholder(tf.float32, [None, n_feature])\n",
    "tf_y = tf.placeholder(tf.float32, [None, 1])\n",
    "\n",
    "y_pred = tf.layers.dense(tf_PHI, 1)\n",
    "\n",
    "loss = tf.losses.mean_squared_error(tf_y, y_pred)\n",
    "optimizer = tf.train.GradientDescentOptimizer(1e-1).minimize(loss)\n",
    "\n",
    "with tf.Session() as sess:\n",
    "    sess.run(tf.global_variables_initializer())\n",
    "    \n",
    "    for i in range(100):\n",
    "        sess.run(optimizer, feed_dict={tf_PHI:PHI_train, tf_y:y_train})\n",
    "        \n",
    "    y_train_pred = sess.run(y_pred, feed_dict={tf_PHI:PHI_train})\n",
    "    y_test_pred = sess.run(y_pred, feed_dict={tf_PHI:PHI_test})"
   ]
  },
  {
   "cell_type": "code",
   "execution_count": 19,
   "metadata": {
    "slideshow": {
     "slide_type": "subslide"
    }
   },
   "outputs": [
    {
     "data": {
      "image/png": "[encoded data removed]",
      "text/plain": [
       "<Figure size 432x288 with 1 Axes>"
      ]
     },
     "metadata": {
      "needs_background": "light"
     },
     "output_type": "display_data"
    },
    {
     "data": {
      "image/png": "[encoded data removed]",
      "text/plain": [
       "<Figure size 432x288 with 1 Axes>"
      ]
     },
     "metadata": {
      "needs_background": "light"
     },
     "output_type": "display_data"
    }
   ],
   "source": [
    "plt.figure()\n",
    "plt.scatter(X_train, y_train_pred, label='pred')\n",
    "plt.scatter(X_train, y_train, label='target')\n",
    "plt.legend()\n",
    "plt.title('train data')\n",
    "plt.show()\n",
    "\n",
    "plt.figure()\n",
    "plt.scatter(X_test, y_test_pred, label='pred')\n",
    "plt.scatter(X_test, y_test, label='target')\n",
    "plt.legend()\n",
    "plt.title('test data')\n",
    "plt.show()"
   ]
  },
  {
   "cell_type": "code",
   "execution_count": null,
   "metadata": {
    "slideshow": {
     "slide_type": "skip"
    }
   },
   "outputs": [],
   "source": []
  }
 ],
 "metadata": {
  "celltoolbar": "Slideshow",
  "kernelspec": {
   "display_name": "Tensorflow",
   "language": "python",
   "name": "tensorflow"
  },
  "language_info": {
   "codemirror_mode": {
    "name": "ipython",
    "version": 3
   },
   "file_extension": ".py",
   "mimetype": "text/x-python",
   "name": "python",
   "nbconvert_exporter": "python",
   "pygments_lexer": "ipython3",
   "version": "3.7.5"
  },
  "widgets": {
   "state": {},
   "version": "1.1.2"
  }
 },
 "nbformat": 4,
 "nbformat_minor": 2
}
