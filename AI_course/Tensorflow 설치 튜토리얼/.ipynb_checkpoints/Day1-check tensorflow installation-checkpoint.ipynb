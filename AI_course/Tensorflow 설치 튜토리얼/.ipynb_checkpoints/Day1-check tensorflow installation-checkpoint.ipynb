{
 "cells": [
  {
   "cell_type": "code",
   "execution_count": 1,
   "metadata": {},
   "outputs": [],
   "source": [
    "import tensorflow as tf"
   ]
  },
  {
   "cell_type": "markdown",
   "metadata": {},
   "source": [
    "    operate shape(1,) Tensor \n",
    "    Building computational graph(Constant)\n",
    "   "
   ]
  },
  {
   "cell_type": "code",
   "execution_count": 2,
   "metadata": {},
   "outputs": [
    {
     "name": "stdout",
     "output_type": "stream",
     "text": [
      "Tensor(\"Const:0\", shape=(), dtype=float32)\n",
      "Tensor(\"Const_1:0\", shape=(), dtype=float32)\n",
      "Tensor(\"add:0\", shape=(), dtype=float32)\n"
     ]
    }
   ],
   "source": [
    "a = tf.constant(3.0, dtype=tf.float32)\n",
    "b=tf.constant(4.0) # also tf.float32 implicitly\n",
    "\n",
    "total = a+b\n",
    "print(a)\n",
    "print(b)\n",
    "print(total)\n"
   ]
  },
  {
   "cell_type": "markdown",
   "metadata": {},
   "source": [
    "Running Computational graph"
   ]
  },
  {
   "cell_type": "code",
   "execution_count": 3,
   "metadata": {},
   "outputs": [
    {
     "name": "stdout",
     "output_type": "stream",
     "text": [
      "7.0\n",
      "[3.0, 4.0]\n"
     ]
    }
   ],
   "source": [
    "a = tf.constant(3.0, dtype=tf.float32)\n",
    "b=tf.constant(4.0)\n",
    "total = a+b\n",
    "\n",
    "sess = tf.Session()\n",
    "print(sess.run(total))\n",
    "print(sess.run([a,b]))\n",
    "sess.close()"
   ]
  },
  {
   "cell_type": "markdown",
   "metadata": {},
   "source": [
    "    operate shape(2,) Tensor\n",
    "    Building computational graph(Constant)"
   ]
  },
  {
   "cell_type": "code",
   "execution_count": 4,
   "metadata": {},
   "outputs": [
    {
     "name": "stdout",
     "output_type": "stream",
     "text": [
      "Tensor(\"Const_4:0\", shape=(2,), dtype=float32)\n"
     ]
    }
   ],
   "source": [
    "a=tf.constant([3.0,4.0], dtype=tf.float32)\n",
    "print(a)"
   ]
  },
  {
   "cell_type": "markdown",
   "metadata": {},
   "source": [
    "Running Computational graph"
   ]
  },
  {
   "cell_type": "code",
   "execution_count": 5,
   "metadata": {},
   "outputs": [
    {
     "name": "stdout",
     "output_type": "stream",
     "text": [
      "[ 3.  4.]\n"
     ]
    }
   ],
   "source": [
    "sess=tf.Session()\n",
    "print(sess.run(a))\n",
    "sess.close()"
   ]
  },
  {
   "cell_type": "markdown",
   "metadata": {},
   "source": [
    "Builiding computational graph(Placeholder)"
   ]
  },
  {
   "cell_type": "code",
   "execution_count": 6,
   "metadata": {},
   "outputs": [
    {
     "name": "stdout",
     "output_type": "stream",
     "text": [
      "Tensor(\"Placeholder:0\", dtype=float32)\n",
      "Tensor(\"Placeholder_1:0\", dtype=float32)\n",
      "Tensor(\"add_2:0\", dtype=float32)\n"
     ]
    }
   ],
   "source": [
    "x=tf.placeholder(tf.float32)\n",
    "y=tf.placeholder(tf.float32)\n",
    "\n",
    "z=x+y\n",
    "\n",
    "print(x)\n",
    "print(y)\n",
    "print(z)"
   ]
  },
  {
   "cell_type": "code",
   "execution_count": 7,
   "metadata": {},
   "outputs": [
    {
     "name": "stdout",
     "output_type": "stream",
     "text": [
      "Tensor(\"Placeholder_2:0\", shape=(2,), dtype=float32)\n",
      "Tensor(\"Placeholder_3:0\", shape=(2,), dtype=float32)\n",
      "Tensor(\"add_3:0\", shape=(2,), dtype=float32)\n"
     ]
    }
   ],
   "source": [
    "x1=tf.placeholder(tf.float32, shape=[2])\n",
    "y1 = tf.placeholder(tf.float32, shape=[2])\n",
    "z1=x1+y1\n",
    "\n",
    "print(x1)\n",
    "print(y1)\n",
    "print(z1)\n"
   ]
  },
  {
   "cell_type": "markdown",
   "metadata": {},
   "source": [
    "Running Computational graph(Placeholder)"
   ]
  },
  {
   "cell_type": "code",
   "execution_count": 8,
   "metadata": {},
   "outputs": [
    {
     "name": "stdout",
     "output_type": "stream",
     "text": [
      "7.5\n"
     ]
    }
   ],
   "source": [
    "sess=tf.Session()\n",
    "print(sess.run(z, feed_dict={x:3, y:4.5}))\n",
    "sess.close()"
   ]
  },
  {
   "cell_type": "code",
   "execution_count": 9,
   "metadata": {},
   "outputs": [
    {
     "name": "stdout",
     "output_type": "stream",
     "text": [
      "[ 3.  7.]\n"
     ]
    }
   ],
   "source": [
    "sess = tf.Session()\n",
    "print(sess.run(z1, feed_dict={x1:[1,3], y1:[2,4]}))\n",
    "sess.close()"
   ]
  },
  {
   "cell_type": "markdown",
   "metadata": {},
   "source": [
    "Building computational graph(Variable)"
   ]
  },
  {
   "cell_type": "code",
   "execution_count": 10,
   "metadata": {},
   "outputs": [
    {
     "name": "stdout",
     "output_type": "stream",
     "text": [
      "<tf.Variable 'Variable:0' shape=() dtype=string_ref>\n"
     ]
    }
   ],
   "source": [
    "my_variable=tf.Variable(\"my_variable\", [1,2,3])\n",
    "print(my_variable)"
   ]
  },
  {
   "cell_type": "code",
   "execution_count": 11,
   "metadata": {},
   "outputs": [
    {
     "name": "stdout",
     "output_type": "stream",
     "text": [
      "<tf.Variable 'Variable_1:0' shape=() dtype=string_ref>\n"
     ]
    }
   ],
   "source": [
    "my_variable=tf.Variable(\"my_variable\", [1,2,3])\n",
    "print(my_variable)"
   ]
  },
  {
   "cell_type": "code",
   "execution_count": 12,
   "metadata": {},
   "outputs": [
    {
     "name": "stdout",
     "output_type": "stream",
     "text": [
      "<tf.Variable 'Variable_2:0' shape=() dtype=string_ref>\n"
     ]
    }
   ],
   "source": [
    "my_variable=tf.Variable(\"my_variable\", [1,2,3])\n",
    "print(my_variable)"
   ]
  },
  {
   "cell_type": "code",
   "execution_count": 13,
   "metadata": {},
   "outputs": [
    {
     "name": "stdout",
     "output_type": "stream",
     "text": [
      "<tf.Variable 'Variable_2:0' shape=() dtype=string_ref>\n",
      "<tf.Variable 'my_int_variable:0' shape=(1, 2, 3) dtype=int32_ref>\n"
     ]
    }
   ],
   "source": [
    "my_int_variable=tf.get_variable(\"my_int_variable\",[1,2,3], dtype=tf.int32,\n",
    "                               initializer=tf.zeros_initializer)\n",
    "print(my_variable)\n",
    "print(my_int_variable)"
   ]
  },
  {
   "cell_type": "code",
   "execution_count": 14,
   "metadata": {},
   "outputs": [],
   "source": [
    "#my_variable=tf.get_variable(\"my_variable\",[1])\n",
    "#dup=tf.get_variable(\"my_variable\",[1])"
   ]
  },
  {
   "cell_type": "markdown",
   "metadata": {},
   "source": [
    "Running Computational graph"
   ]
  },
  {
   "cell_type": "markdown",
   "metadata": {},
   "source": [
    "# Initalize methods..."
   ]
  },
  {
   "cell_type": "code",
   "execution_count": 15,
   "metadata": {},
   "outputs": [
    {
     "name": "stdout",
     "output_type": "stream",
     "text": [
      "[[[ 0.79081833  0.4825666  -0.55937725]\n",
      "  [-0.16150635 -0.83726871  0.37137187]]]\n"
     ]
    }
   ],
   "source": [
    "v=tf.get_variable(\"v2\",[1,2,3], dtype=tf.float32)\n",
    "sess=tf.Session()\n",
    "sess.run(tf.global_variables_initializer())\n",
    "print(sess.run(v))"
   ]
  },
  {
   "cell_type": "code",
   "execution_count": 16,
   "metadata": {},
   "outputs": [
    {
     "name": "stdout",
     "output_type": "stream",
     "text": [
      "[[[0 0 0]\n",
      "  [0 0 0]]]\n",
      "[[[ 1.  1.  1.]\n",
      "  [ 1.  1.  1.]]]\n"
     ]
    }
   ],
   "source": [
    "vv1 = tf.get_variable(\"vv1\",[1,2,3], dtype=tf.int32,initializer=tf.zeros_initializer)\n",
    "vv3=tf.get_variable(\"vv3\",[1,2,3], dtype=tf.float32, initializer=tf.constant_initializer(1.0))\n",
    "\n",
    "sess=tf.Session()\n",
    "sess.run(tf.global_variables_initializer())\n",
    "o1, o2 = sess.run([vv1,vv3])\n",
    "\n",
    "print(o1)\n",
    "print(o2)"
   ]
  },
  {
   "cell_type": "code",
   "execution_count": 17,
   "metadata": {},
   "outputs": [
    {
     "name": "stdout",
     "output_type": "stream",
     "text": [
      "[[[ 0.21197204 -0.54684722  0.17383982]\n",
      "  [ 1.68821037  0.10551152 -0.83300251]]]\n",
      "[[[ 0.93715668  0.59141171  0.44310653]\n",
      "  [ 0.49055314  0.03517902  0.89062572]]]\n"
     ]
    }
   ],
   "source": [
    "v3 = tf.get_variable(\"v3\", [1,2,3], dtype=tf.float32, initializer=tf.random_normal_initializer())\n",
    "v4 = tf.get_variable('v4',[1,2,3], dtype=tf.float32, initializer=tf.random_uniform_initializer())\n",
    "\n",
    "sess = tf.Session()\n",
    "sess.run(tf.global_variables_initializer())\n",
    "o3,o4 = sess.run([v3,v4])\n",
    "print(o3)\n",
    "print(o4)"
   ]
  },
  {
   "cell_type": "markdown",
   "metadata": {},
   "source": [
    "같은 값을 가져오게 된다."
   ]
  },
  {
   "cell_type": "code",
   "execution_count": 18,
   "metadata": {},
   "outputs": [
    {
     "name": "stdout",
     "output_type": "stream",
     "text": [
      "<tf.Variable 'foo/my_variable:0' shape=(1,) dtype=float32_ref>\n",
      "<tf.Variable 'foo/my_variable:0' shape=(1,) dtype=float32_ref>\n",
      "[ 0.6196295]\n",
      "[ 0.6196295]\n"
     ]
    }
   ],
   "source": [
    "# \"foo\"라는 variable scope가 생긴다.\n",
    "with tf.variable_scope(\"foo\"):\n",
    "    my_variable = tf.get_variable(\"my_variable\",[1])\n",
    "\n",
    "with tf.variable_scope(\"foo\", reuse = True): # foo라는 이름이 있으면 reuse\n",
    "    dup = tf.get_variable(\"my_variable\",[1])\n",
    "\n",
    "print(my_variable)\n",
    "print(dup)\n",
    "\n",
    "with tf.Session() as sess:\n",
    "    sess.run(tf.global_variables_initializer())\n",
    "    print(sess.run(my_variable))\n",
    "    print(sess.run(dup))"
   ]
  },
  {
   "cell_type": "markdown",
   "metadata": {},
   "source": [
    "다른 값을 가져오게된다."
   ]
  },
  {
   "cell_type": "code",
   "execution_count": 19,
   "metadata": {},
   "outputs": [],
   "source": [
    "# # \"foo\"라는 variable scope가 생긴다.\n",
    "# with tf.variable_scope(\"foo\"):\n",
    "#     my_variable = tf.get_variable(\"my_variable\",[1])\n",
    "\n",
    "# with tf.variable_scope(\"bar\"):\n",
    "#     dup = tf.get_variable(\"my_variable\",[1])\n",
    "\n",
    "# print(my_variable)\n",
    "# print(dup)\n",
    "\n",
    "# with tf.Session() as sess:\n",
    "#     sess.run(tf.global_variables_initializer())\n",
    "#     print(sess.run(my_variable))\n",
    "#     print(sess.run(dup))"
   ]
  },
  {
   "cell_type": "markdown",
   "metadata": {},
   "source": [
    "### 직선 방정식 y=wx+b"
   ]
  },
  {
   "cell_type": "code",
   "execution_count": 20,
   "metadata": {},
   "outputs": [
    {
     "name": "stdout",
     "output_type": "stream",
     "text": [
      "Tensor(\"Placeholder_4:0\", dtype=float32) <tf.Variable 'w:0' shape=(1,) dtype=float32_ref> Tensor(\"Const_6:0\", shape=(), dtype=float32) Tensor(\"add_4:0\", dtype=float32)\n",
      "[ 6.]\n"
     ]
    }
   ],
   "source": [
    "x = tf.placeholder(tf.float32)\n",
    "w = tf.get_variable(\"w\", initializer=tf.constant([2.]))\n",
    "\n",
    "b= tf.constant(4.0)\n",
    "y = x*w + b\n",
    "\n",
    "print(x,w,b,y)\n",
    "\n",
    "with tf.Session() as sess:\n",
    "    sess.run(tf.global_variables_initializer())\n",
    "    print(sess.run(y, feed_dict={x:1}))"
   ]
  },
  {
   "cell_type": "code",
   "execution_count": 21,
   "metadata": {},
   "outputs": [
    {
     "name": "stdout",
     "output_type": "stream",
     "text": [
      "Tensor(\"Placeholder_5:0\", shape=(1,), dtype=float32) <tf.Variable 'w2:0' shape=(1,) dtype=float32_ref> Tensor(\"Const_7:0\", shape=(1,), dtype=float32) Tensor(\"add_5:0\", shape=(1,), dtype=float32)\n",
      "[ 4.]\n"
     ]
    }
   ],
   "source": [
    "x= tf.placeholder(tf.float32, shape=[1])\n",
    "w2= tf.get_variable(\"w2\",shape=[1],initializer=tf.zeros_initializer)\n",
    "\n",
    "b= tf.constant([4.0])\n",
    "y = x*w2+ b\n",
    "\n",
    "print(x,w2,b,y)\n",
    "\n",
    "with tf.Session() as sess:\n",
    "    sess.run(tf.global_variables_initializer())\n",
    "    print(sess.run(y, feed_dict={x:[1]}))"
   ]
  },
  {
   "cell_type": "code",
   "execution_count": null,
   "metadata": {},
   "outputs": [],
   "source": []
  }
 ],
 "metadata": {
  "kernelspec": {
   "display_name": "Tensorflow2",
   "language": "python",
   "name": "tensorflow2"
  },
  "language_info": {
   "codemirror_mode": {
    "name": "ipython",
    "version": 3
   },
   "file_extension": ".py",
   "mimetype": "text/x-python",
   "name": "python",
   "nbconvert_exporter": "python",
   "pygments_lexer": "ipython3",
   "version": "3.6.9"
  }
 },
 "nbformat": 4,
 "nbformat_minor": 2
}
