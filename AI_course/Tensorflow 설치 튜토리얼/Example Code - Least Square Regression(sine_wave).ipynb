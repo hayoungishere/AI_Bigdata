{
 "cells": [
  {
   "cell_type": "markdown",
   "metadata": {},
   "source": [
    "### Linear Regression\n",
    "    (preiliminary : Linear model)\n",
    "    Y= F(x) + b\n",
    "    Xi = [x0, x2, ... , xn]\n",
    "    \n",
    "    Yi = W0X0 + W1X1 + ... + WnXn = WX\n",
    "\n",
    "1. Library and Data, Preprocessing\n",
    "2. Compute W and b with 4 methods\n",
    "3. [Advanced] Regularization : Ridge, Lasso"
   ]
  },
  {
   "cell_type": "markdown",
   "metadata": {},
   "source": [
    "### Library"
   ]
  },
  {
   "cell_type": "code",
   "execution_count": 1,
   "metadata": {},
   "outputs": [],
   "source": [
    "import numpy as np\n",
    "import tensorflow as tf\n",
    "from matplotlib import pyplot as plt"
   ]
  },
  {
   "cell_type": "markdown",
   "metadata": {},
   "source": [
    "### Simple Data"
   ]
  },
  {
   "cell_type": "code",
   "execution_count": 2,
   "metadata": {},
   "outputs": [
    {
     "data": {
      "image/png": "[encoded data removed]",
      "text/plain": [
       "<Figure size 432x288 with 1 Axes>"
      ]
     },
     "metadata": {
      "needs_background": "light"
     },
     "output_type": "display_data"
    }
   ],
   "source": [
    "plt.figure()\n",
    "\n",
    "# True data\n",
    "N = 40\n",
    "X = np.linspace(-np.pi/2, np.pi/2, N).reshape(N,1) # 40 x 1\n",
    "y = np.sin(X)\n",
    "\n",
    "plt.plot(X,y)\n",
    "# add noise\n",
    "y +=0.1*np.random.randn(N,1)\n",
    "\n",
    "plt.scatter(X,y)\n",
    "plt.title('sine wave data')\n",
    "plt.show()"
   ]
  },
  {
   "cell_type": "markdown",
   "metadata": {},
   "source": [
    "# Make feature"
   ]
  },
  {
   "cell_type": "code",
   "execution_count": 3,
   "metadata": {},
   "outputs": [
    {
     "name": "stdout",
     "output_type": "stream",
     "text": [
      "PHI.shape (40, 2)\n",
      "PHI[:3]\n",
      " [[ 1.         -1.57079633]\n",
      " [ 1.         -1.49024267]\n",
      " [ 1.         -1.40968901]]\n"
     ]
    }
   ],
   "source": [
    "n_feature = 2\n",
    "\n",
    "PHI = np.ones(X.shape[0]).reshape(-1,1) # 40 x 1\n",
    "# 100개가 있을 때 100x1 을 만들고 싶을 때 -1,1을 써주면 알아서 -1 쪽을 계산해준다.\n",
    "for i in range(1, n_feature):\n",
    "    PHI = np.concatenate((PHI, np.power(X,i)), axis=1) # power : x의 i승 계산\n",
    "print(\"PHI.shape\", PHI.shape)\n",
    "print(\"PHI[:3]\\n\", PHI[:3])\n",
    "\n",
    "# shuffle\n",
    "idx = np.random.permutation(N) # N부터 40까지 섞어서 idx로 사용함.\n",
    "shuffle_X = X[idx]\n",
    "shuffle_PHI = PHI[idx]\n",
    "shuffle_y = y[idx]"
   ]
  },
  {
   "cell_type": "markdown",
   "metadata": {},
   "source": [
    "# Split train / test dataset"
   ]
  },
  {
   "cell_type": "code",
   "execution_count": 4,
   "metadata": {},
   "outputs": [
    {
     "name": "stdout",
     "output_type": "stream",
     "text": [
      "[[ 1.          0.12083049]\n",
      " [ 1.          0.68470609]\n",
      " [ 1.         -0.44304512]\n",
      " [ 1.         -0.60415243]\n",
      " [ 1.         -0.12083049]\n",
      " [ 1.         -0.2819378 ]\n",
      " [ 1.         -0.68470609]\n",
      " [ 1.          1.40968901]\n",
      " [ 1.         -1.49024267]\n",
      " [ 1.         -1.2485817 ]\n",
      " [ 1.         -1.00692072]\n",
      " [ 1.          0.60415243]\n",
      " [ 1.         -1.40968901]\n",
      " [ 1.          1.16802804]\n",
      " [ 1.         -0.36249146]\n",
      " [ 1.         -0.20138414]\n",
      " [ 1.          0.36249146]\n",
      " [ 1.         -1.08747438]\n",
      " [ 1.         -0.92636706]\n",
      " [ 1.          0.76525975]]\n",
      "(20, 2)\n",
      "[[ 1.          0.12083049]\n",
      " [ 1.          0.68470609]\n",
      " [ 1.         -0.44304512]\n",
      " [ 1.         -0.60415243]\n",
      " [ 1.         -0.12083049]\n",
      " [ 1.         -0.2819378 ]\n",
      " [ 1.         -0.68470609]\n",
      " [ 1.          1.40968901]\n",
      " [ 1.         -1.49024267]\n",
      " [ 1.         -1.2485817 ]\n",
      " [ 1.         -1.00692072]\n",
      " [ 1.          0.60415243]\n",
      " [ 1.         -1.40968901]\n",
      " [ 1.          1.16802804]\n",
      " [ 1.         -0.36249146]\n",
      " [ 1.         -0.20138414]\n",
      " [ 1.          0.36249146]\n",
      " [ 1.         -1.08747438]\n",
      " [ 1.         -0.92636706]\n",
      " [ 1.          0.76525975]\n",
      " [ 1.          0.04027683]\n",
      " [ 1.         -0.04027683]\n",
      " [ 1.         -1.57079633]\n",
      " [ 1.          1.08747438]\n",
      " [ 1.          1.00692072]\n",
      " [ 1.          0.52359878]\n",
      " [ 1.          0.92636706]\n",
      " [ 1.         -1.32913535]\n",
      " [ 1.         -0.84581341]\n",
      " [ 1.         -0.52359878]\n",
      " [ 1.         -1.16802804]\n",
      " [ 1.          1.32913535]\n",
      " [ 1.          0.44304512]\n",
      " [ 1.          1.57079633]\n",
      " [ 1.          0.2819378 ]\n",
      " [ 1.          1.2485817 ]\n",
      " [ 1.         -0.76525975]\n",
      " [ 1.          0.84581341]\n",
      " [ 1.          1.49024267]\n",
      " [ 1.          0.20138414]]\n",
      "(40, 2)\n"
     ]
    }
   ],
   "source": [
    "n = N-20\n",
    "\n",
    "# train data\n",
    "X_train = shuffle_X[:n]\n",
    "PHI_train = shuffle_PHI[:n]\n",
    "y_train = shuffle_y[:n]\n",
    "\n",
    "print(PHI_train)\n",
    "print(PHI_train.shape)\n",
    "\n",
    "# test data\n",
    "X_test = shuffle_X[:]\n",
    "PHI_test = shuffle_PHI[:]\n",
    "y_test = shuffle_y[:]\n",
    "\n",
    "print(PHI_test)\n",
    "print(PHI_test.shape)"
   ]
  },
  {
   "cell_type": "code",
   "execution_count": 5,
   "metadata": {},
   "outputs": [
    {
     "data": {
      "image/png": "[encoded data removed]",
      "text/plain": [
       "<Figure size 432x288 with 1 Axes>"
      ]
     },
     "metadata": {
      "needs_background": "light"
     },
     "output_type": "display_data"
    },
    {
     "data": {
      "image/png": "[encoded data removed]",
      "text/plain": [
       "<Figure size 432x288 with 1 Axes>"
      ]
     },
     "metadata": {
      "needs_background": "light"
     },
     "output_type": "display_data"
    }
   ],
   "source": [
    "# plot\n",
    "plt.figure()\n",
    "plt.scatter(X_train, y_train, label='train')\n",
    "plt.legend()\n",
    "plt.title('sine wave train data')\n",
    "plt.show()\n",
    "\n",
    "plt.figure()\n",
    "plt.scatter(X_test, y_test, label='test')\n",
    "plt.legend()\n",
    "plt.title('sine wave test data')\n",
    "plt.show()"
   ]
  },
  {
   "cell_type": "markdown",
   "metadata": {},
   "source": [
    "# Linear Regression (Formula)\n",
    "\n",
    "## method 1 : compute W and b with numpy"
   ]
  },
  {
   "cell_type": "code",
   "execution_count": 6,
   "metadata": {},
   "outputs": [
    {
     "name": "stdout",
     "output_type": "stream",
     "text": [
      "[b, W] = W_\n",
      "W_.shape:  (2, 1)\n",
      "W_ \n",
      " [[-0.02224552]\n",
      " [ 0.7895385 ]]\n"
     ]
    }
   ],
   "source": [
    "# compute W_ with PHI_train\n",
    "# numpy @ 는 행렬 곱을 의미한다.\n",
    "# 각 데이터는 행으로 표현되기 때문에 inverse를 해야된다.\n",
    "W_ = np.linalg.inv(PHI_train.T @ PHI_train) @ PHI_train.T @ y_train\n",
    "print('[b, W] = W_')\n",
    "print(\"W_.shape: \", W_.shape)\n",
    "print(\"W_ \\n\", W_)"
   ]
  },
  {
   "cell_type": "code",
   "execution_count": 7,
   "metadata": {},
   "outputs": [
    {
     "data": {
      "image/png": "[encoded data removed]",
      "text/plain": [
       "<Figure size 432x288 with 1 Axes>"
      ]
     },
     "metadata": {
      "needs_background": "light"
     },
     "output_type": "display_data"
    },
    {
     "data": {
      "image/png": "[encoded data removed]",
      "text/plain": [
       "<Figure size 432x288 with 1 Axes>"
      ]
     },
     "metadata": {
      "needs_background": "light"
     },
     "output_type": "display_data"
    }
   ],
   "source": [
    "plt.figure()\n",
    "plt.scatter(X_train, PHI_train @ W_, label='pred')\n",
    "plt.scatter(X_train, y_train, label='target')\n",
    "plt.title('train data')\n",
    "plt.show()\n",
    "\n",
    "plt.figure()\n",
    "plt.scatter(X_test, PHI_test @ W_, label='pred')\n",
    "plt.scatter(X_test, y_test, label='target')\n",
    "plt.legend()\n",
    "plt.title('test data')\n",
    "plt.show()\n"
   ]
  },
  {
   "cell_type": "markdown",
   "metadata": {},
   "source": [
    "# Linear Regression (Formula)\n",
    "\n",
    "## method 2 : compute W and b with sklearn library"
   ]
  },
  {
   "cell_type": "code",
   "execution_count": 8,
   "metadata": {},
   "outputs": [
    {
     "name": "stdout",
     "output_type": "stream",
     "text": [
      "Requirement already satisfied: sklearn in /home/pirl/anaconda3/envs/tensorflow2/lib/python3.6/site-packages (0.0)\n",
      "Requirement already satisfied: scikit-learn in /home/pirl/anaconda3/envs/tensorflow2/lib/python3.6/site-packages (from sklearn) (0.21.3)\n",
      "Requirement already satisfied: scipy>=0.17.0 in /home/pirl/anaconda3/envs/tensorflow2/lib/python3.6/site-packages (from scikit-learn->sklearn) (1.3.3)\n",
      "Requirement already satisfied: joblib>=0.11 in /home/pirl/anaconda3/envs/tensorflow2/lib/python3.6/site-packages (from scikit-learn->sklearn) (0.14.0)\n",
      "Requirement already satisfied: numpy>=1.11.0 in /home/pirl/anaconda3/envs/tensorflow2/lib/python3.6/site-packages (from scikit-learn->sklearn) (1.13.3)\n",
      "Note: you may need to restart the kernel to use updated packages.\n"
     ]
    }
   ],
   "source": [
    "pip install sklearn"
   ]
  },
  {
   "cell_type": "code",
   "execution_count": 9,
   "metadata": {},
   "outputs": [
    {
     "name": "stdout",
     "output_type": "stream",
     "text": [
      "b:  [-0.02224552]\n",
      "W:  [[ 0.7895385]]\n"
     ]
    }
   ],
   "source": [
    "from sklearn.linear_model import LinearRegression\n",
    "\n",
    "reg = LinearRegression()\n",
    "reg.fit(X_train, y_train)\n",
    "\n",
    "print(\"b: \", reg.intercept_)\n",
    "print(\"W: \", reg.coef_)"
   ]
  },
  {
   "cell_type": "code",
   "execution_count": 10,
   "metadata": {},
   "outputs": [
    {
     "data": {
      "image/png": "[encoded data removed]",
      "text/plain": [
       "<Figure size 432x288 with 1 Axes>"
      ]
     },
     "metadata": {
      "needs_background": "light"
     },
     "output_type": "display_data"
    },
    {
     "data": {
      "image/png": "[encoded data removed]",
      "text/plain": [
       "<Figure size 432x288 with 1 Axes>"
      ]
     },
     "metadata": {
      "needs_background": "light"
     },
     "output_type": "display_data"
    }
   ],
   "source": [
    "plt.figure()\n",
    "plt.scatter(X_train, reg.predict(X_train), label='pred')\n",
    "plt.scatter(X_train, y_train, label='target')\n",
    "plt.legend()\n",
    "plt.title('train data')\n",
    "plt.show()\n",
    "\n",
    "plt.figure()\n",
    "plt.scatter(X_test, reg.predict(X_test), label='pred')\n",
    "plt.scatter(X_test, y_test, label='target')\n",
    "plt.legend()\n",
    "plt.title('test data')\n",
    "plt.show()"
   ]
  },
  {
   "cell_type": "markdown",
   "metadata": {},
   "source": [
    "# Linear Regression (Formula)\n",
    "\n",
    "## method 3 : compute W and b with tensorflow library (basic)"
   ]
  },
  {
   "cell_type": "code",
   "execution_count": 11,
   "metadata": {},
   "outputs": [
    {
     "name": "stdout",
     "output_type": "stream",
     "text": [
      "[b, W]:  [[-0.02224685]\n",
      " [ 0.78953636]]\n"
     ]
    }
   ],
   "source": [
    "tf.reset_default_graph() # 남아있는 computational graph사용 안함\n",
    "tf_PHI = tf.placeholder(tf.float32, [None, n_feature])\n",
    "tf_y = tf.placeholder(tf.float32, [None,1])\n",
    "\n",
    "# train with PHI_train, so w shape is [n_feature, 1]\n",
    "w = tf.get_variable(\"w\", [n_feature,1])\n",
    "\n",
    "# train without bias. (PHI_train term have 1, have bias already.)\n",
    "y_pred = tf_PHI @ w\n",
    "\n",
    "\n",
    "# We use MSE as Loss function\n",
    "loss = tf.reduce_mean(tf.reduce_sum(tf.pow(tf_y-y_pred,2), axis=1))\n",
    "\n",
    "optimizer = tf.train.GradientDescentOptimizer(1e-1).minimize(loss)\n",
    "\n",
    "with tf.Session() as sess:\n",
    "    sess.run(tf.global_variables_initializer())\n",
    "    \n",
    "    for i in range(100):\n",
    "        sess.run(optimizer, feed_dict={tf_PHI:PHI_train, tf_y:y_train})\n",
    "        \n",
    "    print('[b, W]: ', sess.run(w))\n",
    "    y_train_pred = sess.run(y_pred, feed_dict={tf_PHI: PHI_train})\n",
    "    y_test_pred = sess.run(y_pred, feed_dict = {tf_PHI:PHI_test})"
   ]
  },
  {
   "cell_type": "code",
   "execution_count": 12,
   "metadata": {},
   "outputs": [
    {
     "data": {
      "image/png": "[encoded data removed]",
      "text/plain": [
       "<Figure size 432x288 with 1 Axes>"
      ]
     },
     "metadata": {
      "needs_background": "light"
     },
     "output_type": "display_data"
    },
    {
     "data": {
      "image/png": "[encoded data removed]",
      "text/plain": [
       "<Figure size 432x288 with 1 Axes>"
      ]
     },
     "metadata": {
      "needs_background": "light"
     },
     "output_type": "display_data"
    }
   ],
   "source": [
    "plt.figure()\n",
    "plt.scatter(X_train, y_train_pred, label='pred')\n",
    "plt.scatter(X_train, y_train, label='target')\n",
    "plt.legend()\n",
    "plt.title('train data')\n",
    "plt.show()\n",
    "\n",
    "plt.figure()\n",
    "plt.scatter(X_test, y_test_pred, label='pred')\n",
    "plt.scatter(X_test, y_test, label='target')\n",
    "plt.legend()\n",
    "plt.title('test data')\n",
    "plt.show()"
   ]
  },
  {
   "cell_type": "markdown",
   "metadata": {},
   "source": [
    "# Linear Regression (Formula)\n",
    "## method 4 : compute W and b with tensorflow library (intermediate)"
   ]
  },
  {
   "cell_type": "code",
   "execution_count": 17,
   "metadata": {},
   "outputs": [],
   "source": [
    "import tensorflow as tf\n",
    "tf.reset_default_graph()\n",
    "tf_PHI = tf.placeholder(tf.float32, [None, n_feature])\n",
    "tf_y = tf.placeholder(tf.float32, [None, 1])\n",
    "\n",
    "y_pred = tf.layers.dense(tf_PHI, 1)\n",
    "\n",
    "loss = tf.losses.mean_squared_error(tf_y, y_pred)\n",
    "optimizer = tf.train.GradientDescentOptimizer(1e-1).minimize(loss)\n",
    "\n",
    "with tf.Session() as sess:\n",
    "    sess.run(tf.global_variables_initializer())\n",
    "    \n",
    "    for i in range(100):\n",
    "        sess.run(optimizer, feed_dict={tf_PHI:PHI_train, tf_y:y_train})\n",
    "        \n",
    "    y_train_pred = sess.run(y_pred, feed_dict={tf_PHI:PHI_train})\n",
    "    y_test_pred = sess.run(y_pred, feed_dict={tf_PHI:PHI_test})"
   ]
  },
  {
   "cell_type": "code",
   "execution_count": 19,
   "metadata": {},
   "outputs": [
    {
     "name": "stdout",
     "output_type": "stream",
     "text": [
      "[[ 0.07315454]\n",
      " [ 0.51835573]\n",
      " [-0.37204662]\n",
      " [-0.49924698]\n",
      " [-0.11764595]\n",
      " [-0.24484631]\n",
      " [-0.56284714]\n",
      " [ 1.09075725]\n",
      " [-1.19884884]\n",
      " [-1.0080483 ]\n",
      " [-0.81724775]\n",
      " [ 0.45475554]\n",
      " [-1.13524866]\n",
      " [ 0.8999567 ]\n",
      " [-0.30844644]\n",
      " [-0.18124613]\n",
      " [ 0.26395506]\n",
      " [-0.88084793]\n",
      " [-0.75364769]\n",
      " [ 0.58195585]]\n",
      "[[ 0.07315454]\n",
      " [ 0.51835573]\n",
      " [-0.37204662]\n",
      " [-0.49924698]\n",
      " [-0.11764595]\n",
      " [-0.24484631]\n",
      " [-0.56284714]\n",
      " [ 1.09075725]\n",
      " [-1.19884884]\n",
      " [-1.0080483 ]\n",
      " [-0.81724775]\n",
      " [ 0.45475554]\n",
      " [-1.13524866]\n",
      " [ 0.8999567 ]\n",
      " [-0.30844644]\n",
      " [-0.18124613]\n",
      " [ 0.26395506]\n",
      " [-0.88084793]\n",
      " [-0.75364769]\n",
      " [ 0.58195585]\n",
      " [ 0.00955439]\n",
      " [-0.0540458 ]\n",
      " [-1.26244903]\n",
      " [ 0.83635652]\n",
      " [ 0.77275634]\n",
      " [ 0.39115539]\n",
      " [ 0.70915616]\n",
      " [-1.07164848]\n",
      " [-0.6900475 ]\n",
      " [-0.4356468 ]\n",
      " [-0.94444811]\n",
      " [ 1.02715695]\n",
      " [ 0.32755521]\n",
      " [ 1.21795762]\n",
      " [ 0.20035487]\n",
      " [ 0.96355689]\n",
      " [-0.62644732]\n",
      " [ 0.64555603]\n",
      " [ 1.15435743]\n",
      " [ 0.13675471]]\n"
     ]
    }
   ],
   "source": [
    "print(y_train_pred)\n",
    "print(y_test_pred)"
   ]
  },
  {
   "cell_type": "code",
   "execution_count": 20,
   "metadata": {},
   "outputs": [
    {
     "data": {
      "image/png": "[encoded data removed]",
      "text/plain": [
       "<Figure size 432x288 with 1 Axes>"
      ]
     },
     "metadata": {
      "needs_background": "light"
     },
     "output_type": "display_data"
    },
    {
     "data": {
      "image/png": "[encoded data removed]",
      "text/plain": [
       "<Figure size 432x288 with 1 Axes>"
      ]
     },
     "metadata": {
      "needs_background": "light"
     },
     "output_type": "display_data"
    }
   ],
   "source": [
    "plt.figure()\n",
    "plt.scatter(X_train, y_train_pred, label='pred')\n",
    "plt.scatter(X_train, y_train, label='target')\n",
    "plt.legend()\n",
    "plt.title('train data')\n",
    "plt.show()\n",
    "\n",
    "plt.figure()\n",
    "plt.scatter(X_test, y_test_pred, label='pred')\n",
    "plt.scatter(X_test, y_test, label='target')\n",
    "plt.legend()\n",
    "plt.title('test data')\n",
    "plt.show()"
   ]
  },
  {
   "cell_type": "code",
   "execution_count": null,
   "metadata": {},
   "outputs": [],
   "source": []
  }
 ],
 "metadata": {
  "kernelspec": {
   "display_name": "Tensorflow2",
   "language": "python",
   "name": "tensorflow2"
  },
  "language_info": {
   "codemirror_mode": {
    "name": "ipython",
    "version": 3
   },
   "file_extension": ".py",
   "mimetype": "text/x-python",
   "name": "python",
   "nbconvert_exporter": "python",
   "pygments_lexer": "ipython3",
   "version": "3.6.9"
  }
 },
 "nbformat": 4,
 "nbformat_minor": 2
}
