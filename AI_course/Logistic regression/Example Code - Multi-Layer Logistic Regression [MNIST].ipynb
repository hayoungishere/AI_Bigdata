{
 "cells": [
  {
   "cell_type": "markdown",
   "metadata": {
    "slideshow": {
     "slide_type": "slide"
    }
   },
   "source": [
    "# Logistic Regression - Multi-Layer Case(For Mnist)"
   ]
  },
  {
   "cell_type": "markdown",
   "metadata": {
    "slideshow": {
     "slide_type": "slide"
    }
   },
   "source": [
    "# Library"
   ]
  },
  {
   "cell_type": "code",
   "execution_count": 1,
   "metadata": {
    "slideshow": {
     "slide_type": "-"
    }
   },
   "outputs": [],
   "source": [
    "import tensorflow as tf\n",
    "import numpy as np\n",
    "from tensorflow.keras.datasets import mnist\n",
    "from matplotlib import pyplot as plt\n",
    "from sklearn.metrics import confusion_matrix"
   ]
  },
  {
   "cell_type": "markdown",
   "metadata": {
    "slideshow": {
     "slide_type": "slide"
    }
   },
   "source": [
    "# Load data and data check"
   ]
  },
  {
   "cell_type": "code",
   "execution_count": 2,
   "metadata": {
    "slideshow": {
     "slide_type": "-"
    }
   },
   "outputs": [],
   "source": [
    "# load data\n",
    "(x_train, y_train), (x_test, y_test) = mnist.load_data()\n",
    "# (x_train, y_train), (x_test, y_test) = cifar10.load_data()"
   ]
  },
  {
   "cell_type": "code",
   "execution_count": 3,
   "metadata": {
    "slideshow": {
     "slide_type": "subslide"
    }
   },
   "outputs": [
    {
     "data": {
      "image/png": "[encoded data removed]",
      "text/plain": [
       "<Figure size 432x288 with 1 Axes>"
      ]
     },
     "metadata": {
      "needs_background": "light"
     },
     "output_type": "display_data"
    },
    {
     "name": "stdout",
     "output_type": "stream",
     "text": [
      "[[[0 0 0 ..., 0 0 0]\n",
      "  [0 0 0 ..., 0 0 0]\n",
      "  [0 0 0 ..., 0 0 0]\n",
      "  ..., \n",
      "  [0 0 0 ..., 0 0 0]\n",
      "  [0 0 0 ..., 0 0 0]\n",
      "  [0 0 0 ..., 0 0 0]]\n",
      "\n",
      " [[0 0 0 ..., 0 0 0]\n",
      "  [0 0 0 ..., 0 0 0]\n",
      "  [0 0 0 ..., 0 0 0]\n",
      "  ..., \n",
      "  [0 0 0 ..., 0 0 0]\n",
      "  [0 0 0 ..., 0 0 0]\n",
      "  [0 0 0 ..., 0 0 0]]\n",
      "\n",
      " [[0 0 0 ..., 0 0 0]\n",
      "  [0 0 0 ..., 0 0 0]\n",
      "  [0 0 0 ..., 0 0 0]\n",
      "  ..., \n",
      "  [0 0 0 ..., 0 0 0]\n",
      "  [0 0 0 ..., 0 0 0]\n",
      "  [0 0 0 ..., 0 0 0]]\n",
      "\n",
      " ..., \n",
      " [[0 0 0 ..., 0 0 0]\n",
      "  [0 0 0 ..., 0 0 0]\n",
      "  [0 0 0 ..., 0 0 0]\n",
      "  ..., \n",
      "  [0 0 0 ..., 0 0 0]\n",
      "  [0 0 0 ..., 0 0 0]\n",
      "  [0 0 0 ..., 0 0 0]]\n",
      "\n",
      " [[0 0 0 ..., 0 0 0]\n",
      "  [0 0 0 ..., 0 0 0]\n",
      "  [0 0 0 ..., 0 0 0]\n",
      "  ..., \n",
      "  [0 0 0 ..., 0 0 0]\n",
      "  [0 0 0 ..., 0 0 0]\n",
      "  [0 0 0 ..., 0 0 0]]\n",
      "\n",
      " [[0 0 0 ..., 0 0 0]\n",
      "  [0 0 0 ..., 0 0 0]\n",
      "  [0 0 0 ..., 0 0 0]\n",
      "  ..., \n",
      "  [0 0 0 ..., 0 0 0]\n",
      "  [0 0 0 ..., 0 0 0]\n",
      "  [0 0 0 ..., 0 0 0]]]\n",
      "[5 0 4 ..., 5 6 8]\n"
     ]
    }
   ],
   "source": [
    "# data check\n",
    "plt.figure()\n",
    "plt.imshow(x_train[0])\n",
    "plt.show()\n",
    "print(x_train)\n",
    "print(y_train)"
   ]
  },
  {
   "cell_type": "markdown",
   "metadata": {
    "slideshow": {
     "slide_type": "slide"
    }
   },
   "source": [
    "# Data preprocessing (x reshape, x nomalize, y onehot)"
   ]
  },
  {
   "cell_type": "code",
   "execution_count": 4,
   "metadata": {
    "slideshow": {
     "slide_type": "-"
    }
   },
   "outputs": [],
   "source": [
    "shape = x_train.shape[1:]\n",
    "\n",
    "# x data reshape\n",
    "reshaped_x_train = x_train.reshape(-1, np.prod(shape))\n",
    "reshaped_x_test = x_test.reshape(-1, np.prod(shape))\n",
    "\n",
    "# x data normalization\n",
    "X_train = reshaped_x_train / 255.\n",
    "X_test = reshaped_x_test / 255.\n",
    "\n",
    "# y data one hot encoding\n",
    "Y_train = np.eye(10)[y_train.reshape(-1)]\n",
    "Y_test = np.eye(10)[y_test.reshape(-1)]"
   ]
  },
  {
   "cell_type": "code",
   "execution_count": 5,
   "metadata": {
    "slideshow": {
     "slide_type": "subslide"
    }
   },
   "outputs": [
    {
     "name": "stdout",
     "output_type": "stream",
     "text": [
      "X data shape: (60000, 784) (10000, 784)\n",
      "Y data shape: (60000, 10) (10000, 10)\n",
      "\n",
      "X train data\n",
      "[[ 0.  0.  0. ...,  0.  0.  0.]\n",
      " [ 0.  0.  0. ...,  0.  0.  0.]\n",
      " [ 0.  0.  0. ...,  0.  0.  0.]\n",
      " ..., \n",
      " [ 0.  0.  0. ...,  0.  0.  0.]\n",
      " [ 0.  0.  0. ...,  0.  0.  0.]\n",
      " [ 0.  0.  0. ...,  0.  0.  0.]]\n",
      "X test data\n",
      "[[ 0.  0.  0. ...,  0.  0.  0.]\n",
      " [ 0.  0.  0. ...,  0.  0.  0.]\n",
      " [ 0.  0.  0. ...,  0.  0.  0.]\n",
      " ..., \n",
      " [ 0.  0.  0. ...,  0.  0.  0.]\n",
      " [ 0.  0.  0. ...,  0.  0.  0.]\n",
      " [ 0.  0.  0. ...,  0.  0.  0.]]\n",
      "\n",
      "Y train data\n",
      "[[ 0.  0.  0. ...,  0.  0.  0.]\n",
      " [ 1.  0.  0. ...,  0.  0.  0.]\n",
      " [ 0.  0.  0. ...,  0.  0.  0.]\n",
      " ..., \n",
      " [ 0.  0.  0. ...,  0.  0.  0.]\n",
      " [ 0.  0.  0. ...,  0.  0.  0.]\n",
      " [ 0.  0.  0. ...,  0.  1.  0.]]\n",
      "Y test data\n",
      "[[ 0.  0.  0. ...,  1.  0.  0.]\n",
      " [ 0.  0.  1. ...,  0.  0.  0.]\n",
      " [ 0.  1.  0. ...,  0.  0.  0.]\n",
      " ..., \n",
      " [ 0.  0.  0. ...,  0.  0.  0.]\n",
      " [ 0.  0.  0. ...,  0.  0.  0.]\n",
      " [ 0.  0.  0. ...,  0.  0.  0.]]\n"
     ]
    }
   ],
   "source": [
    "print('X data shape:', X_train.shape, X_test.shape)\n",
    "print('Y data shape:', Y_train.shape, Y_test.shape)\n",
    "print()\n",
    "\n",
    "print('X train data')\n",
    "print(X_train)\n",
    "print('X test data')\n",
    "print(X_test)\n",
    "print()\n",
    "\n",
    "print('Y train data')\n",
    "print(Y_train)\n",
    "print('Y test data')\n",
    "print(Y_test)"
   ]
  },
  {
   "cell_type": "markdown",
   "metadata": {
    "slideshow": {
     "slide_type": "slide"
    }
   },
   "source": [
    "# Multi Layer Logistic Regression"
   ]
  },
  {
   "cell_type": "markdown",
   "metadata": {
    "slideshow": {
     "slide_type": "slide"
    }
   },
   "source": [
    "## Hyper parameter setting"
   ]
  },
  {
   "cell_type": "code",
   "execution_count": 6,
   "metadata": {
    "slideshow": {
     "slide_type": "-"
    }
   },
   "outputs": [],
   "source": [
    "# hypter parameter setting\n",
    "learning_rate = 1e-1\n",
    "training_epochs = 25\n",
    "display_step = 5\n",
    "batch_size = 32\n",
    "act = tf.nn.relu\n",
    "h = 200"
   ]
  },
  {
   "cell_type": "markdown",
   "metadata": {},
   "source": [
    "## Make model with get_variable"
   ]
  },
  {
   "cell_type": "code",
   "execution_count": 7,
   "metadata": {},
   "outputs": [],
   "source": [
    "tf.reset_default_graph()\n",
    "\n",
    "# place holder\n",
    "tf_X = tf.placeholder(tf.float32, [None, np.prod(shape)])\n",
    "tf_Y = tf.placeholder(tf.float32, [None, 10])\n",
    "\n",
    "# get variables\n",
    "w1 = tf.get_variable('w1', [np.prod(shape), h])\n",
    "b1 = tf.get_variable('b1', [h])\n",
    "w2 = tf.get_variable('w2', [h, 10])\n",
    "b2 = tf.get_variable('b2', [10])\n",
    "\n",
    "# model\n",
    "hidden1 = act(tf_X @ w1 + b1)\n",
    "pred = tf.nn.softmax(hidden1 @ w2 + b2)\n",
    "\n",
    "# cross entropy loss\n",
    "loss = tf.reduce_mean(-tf.reduce_sum(tf_Y * tf.log(pred), axis=1))\n",
    "optimizer = tf.train.GradientDescentOptimizer(learning_rate).minimize(loss)\n",
    "# tf.reset_default_graph()\n",
    "\n",
    "# # place holder\n",
    "# tf_X = tf.placeholder(tf.float32, [None, np.prod(shape)])\n",
    "# tf_Y = tf.placeholder(tf.float32, [None, 10])\n",
    "\n",
    "# # model\n",
    "# hidden1 = tf.layers.dense(tf_X, h, activation=act)\n",
    "# logit = tf.layers.dense(hidden1, 10)\n",
    "# pred = tf.nn.softmax(logit)\n",
    "\n",
    "# # cross entropy loss\n",
    "# loss = tf.losses.softmax_cross_entropy(tf_Y, logit)\n",
    "# optimizer = tf.train.GradientDescentOptimizer(learning_rate).minimize(loss)"
   ]
  },
  {
   "cell_type": "markdown",
   "metadata": {},
   "source": [
    "## Train and result (without batch)"
   ]
  },
  {
   "cell_type": "code",
   "execution_count": 8,
   "metadata": {},
   "outputs": [
    {
     "name": "stdout",
     "output_type": "stream",
     "text": [
      "Epoch: 5 \tLoss: 1.97429\n",
      "Epoch: 10 \tLoss: 1.61573\n",
      "Epoch: 15 \tLoss: 1.3338\n",
      "Epoch: 20 \tLoss: 1.1272\n",
      "Epoch: 25 \tLoss: 0.979587\n",
      "최적화 완료\n",
      "정확도: 0.8117\n"
     ]
    }
   ],
   "source": [
    "# train\n",
    "init = tf.global_variables_initializer()\n",
    "\n",
    "with tf.Session() as sess:\n",
    "    # init\n",
    "    sess.run(init)\n",
    "    \n",
    "    # train\n",
    "    losses = [sess.run(loss, feed_dict={tf_X: X_train, tf_Y: Y_train})]  # init loss list\n",
    "    for epoch in range(training_epochs):\n",
    "        # get loss in sess.run\n",
    "        _, l = sess.run([optimizer, loss], feed_dict={tf_X:X_train, tf_Y:Y_train})\n",
    "        losses.append(l)  # save loss\n",
    "\n",
    "        if (epoch + 1) % display_step == 0:\n",
    "            print(\"Epoch:\", epoch + 1, \"\\tLoss:\", l) \n",
    "\n",
    "    print(\"최적화 완료\") \n",
    "\n",
    "    # result\n",
    "    correct_prediction = tf.equal(tf.argmax(pred, 1), tf.argmax(tf_Y, 1))\n",
    "    accuracy = tf.reduce_mean(tf.cast(correct_prediction, tf.float32))\n",
    "    test_accuracy, y_test_pred = sess.run([accuracy, pred], feed_dict={tf_X: X_test, tf_Y: Y_test})\n",
    "    print(\"정확도:\", test_accuracy)"
   ]
  },
  {
   "cell_type": "code",
   "execution_count": 9,
   "metadata": {},
   "outputs": [
    {
     "data": {
      "image/png": "[encoded data removed]",
      "text/plain": [
       "<Figure size 432x288 with 1 Axes>"
      ]
     },
     "metadata": {
      "needs_background": "light"
     },
     "output_type": "display_data"
    },
    {
     "data": {
      "text/plain": [
       "array([[ 920,    0,   16,    4,    2,   34,   20,    4,   25,   16],\n",
       "       [   0, 1090,   44,    8,   13,   21,   19,   38,   32,   18],\n",
       "       [   6,   31,  803,   32,   16,   22,   21,   28,   23,   14],\n",
       "       [   5,    5,   67,  858,    1,  137,    5,   10,   65,   13],\n",
       "       [   0,    1,   13,    2,  754,   18,   10,   15,   14,  131],\n",
       "       [   5,    0,    0,   28,    1,  518,   14,    0,   24,    8],\n",
       "       [  32,    4,   26,   16,   35,   54,  865,    3,   19,    3],\n",
       "       [   2,    0,   18,   19,    5,   34,    0,  864,   22,   69],\n",
       "       [  10,    3,   39,   35,   15,   33,    4,   19,  736,   28],\n",
       "       [   0,    1,    6,    8,  140,   21,    0,   47,   14,  709]], dtype=int64)"
      ]
     },
     "execution_count": 9,
     "metadata": {},
     "output_type": "execute_result"
    }
   ],
   "source": [
    "# plot losses\n",
    "plt.figure()\n",
    "plt.plot(losses)\n",
    "plt.show()\n",
    "\n",
    "# print confusion matrix\n",
    "confusion_matrix(np.argmax(y_test_pred, 1), y_test)"
   ]
  },
  {
   "cell_type": "markdown",
   "metadata": {},
   "source": [
    "## Train and result (with batch)"
   ]
  },
  {
   "cell_type": "code",
   "execution_count": 11,
   "metadata": {},
   "outputs": [
    {
     "name": "stdout",
     "output_type": "stream",
     "text": [
      "Epoch: 5 \tLoss: 0.207243\n",
      "Epoch: 10 \tLoss: 0.183274\n",
      "Epoch: 15 \tLoss: 0.163898\n",
      "Epoch: 20 \tLoss: 0.143147\n",
      "Epoch: 25 \tLoss: 0.125685\n",
      "최적화 완료\n",
      "정확도: 0.9768\n"
     ]
    }
   ],
   "source": [
    "# train\n",
    "init = tf.global_variables_initializer()\n",
    "\n",
    "with tf.Session() as sess:\n",
    "    # init\n",
    "    sess.run(init)\n",
    "    \n",
    "    # train\n",
    "    total_batch = int( len(X_train)/batch_size )  # total batch: number of batches\n",
    "    losses = [sess.run(loss, feed_dict={tf_X: X_train, tf_Y: Y_train})]  # init loss list\n",
    "    for epoch in range(0, training_epochs):\n",
    "        for i in range(total_batch):\n",
    "            ### get batch\n",
    "            x_batch = X_train[i*batch_size:(i+1)*batch_size]\n",
    "            y_batch = Y_train[i*batch_size:(i+1)*batch_size]\n",
    "\n",
    "            # get loss in sess.run ### batch input\n",
    "            _, l = sess.run([optimizer, loss], feed_dict={tf_X: x_batch, tf_Y: y_batch}) \n",
    "        losses.append(l)  # save loss\n",
    "\n",
    "        if (epoch + 1) % display_step == 0:\n",
    "            print(\"Epoch:\", epoch + 1, \"\\tLoss:\", l) \n",
    "\n",
    "    print(\"최적화 완료\") \n",
    "\n",
    "    # result\n",
    "    correct_prediction = tf.equal(tf.argmax(pred, 1), tf.argmax(tf_Y, 1))\n",
    "    accuracy = tf.reduce_mean(tf.cast(correct_prediction, tf.float32))\n",
    "    test_accuracy, y_test_pred = sess.run([accuracy, pred], \n",
    "                                          feed_dict={tf_X: X_test, tf_Y: Y_test})\n",
    "    print(\"정확도:\", test_accuracy)"
   ]
  },
  {
   "cell_type": "code",
   "execution_count": 12,
   "metadata": {},
   "outputs": [
    {
     "data": {
      "image/png": "[encoded data removed]",
      "text/plain": [
       "<Figure size 432x288 with 1 Axes>"
      ]
     },
     "metadata": {
      "needs_background": "light"
     },
     "output_type": "display_data"
    },
    {
     "data": {
      "text/plain": [
       "array([[ 969,    0,    5,    0,    2,    3,    6,    1,    5,    3],\n",
       "       [   0, 1126,    2,    0,    0,    0,    3,    4,    0,    4],\n",
       "       [   2,    4, 1010,    5,    3,    0,    3,   11,    5,    1],\n",
       "       [   0,    0,    3,  987,    1,    6,    1,    4,    9,    5],\n",
       "       [   1,    0,    1,    0,  964,    1,    4,    4,    5,   10],\n",
       "       [   3,    1,    0,    4,    0,  875,    7,    0,    4,    5],\n",
       "       [   1,    2,    3,    0,    2,    4,  932,    0,    3,    1],\n",
       "       [   1,    1,    2,    3,    1,    0,    0,  994,    4,    2],\n",
       "       [   2,    1,    6,    2,    0,    1,    2,    1,  935,    2],\n",
       "       [   1,    0,    0,    9,    9,    2,    0,    9,    4,  976]], dtype=int64)"
      ]
     },
     "execution_count": 12,
     "metadata": {},
     "output_type": "execute_result"
    }
   ],
   "source": [
    "# plot losses\n",
    "plt.figure()\n",
    "plt.plot(losses)\n",
    "plt.show()\n",
    "\n",
    "# print confusion matrix\n",
    "confusion_matrix(np.argmax(y_test_pred, 1), y_test)"
   ]
  },
  {
   "cell_type": "markdown",
   "metadata": {},
   "source": [
    "## Train and result (with batch - iteration losses)"
   ]
  },
  {
   "cell_type": "code",
   "execution_count": 13,
   "metadata": {},
   "outputs": [
    {
     "name": "stdout",
     "output_type": "stream",
     "text": [
      "Epoch: 5 \tLoss: 0.0981348\n",
      "Epoch: 10 \tLoss: 0.0428511\n",
      "Epoch: 15 \tLoss: 0.0168581\n",
      "Epoch: 20 \tLoss: 0.0113865\n",
      "Epoch: 25 \tLoss: 0.0602061\n",
      "최적화 완료\n",
      "정확도: 0.9795\n"
     ]
    }
   ],
   "source": [
    "# train\n",
    "init = tf.global_variables_initializer()\n",
    "\n",
    "with tf.Session() as sess:\n",
    "    # init\n",
    "    sess.run(init)\n",
    "    \n",
    "    # train\n",
    "    total_batch = int( len(X_train)/batch_size )  # total batch: number of batches\n",
    "    losses = [sess.run(loss, feed_dict={tf_X: X_train, tf_Y: Y_train})]  # init loss list\n",
    "    iteration_losses = [sess.run(loss, feed_dict={tf_X: X_train, tf_Y: Y_train})] ### init iteration losses\n",
    "    for epoch in range(0, training_epochs):\n",
    "        # shuffle\n",
    "        idx = np.random.permutation(len(X_train))\n",
    "        shuffled_X_train = X_train[idx]\n",
    "        shuffled_Y_train = Y_train[idx]\n",
    "        \n",
    "        for i in range(total_batch):\n",
    "            # get batch\n",
    "            x_batch = shuffled_X_train[i*batch_size:(i+1)*batch_size]\n",
    "            y_batch = shuffled_Y_train[i*batch_size:(i+1)*batch_size]\n",
    "            \n",
    "            # get loss in sess.run # batch input\n",
    "            _, l = sess.run([optimizer, loss], feed_dict={tf_X: x_batch, tf_Y: y_batch}) \n",
    "            iteration_losses.append(l)  ### save iteration loss\n",
    "        losses.append(l)  # save loss\n",
    "\n",
    "        if (epoch + 1) % display_step == 0:\n",
    "            print(\"Epoch:\", epoch + 1, \"\\tLoss:\", l) \n",
    "\n",
    "    print(\"최적화 완료\") \n",
    "\n",
    "    # result\n",
    "    correct_prediction = tf.equal(tf.argmax(pred, 1), tf.argmax(tf_Y, 1))\n",
    "    accuracy = tf.reduce_mean(tf.cast(correct_prediction, tf.float32))\n",
    "    test_accuracy, y_test_pred = sess.run([accuracy, pred], \n",
    "                                          feed_dict={tf_X: X_test, tf_Y: Y_test})\n",
    "    print(\"정확도:\", test_accuracy)"
   ]
  },
  {
   "cell_type": "code",
   "execution_count": 14,
   "metadata": {
    "slideshow": {
     "slide_type": "subslide"
    }
   },
   "outputs": [
    {
     "name": "stdout",
     "output_type": "stream",
     "text": [
      "test accuracy: 0.9795\n"
     ]
    },
    {
     "data": {
      "image/png": "[encoded data removed]",
      "text/plain": [
       "<Figure size 432x288 with 1 Axes>"
      ]
     },
     "metadata": {
      "needs_background": "light"
     },
     "output_type": "display_data"
    },
    {
     "data": {
      "image/png": "[encoded data removed]",
      "text/plain": [
       "<Figure size 432x288 with 1 Axes>"
      ]
     },
     "metadata": {
      "needs_background": "light"
     },
     "output_type": "display_data"
    },
    {
     "data": {
      "text/plain": [
       "array([[ 967,    0,    4,    0,    2,    2,    5,    0,    3,    2],\n",
       "       [   0, 1122,    1,    0,    0,    0,    3,    2,    0,    3],\n",
       "       [   1,    3, 1008,    2,    2,    0,    1,    6,    4,    0],\n",
       "       [   2,    1,    2,  992,    1,   10,    1,    1,    7,    5],\n",
       "       [   2,    0,    3,    0,  958,    0,    1,    0,    4,    6],\n",
       "       [   1,    1,    0,    3,    0,  869,    4,    1,    4,    1],\n",
       "       [   2,    3,    3,    0,    3,    5,  941,    0,    3,    1],\n",
       "       [   2,    2,    7,    3,    3,    1,    1, 1013,    7,    5],\n",
       "       [   1,    3,    4,    3,    1,    3,    1,    1,  940,    1],\n",
       "       [   2,    0,    0,    7,   12,    2,    0,    4,    2,  985]], dtype=int64)"
      ]
     },
     "execution_count": 14,
     "metadata": {},
     "output_type": "execute_result"
    }
   ],
   "source": [
    "print('test accuracy:', test_accuracy)\n",
    "# plot losses\n",
    "plt.figure()\n",
    "plt.plot(losses)\n",
    "plt.show()\n",
    "# plot iteration losses\n",
    "plt.figure()\n",
    "plt.plot(iteration_losses)\n",
    "plt.show()\n",
    "\n",
    "# print confusion matrix\n",
    "confusion_matrix(np.argmax(y_test_pred, 1), y_test)"
   ]
  },
  {
   "cell_type": "code",
   "execution_count": null,
   "metadata": {
    "slideshow": {
     "slide_type": "skip"
    }
   },
   "outputs": [],
   "source": []
  }
 ],
 "metadata": {
  "celltoolbar": "Slideshow",
  "kernelspec": {
   "display_name": "tensorflow",
   "language": "python",
   "name": "tensorflow"
  },
  "language_info": {
   "codemirror_mode": {
    "name": "ipython",
    "version": 3
   },
   "file_extension": ".py",
   "mimetype": "text/x-python",
   "name": "python",
   "nbconvert_exporter": "python",
   "pygments_lexer": "ipython3",
   "version": "3.5.6"
  },
  "widgets": {
   "state": {},
   "version": "1.1.2"
  }
 },
 "nbformat": 4,
 "nbformat_minor": 2
}
