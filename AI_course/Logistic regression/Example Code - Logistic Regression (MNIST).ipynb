{
 "cells": [
  {
   "cell_type": "markdown",
   "metadata": {
    "slideshow": {
     "slide_type": "slide"
    }
   },
   "source": [
    "# Logistic Regression (MNIST)\n",
    "### (preliminary: logistic model)\n",
    "## 1. Library, Data, Preprocessing (Split, Normalize)\n",
    "## 2. Solve logistic model with Tensorflow\n",
    "## 3. Show the result with confusion matrix"
   ]
  },
  {
   "cell_type": "markdown",
   "metadata": {
    "slideshow": {
     "slide_type": "slide"
    }
   },
   "source": [
    "# Library"
   ]
  },
  {
   "cell_type": "code",
   "execution_count": 1,
   "metadata": {
    "slideshow": {
     "slide_type": "fragment"
    }
   },
   "outputs": [],
   "source": [
    "import tensorflow as tf\n",
    "import numpy as np\n",
    "from matplotlib import pyplot as plt\n",
    "\n",
    "from tensorflow.keras.datasets import mnist"
   ]
  },
  {
   "cell_type": "markdown",
   "metadata": {
    "slideshow": {
     "slide_type": "slide"
    }
   },
   "source": [
    "# Load data"
   ]
  },
  {
   "cell_type": "code",
   "execution_count": 2,
   "metadata": {
    "slideshow": {
     "slide_type": "fragment"
    }
   },
   "outputs": [
    {
     "name": "stdout",
     "output_type": "stream",
     "text": [
      "type(data):  <class 'tuple'>\n",
      "len(data):  2\n"
     ]
    }
   ],
   "source": [
    "# load data\n",
    "data = mnist.load_data()\n",
    "# data\n",
    "print('type(data): ', type(data))\n",
    "print('len(data): ', len(data))"
   ]
  },
  {
   "cell_type": "markdown",
   "metadata": {
    "slideshow": {
     "slide_type": "slide"
    }
   },
   "source": [
    "# train, test split"
   ]
  },
  {
   "cell_type": "code",
   "execution_count": 3,
   "metadata": {
    "slideshow": {
     "slide_type": "fragment"
    }
   },
   "outputs": [
    {
     "name": "stdout",
     "output_type": "stream",
     "text": [
      "len(train_data):  2\n",
      "len(test_data):  2\n"
     ]
    }
   ],
   "source": [
    "# train, test split\n",
    "train_data, test_data = data\n",
    "print('len(train_data): ', len(train_data))\n",
    "print('len(test_data): ', len(test_data))"
   ]
  },
  {
   "cell_type": "markdown",
   "metadata": {
    "slideshow": {
     "slide_type": "slide"
    }
   },
   "source": [
    "# X, y split"
   ]
  },
  {
   "cell_type": "code",
   "execution_count": 4,
   "metadata": {
    "slideshow": {
     "slide_type": "fragment"
    }
   },
   "outputs": [
    {
     "name": "stdout",
     "output_type": "stream",
     "text": [
      "x_train.shape, y_train.shape\n",
      "(60000, 28, 28) (60000,)\n",
      "x_test.shape, y_test.shape\n",
      "(10000, 28, 28) (10000,)\n"
     ]
    }
   ],
   "source": [
    "# train data X, y split\n",
    "x_train, y_train = train_data\n",
    "print('x_train.shape, y_train.shape')\n",
    "print(x_train.shape, y_train.shape)\n",
    "\n",
    "# test data X, y split\n",
    "x_test, y_test = test_data\n",
    "print('x_test.shape, y_test.shape')\n",
    "print(x_test.shape, y_test.shape)"
   ]
  },
  {
   "cell_type": "code",
   "execution_count": 5,
   "metadata": {
    "slideshow": {
     "slide_type": "slide"
    }
   },
   "outputs": [
    {
     "data": {
      "image/png": "[encoded data removed]",
      "text/plain": [
       "<Figure size 432x288 with 1 Axes>"
      ]
     },
     "metadata": {
      "needs_background": "light"
     },
     "output_type": "display_data"
    },
    {
     "name": "stdout",
     "output_type": "stream",
     "text": [
      "y_train:  [5 0 4 ..., 5 6 8]\n",
      "x_train[0]:  [[  0   0   0   0   0   0   0   0   0   0   0   0   0   0   0   0   0   0\n",
      "    0   0   0   0   0   0   0   0   0   0]\n",
      " [  0   0   0   0   0   0   0   0   0   0   0   0   0   0   0   0   0   0\n",
      "    0   0   0   0   0   0   0   0   0   0]\n",
      " [  0   0   0   0   0   0   0   0   0   0   0   0   0   0   0   0   0   0\n",
      "    0   0   0   0   0   0   0   0   0   0]\n",
      " [  0   0   0   0   0   0   0   0   0   0   0   0   0   0   0   0   0   0\n",
      "    0   0   0   0   0   0   0   0   0   0]\n",
      " [  0   0   0   0   0   0   0   0   0   0   0   0   0   0   0   0   0   0\n",
      "    0   0   0   0   0   0   0   0   0   0]\n",
      " [  0   0   0   0   0   0   0   0   0   0   0   0   3  18  18  18 126 136\n",
      "  175  26 166 255 247 127   0   0   0   0]\n",
      " [  0   0   0   0   0   0   0   0  30  36  94 154 170 253 253 253 253 253\n",
      "  225 172 253 242 195  64   0   0   0   0]\n",
      " [  0   0   0   0   0   0   0  49 238 253 253 253 253 253 253 253 253 251\n",
      "   93  82  82  56  39   0   0   0   0   0]\n",
      " [  0   0   0   0   0   0   0  18 219 253 253 253 253 253 198 182 247 241\n",
      "    0   0   0   0   0   0   0   0   0   0]\n",
      " [  0   0   0   0   0   0   0   0  80 156 107 253 253 205  11   0  43 154\n",
      "    0   0   0   0   0   0   0   0   0   0]\n",
      " [  0   0   0   0   0   0   0   0   0  14   1 154 253  90   0   0   0   0\n",
      "    0   0   0   0   0   0   0   0   0   0]\n",
      " [  0   0   0   0   0   0   0   0   0   0   0 139 253 190   2   0   0   0\n",
      "    0   0   0   0   0   0   0   0   0   0]\n",
      " [  0   0   0   0   0   0   0   0   0   0   0  11 190 253  70   0   0   0\n",
      "    0   0   0   0   0   0   0   0   0   0]\n",
      " [  0   0   0   0   0   0   0   0   0   0   0   0  35 241 225 160 108   1\n",
      "    0   0   0   0   0   0   0   0   0   0]\n",
      " [  0   0   0   0   0   0   0   0   0   0   0   0   0  81 240 253 253 119\n",
      "   25   0   0   0   0   0   0   0   0   0]\n",
      " [  0   0   0   0   0   0   0   0   0   0   0   0   0   0  45 186 253 253\n",
      "  150  27   0   0   0   0   0   0   0   0]\n",
      " [  0   0   0   0   0   0   0   0   0   0   0   0   0   0   0  16  93 252\n",
      "  253 187   0   0   0   0   0   0   0   0]\n",
      " [  0   0   0   0   0   0   0   0   0   0   0   0   0   0   0   0   0 249\n",
      "  253 249  64   0   0   0   0   0   0   0]\n",
      " [  0   0   0   0   0   0   0   0   0   0   0   0   0   0  46 130 183 253\n",
      "  253 207   2   0   0   0   0   0   0   0]\n",
      " [  0   0   0   0   0   0   0   0   0   0   0   0  39 148 229 253 253 253\n",
      "  250 182   0   0   0   0   0   0   0   0]\n",
      " [  0   0   0   0   0   0   0   0   0   0  24 114 221 253 253 253 253 201\n",
      "   78   0   0   0   0   0   0   0   0   0]\n",
      " [  0   0   0   0   0   0   0   0  23  66 213 253 253 253 253 198  81   2\n",
      "    0   0   0   0   0   0   0   0   0   0]\n",
      " [  0   0   0   0   0   0  18 171 219 253 253 253 253 195  80   9   0   0\n",
      "    0   0   0   0   0   0   0   0   0   0]\n",
      " [  0   0   0   0  55 172 226 253 253 253 253 244 133  11   0   0   0   0\n",
      "    0   0   0   0   0   0   0   0   0   0]\n",
      " [  0   0   0   0 136 253 253 253 212 135 132  16   0   0   0   0   0   0\n",
      "    0   0   0   0   0   0   0   0   0   0]\n",
      " [  0   0   0   0   0   0   0   0   0   0   0   0   0   0   0   0   0   0\n",
      "    0   0   0   0   0   0   0   0   0   0]\n",
      " [  0   0   0   0   0   0   0   0   0   0   0   0   0   0   0   0   0   0\n",
      "    0   0   0   0   0   0   0   0   0   0]\n",
      " [  0   0   0   0   0   0   0   0   0   0   0   0   0   0   0   0   0   0\n",
      "    0   0   0   0   0   0   0   0   0   0]]\n"
     ]
    }
   ],
   "source": [
    "plt.figure()\n",
    "plt.imshow(x_train[0], 'gray')\n",
    "plt.show()\n",
    "print('y_train: ', y_train)\n",
    "print('x_train[0]: ', x_train[0])"
   ]
  },
  {
   "cell_type": "markdown",
   "metadata": {
    "slideshow": {
     "slide_type": "slide"
    }
   },
   "source": [
    "## Load data (train/test split, X/y split)"
   ]
  },
  {
   "cell_type": "code",
   "execution_count": 6,
   "metadata": {
    "slideshow": {
     "slide_type": "fragment"
    }
   },
   "outputs": [],
   "source": [
    "(X_train, y_train), (X_test, y_test) = mnist.load_data()"
   ]
  },
  {
   "cell_type": "markdown",
   "metadata": {
    "slideshow": {
     "slide_type": "slide"
    }
   },
   "source": [
    "## Data shape"
   ]
  },
  {
   "cell_type": "code",
   "execution_count": 7,
   "metadata": {
    "slideshow": {
     "slide_type": "fragment"
    }
   },
   "outputs": [
    {
     "name": "stdout",
     "output_type": "stream",
     "text": [
      "shape:  (28, 28)\n"
     ]
    }
   ],
   "source": [
    "# data shape\n",
    "shape = x_train.shape[1:]\n",
    "print('shape: ', shape)"
   ]
  },
  {
   "cell_type": "markdown",
   "metadata": {
    "slideshow": {
     "slide_type": "slide"
    }
   },
   "source": [
    "# Data reshape, normalize"
   ]
  },
  {
   "cell_type": "code",
   "execution_count": 8,
   "metadata": {
    "slideshow": {
     "slide_type": "fragment"
    }
   },
   "outputs": [],
   "source": [
    "# Data normalize\n",
    "reshaped_x_train = x_train.reshape(-1, 784)\n",
    "reshaped_x_test = x_test.reshape(-1, np.prod(shape))\n",
    "\n",
    "X_train = reshaped_x_train / 255.\n",
    "X_test = reshaped_x_test / 255."
   ]
  },
  {
   "cell_type": "markdown",
   "metadata": {
    "slideshow": {
     "slide_type": "slide"
    }
   },
   "source": [
    "# Sparse label to one-hot label"
   ]
  },
  {
   "cell_type": "code",
   "execution_count": 9,
   "metadata": {
    "slideshow": {
     "slide_type": "fragment"
    }
   },
   "outputs": [
    {
     "name": "stdout",
     "output_type": "stream",
     "text": [
      "10x10 Identity matrix \n",
      " [[ 1.  0.  0.  0.  0.  0.  0.  0.  0.  0.]\n",
      " [ 0.  1.  0.  0.  0.  0.  0.  0.  0.  0.]\n",
      " [ 0.  0.  1.  0.  0.  0.  0.  0.  0.  0.]\n",
      " [ 0.  0.  0.  1.  0.  0.  0.  0.  0.  0.]\n",
      " [ 0.  0.  0.  0.  1.  0.  0.  0.  0.  0.]\n",
      " [ 0.  0.  0.  0.  0.  1.  0.  0.  0.  0.]\n",
      " [ 0.  0.  0.  0.  0.  0.  1.  0.  0.  0.]\n",
      " [ 0.  0.  0.  0.  0.  0.  0.  1.  0.  0.]\n",
      " [ 0.  0.  0.  0.  0.  0.  0.  0.  1.  0.]\n",
      " [ 0.  0.  0.  0.  0.  0.  0.  0.  0.  1.]]\n",
      "sparse label:  [1 3 5 7 9]\n",
      "sparse label to one hot label \n",
      " [[ 0.  1.  0.  0.  0.  0.  0.  0.  0.  0.]\n",
      " [ 0.  0.  0.  1.  0.  0.  0.  0.  0.  0.]\n",
      " [ 0.  0.  0.  0.  0.  1.  0.  0.  0.  0.]\n",
      " [ 0.  0.  0.  0.  0.  0.  0.  1.  0.  0.]\n",
      " [ 0.  0.  0.  0.  0.  0.  0.  0.  0.  1.]]\n"
     ]
    }
   ],
   "source": [
    "print('10x10 Identity matrix \\n', np.eye(10))\n",
    "sparse_label = np.array([1, 3, 5, 7, 9])\n",
    "print('sparse label: ', sparse_label)\n",
    "print('sparse label to one hot label \\n', np.eye(10)[sparse_label])"
   ]
  },
  {
   "cell_type": "code",
   "execution_count": 10,
   "metadata": {
    "slideshow": {
     "slide_type": "subslide"
    }
   },
   "outputs": [],
   "source": [
    "Y_train = np.eye(10)[y_train]\n",
    "Y_test = np.eye(10)[y_test]"
   ]
  },
  {
   "cell_type": "markdown",
   "metadata": {
    "slideshow": {
     "slide_type": "slide"
    }
   },
   "source": [
    "# Data load, preprocess Sum-up"
   ]
  },
  {
   "cell_type": "code",
   "execution_count": 11,
   "metadata": {
    "slideshow": {
     "slide_type": "fragment"
    }
   },
   "outputs": [
    {
     "name": "stdout",
     "output_type": "stream",
     "text": [
      "image shape:  (60000, 28, 28) (10000, 28, 28)\n",
      "label shape:  (60000,) (10000,)\n"
     ]
    }
   ],
   "source": [
    "(x_train, y_train), (x_test, y_test) = mnist.load_data()\n",
    " # original image data (28x28 per sample, unnormalized)\n",
    " # original image label (sparse encoding)\n",
    "print('image shape: ', x_train.shape, x_test.shape)\n",
    "print('label shape: ', y_train.shape, y_test.shape)"
   ]
  },
  {
   "cell_type": "code",
   "execution_count": 12,
   "metadata": {
    "slideshow": {
     "slide_type": "fragment"
    }
   },
   "outputs": [
    {
     "name": "stdout",
     "output_type": "stream",
     "text": [
      "image shape:  (60000, 784) (10000, 784)\n",
      "label shape:  (60000, 10) (10000, 10)\n"
     ]
    }
   ],
   "source": [
    "X_train, X_test # reshaped, normalized image data\n",
    "Y_train, Y_test # one-hot encoding label\n",
    "print('image shape: ', X_train.shape, X_test.shape)\n",
    "print('label shape: ', Y_train.shape, Y_test.shape)"
   ]
  },
  {
   "cell_type": "markdown",
   "metadata": {
    "slideshow": {
     "slide_type": "slide"
    }
   },
   "source": [
    "# Hyper parameter setting"
   ]
  },
  {
   "cell_type": "code",
   "execution_count": 13,
   "metadata": {
    "slideshow": {
     "slide_type": "fragment"
    }
   },
   "outputs": [],
   "source": [
    "# hypter parameter setting\n",
    "learning_rate = .1\n",
    "training_epochs = 100\n",
    "display_step = 5"
   ]
  },
  {
   "cell_type": "markdown",
   "metadata": {
    "slideshow": {
     "slide_type": "slide"
    }
   },
   "source": [
    "# Model"
   ]
  },
  {
   "cell_type": "code",
   "execution_count": 14,
   "metadata": {
    "slideshow": {
     "slide_type": "fragment"
    }
   },
   "outputs": [],
   "source": [
    "# build model and optimizer\n",
    "tf_X = tf.placeholder(tf.float32, [None, 784])\n",
    "tf_Y = tf.placeholder(tf.float32, [None, 10])\n",
    "W = tf.Variable(tf.zeros([784, 10]))\n",
    "b = tf.Variable(tf.zeros([10]))\n",
    "\n",
    "pred = tf.nn.softmax(tf.matmul(tf_X, W) + b)\n",
    "\n",
    "# cross entropy loss\n",
    "loss = tf.reduce_mean(-tf.reduce_sum(\n",
    "    tf_Y * tf.log(pred)\n",
    "    , axis=1))\n",
    "\n",
    "optimizer = tf.train.GradientDescentOptimizer(learning_rate).minimize(loss)"
   ]
  },
  {
   "cell_type": "markdown",
   "metadata": {
    "slideshow": {
     "slide_type": "slide"
    }
   },
   "source": [
    "# Train"
   ]
  },
  {
   "cell_type": "code",
   "execution_count": 15,
   "metadata": {
    "scrolled": true,
    "slideshow": {
     "slide_type": "fragment"
    }
   },
   "outputs": [
    {
     "name": "stdout",
     "output_type": "stream",
     "text": [
      "최적화 완료\n",
      "정확도: 0.8707\n"
     ]
    }
   ],
   "source": [
    "# train\n",
    "init = tf.global_variables_initializer()\n",
    "\n",
    "sess = tf.Session()\n",
    "sess.run(init)\n",
    "for epoch in range(0, training_epochs):    \n",
    "    sess.run(optimizer, feed_dict={tf_X: X_train, tf_Y: Y_train}) \n",
    "\n",
    "print(\"최적화 완료\") \n",
    "\n",
    "correct_prediction = tf.equal(tf.argmax(pred, 1), tf.argmax(tf_Y, 1))\n",
    "accuracy = tf.reduce_mean(tf.cast(correct_prediction, tf.float32))\n",
    "accuracy_eval = sess.run(accuracy, feed_dict={tf_X: X_test, tf_Y: Y_test})\n",
    "print(\"정확도:\", accuracy_eval) \n"
   ]
  },
  {
   "cell_type": "markdown",
   "metadata": {
    "slideshow": {
     "slide_type": "subslide"
    }
   },
   "source": [
    "# Confusion matrix"
   ]
  },
  {
   "cell_type": "code",
   "execution_count": 16,
   "metadata": {
    "slideshow": {
     "slide_type": "fragment"
    }
   },
   "outputs": [
    {
     "data": {
      "text/plain": [
       "array([[ 946,    0,    3,    3,    0,    4,   15,    1,    8,    0],\n",
       "       [   0, 1089,    5,    3,    1,    4,    4,    0,   29,    0],\n",
       "       [  16,   19,  845,   26,   20,    0,   28,   22,   49,    7],\n",
       "       [   5,    2,   22,  880,    1,   32,    8,   20,   26,   14],\n",
       "       [   3,    8,    5,    0,  865,    1,   17,    2,   10,   71],\n",
       "       [  24,   15,    7,   74,   25,  650,   27,   11,   42,   17],\n",
       "       [  20,    5,   13,    2,   13,   20,  879,    0,    6,    0],\n",
       "       [   4,   38,   25,    1,   13,    0,    4,  889,   10,   44],\n",
       "       [  10,   16,   13,   40,   12,   22,   18,   14,  809,   20],\n",
       "       [  14,   13,   11,   12,   53,   11,    1,   28,   11,  855]])"
      ]
     },
     "execution_count": 16,
     "metadata": {},
     "output_type": "execute_result"
    }
   ],
   "source": [
    "# confusion matrix\n",
    "from sklearn.metrics import confusion_matrix\n",
    "\n",
    "y_test_pred = sess.run(pred, feed_dict={tf_X: X_test, tf_Y:Y_test})\n",
    "confusion_matrix(\n",
    "    y_test,\n",
    "    np.argmax(y_test_pred, 1)) # y_pred\n"
   ]
  },
  {
   "cell_type": "code",
   "execution_count": 17,
   "metadata": {
    "slideshow": {
     "slide_type": "slide"
    }
   },
   "outputs": [
    {
     "name": "stdout",
     "output_type": "stream",
     "text": [
      "Epoch: 5 \tLoss: 1.92906\n",
      "Epoch: 10 \tLoss: 1.5986438\n",
      "Epoch: 15 \tLoss: 1.3717645\n",
      "Epoch: 20 \tLoss: 1.2122684\n",
      "Epoch: 25 \tLoss: 1.0960882\n",
      "Epoch: 30 \tLoss: 1.0083586\n",
      "Epoch: 35 \tLoss: 0.9399633\n",
      "Epoch: 40 \tLoss: 0.8851725\n",
      "Epoch: 45 \tLoss: 0.84026474\n",
      "Epoch: 50 \tLoss: 0.8027456\n",
      "Epoch: 55 \tLoss: 0.7708935\n",
      "Epoch: 60 \tLoss: 0.7434759\n",
      "Epoch: 65 \tLoss: 0.7195982\n",
      "Epoch: 70 \tLoss: 0.69859004\n",
      "Epoch: 75 \tLoss: 0.67994374\n",
      "Epoch: 80 \tLoss: 0.66326493\n",
      "Epoch: 85 \tLoss: 0.64824146\n",
      "Epoch: 90 \tLoss: 0.6346275\n",
      "Epoch: 95 \tLoss: 0.62222445\n",
      "Epoch: 100 \tLoss: 0.6108681\n",
      "최적화 완료\n",
      "정확도: 0.8707\n"
     ]
    }
   ],
   "source": [
    "# train\n",
    "init = tf.global_variables_initializer()\n",
    "\n",
    "sess = tf.Session()\n",
    "sess.run(init)\n",
    "losses = [] ### add losses\n",
    "for epoch in range(0, training_epochs):\n",
    "    _, l = sess.run([optimizer, loss], feed_dict={tf_X: X_train, tf_Y: Y_train}) \n",
    "    \n",
    "    losses += [l] ### add losses\n",
    "    if (epoch + 1) % display_step == 0:\n",
    "        print(\"Epoch:\", epoch + 1, \"\\tLoss:\", l) \n",
    "\n",
    "print(\"최적화 완료\") \n",
    "\n",
    "correct_prediction = tf.equal(tf.argmax(pred, 1), tf.argmax(tf_Y, 1))\n",
    "accuracy = tf.reduce_mean(tf.cast(correct_prediction, tf.float32))\n",
    "accuracy_eval = sess.run(accuracy, feed_dict={tf_X: X_test, tf_Y: Y_test})\n",
    "print(\"정확도:\", accuracy_eval) "
   ]
  },
  {
   "cell_type": "code",
   "execution_count": 18,
   "metadata": {
    "slideshow": {
     "slide_type": "subslide"
    }
   },
   "outputs": [
    {
     "data": {
      "image/png": "[encoded data removed]",
      "text/plain": [
       "<Figure size 432x288 with 1 Axes>"
      ]
     },
     "metadata": {
      "needs_background": "light"
     },
     "output_type": "display_data"
    }
   ],
   "source": [
    "plt.figure()\n",
    "plt.plot(losses)\n",
    "plt.show()"
   ]
  },
  {
   "cell_type": "markdown",
   "metadata": {
    "slideshow": {
     "slide_type": "slide"
    }
   },
   "source": [
    "# Model"
   ]
  },
  {
   "cell_type": "code",
   "execution_count": 22,
   "metadata": {
    "slideshow": {
     "slide_type": "fragment"
    }
   },
   "outputs": [],
   "source": [
    "# build model and optimizer\n",
    "tf_X = tf.placeholder(tf.float32, [None, 784])\n",
    "tf_Y = tf.placeholder(tf.float32, [None, 10])\n",
    "\n",
    "logit = tf.layers.dense(tf_X, 10)\n",
    "pred = tf.nn.softmax(logit)\n",
    "\n",
    "# cross entropy loss\n",
    "loss = tf.losses.softmax_cross_entropy(tf_Y, logit)\n",
    "\n",
    "optimizer = tf.train.GradientDescentOptimizer(learning_rate).minimize(loss)"
   ]
  },
  {
   "cell_type": "markdown",
   "metadata": {
    "slideshow": {
     "slide_type": "slide"
    }
   },
   "source": [
    "# Train"
   ]
  },
  {
   "cell_type": "code",
   "execution_count": 23,
   "metadata": {
    "slideshow": {
     "slide_type": "fragment"
    }
   },
   "outputs": [
    {
     "name": "stdout",
     "output_type": "stream",
     "text": [
      "최적화 완료\n",
      "정확도: 0.8652\n"
     ]
    }
   ],
   "source": [
    "# train\n",
    "init = tf.global_variables_initializer()\n",
    "\n",
    "sess = tf.Session()\n",
    "sess.run(init)\n",
    "for epoch in range(0, training_epochs):    \n",
    "    sess.run(optimizer, feed_dict={tf_X: X_train, tf_Y: Y_train}) \n",
    "\n",
    "print(\"최적화 완료\") \n",
    "\n",
    "correct_prediction = tf.equal(tf.argmax(pred, 1), tf.argmax(tf_Y, 1))\n",
    "accuracy = tf.reduce_mean(tf.cast(correct_prediction, tf.float32))\n",
    "accuracy_eval = sess.run(accuracy, feed_dict={tf_X: X_test, tf_Y: Y_test})\n",
    "print(\"정확도:\", accuracy_eval) \n"
   ]
  },
  {
   "cell_type": "markdown",
   "metadata": {
    "slideshow": {
     "slide_type": "subslide"
    }
   },
   "source": [
    "# Confusion matrix"
   ]
  },
  {
   "cell_type": "code",
   "execution_count": 24,
   "metadata": {
    "slideshow": {
     "slide_type": "fragment"
    }
   },
   "outputs": [
    {
     "data": {
      "text/plain": [
       "array([[ 942,    0,    5,    4,    0,    7,   13,    1,    8,    0],\n",
       "       [   0, 1091,    7,    3,    1,    3,    4,    0,   26,    0],\n",
       "       [  14,   16,  852,   20,   17,    1,   29,   24,   55,    4],\n",
       "       [   5,    3,   22,  878,    1,   37,    7,   18,   30,    9],\n",
       "       [   2,    9,    5,    2,  862,    1,   21,    2,   12,   66],\n",
       "       [  21,   16,    6,   79,   23,  642,   30,   16,   41,   18],\n",
       "       [  21,    4,   16,    2,   19,   24,  868,    0,    4,    0],\n",
       "       [   6,   35,   29,    2,   11,    0,    2,  884,   10,   49],\n",
       "       [   9,   15,   15,   44,    9,   29,   19,   16,  795,   23],\n",
       "       [  15,   13,   10,   14,   55,   10,    3,   36,   15,  838]])"
      ]
     },
     "execution_count": 24,
     "metadata": {},
     "output_type": "execute_result"
    }
   ],
   "source": [
    "# confusion matrix\n",
    "from sklearn.metrics import confusion_matrix\n",
    "\n",
    "y_test_pred = sess.run(pred, feed_dict={tf_X: X_test, tf_Y:Y_test})\n",
    "confusion_matrix(\n",
    "    y_test,\n",
    "    np.argmax(y_test_pred, 1)) # y_pred\n"
   ]
  },
  {
   "cell_type": "code",
   "execution_count": 25,
   "metadata": {
    "slideshow": {
     "slide_type": "slide"
    }
   },
   "outputs": [
    {
     "name": "stdout",
     "output_type": "stream",
     "text": [
      "Epoch: 5 \tLoss: 1.9922041\n",
      "Epoch: 10 \tLoss: 1.6495129\n",
      "Epoch: 15 \tLoss: 1.412162\n",
      "Epoch: 20 \tLoss: 1.2443465\n",
      "Epoch: 25 \tLoss: 1.1219466\n",
      "Epoch: 30 \tLoss: 1.0296193\n",
      "Epoch: 35 \tLoss: 0.95779353\n",
      "Epoch: 40 \tLoss: 0.90040624\n",
      "Epoch: 45 \tLoss: 0.8535023\n",
      "Epoch: 50 \tLoss: 0.8144262\n",
      "Epoch: 55 \tLoss: 0.781337\n",
      "Epoch: 60 \tLoss: 0.75292486\n",
      "Epoch: 65 \tLoss: 0.7282366\n",
      "Epoch: 70 \tLoss: 0.70656145\n",
      "Epoch: 75 \tLoss: 0.6873591\n",
      "Epoch: 80 \tLoss: 0.6702081\n",
      "Epoch: 85 \tLoss: 0.65478575\n",
      "Epoch: 90 \tLoss: 0.6408294\n",
      "Epoch: 95 \tLoss: 0.62812793\n",
      "Epoch: 100 \tLoss: 0.6165113\n",
      "최적화 완료\n",
      "정확도: 0.8675\n"
     ]
    }
   ],
   "source": [
    "# train\n",
    "init = tf.global_variables_initializer()\n",
    "\n",
    "sess = tf.Session()\n",
    "sess.run(init)\n",
    "losses = [] ### add losses\n",
    "for epoch in range(0, training_epochs):\n",
    "    _, l = sess.run([optimizer, loss], feed_dict={tf_X: X_train, tf_Y: Y_train}) \n",
    "    \n",
    "    losses += [l] ### add losses\n",
    "    if (epoch + 1) % display_step == 0:\n",
    "        print(\"Epoch:\", epoch + 1, \"\\tLoss:\", l) \n",
    "\n",
    "print(\"최적화 완료\") \n",
    "\n",
    "correct_prediction = tf.equal(tf.argmax(pred, 1), tf.argmax(tf_Y, 1))\n",
    "accuracy = tf.reduce_mean(tf.cast(correct_prediction, tf.float32))\n",
    "accuracy_eval = sess.run(accuracy, feed_dict={tf_X: X_test, tf_Y: Y_test})\n",
    "print(\"정확도:\", accuracy_eval) \n"
   ]
  },
  {
   "cell_type": "code",
   "execution_count": 26,
   "metadata": {
    "slideshow": {
     "slide_type": "subslide"
    }
   },
   "outputs": [
    {
     "data": {
      "image/png": "[encoded data removed]",
      "text/plain": [
       "<Figure size 432x288 with 1 Axes>"
      ]
     },
     "metadata": {
      "needs_background": "light"
     },
     "output_type": "display_data"
    }
   ],
   "source": [
    "plt.figure()\n",
    "plt.plot(losses)\n",
    "plt.show()"
   ]
  },
  {
   "cell_type": "code",
   "execution_count": null,
   "metadata": {
    "slideshow": {
     "slide_type": "skip"
    }
   },
   "outputs": [],
   "source": []
  }
 ],
 "metadata": {
  "celltoolbar": "Slideshow",
  "kernelspec": {
   "display_name": "tensorflow",
   "language": "python",
   "name": "tensorflow"
  },
  "language_info": {
   "codemirror_mode": {
    "name": "ipython",
    "version": 3
   },
   "file_extension": ".py",
   "mimetype": "text/x-python",
   "name": "python",
   "nbconvert_exporter": "python",
   "pygments_lexer": "ipython3",
   "version": "3.5.6"
  },
  "widgets": {
   "state": {},
   "version": "1.1.2"
  }
 },
 "nbformat": 4,
 "nbformat_minor": 2
}
