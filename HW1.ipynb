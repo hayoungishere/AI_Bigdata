{
 "cells": [
  {
   "cell_type": "markdown",
   "metadata": {},
   "source": [
    "### 문제1\n",
    "화씨온도를 입력받아서 섭씨온도로 바꾸는 프로그램을 작성하시오."
   ]
  },
  {
   "cell_type": "code",
   "execution_count": 1,
   "metadata": {},
   "outputs": [
    {
     "name": "stdout",
     "output_type": "stream",
     "text": [
      "화씨온도: 100\n",
      "섭씨온도 : 37.77777777777778\n"
     ]
    }
   ],
   "source": [
    "F=int(input(\"화씨온도: \"))\n",
    "C=(F-32)*(5/9)\n",
    "print(\"섭씨온도 : \"+str(C))"
   ]
  },
  {
   "cell_type": "markdown",
   "metadata": {},
   "source": [
    "### 문제2. 자동 판매기 프로그램\n",
    "    사용자로부터 투입한 돈과 물건 값을 입력 받아, 잔돈을 계산하여 출력한다.\n",
    "    단, 동전의 개수는 최소화 할 것\n",
    "\n",
    "    (가정)\n",
    "    - 물건의 값은 100원 단위\n",
    "    - 자판기의 동전은 500원, 100원만 있음"
   ]
  },
  {
   "cell_type": "code",
   "execution_count": 2,
   "metadata": {},
   "outputs": [
    {
     "name": "stdout",
     "output_type": "stream",
     "text": [
      "투입한 돈 : 3700\n",
      "물건의 가격 : 1200\n",
      "거스름돈 : 2500\n",
      "500원짜리 :  5개\n",
      "100원짜리 :  0개\n"
     ]
    }
   ],
   "source": [
    "inMoney=int(input(\"투입한 돈 : \"))\n",
    "price=int(input(\"물건의 가격 : \"))\n",
    "change = inMoney-price\n",
    "print(\"거스름돈 :\",change)\n",
    "c500=change//500\n",
    "change=change%500\n",
    "c100=change//100\n",
    "print(\"500원짜리 : \", str(c500)+\"개\")\n",
    "print(\"100원짜리 : \", str(c100)+\"개\")"
   ]
  },
  {
   "cell_type": "markdown",
   "metadata": {},
   "source": [
    "### 문제3. 원의 반지름 r을 입력받아, 원의 둘레와 넓이를 구하는 프로그램을 작성하시오."
   ]
  },
  {
   "cell_type": "code",
   "execution_count": 4,
   "metadata": {},
   "outputs": [
    {
     "name": "stdout",
     "output_type": "stream",
     "text": [
      "반지름을 입력하시오 : 5\n",
      "원 둘레 :  31.41592\n",
      "원 넓이 :  78.5398\n"
     ]
    }
   ],
   "source": [
    "pi=3.141592\n",
    "radi=int(input(\"반지름을 입력하시오 : \"))\n",
    "print(\"원 둘레 : \",2*pi*radi)\n",
    "print(\"원 넓이 : \", pi*pow(radi,2))"
   ]
  },
  {
   "cell_type": "markdown",
   "metadata": {},
   "source": [
    "### 문제4. 한 문장을 입력 받아, 아래와 같이 각 알파벳 각 문자를 원소로 갖는 리스트를 작성하시오.(문장중에 !,.?-를 제외한 문자의 입력은 고려하지 않는다.)"
   ]
  },
  {
   "cell_type": "code",
   "execution_count": 15,
   "metadata": {},
   "outputs": [
    {
     "name": "stdout",
     "output_type": "stream",
     "text": [
      "after join  P/y/t/h/o/n/ /i/s/ /f/u/n/!\n"
     ]
    },
    {
     "data": {
      "text/plain": [
       "['P', 'y', 't', 'h', 'o', 'n', ' ', 'i', 's', ' ', 'f', 'u', 'n', '!']"
      ]
     },
     "execution_count": 15,
     "metadata": {},
     "output_type": "execute_result"
    }
   ],
   "source": [
    "sentence=\"Python is fun!\" #input(\"한 문장을 입력하시오\")\n",
    "sentence=\"/\".join(sentence)\n",
    "print(\"after join \" ,sentence)\n",
    "sentence=sentence.split(\"/\")\n",
    "sentence"
   ]
  },
  {
   "cell_type": "markdown",
   "metadata": {},
   "source": [
    "### 문제5. 2개의 정수를 입력 받아, 사칙연산 및 나머지 연산의 결과를 아래와 같이 출력하는 프로그램을 작성하시오.\n",
    "    "
   ]
  },
  {
   "cell_type": "code",
   "execution_count": 22,
   "metadata": {},
   "outputs": [
    {
     "name": "stdout",
     "output_type": "stream",
     "text": [
      "Enter two integers : 8 5\n",
      "8 + 5 = 13\n",
      "8 - 5 = 3\n",
      "8 * 5 = 40\n",
      "8 / 5 = 1.6\n",
      "8 % 5 = 3\n"
     ]
    }
   ],
   "source": [
    "a, b= (input(\"Enter two integers : \")).split(\" \")\n",
    "a=int(a); b=int(b)\n",
    "print(a,\"+\",b,\"=\",a+b)\n",
    "print(a,\"-\",b,\"=\",a-b)\n",
    "print(a,\"*\",b,\"=\",a*b)\n",
    "print(a,\"/\",b,\"=\",a/b)\n",
    "print(a,\"%\",b,\"=\",a%b)"
   ]
  },
  {
   "cell_type": "markdown",
   "metadata": {},
   "source": [
    "### 문제6. 두 정수를 입력 받아, 합과 평균을 구하여 출력하는 프로그램을 작성하시오(평균 소수 첫재 자리까지 나타내기)"
   ]
  },
  {
   "cell_type": "code",
   "execution_count": 26,
   "metadata": {},
   "outputs": [
    {
     "name": "stdout",
     "output_type": "stream",
     "text": [
      "Enter two integers : 7 8\n",
      "The sum of 7 and 8 is 15\n",
      "The average of numbers is  7.5\n"
     ]
    }
   ],
   "source": [
    "a, b= (input(\"Enter two integers : \")).split(\" \")\n",
    "a=int(a); b=int(b)\n",
    "print(\"The sum of %d and %d is\"%(a,b),a+b)\n",
    "print(\"The average of numbers is \",round((a+b)/2,2))"
   ]
  },
  {
   "cell_type": "markdown",
   "metadata": {},
   "source": [
    "### 문제 7. \n",
    "    날짜(연/월/일)입력 : 2019/08/12\n",
    "    입력한 날짜의 10년 후는 2029년 8월 12일"
   ]
  },
  {
   "cell_type": "code",
   "execution_count": 24,
   "metadata": {},
   "outputs": [
    {
     "name": "stdout",
     "output_type": "stream",
     "text": [
      "날짜(연/월/일)입력: 2019/08/12\n",
      "입력한 날짜의 10년 후는 2029년 08월 12일\n"
     ]
    }
   ],
   "source": [
    "date = input('날짜(연/월/일)입력: ')\n",
    "\n",
    "year,month,day=date.split(\"/\")\n",
    "print(\"입력한 날짜의 10년 후는 \"+str(int(year)+10)+\"년 \"+month+\"월 \"+day+\"일\")"
   ]
  },
  {
   "cell_type": "code",
   "execution_count": null,
   "metadata": {},
   "outputs": [],
   "source": []
  },
  {
   "cell_type": "code",
   "execution_count": null,
   "metadata": {},
   "outputs": [],
   "source": []
  }
 ],
 "metadata": {
  "kernelspec": {
   "display_name": "Python 3",
   "language": "python",
   "name": "python3"
  },
  "language_info": {
   "codemirror_mode": {
    "name": "ipython",
    "version": 3
   },
   "file_extension": ".py",
   "mimetype": "text/x-python",
   "name": "python",
   "nbconvert_exporter": "python",
   "pygments_lexer": "ipython3",
   "version": "3.7.3"
  }
 },
 "nbformat": 4,
 "nbformat_minor": 2
}
