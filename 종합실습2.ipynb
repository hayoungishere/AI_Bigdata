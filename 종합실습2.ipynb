{
 "cells": [
  {
   "cell_type": "code",
   "execution_count": 1,
   "metadata": {},
   "outputs": [],
   "source": [
    "# 데이터 구성 : Series, DataFrame\n",
    "import pandas as pd\n",
    "# 행렬 연산\n",
    "import numpy as np\n",
    "\n",
    "# 데이터 시각화\n",
    "import matplotlib.pyplot as plt\n",
    "import matplotlib\n",
    "import seaborn as sns\n",
    "\n",
    "# Scaling\n",
    "from sklearn.preprocessing import StandardScaler\n",
    "\n",
    "# 데이터 분할\n",
    "from sklearn.model_selection import train_test_split\n",
    "\n",
    "# 로지스틱 회귀\n",
    "from statsmodels.api import Logit\n",
    "\n",
    "# 랜덤포레스트\n",
    "from sklearn.ensemble import RandomForestClassifier\n",
    "\n",
    "# 의사결정나무\n",
    "from sklearn.tree import DecisionTreeClassifier\n",
    "\n",
    "# 그래디언트부스팅\n",
    "from sklearn.ensemble import GradientBoostingClassifier\n",
    "\n",
    "# 평가함수\n",
    "from sklearn.metrics import accuracy_score\n",
    "\n",
    "# confusion matrix\n",
    "from sklearn.metrics import confusion_matrix\n",
    "\n",
    "# column counter\n",
    "from collections import Counter\n",
    "\n",
    "import graphviz\n",
    "\n",
    "from sklearn.tree import export_graphviz\n",
    "from sklearn.model_selection import GridSearchCV\n",
    "\n",
    "import os\n",
    "import scipy.stats as stats\n",
    "\n",
    "\n",
    "from sklearn.metrics import f1_score, roc_curve, auc, precision_score, recall_score\n",
    "import matplotlib.pyplot as plt"
   ]
  },
  {
   "cell_type": "code",
   "execution_count": 2,
   "metadata": {},
   "outputs": [],
   "source": [
    "matplotlib.rc(\"font\", family=\"NanumGothic\")\n",
    "plt.rcParams['axes.unicode_minus']=False\n"
   ]
  },
  {
   "cell_type": "code",
   "execution_count": 3,
   "metadata": {},
   "outputs": [],
   "source": [
    "import warnings\n",
    "\n",
    "warnings.filterwarnings(\"ignore\")"
   ]
  },
  {
   "cell_type": "markdown",
   "metadata": {},
   "source": [
    "# 분석배경"
   ]
  },
  {
   "cell_type": "markdown",
   "metadata": {},
   "source": [
    "oo공장의 고객사에서 최근 들어 'Scale'불량 발생 증가'라는 이슈가 발생했다. 그 원인을 분석해 본 결과 압연공정에서 Scale 불량이 급증한 것을 확인할 수 있었다. 그래서 데이터를 수집하여 다양한 분석을 통해 **불량 발생의 근본 원인**을 찾고 결과를 해석하여 개선 기회를 도출한다."
   ]
  },
  {
   "cell_type": "markdown",
   "metadata": {},
   "source": [
    "**발생 현황**  \n",
    "\n",
    "|발생원인|압입흠|Scratch|두께부족|Scale|계|\n",
    "|-----|---|-------|----|-----|---|\n",
    "|**발생률(%)**|1.3|0.5|0.4|<span style=\"color:red\">5.0</span>|7.2%|\n"
   ]
  },
  {
   "cell_type": "markdown",
   "metadata": {},
   "source": [
    "Scale 불량을 줄이기 위하여 엔지니어들과의 협의를 통하여 다음과 같은 잠재적 원인을 도출하였다.\n",
    "    * 잠재 인자 선정 및 방향성 확인\n",
    "    * 도출된 잠재 인자와 분석 결과 비교 예정  \n",
    "    \n",
    "    \n",
    "|SCALE발생|가열로 가열대온도|가열로 균열대온도|가열로 추출온도|Hot Scale Breaker|사상 압연 온도|압연간 Descaling 횟수|판두께|\n",
    "|-----|---|-------|----|-----|---|---|---|\n",
    "|없음|저|저|저|적용|저|증가|후|\n",
    "|발생|고|고|고|미적용|고|감소|박|"
   ]
  },
  {
   "cell_type": "code",
   "execution_count": 4,
   "metadata": {},
   "outputs": [
    {
     "data": {
      "text/plain": [
       "PLATE_NO             0\n",
       "ROLLING_DATE         0\n",
       "SCALE                0\n",
       "SPEC                 0\n",
       "STEEL_KIND           0\n",
       "PT_THK               0\n",
       "PT_WDTH              0\n",
       "PT_LTH               0\n",
       "PT_WGT               0\n",
       "FUR_NO               0\n",
       "FUR_NO_ROW           0\n",
       "FUR_HZ_TEMP          0\n",
       "FUR_HZ_TIME          0\n",
       "FUR_SZ_TEMP          0\n",
       "FUR_SZ_TIME          0\n",
       "FUR_TIME             0\n",
       "FUR_EXTEMP           0\n",
       "ROLLING_TEMP_T5      0\n",
       "HSB                  0\n",
       "ROLLING_DESCALING    0\n",
       "WORK_GR              0\n",
       "dtype: int64"
      ]
     },
     "execution_count": 4,
     "metadata": {},
     "output_type": "execute_result"
    }
   ],
   "source": [
    "df=pd.read_csv(\"../data/BigData/SCALE불량.csv\", encoding=\"cp949\", parse_dates=[\"ROLLING_DATE\"])\n",
    "df.isnull().sum()"
   ]
  },
  {
   "cell_type": "code",
   "execution_count": 5,
   "metadata": {},
   "outputs": [],
   "source": [
    "#==================================================================\n",
    "# fun_select_cols(v_data, pattern = None, start = None)\n",
    "# 변수명 선택 및 리스트 생성\n",
    "# -.input:\n",
    "# v_data:input data, start:입력 문자로 시작하는 변수명 탐색, pattern:입력 문자를 포함하는 변수명 탐색\n",
    "# -.output:\n",
    "#다\n",
    "#==================================================================\n",
    "def fun_select_cols(v_data, pattern = None, start = None):\n",
    "    cols = v_data.columns.tolist()\n",
    "    if pattern:\n",
    "        cols = [col for col in cols if col.find(pattern) > -1]\n",
    "    if start:\n",
    "        cols = [col for col in cols if col.startswith(start) > 0]\n",
    "    return cols\n",
    "\n",
    "\n",
    "#==================================================================\n",
    "# fun_check_class_level(v_data, v_start=None, v_pattern=None)\n",
    "# 범주형 변수 수준 및 자료 수 확인\n",
    "# -.input:\n",
    "# v_data:input data, v_start:입력 문자로 시작하는 변수명 탐색, v_pattern:입력 문자를 포함하는 변수명 탐색\n",
    "# -call function:fun_select_cols\n",
    "# -.output:\n",
    "#\n",
    "#==================================================================\n",
    "def fun_check_class_level(v_data, v_start=None, v_pattern=None):\n",
    "\n",
    "    #list_cols= df_machine.select_dtypes(include='object').columns\n",
    "    #list_cols = fun_select_cols(v_data, start = v_start, pattern = v_pattern)\n",
    "\n",
    "    for v_col in list_cols:\n",
    "        print()    \n",
    "        print(\"변수: \", v_col, \"Level = \",Counter(v_data[v_col]))\n",
    "\n",
    "\n",
    "#===================================================================\n",
    "# fun_plot_hist(v_data, yvar, xvar, alpha = 0.5)\n",
    "# Histogram, 범주형 변수의 수준(level)별 색깔 구분\n",
    "# -.input:\n",
    "# v_data:input data, yvar:목표변수(범주형), x:분석변수(연속형), alpha:transparency(투명도)\n",
    "# -.output:\n",
    "#\n",
    "#==================================================================\n",
    "def fun_plot_hist(v_data, yvar, xvar, alpha = 0.5, bins=None):\n",
    "    levels = v_data[yvar].unique()\n",
    "    for level in levels:\n",
    "        plt.hist(v_data[v_data[yvar] == level][xvar], label = level, alpha = alpha, bins=bins)\n",
    "    plt.title(xvar)\n",
    "    plt.legend()\n",
    "\n",
    "\n",
    "#==================================================================\n",
    "# fun_stat_by_class(v_data, var_anal, var_class = \"JUDGE\")\n",
    "# 범주형 변수 수준별 분석 변수 통계량 생성\n",
    "# -.input:\n",
    "#   v_data:input data, var_class:범주형 변수, var_anal:분석 변수\n",
    "# -.output:\n",
    "#\n",
    "#==================================================================\n",
    "def fun_bstat_by_class(v_data, var_anal, var_class ):    \n",
    "    _tmp = v_data.groupby(var_class)[var_anal].describe().T\n",
    "    _tmp.reset_index(inplace = True)\n",
    "    return pd.pivot_table(data = _tmp, index = \"level_0\", columns = \"level_1\", values = list(np.unique(v_data[var_class])))\n",
    "\n",
    "\n",
    "#==================================================================\n",
    "# fun_anova(v_data, yvar, xvar)\n",
    "# 분산분석(ANOVA), stats.f_oneway() 활용\n",
    "# -.input:다\n",
    "# v_data:input data, yvar:목표변수(범주형), x:분석변수(연속형) -일반적인 명칭 구분과 상이함\n",
    "# -.output:\n",
    "# fv:F 통계량, pv:p-value(F)다\n",
    "#\n",
    "#==================================================================\n",
    "def fun_anova(v_data, yvar, xvar):\n",
    "    dict_data = dict()\n",
    "    y_level = v_data[yvar].unique()\n",
    "    for i in y_level:\n",
    "        dict_data[i] = v_data[v_data[yvar] == i][xvar]\n",
    "    fv, pv = stats.f_oneway(dict_data[y_level[0]], dict_data[y_level[1]])\n",
    "   \n",
    "    print(\"분석 통계량 => \")\n",
    "    print(\"statistic:(F) {0:.3f}, p-value: {1:.3f}\".format(fv, pv))\n",
    "    return fv, pv\n",
    "\n",
    "\n",
    "#==================================================================\n",
    "# fun_chi2(v_data, yvar, xvar, heatmap = True, print_crosstab = True)\n",
    "# 카이제곱 분석\n",
    "# -.input:다\n",
    "#   v_data:input data, yvar:Y축, 목표변수(범주형), xvar:X축, 분석변수(범주형),\n",
    "#   heatmap:heatmap 표시, print_crosstab:교차표(cross tabulate) 표시\n",
    "# -.output:\n",
    "#\n",
    "#==================================================================\n",
    "def fun_chi2(v_data, yvar, xvar, heatmap = True, print_crosstab = True):    \n",
    "    _tmp_cross = pd.crosstab(v_data[yvar], v_data[xvar])\n",
    "    chi2, p, dof, expt = stats.chi2_contingency(_tmp_cross)\n",
    "    print(\"카이제곱 통계량 =>\")\n",
    "    print(\"Chi2: {0:.3f}, p-value: {1:.3f}\".format(chi2, p))\n",
    "   \n",
    "    # heatmap\n",
    "    if heatmap:\n",
    "        cmap = sns.cubehelix_palette(as_cmap=True)\n",
    "        sns.heatmap(_tmp_cross, cmap = cmap, annot=True, fmt=\"d\")\n",
    "        plt.title(xvar)\n",
    "        plt.show()\n",
    "       \n",
    "    # print data\n",
    "    if print_crosstab:\n",
    "        print(\"교차표(빈도) =>\")        \n",
    "        print(_tmp_cross)\n",
    "        print()\n",
    "        print(\"교차표(확률) =>\")            \n",
    "        print(pd.crosstab(v_data[yvar], v_data[xvar], normalize = \"columns\"))\n",
    "    return chi2, p"
   ]
  },
  {
   "cell_type": "markdown",
   "metadata": {},
   "source": [
    "# 데이터 구조 확인"
   ]
  },
  {
   "cell_type": "code",
   "execution_count": 6,
   "metadata": {},
   "outputs": [
    {
     "name": "stdout",
     "output_type": "stream",
     "text": [
      "<class 'pandas.core.frame.DataFrame'>\n",
      "RangeIndex: 720 entries, 0 to 719\n",
      "Data columns (total 21 columns):\n",
      "PLATE_NO             720 non-null object\n",
      "ROLLING_DATE         720 non-null object\n",
      "SCALE                720 non-null object\n",
      "SPEC                 720 non-null object\n",
      "STEEL_KIND           720 non-null object\n",
      "PT_THK               720 non-null float64\n",
      "PT_WDTH              720 non-null int64\n",
      "PT_LTH               720 non-null int64\n",
      "PT_WGT               720 non-null int64\n",
      "FUR_NO               720 non-null object\n",
      "FUR_NO_ROW           720 non-null int64\n",
      "FUR_HZ_TEMP          720 non-null int64\n",
      "FUR_HZ_TIME          720 non-null int64\n",
      "FUR_SZ_TEMP          720 non-null int64\n",
      "FUR_SZ_TIME          720 non-null int64\n",
      "FUR_TIME             720 non-null int64\n",
      "FUR_EXTEMP           720 non-null int64\n",
      "ROLLING_TEMP_T5      720 non-null int64\n",
      "HSB                  720 non-null object\n",
      "ROLLING_DESCALING    720 non-null int64\n",
      "WORK_GR              720 non-null object\n",
      "dtypes: float64(1), int64(12), object(8)\n",
      "memory usage: 118.2+ KB\n"
     ]
    }
   ],
   "source": [
    "df.info()"
   ]
  },
  {
   "cell_type": "code",
   "execution_count": 7,
   "metadata": {},
   "outputs": [
    {
     "data": {
      "text/plain": [
       "PLATE_NO             0\n",
       "ROLLING_DATE         0\n",
       "SCALE                0\n",
       "SPEC                 0\n",
       "STEEL_KIND           0\n",
       "PT_THK               0\n",
       "PT_WDTH              0\n",
       "PT_LTH               0\n",
       "PT_WGT               0\n",
       "FUR_NO               0\n",
       "FUR_NO_ROW           0\n",
       "FUR_HZ_TEMP          0\n",
       "FUR_HZ_TIME          0\n",
       "FUR_SZ_TEMP          0\n",
       "FUR_SZ_TIME          0\n",
       "FUR_TIME             0\n",
       "FUR_EXTEMP           0\n",
       "ROLLING_TEMP_T5      0\n",
       "HSB                  0\n",
       "ROLLING_DESCALING    0\n",
       "WORK_GR              0\n",
       "dtype: int64"
      ]
     },
     "execution_count": 7,
     "metadata": {},
     "output_type": "execute_result"
    }
   ],
   "source": [
    "df.isnull().sum()"
   ]
  },
  {
   "cell_type": "markdown",
   "metadata": {},
   "source": [
    "# EDA"
   ]
  },
  {
   "cell_type": "markdown",
   "metadata": {},
   "source": [
    "* 연속형 데이터 통계량 요약"
   ]
  },
  {
   "cell_type": "code",
   "execution_count": 8,
   "metadata": {},
   "outputs": [],
   "source": [
    "temp=df[['PT_THK','PT_WDTH','PT_LTH','PT_WGT','FUR_NO_ROW','FUR_HZ_TEMP','FUR_HZ_TIME',\n",
    "   'FUR_SZ_TEMP','FUR_SZ_TIME','FUR_TIME','FUR_EXTEMP','ROLLING_TEMP_T5', 'ROLLING_DESCALING']]"
   ]
  },
  {
   "cell_type": "code",
   "execution_count": 9,
   "metadata": {},
   "outputs": [
    {
     "data": {
      "text/html": [
       "<div>\n",
       "<style scoped>\n",
       "    .dataframe tbody tr th:only-of-type {\n",
       "        vertical-align: middle;\n",
       "    }\n",
       "\n",
       "    .dataframe tbody tr th {\n",
       "        vertical-align: top;\n",
       "    }\n",
       "\n",
       "    .dataframe thead th {\n",
       "        text-align: right;\n",
       "    }\n",
       "</style>\n",
       "<table border=\"1\" class=\"dataframe\">\n",
       "  <thead>\n",
       "    <tr style=\"text-align: right;\">\n",
       "      <th></th>\n",
       "      <th>count</th>\n",
       "      <th>mean</th>\n",
       "      <th>std</th>\n",
       "      <th>min</th>\n",
       "      <th>25%</th>\n",
       "      <th>50%</th>\n",
       "      <th>75%</th>\n",
       "      <th>max</th>\n",
       "    </tr>\n",
       "  </thead>\n",
       "  <tbody>\n",
       "    <tr>\n",
       "      <th>PT_THK</th>\n",
       "      <td>720.0</td>\n",
       "      <td>29.267857</td>\n",
       "      <td>19.152651</td>\n",
       "      <td>12.03</td>\n",
       "      <td>16.09</td>\n",
       "      <td>20.13</td>\n",
       "      <td>40.00</td>\n",
       "      <td>100.34</td>\n",
       "    </tr>\n",
       "    <tr>\n",
       "      <th>PT_WDTH</th>\n",
       "      <td>720.0</td>\n",
       "      <td>2807.127778</td>\n",
       "      <td>517.839690</td>\n",
       "      <td>1800.00</td>\n",
       "      <td>2466.00</td>\n",
       "      <td>2725.00</td>\n",
       "      <td>3125.00</td>\n",
       "      <td>4575.00</td>\n",
       "    </tr>\n",
       "    <tr>\n",
       "      <th>PT_LTH</th>\n",
       "      <td>720.0</td>\n",
       "      <td>34323.269444</td>\n",
       "      <td>13828.434837</td>\n",
       "      <td>7893.00</td>\n",
       "      <td>22663.00</td>\n",
       "      <td>37380.00</td>\n",
       "      <td>43735.00</td>\n",
       "      <td>54917.00</td>\n",
       "    </tr>\n",
       "    <tr>\n",
       "      <th>PT_WGT</th>\n",
       "      <td>720.0</td>\n",
       "      <td>41481.777778</td>\n",
       "      <td>24751.322015</td>\n",
       "      <td>7820.00</td>\n",
       "      <td>17757.50</td>\n",
       "      <td>36120.00</td>\n",
       "      <td>61120.00</td>\n",
       "      <td>115080.00</td>\n",
       "    </tr>\n",
       "    <tr>\n",
       "      <th>FUR_NO_ROW</th>\n",
       "      <td>720.0</td>\n",
       "      <td>1.497222</td>\n",
       "      <td>0.500340</td>\n",
       "      <td>1.00</td>\n",
       "      <td>1.00</td>\n",
       "      <td>1.00</td>\n",
       "      <td>2.00</td>\n",
       "      <td>2.00</td>\n",
       "    </tr>\n",
       "    <tr>\n",
       "      <th>FUR_HZ_TEMP</th>\n",
       "      <td>720.0</td>\n",
       "      <td>1155.338889</td>\n",
       "      <td>20.866398</td>\n",
       "      <td>1103.00</td>\n",
       "      <td>1139.00</td>\n",
       "      <td>1158.00</td>\n",
       "      <td>1171.00</td>\n",
       "      <td>1206.00</td>\n",
       "    </tr>\n",
       "    <tr>\n",
       "      <th>FUR_HZ_TIME</th>\n",
       "      <td>720.0</td>\n",
       "      <td>88.527778</td>\n",
       "      <td>37.660799</td>\n",
       "      <td>43.00</td>\n",
       "      <td>65.00</td>\n",
       "      <td>75.00</td>\n",
       "      <td>101.00</td>\n",
       "      <td>312.00</td>\n",
       "    </tr>\n",
       "    <tr>\n",
       "      <th>FUR_SZ_TEMP</th>\n",
       "      <td>720.0</td>\n",
       "      <td>1149.666667</td>\n",
       "      <td>17.571788</td>\n",
       "      <td>1113.00</td>\n",
       "      <td>1132.00</td>\n",
       "      <td>1155.00</td>\n",
       "      <td>1164.00</td>\n",
       "      <td>1185.00</td>\n",
       "    </tr>\n",
       "    <tr>\n",
       "      <th>FUR_SZ_TIME</th>\n",
       "      <td>720.0</td>\n",
       "      <td>78.802778</td>\n",
       "      <td>36.421004</td>\n",
       "      <td>35.00</td>\n",
       "      <td>57.75</td>\n",
       "      <td>67.50</td>\n",
       "      <td>86.00</td>\n",
       "      <td>294.00</td>\n",
       "    </tr>\n",
       "    <tr>\n",
       "      <th>FUR_TIME</th>\n",
       "      <td>720.0</td>\n",
       "      <td>300.563889</td>\n",
       "      <td>45.390303</td>\n",
       "      <td>221.00</td>\n",
       "      <td>257.00</td>\n",
       "      <td>304.00</td>\n",
       "      <td>342.00</td>\n",
       "      <td>398.00</td>\n",
       "    </tr>\n",
       "    <tr>\n",
       "      <th>FUR_EXTEMP</th>\n",
       "      <td>720.0</td>\n",
       "      <td>1149.666667</td>\n",
       "      <td>17.571788</td>\n",
       "      <td>1113.00</td>\n",
       "      <td>1132.00</td>\n",
       "      <td>1155.00</td>\n",
       "      <td>1164.00</td>\n",
       "      <td>1185.00</td>\n",
       "    </tr>\n",
       "    <tr>\n",
       "      <th>ROLLING_TEMP_T5</th>\n",
       "      <td>720.0</td>\n",
       "      <td>933.920833</td>\n",
       "      <td>107.863887</td>\n",
       "      <td>0.00</td>\n",
       "      <td>889.75</td>\n",
       "      <td>951.00</td>\n",
       "      <td>994.25</td>\n",
       "      <td>1078.00</td>\n",
       "    </tr>\n",
       "    <tr>\n",
       "      <th>ROLLING_DESCALING</th>\n",
       "      <td>720.0</td>\n",
       "      <td>8.319444</td>\n",
       "      <td>1.623252</td>\n",
       "      <td>5.00</td>\n",
       "      <td>6.00</td>\n",
       "      <td>8.00</td>\n",
       "      <td>10.00</td>\n",
       "      <td>10.00</td>\n",
       "    </tr>\n",
       "  </tbody>\n",
       "</table>\n",
       "</div>"
      ],
      "text/plain": [
       "                   count          mean           std      min       25%  \\\n",
       "PT_THK             720.0     29.267857     19.152651    12.03     16.09   \n",
       "PT_WDTH            720.0   2807.127778    517.839690  1800.00   2466.00   \n",
       "PT_LTH             720.0  34323.269444  13828.434837  7893.00  22663.00   \n",
       "PT_WGT             720.0  41481.777778  24751.322015  7820.00  17757.50   \n",
       "FUR_NO_ROW         720.0      1.497222      0.500340     1.00      1.00   \n",
       "FUR_HZ_TEMP        720.0   1155.338889     20.866398  1103.00   1139.00   \n",
       "FUR_HZ_TIME        720.0     88.527778     37.660799    43.00     65.00   \n",
       "FUR_SZ_TEMP        720.0   1149.666667     17.571788  1113.00   1132.00   \n",
       "FUR_SZ_TIME        720.0     78.802778     36.421004    35.00     57.75   \n",
       "FUR_TIME           720.0    300.563889     45.390303   221.00    257.00   \n",
       "FUR_EXTEMP         720.0   1149.666667     17.571788  1113.00   1132.00   \n",
       "ROLLING_TEMP_T5    720.0    933.920833    107.863887     0.00    889.75   \n",
       "ROLLING_DESCALING  720.0      8.319444      1.623252     5.00      6.00   \n",
       "\n",
       "                        50%       75%        max  \n",
       "PT_THK                20.13     40.00     100.34  \n",
       "PT_WDTH             2725.00   3125.00    4575.00  \n",
       "PT_LTH             37380.00  43735.00   54917.00  \n",
       "PT_WGT             36120.00  61120.00  115080.00  \n",
       "FUR_NO_ROW             1.00      2.00       2.00  \n",
       "FUR_HZ_TEMP         1158.00   1171.00    1206.00  \n",
       "FUR_HZ_TIME           75.00    101.00     312.00  \n",
       "FUR_SZ_TEMP         1155.00   1164.00    1185.00  \n",
       "FUR_SZ_TIME           67.50     86.00     294.00  \n",
       "FUR_TIME             304.00    342.00     398.00  \n",
       "FUR_EXTEMP          1155.00   1164.00    1185.00  \n",
       "ROLLING_TEMP_T5      951.00    994.25    1078.00  \n",
       "ROLLING_DESCALING      8.00     10.00      10.00  "
      ]
     },
     "execution_count": 9,
     "metadata": {},
     "output_type": "execute_result"
    }
   ],
   "source": [
    "temp.describe().T"
   ]
  },
  {
   "cell_type": "markdown",
   "metadata": {},
   "source": [
    "**Rolling_temp_t5(가열대 온도) 에서 이상치 발견**"
   ]
  },
  {
   "cell_type": "code",
   "execution_count": 10,
   "metadata": {
    "scrolled": false
   },
   "outputs": [
    {
     "data": {
      "text/html": [
       "<div>\n",
       "<style scoped>\n",
       "    .dataframe tbody tr th:only-of-type {\n",
       "        vertical-align: middle;\n",
       "    }\n",
       "\n",
       "    .dataframe tbody tr th {\n",
       "        vertical-align: top;\n",
       "    }\n",
       "\n",
       "    .dataframe thead th {\n",
       "        text-align: right;\n",
       "    }\n",
       "</style>\n",
       "<table border=\"1\" class=\"dataframe\">\n",
       "  <thead>\n",
       "    <tr style=\"text-align: right;\">\n",
       "      <th></th>\n",
       "      <th>41</th>\n",
       "      <th>184</th>\n",
       "      <th>185</th>\n",
       "      <th>494</th>\n",
       "      <th>495</th>\n",
       "      <th>496</th>\n",
       "    </tr>\n",
       "  </thead>\n",
       "  <tbody>\n",
       "    <tr>\n",
       "      <th>PLATE_NO</th>\n",
       "      <td>PB562815</td>\n",
       "      <td>PB562958</td>\n",
       "      <td>PB562959</td>\n",
       "      <td>PB563268</td>\n",
       "      <td>PB563269</td>\n",
       "      <td>PB563270</td>\n",
       "    </tr>\n",
       "    <tr>\n",
       "      <th>ROLLING_DATE</th>\n",
       "      <td>2008-08-01:02:23:09</td>\n",
       "      <td>2008-08-01:10:00:06</td>\n",
       "      <td>2008-08-01:09:94:29</td>\n",
       "      <td>2008-08-02:01:10:40</td>\n",
       "      <td>2008-08-02:01:10:36</td>\n",
       "      <td>2008-08-02:01:10:23</td>\n",
       "    </tr>\n",
       "    <tr>\n",
       "      <th>SCALE</th>\n",
       "      <td>양품</td>\n",
       "      <td>양품</td>\n",
       "      <td>양품</td>\n",
       "      <td>양품</td>\n",
       "      <td>양품</td>\n",
       "      <td>양품</td>\n",
       "    </tr>\n",
       "    <tr>\n",
       "      <th>SPEC</th>\n",
       "      <td>GL-E36-TM</td>\n",
       "      <td>JS-SM490YB</td>\n",
       "      <td>JS-SM490YB</td>\n",
       "      <td>PILAC-BT33</td>\n",
       "      <td>PILAC-BT33</td>\n",
       "      <td>NV-D32-TM</td>\n",
       "    </tr>\n",
       "    <tr>\n",
       "      <th>STEEL_KIND</th>\n",
       "      <td>T8</td>\n",
       "      <td>C0</td>\n",
       "      <td>C0</td>\n",
       "      <td>T5</td>\n",
       "      <td>T5</td>\n",
       "      <td>T0</td>\n",
       "    </tr>\n",
       "    <tr>\n",
       "      <th>PT_THK</th>\n",
       "      <td>55.51</td>\n",
       "      <td>16.09</td>\n",
       "      <td>16.09</td>\n",
       "      <td>80.82</td>\n",
       "      <td>80.82</td>\n",
       "      <td>40.35</td>\n",
       "    </tr>\n",
       "    <tr>\n",
       "      <th>PT_WDTH</th>\n",
       "      <td>3765</td>\n",
       "      <td>2221</td>\n",
       "      <td>2221</td>\n",
       "      <td>2085</td>\n",
       "      <td>2085</td>\n",
       "      <td>2497</td>\n",
       "    </tr>\n",
       "    <tr>\n",
       "      <th>PT_LTH</th>\n",
       "      <td>11398</td>\n",
       "      <td>43596</td>\n",
       "      <td>43596</td>\n",
       "      <td>12919</td>\n",
       "      <td>13176</td>\n",
       "      <td>23592</td>\n",
       "    </tr>\n",
       "    <tr>\n",
       "      <th>PT_WGT</th>\n",
       "      <td>37400</td>\n",
       "      <td>61150</td>\n",
       "      <td>61150</td>\n",
       "      <td>17090</td>\n",
       "      <td>17430</td>\n",
       "      <td>37320</td>\n",
       "    </tr>\n",
       "    <tr>\n",
       "      <th>FUR_NO</th>\n",
       "      <td>3호기</td>\n",
       "      <td>3호기</td>\n",
       "      <td>3호기</td>\n",
       "      <td>2호기</td>\n",
       "      <td>1호기</td>\n",
       "      <td>3호기</td>\n",
       "    </tr>\n",
       "    <tr>\n",
       "      <th>FUR_NO_ROW</th>\n",
       "      <td>2</td>\n",
       "      <td>1</td>\n",
       "      <td>2</td>\n",
       "      <td>1</td>\n",
       "      <td>2</td>\n",
       "      <td>1</td>\n",
       "    </tr>\n",
       "    <tr>\n",
       "      <th>FUR_HZ_TEMP</th>\n",
       "      <td>1132</td>\n",
       "      <td>1169</td>\n",
       "      <td>1163</td>\n",
       "      <td>1133</td>\n",
       "      <td>1130</td>\n",
       "      <td>1119</td>\n",
       "    </tr>\n",
       "    <tr>\n",
       "      <th>FUR_HZ_TIME</th>\n",
       "      <td>95</td>\n",
       "      <td>64</td>\n",
       "      <td>57</td>\n",
       "      <td>89</td>\n",
       "      <td>92</td>\n",
       "      <td>109</td>\n",
       "    </tr>\n",
       "    <tr>\n",
       "      <th>FUR_SZ_TEMP</th>\n",
       "      <td>1128</td>\n",
       "      <td>1164</td>\n",
       "      <td>1166</td>\n",
       "      <td>1122</td>\n",
       "      <td>1124</td>\n",
       "      <td>1117</td>\n",
       "    </tr>\n",
       "    <tr>\n",
       "      <th>FUR_SZ_TIME</th>\n",
       "      <td>80</td>\n",
       "      <td>61</td>\n",
       "      <td>67</td>\n",
       "      <td>59</td>\n",
       "      <td>61</td>\n",
       "      <td>76</td>\n",
       "    </tr>\n",
       "    <tr>\n",
       "      <th>FUR_TIME</th>\n",
       "      <td>341</td>\n",
       "      <td>308</td>\n",
       "      <td>303</td>\n",
       "      <td>378</td>\n",
       "      <td>362</td>\n",
       "      <td>383</td>\n",
       "    </tr>\n",
       "    <tr>\n",
       "      <th>FUR_EXTEMP</th>\n",
       "      <td>1128</td>\n",
       "      <td>1164</td>\n",
       "      <td>1166</td>\n",
       "      <td>1122</td>\n",
       "      <td>1124</td>\n",
       "      <td>1117</td>\n",
       "    </tr>\n",
       "    <tr>\n",
       "      <th>ROLLING_TEMP_T5</th>\n",
       "      <td>0</td>\n",
       "      <td>0</td>\n",
       "      <td>0</td>\n",
       "      <td>0</td>\n",
       "      <td>0</td>\n",
       "      <td>0</td>\n",
       "    </tr>\n",
       "    <tr>\n",
       "      <th>HSB</th>\n",
       "      <td>적용</td>\n",
       "      <td>적용</td>\n",
       "      <td>적용</td>\n",
       "      <td>적용</td>\n",
       "      <td>적용</td>\n",
       "      <td>적용</td>\n",
       "    </tr>\n",
       "    <tr>\n",
       "      <th>ROLLING_DESCALING</th>\n",
       "      <td>6</td>\n",
       "      <td>10</td>\n",
       "      <td>10</td>\n",
       "      <td>6</td>\n",
       "      <td>6</td>\n",
       "      <td>6</td>\n",
       "    </tr>\n",
       "    <tr>\n",
       "      <th>WORK_GR</th>\n",
       "      <td>1조</td>\n",
       "      <td>3조</td>\n",
       "      <td>4조</td>\n",
       "      <td>2조</td>\n",
       "      <td>3조</td>\n",
       "      <td>3조</td>\n",
       "    </tr>\n",
       "  </tbody>\n",
       "</table>\n",
       "</div>"
      ],
      "text/plain": [
       "                                   41                   184  \\\n",
       "PLATE_NO                      PB562815             PB562958   \n",
       "ROLLING_DATE       2008-08-01:02:23:09  2008-08-01:10:00:06   \n",
       "SCALE                               양품                   양품   \n",
       "SPEC                         GL-E36-TM           JS-SM490YB   \n",
       "STEEL_KIND                          T8                   C0   \n",
       "PT_THK                           55.51                16.09   \n",
       "PT_WDTH                           3765                 2221   \n",
       "PT_LTH                           11398                43596   \n",
       "PT_WGT                           37400                61150   \n",
       "FUR_NO                             3호기                  3호기   \n",
       "FUR_NO_ROW                           2                    1   \n",
       "FUR_HZ_TEMP                       1132                 1169   \n",
       "FUR_HZ_TIME                         95                   64   \n",
       "FUR_SZ_TEMP                       1128                 1164   \n",
       "FUR_SZ_TIME                         80                   61   \n",
       "FUR_TIME                           341                  308   \n",
       "FUR_EXTEMP                        1128                 1164   \n",
       "ROLLING_TEMP_T5                      0                    0   \n",
       "HSB                                 적용                   적용   \n",
       "ROLLING_DESCALING                    6                   10   \n",
       "WORK_GR                             1조                   3조   \n",
       "\n",
       "                                   185                  494  \\\n",
       "PLATE_NO                      PB562959             PB563268   \n",
       "ROLLING_DATE       2008-08-01:09:94:29  2008-08-02:01:10:40   \n",
       "SCALE                               양품                   양품   \n",
       "SPEC                        JS-SM490YB           PILAC-BT33   \n",
       "STEEL_KIND                          C0                   T5   \n",
       "PT_THK                           16.09                80.82   \n",
       "PT_WDTH                           2221                 2085   \n",
       "PT_LTH                           43596                12919   \n",
       "PT_WGT                           61150                17090   \n",
       "FUR_NO                             3호기                  2호기   \n",
       "FUR_NO_ROW                           2                    1   \n",
       "FUR_HZ_TEMP                       1163                 1133   \n",
       "FUR_HZ_TIME                         57                   89   \n",
       "FUR_SZ_TEMP                       1166                 1122   \n",
       "FUR_SZ_TIME                         67                   59   \n",
       "FUR_TIME                           303                  378   \n",
       "FUR_EXTEMP                        1166                 1122   \n",
       "ROLLING_TEMP_T5                      0                    0   \n",
       "HSB                                 적용                   적용   \n",
       "ROLLING_DESCALING                   10                    6   \n",
       "WORK_GR                             4조                   2조   \n",
       "\n",
       "                                   495                  496  \n",
       "PLATE_NO                      PB563269             PB563270  \n",
       "ROLLING_DATE       2008-08-02:01:10:36  2008-08-02:01:10:23  \n",
       "SCALE                               양품                   양품  \n",
       "SPEC                        PILAC-BT33            NV-D32-TM  \n",
       "STEEL_KIND                          T5                   T0  \n",
       "PT_THK                           80.82                40.35  \n",
       "PT_WDTH                           2085                 2497  \n",
       "PT_LTH                           13176                23592  \n",
       "PT_WGT                           17430                37320  \n",
       "FUR_NO                             1호기                  3호기  \n",
       "FUR_NO_ROW                           2                    1  \n",
       "FUR_HZ_TEMP                       1130                 1119  \n",
       "FUR_HZ_TIME                         92                  109  \n",
       "FUR_SZ_TEMP                       1124                 1117  \n",
       "FUR_SZ_TIME                         61                   76  \n",
       "FUR_TIME                           362                  383  \n",
       "FUR_EXTEMP                        1124                 1117  \n",
       "ROLLING_TEMP_T5                      0                    0  \n",
       "HSB                                 적용                   적용  \n",
       "ROLLING_DESCALING                    6                    6  \n",
       "WORK_GR                             3조                   3조  "
      ]
     },
     "execution_count": 10,
     "metadata": {},
     "output_type": "execute_result"
    }
   ],
   "source": [
    "df[df['ROLLING_TEMP_T5']==0].T"
   ]
  },
  {
   "cell_type": "markdown",
   "metadata": {},
   "source": [
    "**ROLLING_TEMP_T5의 이상치(0)의 대체 값을 찾아보자**"
   ]
  },
  {
   "cell_type": "code",
   "execution_count": 11,
   "metadata": {},
   "outputs": [
    {
     "data": {
      "text/html": [
       "<div>\n",
       "<style scoped>\n",
       "    .dataframe tbody tr th:only-of-type {\n",
       "        vertical-align: middle;\n",
       "    }\n",
       "\n",
       "    .dataframe tbody tr th {\n",
       "        vertical-align: top;\n",
       "    }\n",
       "\n",
       "    .dataframe thead th {\n",
       "        text-align: right;\n",
       "    }\n",
       "</style>\n",
       "<table border=\"1\" class=\"dataframe\">\n",
       "  <thead>\n",
       "    <tr style=\"text-align: right;\">\n",
       "      <th></th>\n",
       "      <th>count</th>\n",
       "      <th>mean</th>\n",
       "      <th>std</th>\n",
       "      <th>min</th>\n",
       "      <th>25%</th>\n",
       "      <th>50%</th>\n",
       "      <th>75%</th>\n",
       "      <th>max</th>\n",
       "    </tr>\n",
       "  </thead>\n",
       "  <tbody>\n",
       "    <tr>\n",
       "      <th>PT_THK</th>\n",
       "      <td>714.0</td>\n",
       "      <td>29.108091</td>\n",
       "      <td>18.994878</td>\n",
       "      <td>12.03</td>\n",
       "      <td>16.09</td>\n",
       "      <td>20.13</td>\n",
       "      <td>38.43</td>\n",
       "      <td>100.34</td>\n",
       "    </tr>\n",
       "    <tr>\n",
       "      <th>PT_WDTH</th>\n",
       "      <td>714.0</td>\n",
       "      <td>2809.885154</td>\n",
       "      <td>516.293303</td>\n",
       "      <td>1800.00</td>\n",
       "      <td>2469.00</td>\n",
       "      <td>2727.50</td>\n",
       "      <td>3125.00</td>\n",
       "      <td>4575.00</td>\n",
       "    </tr>\n",
       "    <tr>\n",
       "      <th>PT_LTH</th>\n",
       "      <td>714.0</td>\n",
       "      <td>34404.029412</td>\n",
       "      <td>13799.227159</td>\n",
       "      <td>7893.00</td>\n",
       "      <td>22664.50</td>\n",
       "      <td>37380.00</td>\n",
       "      <td>43771.75</td>\n",
       "      <td>54917.00</td>\n",
       "    </tr>\n",
       "    <tr>\n",
       "      <th>PT_WGT</th>\n",
       "      <td>714.0</td>\n",
       "      <td>41506.078431</td>\n",
       "      <td>24799.277300</td>\n",
       "      <td>7820.00</td>\n",
       "      <td>17780.00</td>\n",
       "      <td>36090.00</td>\n",
       "      <td>61120.00</td>\n",
       "      <td>115080.00</td>\n",
       "    </tr>\n",
       "    <tr>\n",
       "      <th>FUR_NO_ROW</th>\n",
       "      <td>714.0</td>\n",
       "      <td>1.497199</td>\n",
       "      <td>0.500343</td>\n",
       "      <td>1.00</td>\n",
       "      <td>1.00</td>\n",
       "      <td>1.00</td>\n",
       "      <td>2.00</td>\n",
       "      <td>2.00</td>\n",
       "    </tr>\n",
       "    <tr>\n",
       "      <th>FUR_HZ_TEMP</th>\n",
       "      <td>714.0</td>\n",
       "      <td>1155.459384</td>\n",
       "      <td>20.844557</td>\n",
       "      <td>1103.00</td>\n",
       "      <td>1139.00</td>\n",
       "      <td>1158.00</td>\n",
       "      <td>1171.00</td>\n",
       "      <td>1206.00</td>\n",
       "    </tr>\n",
       "    <tr>\n",
       "      <th>FUR_HZ_TIME</th>\n",
       "      <td>714.0</td>\n",
       "      <td>88.563025</td>\n",
       "      <td>37.780529</td>\n",
       "      <td>43.00</td>\n",
       "      <td>65.00</td>\n",
       "      <td>74.50</td>\n",
       "      <td>101.00</td>\n",
       "      <td>312.00</td>\n",
       "    </tr>\n",
       "    <tr>\n",
       "      <th>FUR_SZ_TEMP</th>\n",
       "      <td>714.0</td>\n",
       "      <td>1149.774510</td>\n",
       "      <td>17.508271</td>\n",
       "      <td>1113.00</td>\n",
       "      <td>1133.00</td>\n",
       "      <td>1155.00</td>\n",
       "      <td>1164.00</td>\n",
       "      <td>1185.00</td>\n",
       "    </tr>\n",
       "    <tr>\n",
       "      <th>FUR_SZ_TIME</th>\n",
       "      <td>714.0</td>\n",
       "      <td>78.899160</td>\n",
       "      <td>36.551271</td>\n",
       "      <td>35.00</td>\n",
       "      <td>57.00</td>\n",
       "      <td>68.00</td>\n",
       "      <td>86.00</td>\n",
       "      <td>294.00</td>\n",
       "    </tr>\n",
       "    <tr>\n",
       "      <th>FUR_TIME</th>\n",
       "      <td>714.0</td>\n",
       "      <td>300.183473</td>\n",
       "      <td>45.297442</td>\n",
       "      <td>221.00</td>\n",
       "      <td>257.00</td>\n",
       "      <td>304.00</td>\n",
       "      <td>342.00</td>\n",
       "      <td>398.00</td>\n",
       "    </tr>\n",
       "    <tr>\n",
       "      <th>FUR_EXTEMP</th>\n",
       "      <td>714.0</td>\n",
       "      <td>1149.774510</td>\n",
       "      <td>17.508271</td>\n",
       "      <td>1113.00</td>\n",
       "      <td>1133.00</td>\n",
       "      <td>1155.00</td>\n",
       "      <td>1164.00</td>\n",
       "      <td>1185.00</td>\n",
       "    </tr>\n",
       "    <tr>\n",
       "      <th>ROLLING_TEMP_T5</th>\n",
       "      <td>714.0</td>\n",
       "      <td>941.768908</td>\n",
       "      <td>65.810993</td>\n",
       "      <td>723.00</td>\n",
       "      <td>891.00</td>\n",
       "      <td>952.00</td>\n",
       "      <td>995.00</td>\n",
       "      <td>1078.00</td>\n",
       "    </tr>\n",
       "    <tr>\n",
       "      <th>ROLLING_DESCALING</th>\n",
       "      <td>714.0</td>\n",
       "      <td>8.327731</td>\n",
       "      <td>1.618317</td>\n",
       "      <td>5.00</td>\n",
       "      <td>7.00</td>\n",
       "      <td>8.00</td>\n",
       "      <td>10.00</td>\n",
       "      <td>10.00</td>\n",
       "    </tr>\n",
       "  </tbody>\n",
       "</table>\n",
       "</div>"
      ],
      "text/plain": [
       "                   count          mean           std      min       25%  \\\n",
       "PT_THK             714.0     29.108091     18.994878    12.03     16.09   \n",
       "PT_WDTH            714.0   2809.885154    516.293303  1800.00   2469.00   \n",
       "PT_LTH             714.0  34404.029412  13799.227159  7893.00  22664.50   \n",
       "PT_WGT             714.0  41506.078431  24799.277300  7820.00  17780.00   \n",
       "FUR_NO_ROW         714.0      1.497199      0.500343     1.00      1.00   \n",
       "FUR_HZ_TEMP        714.0   1155.459384     20.844557  1103.00   1139.00   \n",
       "FUR_HZ_TIME        714.0     88.563025     37.780529    43.00     65.00   \n",
       "FUR_SZ_TEMP        714.0   1149.774510     17.508271  1113.00   1133.00   \n",
       "FUR_SZ_TIME        714.0     78.899160     36.551271    35.00     57.00   \n",
       "FUR_TIME           714.0    300.183473     45.297442   221.00    257.00   \n",
       "FUR_EXTEMP         714.0   1149.774510     17.508271  1113.00   1133.00   \n",
       "ROLLING_TEMP_T5    714.0    941.768908     65.810993   723.00    891.00   \n",
       "ROLLING_DESCALING  714.0      8.327731      1.618317     5.00      7.00   \n",
       "\n",
       "                        50%       75%        max  \n",
       "PT_THK                20.13     38.43     100.34  \n",
       "PT_WDTH             2727.50   3125.00    4575.00  \n",
       "PT_LTH             37380.00  43771.75   54917.00  \n",
       "PT_WGT             36090.00  61120.00  115080.00  \n",
       "FUR_NO_ROW             1.00      2.00       2.00  \n",
       "FUR_HZ_TEMP         1158.00   1171.00    1206.00  \n",
       "FUR_HZ_TIME           74.50    101.00     312.00  \n",
       "FUR_SZ_TEMP         1155.00   1164.00    1185.00  \n",
       "FUR_SZ_TIME           68.00     86.00     294.00  \n",
       "FUR_TIME             304.00    342.00     398.00  \n",
       "FUR_EXTEMP          1155.00   1164.00    1185.00  \n",
       "ROLLING_TEMP_T5      952.00    995.00    1078.00  \n",
       "ROLLING_DESCALING      8.00     10.00      10.00  "
      ]
     },
     "execution_count": 11,
     "metadata": {},
     "output_type": "execute_result"
    }
   ],
   "source": [
    "temp=df[df['ROLLING_TEMP_T5']!=0]\n",
    "temp.describe().T"
   ]
  },
  {
   "cell_type": "code",
   "execution_count": 12,
   "metadata": {
    "scrolled": true
   },
   "outputs": [
    {
     "data": {
      "text/plain": [
       "<matplotlib.axes._subplots.AxesSubplot at 0x7f3cad6b0588>"
      ]
     },
     "execution_count": 12,
     "metadata": {},
     "output_type": "execute_result"
    },
    {
     "data": {
      "image/png": "[encoded data removed]",
      "text/plain": [
       "<Figure size 432x288 with 1 Axes>"
      ]
     },
     "metadata": {
      "needs_background": "light"
     },
     "output_type": "display_data"
    }
   ],
   "source": [
    "sns.scatterplot(x='ROLLING_TEMP_T5',y='SCALE',data=temp)"
   ]
  },
  {
   "cell_type": "code",
   "execution_count": 13,
   "metadata": {},
   "outputs": [
    {
     "data": {
      "text/plain": [
       "<matplotlib.axes._subplots.AxesSubplot at 0x7f3cad3d1278>"
      ]
     },
     "execution_count": 13,
     "metadata": {},
     "output_type": "execute_result"
    },
    {
     "data": {
      "image/png": "[encoded data removed]",
      "text/plain": [
       "<Figure size 432x288 with 1 Axes>"
      ]
     },
     "metadata": {
      "needs_background": "light"
     },
     "output_type": "display_data"
    }
   ],
   "source": [
    "temp['SCALE2int'] =np.where(temp['SCALE']==\"양품\",0,1)\n",
    "sns.kdeplot(temp['SCALE2int'], temp['ROLLING_TEMP_T5'], shade=True)\n"
   ]
  },
  {
   "cell_type": "markdown",
   "metadata": {},
   "source": [
    "ROLLING_TEMP_T5가 높을 수록 Scale이 불량인 것이 많았다."
   ]
  },
  {
   "cell_type": "markdown",
   "metadata": {},
   "source": [
    "# <span style=\"color:red\">교수님의 조언대로 ROLLING_TEMP_T5가 0인 값들은 제외하겠습니다.</span>"
   ]
  },
  {
   "cell_type": "markdown",
   "metadata": {},
   "source": [
    "* 양품-불량 비율 확인"
   ]
  },
  {
   "cell_type": "code",
   "execution_count": 14,
   "metadata": {},
   "outputs": [],
   "source": [
    "temp_scale=pd.DataFrame(df['SCALE'].value_counts())"
   ]
  },
  {
   "cell_type": "code",
   "execution_count": 103,
   "metadata": {},
   "outputs": [
    {
     "data": {
      "text/html": [
       "<div>\n",
       "<style scoped>\n",
       "    .dataframe tbody tr th:only-of-type {\n",
       "        vertical-align: middle;\n",
       "    }\n",
       "\n",
       "    .dataframe tbody tr th {\n",
       "        vertical-align: top;\n",
       "    }\n",
       "\n",
       "    .dataframe thead th {\n",
       "        text-align: right;\n",
       "    }\n",
       "</style>\n",
       "<table border=\"1\" class=\"dataframe\">\n",
       "  <thead>\n",
       "    <tr style=\"text-align: right;\">\n",
       "      <th></th>\n",
       "      <th>SCALE</th>\n",
       "    </tr>\n",
       "  </thead>\n",
       "  <tbody>\n",
       "    <tr>\n",
       "      <th>양품</th>\n",
       "      <td>489</td>\n",
       "    </tr>\n",
       "    <tr>\n",
       "      <th>불량</th>\n",
       "      <td>231</td>\n",
       "    </tr>\n",
       "  </tbody>\n",
       "</table>\n",
       "</div>"
      ],
      "text/plain": [
       "    SCALE\n",
       "양품    489\n",
       "불량    231"
      ]
     },
     "execution_count": 103,
     "metadata": {},
     "output_type": "execute_result"
    }
   ],
   "source": [
    "temp_scale"
   ]
  },
  {
   "cell_type": "code",
   "execution_count": 15,
   "metadata": {},
   "outputs": [
    {
     "data": {
      "text/plain": [
       "([<matplotlib.patches.Wedge at 0x7f3cad2a8b38>,\n",
       "  <matplotlib.patches.Wedge at 0x7f3cad2b3240>],\n",
       " [Text(-0.5869759907341133, 0.9303005892192622, '양품'),\n",
       "  Text(0.5869759907341137, -0.930300589219262, '불량')],\n",
       " [Text(-0.3201687222186072, 0.5074366850286884, '67.92%'),\n",
       "  Text(0.3201687222186074, -0.5074366850286882, '32.08%')])"
      ]
     },
     "execution_count": 15,
     "metadata": {},
     "output_type": "execute_result"
    },
    {
     "data": {
      "image/png": "[encoded data removed]",
      "text/plain": [
       "<Figure size 432x288 with 1 Axes>"
      ]
     },
     "metadata": {},
     "output_type": "display_data"
    }
   ],
   "source": [
    "group_names=['양품', '불량']\n",
    "plt.title('양품-불량 비율', fontsize=15)\n",
    "plt.pie(x=\"SCALE\",data=temp_scale,autopct='%1.2f%%',labels=group_names, textprops={'fontsize': 14})"
   ]
  },
  {
   "cell_type": "markdown",
   "metadata": {},
   "source": [
    "전체 생산 제품 중 32.08%의 제품이 SCALE을 가진것으로 확인되었다."
   ]
  },
  {
   "cell_type": "markdown",
   "metadata": {},
   "source": [
    "* SPEC : 제품규격  \n",
    "\n",
    "**AB**:미국, **BV**:프랑스, **GL**:독일, **COMMON**: , **KS**:한국산업표준, **NV**:노르웨이, **LR**:영국, **JS**:일본, **KR**:한국,  \n",
    "**V42**:?, **PILAC**:TMCP형 강,**CCS**:중국, **A**:?, **SA**:자동차, **NK**:일본  \n",
    "\n",
    "SPEC을 구성하는 문자열의 의미는 위와 같으므로, '-'를 기준으로 앞에 위치한 국가 코드만 남겨 국가별 요구 규격에 대한 정보를 보며 분석을 시도하겠다."
   ]
  },
  {
   "cell_type": "markdown",
   "metadata": {},
   "source": [
    "# SPEC TM인거랑 아닌거 나누기이이이잉"
   ]
  },
  {
   "cell_type": "code",
   "execution_count": 16,
   "metadata": {},
   "outputs": [],
   "source": [
    "df['SPEC_prefix']=[str(d).split(\"-\")[0] for d in df['SPEC']]"
   ]
  },
  {
   "cell_type": "code",
   "execution_count": 17,
   "metadata": {},
   "outputs": [
    {
     "data": {
      "text/plain": [
       "JS         146\n",
       "LR         105\n",
       "NV         105\n",
       "BV          86\n",
       "GL          56\n",
       "PILAC       40\n",
       "KR          31\n",
       "KS          28\n",
       "COMMON      28\n",
       "SA283       21\n",
       "NK          20\n",
       "AB/EH36     17\n",
       "AB/A         7\n",
       "AB/B         6\n",
       "A283         6\n",
       "AB/AH32      5\n",
       "V42JBN3      4\n",
       "API          2\n",
       "A516         2\n",
       "AB/EH32      2\n",
       "CCS          1\n",
       "A709         1\n",
       "A131         1\n",
       "Name: SPEC_prefix, dtype: int64"
      ]
     },
     "execution_count": 17,
     "metadata": {},
     "output_type": "execute_result"
    }
   ],
   "source": [
    "df['SPEC_prefix'].value_counts()"
   ]
  },
  {
   "cell_type": "markdown",
   "metadata": {},
   "source": [
    "SPEC은 삭제하고 SPEC의 앞글자만 남긴다.(dummy 데이터 생성시 너무 많은 변수가 생기는 걸 방지하고자...)"
   ]
  },
  {
   "cell_type": "code",
   "execution_count": 18,
   "metadata": {},
   "outputs": [],
   "source": [
    "df.drop(\"SPEC\",axis=1, inplace=True)"
   ]
  },
  {
   "cell_type": "code",
   "execution_count": 19,
   "metadata": {},
   "outputs": [
    {
     "data": {
      "text/plain": [
       "Index(['PLATE_NO', 'ROLLING_DATE', 'SCALE', 'STEEL_KIND', 'PT_THK', 'PT_WDTH',\n",
       "       'PT_LTH', 'PT_WGT', 'FUR_NO', 'FUR_NO_ROW', 'FUR_HZ_TEMP',\n",
       "       'FUR_HZ_TIME', 'FUR_SZ_TEMP', 'FUR_SZ_TIME', 'FUR_TIME', 'FUR_EXTEMP',\n",
       "       'ROLLING_TEMP_T5', 'HSB', 'ROLLING_DESCALING', 'WORK_GR',\n",
       "       'SPEC_prefix'],\n",
       "      dtype='object')"
      ]
     },
     "execution_count": 19,
     "metadata": {},
     "output_type": "execute_result"
    }
   ],
   "source": [
    "df.columns"
   ]
  },
  {
   "cell_type": "markdown",
   "metadata": {},
   "source": [
    "* 위의 엔지니어들이 도출한 잠재인자에 대한 검정 실행"
   ]
  },
  {
   "cell_type": "markdown",
   "metadata": {},
   "source": [
    "**1) 가열로 가열대 온도가 높을수록 불량이 많이 발생한다**"
   ]
  },
  {
   "cell_type": "code",
   "execution_count": 20,
   "metadata": {},
   "outputs": [
    {
     "data": {
      "image/png": "[encoded data removed]",
      "text/plain": [
       "<Figure size 432x288 with 1 Axes>"
      ]
     },
     "metadata": {
      "needs_background": "light"
     },
     "output_type": "display_data"
    }
   ],
   "source": [
    "fun_plot_hist(df,'SCALE','FUR_HZ_TEMP',bins=30)"
   ]
  },
  {
   "cell_type": "markdown",
   "metadata": {},
   "source": [
    "온도가 높아질수록 불량률이 많아지는 것을 맞다. 하지만 가열대온도가 **1152정도 부근에서 양품 대비 불량률이 상당히 많이 증가하고 1184가 될때 다시 감소**한다."
   ]
  },
  {
   "cell_type": "markdown",
   "metadata": {},
   "source": [
    "**2) 가열로 균열대 온도가 높을수록 불량이 많이 발생한다.**"
   ]
  },
  {
   "cell_type": "code",
   "execution_count": 21,
   "metadata": {},
   "outputs": [
    {
     "data": {
      "image/png": "[encoded data removed]",
      "text/plain": [
       "<Figure size 432x288 with 1 Axes>"
      ]
     },
     "metadata": {
      "needs_background": "light"
     },
     "output_type": "display_data"
    }
   ],
   "source": [
    "fun_plot_hist(df,'SCALE','FUR_SZ_TEMP',bins=30)"
   ]
  },
  {
   "cell_type": "markdown",
   "metadata": {},
   "source": [
    "가열로 균열대 온도가 증가할수록 불량률이 많아지는 것은 사실이다. 특히 균열대 **온도가 1146정도 부근에서 양품 대비 불량률이 상당히 많이 증가하고 1166이 될때 다시 감소**한다."
   ]
  },
  {
   "cell_type": "markdown",
   "metadata": {},
   "source": [
    "**3) 가열로 추출 온도가 높을 수록 불량이 많아진다.**"
   ]
  },
  {
   "cell_type": "code",
   "execution_count": 22,
   "metadata": {},
   "outputs": [
    {
     "data": {
      "image/png": "[encoded data removed]",
      "text/plain": [
       "<Figure size 432x288 with 1 Axes>"
      ]
     },
     "metadata": {
      "needs_background": "light"
     },
     "output_type": "display_data"
    }
   ],
   "source": [
    "fun_plot_hist(df,'SCALE','FUR_EXTEMP',bins=30)"
   ]
  },
  {
   "cell_type": "markdown",
   "metadata": {},
   "source": [
    "추출온도가 증가할수록 불량률이 많아지는 것은 사실이다. 추출시 온도가 1148 ~ 1166 일때 양품 대비 불량률이 상당히 많이 증가 하고 있는 것을 확인 할 수 있다.특히 추출시 온도가 1152도~1154도일때와 1164도 일때는 양품의 개수보다 불량 개수가 많은 것을 확인 할 수 있고, 이 온도 일때를 주의깊게 살펴봐야 한다."
   ]
  },
  {
   "cell_type": "markdown",
   "metadata": {},
   "source": [
    "**4) Hot Scale Breaker를 미적용하면 불량률이 높다.**"
   ]
  },
  {
   "cell_type": "code",
   "execution_count": 23,
   "metadata": {},
   "outputs": [
    {
     "data": {
      "text/plain": [
       "<matplotlib.axes._subplots.AxesSubplot at 0x7f3cacf13550>"
      ]
     },
     "execution_count": 23,
     "metadata": {},
     "output_type": "execute_result"
    },
    {
     "data": {
      "image/png": "[encoded data removed]",
      "text/plain": [
       "<Figure size 432x288 with 1 Axes>"
      ]
     },
     "metadata": {},
     "output_type": "display_data"
    }
   ],
   "source": [
    "df_groupby_tot= df.groupby(['HSB', 'SCALE']).size()\n",
    "df_groupby_tot.plot.pie(y='SCALE', autopct='%.1f%%')"
   ]
  },
  {
   "cell_type": "code",
   "execution_count": 24,
   "metadata": {},
   "outputs": [
    {
     "data": {
      "text/plain": [
       "<seaborn.axisgrid.FacetGrid at 0x7f3cacee2c88>"
      ]
     },
     "execution_count": 24,
     "metadata": {},
     "output_type": "execute_result"
    },
    {
     "data": {
      "image/png": "[encoded data removed]",
      "text/plain": [
       "<Figure size 1360.12x1080 with 2 Axes>"
      ]
     },
     "metadata": {
      "needs_background": "light"
     },
     "output_type": "display_data"
    }
   ],
   "source": [
    "sns.catplot(x=\"SPEC_prefix\", hue=\"HSB\", col=\"SCALE\",data=df, kind=\"count\", height=15, aspect=0.6)"
   ]
  },
  {
   "cell_type": "markdown",
   "metadata": {},
   "source": [
    "HSB를 적용하지 않은 경우 모든 제품에서 불량이 발생한 것으로 보아 HSB적용여부는 SCALE 발생에 영향인자로 작용하고 있음을 알 수 있다."
   ]
  },
  {
   "cell_type": "markdown",
   "metadata": {},
   "source": [
    "**5) 사상 압연 온도가 높을수록 불량이 많이 발생한다.**"
   ]
  },
  {
   "cell_type": "code",
   "execution_count": 25,
   "metadata": {},
   "outputs": [
    {
     "data": {
      "image/png": "[encoded data removed]",
      "text/plain": [
       "<Figure size 432x288 with 1 Axes>"
      ]
     },
     "metadata": {
      "needs_background": "light"
     },
     "output_type": "display_data"
    }
   ],
   "source": [
    "fun_plot_hist(df,'SCALE','ROLLING_TEMP_T5')"
   ]
  },
  {
   "cell_type": "markdown",
   "metadata": {},
   "source": [
    "압연온도가 1000이상일때 불량률이 급격하게 증가함과 동시에 모든제품에 불량이 발생한다."
   ]
  },
  {
   "cell_type": "markdown",
   "metadata": {},
   "source": [
    "**6) 압연간 Descaling 횟수가 적을 수록 불량이 많이 발생한다.**"
   ]
  },
  {
   "cell_type": "code",
   "execution_count": 26,
   "metadata": {
    "scrolled": true
   },
   "outputs": [
    {
     "data": {
      "image/png": "[encoded data removed]",
      "text/plain": [
       "<Figure size 432x288 with 1 Axes>"
      ]
     },
     "metadata": {
      "needs_background": "light"
     },
     "output_type": "display_data"
    }
   ],
   "source": [
    "fun_plot_hist(df,'SCALE','ROLLING_DESCALING')"
   ]
  },
  {
   "cell_type": "markdown",
   "metadata": {},
   "source": [
    "Descaling을 7회 이상 시행하였을 경우 불량률이 급격하게 증가하다 10회를 한 순간 다시 감소하는 모습을 확인할 수 있었다."
   ]
  },
  {
   "cell_type": "markdown",
   "metadata": {},
   "source": [
    "**7) 판두께가 얇아질수록 불량이 많아진다.**"
   ]
  },
  {
   "cell_type": "code",
   "execution_count": 27,
   "metadata": {},
   "outputs": [
    {
     "data": {
      "image/png": "[encoded data removed]",
      "text/plain": [
       "<Figure size 432x288 with 1 Axes>"
      ]
     },
     "metadata": {
      "needs_background": "light"
     },
     "output_type": "display_data"
    }
   ],
   "source": [
    "fun_plot_hist(df,'SCALE','PT_THK')"
   ]
  },
  {
   "cell_type": "markdown",
   "metadata": {},
   "source": [
    "판두께가 얇아질수록 불량률이 증가하는 것은 사실이다. 판 두께가 50을 넘어서는 순간 불량률은 급격히 감소하며 안정적인 양품 생산을 해내고 있는 것을 확인 할 수 있다."
   ]
  },
  {
   "cell_type": "markdown",
   "metadata": {},
   "source": [
    "**추가 변수간의 관계 파악**"
   ]
  },
  {
   "cell_type": "markdown",
   "metadata": {},
   "source": [
    "- 강종의 종류별 압연온도의 차이확인"
   ]
  },
  {
   "cell_type": "code",
   "execution_count": 28,
   "metadata": {},
   "outputs": [
    {
     "data": {
      "image/png": "[encoded data removed]",
      "text/plain": [
       "<Figure size 432x288 with 1 Axes>"
      ]
     },
     "metadata": {
      "needs_background": "light"
     },
     "output_type": "display_data"
    }
   ],
   "source": [
    "groupedbySTEEL_KIND_se=df.groupby('STEEL_KIND')['ROLLING_TEMP_T5'].mean()\n",
    "\n",
    "groupedbySTEEL_KIND=pd.DataFrame(groupedbySTEEL_KIND_se)\n",
    "\n",
    "label = groupedbySTEEL_KIND.index\n",
    "label\n",
    "index = np.arange(len(label))\n",
    "\n",
    "# Basic Bar Chart\n",
    "\n",
    "plt.bar(index, groupedbySTEEL_KIND_se)\n",
    "\n",
    "plt.title('강종 - 평균 압연온도', fontsize=20)\n",
    "\n",
    "plt.xlabel('강종의 종류', fontsize=18)\n",
    "\n",
    "plt.ylabel('평균 압연온도', fontsize=18)\n",
    "\n",
    "plt.xticks(index, label, fontsize=15)\n",
    "\n",
    "plt.show()\n",
    "\n"
   ]
  },
  {
   "cell_type": "markdown",
   "metadata": {},
   "source": [
    "강종의 종류와 상관없이 평균 압연온도는 800을 넘기고 있으며 RAW데이터에 포함되어있던 0은 이상치로 판단가능하다."
   ]
  },
  {
   "cell_type": "markdown",
   "metadata": {},
   "source": [
    "* PLATE의 무게별 불량률 추이"
   ]
  },
  {
   "cell_type": "code",
   "execution_count": 29,
   "metadata": {},
   "outputs": [
    {
     "data": {
      "image/png": "[encoded data removed]",
      "text/plain": [
       "<Figure size 432x288 with 1 Axes>"
      ]
     },
     "metadata": {
      "needs_background": "light"
     },
     "output_type": "display_data"
    }
   ],
   "source": [
    "fun_plot_hist(df,'SCALE','PT_WGT')"
   ]
  },
  {
   "cell_type": "markdown",
   "metadata": {},
   "source": [
    "무게가 40000이하인 제품을 주로 생산하고 잇지만 불량의 수는 무게별 생산량과 상관없이 꾸준히 20~40을 유지하고 있다. 즉, PT_WGT(PLATE의 무게)는 SCALE 발생의 영향인자로 볼 수 없다."
   ]
  },
  {
   "cell_type": "markdown",
   "metadata": {},
   "source": [
    "* HSB 여부별 압연온도와 불량률 확인"
   ]
  },
  {
   "cell_type": "code",
   "execution_count": 30,
   "metadata": {},
   "outputs": [
    {
     "data": {
      "image/png": "[encoded data removed]",
      "text/plain": [
       "<Figure size 432x288 with 1 Axes>"
      ]
     },
     "metadata": {
      "needs_background": "light"
     },
     "output_type": "display_data"
    }
   ],
   "source": [
    "groupedbySTEEL_KIND_se=df.groupby('SCALE')['HSB'].count()\n",
    "groupedbySTEEL_KIND=pd.DataFrame(groupedbySTEEL_KIND_se)\n",
    "\n",
    "label = groupedbySTEEL_KIND.index\n",
    "label\n",
    "index = np.arange(len(label))\n",
    "\n",
    "plt.bar(index, groupedbySTEEL_KIND_se)\n",
    "plt.title('강종별 Rolling temp t5', fontsize=20)\n",
    "plt.xlabel('강종의 종류', fontsize=18)\n",
    "plt.ylabel('ROLLING_TEMP_T5', fontsize=18)\n",
    "plt.xticks(index, label, fontsize=15)\n",
    "\n",
    "plt.show()"
   ]
  },
  {
   "cell_type": "code",
   "execution_count": 31,
   "metadata": {},
   "outputs": [
    {
     "data": {
      "text/plain": [
       "SCALE\n",
       "불량    231\n",
       "양품    489\n",
       "Name: HSB, dtype: int64"
      ]
     },
     "execution_count": 31,
     "metadata": {},
     "output_type": "execute_result"
    }
   ],
   "source": [
    "groupedbySTEEL_KIND_se"
   ]
  },
  {
   "cell_type": "markdown",
   "metadata": {},
   "source": [
    "불량과 양품의 평균 압연온도를 살펴본 결과 불량의 평균 압연온도는 231로 양품의 평균압연온도 489에 비해 현저히 낮은 온도에서 생산되었음을 확인 할 수 있었다. 즉, 압연온도는 SCALE 형성의 영향인자로 사용 가능하다"
   ]
  },
  {
   "cell_type": "markdown",
   "metadata": {},
   "source": [
    "## EDA 결론\n",
    "가열로의 가열대 온도, 가열로의 균열대 온도, 가열로 추출 온도, HSB, 사상 압연온도, Descaling 횟수, 판두께는 SCALE 발생의 영향인자로 설정 가능하다."
   ]
  },
  {
   "cell_type": "markdown",
   "metadata": {},
   "source": [
    "### 데이터 분할"
   ]
  },
  {
   "cell_type": "markdown",
   "metadata": {},
   "source": [
    "우리가 관심을 두고 있는 것은 **불량**이기 때문에 불량을 1로 둔다."
   ]
  },
  {
   "cell_type": "code",
   "execution_count": 32,
   "metadata": {},
   "outputs": [],
   "source": [
    "df[\"SCALE\"] = np.where(df[\"SCALE\"] == \"불량\", 1, 0)"
   ]
  },
  {
   "cell_type": "code",
   "execution_count": 33,
   "metadata": {},
   "outputs": [],
   "source": [
    "df=df[df['ROLLING_TEMP_T5']!=0]\n",
    "df_x_dummy=pd.get_dummies(df.drop(['SCALE','PLATE_NO','ROLLING_DATE'],axis=1))\n",
    "df_y=df['SCALE']"
   ]
  },
  {
   "cell_type": "code",
   "execution_count": 34,
   "metadata": {},
   "outputs": [],
   "source": [
    "# ROLLING_TEMP_T5=0인 데이터는 이상치로 판단하여 제거했습니다.\n",
    "df_x_dummy=df_x_dummy[df_x_dummy['ROLLING_TEMP_T5']!=0]"
   ]
  },
  {
   "cell_type": "code",
   "execution_count": 35,
   "metadata": {},
   "outputs": [
    {
     "name": "stdout",
     "output_type": "stream",
     "text": [
      "<class 'pandas.core.frame.DataFrame'>\n",
      "Int64Index: 714 entries, 0 to 719\n",
      "Data columns (total 54 columns):\n",
      "PT_THK                 714 non-null float64\n",
      "PT_WDTH                714 non-null int64\n",
      "PT_LTH                 714 non-null int64\n",
      "PT_WGT                 714 non-null int64\n",
      "FUR_NO_ROW             714 non-null int64\n",
      "FUR_HZ_TEMP            714 non-null int64\n",
      "FUR_HZ_TIME            714 non-null int64\n",
      "FUR_SZ_TEMP            714 non-null int64\n",
      "FUR_SZ_TIME            714 non-null int64\n",
      "FUR_TIME               714 non-null int64\n",
      "FUR_EXTEMP             714 non-null int64\n",
      "ROLLING_TEMP_T5        714 non-null int64\n",
      "ROLLING_DESCALING      714 non-null int64\n",
      "STEEL_KIND_C0          714 non-null uint8\n",
      "STEEL_KIND_C1          714 non-null uint8\n",
      "STEEL_KIND_C3          714 non-null uint8\n",
      "STEEL_KIND_T0          714 non-null uint8\n",
      "STEEL_KIND_T1          714 non-null uint8\n",
      "STEEL_KIND_T3          714 non-null uint8\n",
      "STEEL_KIND_T5          714 non-null uint8\n",
      "STEEL_KIND_T7          714 non-null uint8\n",
      "STEEL_KIND_T8          714 non-null uint8\n",
      "FUR_NO_1호기             714 non-null uint8\n",
      "FUR_NO_2호기             714 non-null uint8\n",
      "FUR_NO_3호기             714 non-null uint8\n",
      "HSB_미적용                714 non-null uint8\n",
      "HSB_적용                 714 non-null uint8\n",
      "WORK_GR_1조             714 non-null uint8\n",
      "WORK_GR_2조             714 non-null uint8\n",
      "WORK_GR_3조             714 non-null uint8\n",
      "WORK_GR_4조             714 non-null uint8\n",
      "SPEC_prefix_A131       714 non-null uint8\n",
      "SPEC_prefix_A283       714 non-null uint8\n",
      "SPEC_prefix_A516       714 non-null uint8\n",
      "SPEC_prefix_A709       714 non-null uint8\n",
      "SPEC_prefix_AB/A       714 non-null uint8\n",
      "SPEC_prefix_AB/AH32    714 non-null uint8\n",
      "SPEC_prefix_AB/B       714 non-null uint8\n",
      "SPEC_prefix_AB/EH32    714 non-null uint8\n",
      "SPEC_prefix_AB/EH36    714 non-null uint8\n",
      "SPEC_prefix_API        714 non-null uint8\n",
      "SPEC_prefix_BV         714 non-null uint8\n",
      "SPEC_prefix_CCS        714 non-null uint8\n",
      "SPEC_prefix_COMMON     714 non-null uint8\n",
      "SPEC_prefix_GL         714 non-null uint8\n",
      "SPEC_prefix_JS         714 non-null uint8\n",
      "SPEC_prefix_KR         714 non-null uint8\n",
      "SPEC_prefix_KS         714 non-null uint8\n",
      "SPEC_prefix_LR         714 non-null uint8\n",
      "SPEC_prefix_NK         714 non-null uint8\n",
      "SPEC_prefix_NV         714 non-null uint8\n",
      "SPEC_prefix_PILAC      714 non-null uint8\n",
      "SPEC_prefix_SA283      714 non-null uint8\n",
      "SPEC_prefix_V42JBN3    714 non-null uint8\n",
      "dtypes: float64(1), int64(12), uint8(41)\n",
      "memory usage: 106.7 KB\n"
     ]
    }
   ],
   "source": [
    "df_x_dummy.info()"
   ]
  },
  {
   "cell_type": "markdown",
   "metadata": {},
   "source": [
    "# 모델 생성"
   ]
  },
  {
   "cell_type": "code",
   "execution_count": 36,
   "metadata": {},
   "outputs": [],
   "source": [
    "# 모델 평가에 사용되는 F1, precision, recall, auc score를 저장하는 변수\n",
    "model =['DecisionTree', 'RandomForest','GradientBoosing']\n",
    "\n",
    "train=[]; test=[]\n",
    "model_f1_score=[]; model_precision_score=[]; model_recall_score=[]\n",
    "model_auc_score=[]"
   ]
  },
  {
   "cell_type": "markdown",
   "metadata": {},
   "source": [
    "### 1. Logistic Regression"
   ]
  },
  {
   "cell_type": "code",
   "execution_count": 37,
   "metadata": {},
   "outputs": [
    {
     "data": {
      "text/plain": [
       "Index(['PLATE_NO', 'ROLLING_DATE', 'SCALE', 'STEEL_KIND', 'PT_THK', 'PT_WDTH',\n",
       "       'PT_LTH', 'PT_WGT', 'FUR_NO', 'FUR_NO_ROW', 'FUR_HZ_TEMP',\n",
       "       'FUR_HZ_TIME', 'FUR_SZ_TEMP', 'FUR_SZ_TIME', 'FUR_TIME', 'FUR_EXTEMP',\n",
       "       'ROLLING_TEMP_T5', 'HSB', 'ROLLING_DESCALING', 'WORK_GR',\n",
       "       'SPEC_prefix'],\n",
       "      dtype='object')"
      ]
     },
     "execution_count": 37,
     "metadata": {},
     "output_type": "execute_result"
    }
   ],
   "source": [
    "df.columns"
   ]
  },
  {
   "cell_type": "markdown",
   "metadata": {},
   "source": [
    "Logistic Regression에서 알수없는 오류로 인해 처음부터 이산형 변수를 제거하고 실행하였습니다."
   ]
  },
  {
   "cell_type": "code",
   "execution_count": 38,
   "metadata": {},
   "outputs": [],
   "source": [
    "df_logi=df.drop(['PLATE_NO','ROLLING_DATE','HSB', 'STEEL_KIND', 'SPEC_prefix'], axis=1)"
   ]
  },
  {
   "cell_type": "code",
   "execution_count": 39,
   "metadata": {},
   "outputs": [
    {
     "name": "stdout",
     "output_type": "stream",
     "text": [
      "train size is (499, 16)\n",
      "test size is (215, 16)\n"
     ]
    }
   ],
   "source": [
    "df_train, df_test = train_test_split(df_logi, test_size=0.3, random_state=1234)\n",
    "print(\"train size is {}\".format(df_train.shape))\n",
    "print(\"test size is {}\".format(df_test.shape))\n"
   ]
  },
  {
   "cell_type": "code",
   "execution_count": 40,
   "metadata": {},
   "outputs": [
    {
     "name": "stdout",
     "output_type": "stream",
     "text": [
      "<class 'pandas.core.frame.DataFrame'>\n",
      "Int64Index: 499 entries, 209 to 297\n",
      "Data columns (total 16 columns):\n",
      "SCALE                499 non-null int64\n",
      "PT_THK               499 non-null float64\n",
      "PT_WDTH              499 non-null int64\n",
      "PT_LTH               499 non-null int64\n",
      "PT_WGT               499 non-null int64\n",
      "FUR_NO               499 non-null object\n",
      "FUR_NO_ROW           499 non-null int64\n",
      "FUR_HZ_TEMP          499 non-null int64\n",
      "FUR_HZ_TIME          499 non-null int64\n",
      "FUR_SZ_TEMP          499 non-null int64\n",
      "FUR_SZ_TIME          499 non-null int64\n",
      "FUR_TIME             499 non-null int64\n",
      "FUR_EXTEMP           499 non-null int64\n",
      "ROLLING_TEMP_T5      499 non-null int64\n",
      "ROLLING_DESCALING    499 non-null int64\n",
      "WORK_GR              499 non-null object\n",
      "dtypes: float64(1), int64(13), object(2)\n",
      "memory usage: 66.3+ KB\n"
     ]
    }
   ],
   "source": [
    "df_train.info()"
   ]
  },
  {
   "cell_type": "code",
   "execution_count": 41,
   "metadata": {},
   "outputs": [
    {
     "data": {
      "text/plain": [
       "'SCALE+PT_THK+PT_WDTH+PT_LTH+PT_WGT+FUR_NO+FUR_NO_ROW+FUR_HZ_TEMP+FUR_HZ_TIME+FUR_SZ_TEMP+FUR_SZ_TIME+FUR_TIME+FUR_EXTEMP+ROLLING_TEMP_T5+ROLLING_DESCALING+WORK_GR+'"
      ]
     },
     "execution_count": 41,
     "metadata": {},
     "output_type": "execute_result"
    }
   ],
   "source": [
    "s=\"\"\n",
    "for d in df_train.columns:\n",
    "    s+=d+\"+\"\n",
    "    \n",
    "s"
   ]
  },
  {
   "cell_type": "code",
   "execution_count": 42,
   "metadata": {},
   "outputs": [
    {
     "name": "stdout",
     "output_type": "stream",
     "text": [
      "Optimization terminated successfully.\n",
      "         Current function value: 0.362543\n",
      "         Iterations 11\n",
      "                           Logit Regression Results                           \n",
      "==============================================================================\n",
      "Dep. Variable:                  SCALE   No. Observations:                  499\n",
      "Model:                          Logit   Df Residuals:                      481\n",
      "Method:                           MLE   Df Model:                           17\n",
      "Date:                Fri, 01 Nov 2019   Pseudo R-squ.:                  0.4221\n",
      "Time:                        20:42:39   Log-Likelihood:                -180.91\n",
      "converged:                       True   LL-Null:                       -313.05\n",
      "Covariance Type:            nonrobust   LLR p-value:                 2.501e-46\n",
      "======================================================================================\n",
      "                         coef    std err          z      P>|z|      [0.025      0.975]\n",
      "--------------------------------------------------------------------------------------\n",
      "Intercept           -112.5979        nan        nan        nan         nan         nan\n",
      "C(FUR_NO)[T.2호기]      -0.3782      0.371     -1.019      0.308      -1.106       0.349\n",
      "C(FUR_NO)[T.3호기]       0.3896      0.339      1.150      0.250      -0.274       1.053\n",
      "C(FUR_NO_ROW)[T.2]    -0.0802      0.337     -0.238      0.812      -0.740       0.580\n",
      "C(WORK_GR)[T.2조]      -0.4036      0.272     -1.485      0.137      -0.936       0.129\n",
      "C(WORK_GR)[T.3조]      -0.1892      0.227     -0.834      0.404      -0.634       0.255\n",
      "C(WORK_GR)[T.4조]       0.0785        nan        nan        nan         nan         nan\n",
      "PT_THK                -0.0066      0.022     -0.294      0.768      -0.051       0.037\n",
      "PT_WDTH               -0.0010      0.000     -2.241      0.025      -0.002      -0.000\n",
      "PT_LTH             -3.073e-05   2.73e-05     -1.125      0.261   -8.43e-05    2.28e-05\n",
      "PT_WGT             -6.963e-06   4.95e-06     -1.407      0.159   -1.67e-05    2.74e-06\n",
      "FUR_HZ_TEMP            0.0006      0.013      0.046      0.964      -0.024       0.026\n",
      "FUR_HZ_TIME            0.0083      0.005      1.644      0.100      -0.002       0.018\n",
      "FUR_SZ_TEMP            0.0472   2.27e+11   2.08e-13      1.000   -4.46e+11    4.46e+11\n",
      "FUR_SZ_TIME           -0.0017      0.007     -0.251      0.802      -0.015       0.012\n",
      "FUR_TIME           -6.299e-05      0.004     -0.015      0.988      -0.008       0.008\n",
      "FUR_EXTEMP             0.0384   2.27e+11   1.69e-13      1.000   -4.46e+11    4.46e+11\n",
      "ROLLING_TEMP_T5        0.0223      0.004      5.110      0.000       0.014       0.031\n",
      "ROLLING_DESCALING     -0.5983      0.153     -3.916      0.000      -0.898      -0.299\n",
      "======================================================================================\n"
     ]
    }
   ],
   "source": [
    "log_model =Logit.from_formula(\"SCALE ~PT_THK+PT_WDTH+PT_LTH+PT_WGT+C(FUR_NO)+C(FUR_NO_ROW)+FUR_HZ_TEMP+FUR_HZ_TIME+FUR_SZ_TEMP+\\\n",
    "FUR_SZ_TIME+FUR_TIME+FUR_EXTEMP+ROLLING_TEMP_T5+ROLLING_DESCALING+C(WORK_GR)\", df_train)\n",
    "\n",
    "log_result = log_model.fit()\n",
    "\n",
    "print(log_result.summary())"
   ]
  },
  {
   "cell_type": "markdown",
   "metadata": {},
   "source": [
    "**PT_WDTH(PLATE 폭), ROLLING_TEMP_T5(압연 온도), ROLLING_DESCALING(Descaling 횟수)는 유의수준 0.05에서 유의한 변수이다!**  \n",
    "\n",
    "* 설명력은 0.4388로 낮은 편이다!"
   ]
  },
  {
   "cell_type": "code",
   "execution_count": 43,
   "metadata": {},
   "outputs": [
    {
     "name": "stdout",
     "output_type": "stream",
     "text": [
      "Optimization terminated successfully.\n",
      "         Current function value: 0.404424\n",
      "         Iterations 7\n",
      "                           Logit Regression Results                           \n",
      "==============================================================================\n",
      "Dep. Variable:                  SCALE   No. Observations:                  499\n",
      "Model:                          Logit   Df Residuals:                      495\n",
      "Method:                           MLE   Df Model:                            3\n",
      "Date:                Fri, 01 Nov 2019   Pseudo R-squ.:                  0.3553\n",
      "Time:                        20:42:39   Log-Likelihood:                -201.81\n",
      "converged:                       True   LL-Null:                       -313.05\n",
      "Covariance Type:            nonrobust   LLR p-value:                 5.837e-48\n",
      "=====================================================================================\n",
      "                        coef    std err          z      P>|z|      [0.025      0.975]\n",
      "-------------------------------------------------------------------------------------\n",
      "Intercept           -28.2309      2.974     -9.492      0.000     -34.060     -22.401\n",
      "PT_WDTH           -9.996e-05      0.000     -0.408      0.684      -0.001       0.000\n",
      "ROLLING_TEMP_T5       0.0321      0.003     10.636      0.000       0.026       0.038\n",
      "ROLLING_DESCALING    -0.3533      0.096     -3.693      0.000      -0.541      -0.166\n",
      "=====================================================================================\n"
     ]
    }
   ],
   "source": [
    "log_model =Logit.from_formula(\"SCALE ~PT_WDTH+ROLLING_TEMP_T5+ROLLING_DESCALING\", df_train)\n",
    "\n",
    "log_result = log_model.fit()\n",
    "\n",
    "print(log_result.summary())"
   ]
  },
  {
   "cell_type": "markdown",
   "metadata": {},
   "source": [
    "**PT_WDTH**는 유의수준 0.05에서 무의미한 변수이므로 제외하겠다."
   ]
  },
  {
   "cell_type": "code",
   "execution_count": 44,
   "metadata": {},
   "outputs": [
    {
     "name": "stdout",
     "output_type": "stream",
     "text": [
      "Optimization terminated successfully.\n",
      "         Current function value: 0.404591\n",
      "         Iterations 7\n",
      "                           Logit Regression Results                           \n",
      "==============================================================================\n",
      "Dep. Variable:                  SCALE   No. Observations:                  499\n",
      "Model:                          Logit   Df Residuals:                      496\n",
      "Method:                           MLE   Df Model:                            2\n",
      "Date:                Fri, 01 Nov 2019   Pseudo R-squ.:                  0.3551\n",
      "Time:                        20:42:39   Log-Likelihood:                -201.89\n",
      "converged:                       True   LL-Null:                       -313.05\n",
      "Covariance Type:            nonrobust   LLR p-value:                 5.307e-49\n",
      "=====================================================================================\n",
      "                        coef    std err          z      P>|z|      [0.025      0.975]\n",
      "-------------------------------------------------------------------------------------\n",
      "Intercept           -28.6985      2.763    -10.387      0.000     -34.114     -23.283\n",
      "ROLLING_TEMP_T5       0.0324      0.003     11.011      0.000       0.027       0.038\n",
      "ROLLING_DESCALING    -0.3641      0.092     -3.954      0.000      -0.545      -0.184\n",
      "=====================================================================================\n"
     ]
    }
   ],
   "source": [
    "log_model =Logit.from_formula(\"SCALE ~ROLLING_TEMP_T5+ROLLING_DESCALING\", df_train)\n",
    "\n",
    "log_result = log_model.fit()\n",
    "\n",
    "print(log_result.summary())"
   ]
  },
  {
   "cell_type": "markdown",
   "metadata": {},
   "source": [
    "예측 및 성능 평가"
   ]
  },
  {
   "cell_type": "code",
   "execution_count": 45,
   "metadata": {},
   "outputs": [
    {
     "name": "stdout",
     "output_type": "stream",
     "text": [
      "Accuracy : 0.805\n",
      "\n",
      "Confusion Matrix: \n",
      "[[121  23]\n",
      " [ 19  52]]\n"
     ]
    }
   ],
   "source": [
    "y_pred = log_result.predict(df_test)\n",
    "\n",
    "y_pred_class = (y_pred>0.5).astype(int) # 0.5보다 크면 1\n",
    "print(\"Accuracy : {0:.3f}\\n\".format(accuracy_score(df_test['SCALE'],y_pred_class)))\n",
    "print(\"Confusion Matrix: \\n{}\".format(confusion_matrix(df_test['SCALE'],y_pred_class)))"
   ]
  },
  {
   "cell_type": "markdown",
   "metadata": {},
   "source": [
    "# 결론 도출"
   ]
  },
  {
   "cell_type": "markdown",
   "metadata": {},
   "source": [
    "    최종 회귀식\n",
    "**yhat = -28.4869 +0.0324*ROLLING_TEMP_T5 -0.3929 * ROLLING_DESCALING**"
   ]
  },
  {
   "cell_type": "code",
   "execution_count": 46,
   "metadata": {},
   "outputs": [
    {
     "data": {
      "text/plain": [
       "<matplotlib.axes._subplots.AxesSubplot at 0x7f3cace190b8>"
      ]
     },
     "execution_count": 46,
     "metadata": {},
     "output_type": "execute_result"
    },
    {
     "data": {
      "image/png": "[encoded data removed]",
      "text/plain": [
       "<Figure size 432x288 with 1 Axes>"
      ]
     },
     "metadata": {
      "needs_background": "light"
     },
     "output_type": "display_data"
    }
   ],
   "source": [
    "# 설명변수 중요도 \n",
    "df_logistic_coef = pd.DataFrame({\"Coef\":log_result.params.values[1:]}, index = log_model.exog_names[1:])\n",
    "df_logistic_coef.plot.barh(y=\"Coef\")"
   ]
  },
  {
   "cell_type": "markdown",
   "metadata": {},
   "source": [
    "## StandardScaler"
   ]
  },
  {
   "cell_type": "code",
   "execution_count": 47,
   "metadata": {},
   "outputs": [
    {
     "data": {
      "text/html": [
       "<div>\n",
       "<style scoped>\n",
       "    .dataframe tbody tr th:only-of-type {\n",
       "        vertical-align: middle;\n",
       "    }\n",
       "\n",
       "    .dataframe tbody tr th {\n",
       "        vertical-align: top;\n",
       "    }\n",
       "\n",
       "    .dataframe thead th {\n",
       "        text-align: right;\n",
       "    }\n",
       "</style>\n",
       "<table border=\"1\" class=\"dataframe\">\n",
       "  <thead>\n",
       "    <tr style=\"text-align: right;\">\n",
       "      <th></th>\n",
       "      <th>0</th>\n",
       "      <th>1</th>\n",
       "      <th>2</th>\n",
       "      <th>3</th>\n",
       "      <th>4</th>\n",
       "    </tr>\n",
       "  </thead>\n",
       "  <tbody>\n",
       "    <tr>\n",
       "      <th>SCALE</th>\n",
       "      <td>-0.691564</td>\n",
       "      <td>-0.691564</td>\n",
       "      <td>-0.691564</td>\n",
       "      <td>-0.691564</td>\n",
       "      <td>-0.691564</td>\n",
       "    </tr>\n",
       "    <tr>\n",
       "      <th>PT_THK</th>\n",
       "      <td>0.165524</td>\n",
       "      <td>0.165524</td>\n",
       "      <td>0.219261</td>\n",
       "      <td>0.219261</td>\n",
       "      <td>0.485835</td>\n",
       "    </tr>\n",
       "    <tr>\n",
       "      <th>PT_WDTH</th>\n",
       "      <td>1.73883</td>\n",
       "      <td>1.73883</td>\n",
       "      <td>1.56826</td>\n",
       "      <td>1.56826</td>\n",
       "      <td>0.558436</td>\n",
       "    </tr>\n",
       "    <tr>\n",
       "      <th>PT_LTH</th>\n",
       "      <td>-1.39925</td>\n",
       "      <td>-1.39925</td>\n",
       "      <td>-1.10395</td>\n",
       "      <td>-1.10395</td>\n",
       "      <td>-1.52797</td>\n",
       "    </tr>\n",
       "    <tr>\n",
       "      <th>PT_WGT</th>\n",
       "      <td>-1.10266</td>\n",
       "      <td>-1.10266</td>\n",
       "      <td>-0.943272</td>\n",
       "      <td>-0.943272</td>\n",
       "      <td>-1.17328</td>\n",
       "    </tr>\n",
       "    <tr>\n",
       "      <th>FUR_NO_ROW</th>\n",
       "      <td>-0.994413</td>\n",
       "      <td>1.00562</td>\n",
       "      <td>-0.994413</td>\n",
       "      <td>1.00562</td>\n",
       "      <td>-0.994413</td>\n",
       "    </tr>\n",
       "    <tr>\n",
       "      <th>FUR_HZ_TEMP</th>\n",
       "      <td>-0.55014</td>\n",
       "      <td>-0.55014</td>\n",
       "      <td>-1.27026</td>\n",
       "      <td>-0.166077</td>\n",
       "      <td>-0.742171</td>\n",
       "    </tr>\n",
       "    <tr>\n",
       "      <th>FUR_HZ_TIME</th>\n",
       "      <td>0.726729</td>\n",
       "      <td>0.885652</td>\n",
       "      <td>0.726729</td>\n",
       "      <td>0.965114</td>\n",
       "      <td>1.2035</td>\n",
       "    </tr>\n",
       "    <tr>\n",
       "      <th>FUR_SZ_TEMP</th>\n",
       "      <td>-0.958762</td>\n",
       "      <td>-0.84445</td>\n",
       "      <td>-1.64463</td>\n",
       "      <td>-1.3017</td>\n",
       "      <td>-1.24454</td>\n",
       "    </tr>\n",
       "    <tr>\n",
       "      <th>FUR_SZ_TIME</th>\n",
       "      <td>-0.544799</td>\n",
       "      <td>-0.709067</td>\n",
       "      <td>-0.654311</td>\n",
       "      <td>-0.298397</td>\n",
       "      <td>-0.845957</td>\n",
       "    </tr>\n",
       "    <tr>\n",
       "      <th>FUR_TIME</th>\n",
       "      <td>-0.401705</td>\n",
       "      <td>-0.379613</td>\n",
       "      <td>-0.401705</td>\n",
       "      <td>0.349415</td>\n",
       "      <td>0.305232</td>\n",
       "    </tr>\n",
       "    <tr>\n",
       "      <th>FUR_EXTEMP</th>\n",
       "      <td>-0.958762</td>\n",
       "      <td>-0.84445</td>\n",
       "      <td>-1.64463</td>\n",
       "      <td>-1.3017</td>\n",
       "      <td>-1.24454</td>\n",
       "    </tr>\n",
       "    <tr>\n",
       "      <th>ROLLING_TEMP_T5</th>\n",
       "      <td>-0.118132</td>\n",
       "      <td>-0.0725145</td>\n",
       "      <td>-0.802387</td>\n",
       "      <td>-0.86321</td>\n",
       "      <td>-1.04568</td>\n",
       "    </tr>\n",
       "    <tr>\n",
       "      <th>ROLLING_DESCALING</th>\n",
       "      <td>-0.202656</td>\n",
       "      <td>-0.202656</td>\n",
       "      <td>-0.202656</td>\n",
       "      <td>-0.202656</td>\n",
       "      <td>-0.202656</td>\n",
       "    </tr>\n",
       "    <tr>\n",
       "      <th>FUR_NO</th>\n",
       "      <td>1호기</td>\n",
       "      <td>1호기</td>\n",
       "      <td>2호기</td>\n",
       "      <td>2호기</td>\n",
       "      <td>3호기</td>\n",
       "    </tr>\n",
       "    <tr>\n",
       "      <th>WORK_GR</th>\n",
       "      <td>2조</td>\n",
       "      <td>2조</td>\n",
       "      <td>3조</td>\n",
       "      <td>3조</td>\n",
       "      <td>1조</td>\n",
       "    </tr>\n",
       "  </tbody>\n",
       "</table>\n",
       "</div>"
      ],
      "text/plain": [
       "                          0          1         2         3         4\n",
       "SCALE             -0.691564  -0.691564 -0.691564 -0.691564 -0.691564\n",
       "PT_THK             0.165524   0.165524  0.219261  0.219261  0.485835\n",
       "PT_WDTH             1.73883    1.73883   1.56826   1.56826  0.558436\n",
       "PT_LTH             -1.39925   -1.39925  -1.10395  -1.10395  -1.52797\n",
       "PT_WGT             -1.10266   -1.10266 -0.943272 -0.943272  -1.17328\n",
       "FUR_NO_ROW        -0.994413    1.00562 -0.994413   1.00562 -0.994413\n",
       "FUR_HZ_TEMP        -0.55014   -0.55014  -1.27026 -0.166077 -0.742171\n",
       "FUR_HZ_TIME        0.726729   0.885652  0.726729  0.965114    1.2035\n",
       "FUR_SZ_TEMP       -0.958762   -0.84445  -1.64463   -1.3017  -1.24454\n",
       "FUR_SZ_TIME       -0.544799  -0.709067 -0.654311 -0.298397 -0.845957\n",
       "FUR_TIME          -0.401705  -0.379613 -0.401705  0.349415  0.305232\n",
       "FUR_EXTEMP        -0.958762   -0.84445  -1.64463   -1.3017  -1.24454\n",
       "ROLLING_TEMP_T5   -0.118132 -0.0725145 -0.802387  -0.86321  -1.04568\n",
       "ROLLING_DESCALING -0.202656  -0.202656 -0.202656 -0.202656 -0.202656\n",
       "FUR_NO                  1호기        1호기       2호기       2호기       3호기\n",
       "WORK_GR                  2조         2조        3조        3조        1조"
      ]
     },
     "execution_count": 47,
     "metadata": {},
     "output_type": "execute_result"
    }
   ],
   "source": [
    "df_char = df_logi.select_dtypes(include=\"object\")\n",
    "df_numeric = df_logi.select_dtypes(exclude =\"object\")\n",
    "\n",
    "scaler = StandardScaler()\n",
    "np_numeric_scaled = scaler.fit_transform(df_numeric)\n",
    "df_numeric_scaled = pd.DataFrame(np_numeric_scaled, columns=df_numeric.columns)\n",
    "\n",
    "# 범주형데이터는 scaling이 되지 않기 때문에 연속형 변수를 표준화 시킨 후에 컬럼으로 붙인다!\n",
    "df_scaled = pd.concat([df_numeric_scaled,df_char], axis=1)\n",
    "df_scaled.head().T"
   ]
  },
  {
   "cell_type": "code",
   "execution_count": 48,
   "metadata": {},
   "outputs": [
    {
     "data": {
      "text/html": [
       "<div>\n",
       "<style scoped>\n",
       "    .dataframe tbody tr th:only-of-type {\n",
       "        vertical-align: middle;\n",
       "    }\n",
       "\n",
       "    .dataframe tbody tr th {\n",
       "        vertical-align: top;\n",
       "    }\n",
       "\n",
       "    .dataframe thead th {\n",
       "        text-align: right;\n",
       "    }\n",
       "</style>\n",
       "<table border=\"1\" class=\"dataframe\">\n",
       "  <thead>\n",
       "    <tr style=\"text-align: right;\">\n",
       "      <th></th>\n",
       "      <th>SCALE</th>\n",
       "      <th>PT_THK</th>\n",
       "      <th>PT_WDTH</th>\n",
       "      <th>PT_LTH</th>\n",
       "      <th>PT_WGT</th>\n",
       "      <th>FUR_NO_ROW</th>\n",
       "      <th>FUR_HZ_TEMP</th>\n",
       "      <th>FUR_HZ_TIME</th>\n",
       "      <th>FUR_SZ_TEMP</th>\n",
       "      <th>FUR_SZ_TIME</th>\n",
       "      <th>FUR_TIME</th>\n",
       "      <th>FUR_EXTEMP</th>\n",
       "      <th>ROLLING_TEMP_T5</th>\n",
       "      <th>ROLLING_DESCALING</th>\n",
       "      <th>FUR_NO</th>\n",
       "      <th>WORK_GR</th>\n",
       "    </tr>\n",
       "  </thead>\n",
       "  <tbody>\n",
       "    <tr>\n",
       "      <th>0</th>\n",
       "      <td>0</td>\n",
       "      <td>0.165524</td>\n",
       "      <td>1.738825</td>\n",
       "      <td>-1.399249</td>\n",
       "      <td>-1.102663</td>\n",
       "      <td>-0.994413</td>\n",
       "      <td>-0.550140</td>\n",
       "      <td>0.726729</td>\n",
       "      <td>-0.958762</td>\n",
       "      <td>-0.544799</td>\n",
       "      <td>-0.401705</td>\n",
       "      <td>-0.958762</td>\n",
       "      <td>-0.118132</td>\n",
       "      <td>-0.202656</td>\n",
       "      <td>1호기</td>\n",
       "      <td>2조</td>\n",
       "    </tr>\n",
       "    <tr>\n",
       "      <th>1</th>\n",
       "      <td>0</td>\n",
       "      <td>0.165524</td>\n",
       "      <td>1.738825</td>\n",
       "      <td>-1.399249</td>\n",
       "      <td>-1.102663</td>\n",
       "      <td>1.005618</td>\n",
       "      <td>-0.550140</td>\n",
       "      <td>0.885652</td>\n",
       "      <td>-0.844450</td>\n",
       "      <td>-0.709067</td>\n",
       "      <td>-0.379613</td>\n",
       "      <td>-0.844450</td>\n",
       "      <td>-0.072514</td>\n",
       "      <td>-0.202656</td>\n",
       "      <td>1호기</td>\n",
       "      <td>2조</td>\n",
       "    </tr>\n",
       "    <tr>\n",
       "      <th>2</th>\n",
       "      <td>0</td>\n",
       "      <td>0.219261</td>\n",
       "      <td>1.568260</td>\n",
       "      <td>-1.103953</td>\n",
       "      <td>-0.943272</td>\n",
       "      <td>-0.994413</td>\n",
       "      <td>-1.270256</td>\n",
       "      <td>0.726729</td>\n",
       "      <td>-1.644633</td>\n",
       "      <td>-0.654311</td>\n",
       "      <td>-0.401705</td>\n",
       "      <td>-1.644633</td>\n",
       "      <td>-0.802387</td>\n",
       "      <td>-0.202656</td>\n",
       "      <td>2호기</td>\n",
       "      <td>3조</td>\n",
       "    </tr>\n",
       "    <tr>\n",
       "      <th>3</th>\n",
       "      <td>0</td>\n",
       "      <td>0.219261</td>\n",
       "      <td>1.568260</td>\n",
       "      <td>-1.103953</td>\n",
       "      <td>-0.943272</td>\n",
       "      <td>1.005618</td>\n",
       "      <td>-0.166077</td>\n",
       "      <td>0.965114</td>\n",
       "      <td>-1.301698</td>\n",
       "      <td>-0.298397</td>\n",
       "      <td>0.349415</td>\n",
       "      <td>-1.301698</td>\n",
       "      <td>-0.863210</td>\n",
       "      <td>-0.202656</td>\n",
       "      <td>2호기</td>\n",
       "      <td>3조</td>\n",
       "    </tr>\n",
       "    <tr>\n",
       "      <th>4</th>\n",
       "      <td>0</td>\n",
       "      <td>0.485835</td>\n",
       "      <td>0.558436</td>\n",
       "      <td>-1.527970</td>\n",
       "      <td>-1.173279</td>\n",
       "      <td>-0.994413</td>\n",
       "      <td>-0.742171</td>\n",
       "      <td>1.203499</td>\n",
       "      <td>-1.244542</td>\n",
       "      <td>-0.845957</td>\n",
       "      <td>0.305232</td>\n",
       "      <td>-1.244542</td>\n",
       "      <td>-1.045678</td>\n",
       "      <td>-0.202656</td>\n",
       "      <td>3호기</td>\n",
       "      <td>1조</td>\n",
       "    </tr>\n",
       "  </tbody>\n",
       "</table>\n",
       "</div>"
      ],
      "text/plain": [
       "   SCALE    PT_THK   PT_WDTH    PT_LTH    PT_WGT  FUR_NO_ROW  FUR_HZ_TEMP  \\\n",
       "0      0  0.165524  1.738825 -1.399249 -1.102663   -0.994413    -0.550140   \n",
       "1      0  0.165524  1.738825 -1.399249 -1.102663    1.005618    -0.550140   \n",
       "2      0  0.219261  1.568260 -1.103953 -0.943272   -0.994413    -1.270256   \n",
       "3      0  0.219261  1.568260 -1.103953 -0.943272    1.005618    -0.166077   \n",
       "4      0  0.485835  0.558436 -1.527970 -1.173279   -0.994413    -0.742171   \n",
       "\n",
       "   FUR_HZ_TIME  FUR_SZ_TEMP  FUR_SZ_TIME  FUR_TIME  FUR_EXTEMP  \\\n",
       "0     0.726729    -0.958762    -0.544799 -0.401705   -0.958762   \n",
       "1     0.885652    -0.844450    -0.709067 -0.379613   -0.844450   \n",
       "2     0.726729    -1.644633    -0.654311 -0.401705   -1.644633   \n",
       "3     0.965114    -1.301698    -0.298397  0.349415   -1.301698   \n",
       "4     1.203499    -1.244542    -0.845957  0.305232   -1.244542   \n",
       "\n",
       "   ROLLING_TEMP_T5  ROLLING_DESCALING FUR_NO WORK_GR  \n",
       "0        -0.118132          -0.202656    1호기      2조  \n",
       "1        -0.072514          -0.202656    1호기      2조  \n",
       "2        -0.802387          -0.202656    2호기      3조  \n",
       "3        -0.863210          -0.202656    2호기      3조  \n",
       "4        -1.045678          -0.202656    3호기      1조  "
      ]
     },
     "execution_count": 48,
     "metadata": {},
     "output_type": "execute_result"
    }
   ],
   "source": [
    "df_scaled['SCALE']=np.where(df_scaled['SCALE']>0,1,0)\n",
    "df_scaled.head()"
   ]
  },
  {
   "cell_type": "code",
   "execution_count": 49,
   "metadata": {},
   "outputs": [],
   "source": [
    "df_scaled_train, df_scaled_test = train_test_split(df_scaled,\n",
    "                                                  test_size=0.3,\n",
    "                                                  random_state=1234)"
   ]
  },
  {
   "cell_type": "code",
   "execution_count": 50,
   "metadata": {},
   "outputs": [
    {
     "name": "stdout",
     "output_type": "stream",
     "text": [
      "Optimization terminated successfully.\n",
      "         Current function value: 0.410445\n",
      "         Iterations 7\n",
      "                           Logit Regression Results                           \n",
      "==============================================================================\n",
      "Dep. Variable:                  SCALE   No. Observations:                  499\n",
      "Model:                          Logit   Df Residuals:                      496\n",
      "Method:                           MLE   Df Model:                            2\n",
      "Date:                Fri, 01 Nov 2019   Pseudo R-squ.:                  0.3393\n",
      "Time:                        20:42:40   Log-Likelihood:                -204.81\n",
      "converged:                       True   LL-Null:                       -309.97\n",
      "Covariance Type:            nonrobust   LLR p-value:                 2.138e-46\n",
      "=====================================================================================\n",
      "                        coef    std err          z      P>|z|      [0.025      0.975]\n",
      "-------------------------------------------------------------------------------------\n",
      "Intercept            -1.2145      0.143     -8.509      0.000      -1.494      -0.935\n",
      "ROLLING_TEMP_T5       2.0431      0.187     10.929      0.000       1.677       2.410\n",
      "ROLLING_DESCALING    -0.7229      0.150     -4.811      0.000      -1.017      -0.428\n",
      "=====================================================================================\n"
     ]
    }
   ],
   "source": [
    "scaled_log_model =Logit.from_formula(\"SCALE ~ROLLING_TEMP_T5+ROLLING_DESCALING\", df_scaled_train)\n",
    "\n",
    "scaled_log_result = scaled_log_model.fit()\n",
    "\n",
    "print(scaled_log_result.summary())"
   ]
  },
  {
   "cell_type": "code",
   "execution_count": 51,
   "metadata": {},
   "outputs": [
    {
     "data": {
      "text/plain": [
       "<matplotlib.axes._subplots.AxesSubplot at 0x7f3cacd2ef60>"
      ]
     },
     "execution_count": 51,
     "metadata": {},
     "output_type": "execute_result"
    },
    {
     "data": {
      "image/png": "[encoded data removed]",
      "text/plain": [
       "<Figure size 432x288 with 1 Axes>"
      ]
     },
     "metadata": {
      "needs_background": "light"
     },
     "output_type": "display_data"
    }
   ],
   "source": [
    "df_log_scaled_coef = pd.DataFrame({\"Coef\":scaled_log_result.params.values[1:]},\n",
    "                                 index=scaled_log_model.exog_names[1:])\n",
    "df_log_scaled_coef.plot.barh(y=\"Coef\", legend=False)"
   ]
  },
  {
   "cell_type": "markdown",
   "metadata": {},
   "source": [
    "표준화를 시킨후 변수중요도를 살펴본 결과, ROLLING_TEMP_T5가 가장 큰 영향을 주고 있다는 것을 알 수 있었다."
   ]
  },
  {
   "cell_type": "markdown",
   "metadata": {},
   "source": [
    "### 2. Decision Tree"
   ]
  },
  {
   "cell_type": "code",
   "execution_count": 52,
   "metadata": {},
   "outputs": [
    {
     "name": "stdout",
     "output_type": "stream",
     "text": [
      "train size is (499, 54)\n",
      "test size is (215, 54)\n",
      "test size is (215,)\n"
     ]
    }
   ],
   "source": [
    "df_train_x, df_test_x, df_train_y, df_test_y = train_test_split(df_x_dummy, df_y, test_size=0.3, random_state=3850)\n",
    "print(\"train size is {}\".format(df_train_x.shape))\n",
    "print(\"test size is {}\".format(df_test_x.shape))\n",
    "\n",
    "print(\"test size is {}\".format(df_test_y.shape))"
   ]
  },
  {
   "cell_type": "code",
   "execution_count": 53,
   "metadata": {},
   "outputs": [
    {
     "name": "stdout",
     "output_type": "stream",
     "text": [
      "Accuracy on training set : 1.000\n",
      "Accuracy on test set : 0.953\n"
     ]
    }
   ],
   "source": [
    "tree_uncustomized =  DecisionTreeClassifier(random_state=1234)\n",
    "tree_uncustomized.fit(df_train_x,df_train_y)\n",
    "\n",
    "print(\"Accuracy on training set : {:.3f}\".format(tree_uncustomized.score(df_train_x, df_train_y)))\n",
    "print(\"Accuracy on test set : {:.3f}\".format(tree_uncustomized.score(df_test_x, df_test_y)))"
   ]
  },
  {
   "cell_type": "markdown",
   "metadata": {},
   "source": [
    "##### Depth 정하기"
   ]
  },
  {
   "cell_type": "code",
   "execution_count": 54,
   "metadata": {},
   "outputs": [
    {
     "data": {
      "text/html": [
       "<div>\n",
       "<style scoped>\n",
       "    .dataframe tbody tr th:only-of-type {\n",
       "        vertical-align: middle;\n",
       "    }\n",
       "\n",
       "    .dataframe tbody tr th {\n",
       "        vertical-align: top;\n",
       "    }\n",
       "\n",
       "    .dataframe thead th {\n",
       "        text-align: right;\n",
       "    }\n",
       "</style>\n",
       "<table border=\"1\" class=\"dataframe\">\n",
       "  <thead>\n",
       "    <tr style=\"text-align: right;\">\n",
       "      <th></th>\n",
       "      <th>Depth</th>\n",
       "      <th>TrainAccuracy</th>\n",
       "      <th>TestAccuracy</th>\n",
       "    </tr>\n",
       "  </thead>\n",
       "  <tbody>\n",
       "    <tr>\n",
       "      <th>0</th>\n",
       "      <td>1</td>\n",
       "      <td>0.892</td>\n",
       "      <td>0.884</td>\n",
       "    </tr>\n",
       "    <tr>\n",
       "      <th>1</th>\n",
       "      <td>2</td>\n",
       "      <td>0.934</td>\n",
       "      <td>0.930</td>\n",
       "    </tr>\n",
       "    <tr>\n",
       "      <th>2</th>\n",
       "      <td>3</td>\n",
       "      <td>0.964</td>\n",
       "      <td>0.958</td>\n",
       "    </tr>\n",
       "    <tr>\n",
       "      <th>3</th>\n",
       "      <td>4</td>\n",
       "      <td>0.970</td>\n",
       "      <td>0.967</td>\n",
       "    </tr>\n",
       "    <tr>\n",
       "      <th>4</th>\n",
       "      <td>5</td>\n",
       "      <td>0.972</td>\n",
       "      <td>0.967</td>\n",
       "    </tr>\n",
       "    <tr>\n",
       "      <th>5</th>\n",
       "      <td>6</td>\n",
       "      <td>0.976</td>\n",
       "      <td>0.967</td>\n",
       "    </tr>\n",
       "    <tr>\n",
       "      <th>6</th>\n",
       "      <td>7</td>\n",
       "      <td>0.976</td>\n",
       "      <td>0.967</td>\n",
       "    </tr>\n",
       "    <tr>\n",
       "      <th>7</th>\n",
       "      <td>8</td>\n",
       "      <td>0.978</td>\n",
       "      <td>0.967</td>\n",
       "    </tr>\n",
       "    <tr>\n",
       "      <th>8</th>\n",
       "      <td>9</td>\n",
       "      <td>0.980</td>\n",
       "      <td>0.963</td>\n",
       "    </tr>\n",
       "    <tr>\n",
       "      <th>9</th>\n",
       "      <td>10</td>\n",
       "      <td>0.982</td>\n",
       "      <td>0.953</td>\n",
       "    </tr>\n",
       "  </tbody>\n",
       "</table>\n",
       "</div>"
      ],
      "text/plain": [
       "   Depth  TrainAccuracy  TestAccuracy\n",
       "0      1          0.892         0.884\n",
       "1      2          0.934         0.930\n",
       "2      3          0.964         0.958\n",
       "3      4          0.970         0.967\n",
       "4      5          0.972         0.967\n",
       "5      6          0.976         0.967\n",
       "6      7          0.976         0.967\n",
       "7      8          0.978         0.967\n",
       "8      9          0.980         0.963\n",
       "9     10          0.982         0.953"
      ]
     },
     "execution_count": 54,
     "metadata": {},
     "output_type": "execute_result"
    }
   ],
   "source": [
    "train_accuracy =[]; test_accuracy=[]\n",
    "\n",
    "para_depth = [depth for depth in range(1,11)]\n",
    "\n",
    "for v_max_depth in para_depth:\n",
    "    tree=DecisionTreeClassifier(max_depth=v_max_depth, random_state=1234)\n",
    "    tree.fit(df_train_x, df_train_y)\n",
    "    train_accuracy.append(tree.score(df_train_x, df_train_y))\n",
    "    test_accuracy.append(tree.score(df_test_x, df_test_y))\n",
    "    \n",
    "df_accuracy_depth = pd.DataFrame()\n",
    "df_accuracy_depth['Depth']=para_depth\n",
    "df_accuracy_depth['TrainAccuracy']=train_accuracy\n",
    "df_accuracy_depth['TestAccuracy']=test_accuracy\n",
    "\n",
    "df_accuracy_depth.round(3)"
   ]
  },
  {
   "cell_type": "code",
   "execution_count": 55,
   "metadata": {},
   "outputs": [
    {
     "data": {
      "text/plain": [
       "<matplotlib.legend.Legend at 0x7f3caccf98d0>"
      ]
     },
     "execution_count": 55,
     "metadata": {},
     "output_type": "execute_result"
    },
    {
     "data": {
      "image/png": "[encoded data removed]",
      "text/plain": [
       "<Figure size 432x288 with 1 Axes>"
      ]
     },
     "metadata": {
      "needs_background": "light"
     },
     "output_type": "display_data"
    }
   ],
   "source": [
    "plt.plot(para_depth, train_accuracy, linestyle=\"-\", label=\"Train Accuracy\")\n",
    "plt.plot(para_depth, test_accuracy, linestyle=\"--\", label=\"Test Accuracy\")\n",
    "plt.legend()"
   ]
  },
  {
   "cell_type": "markdown",
   "metadata": {},
   "source": [
    "최대 깊이를 감소시키면 깊이 제약으로 과대적합을 방지 할 수있기 때문에 4를 선택한다."
   ]
  },
  {
   "cell_type": "code",
   "execution_count": 56,
   "metadata": {},
   "outputs": [
    {
     "data": {
      "image/svg+xml": [
       "<?xml version=\"1.0\" encoding=\"UTF-8\" standalone=\"no\"?>\n",
       "<!DOCTYPE svg PUBLIC \"-//W3C//DTD SVG 1.1//EN\"\n",
       " \"http://www.w3.org/Graphics/SVG/1.1/DTD/svg11.dtd\">\n",
       "<!-- Generated by graphviz version 2.40.1 (20161225.0304)\n",
       " -->\n",
       "<!-- Title: Tree Pages: 1 -->\n",
       "<svg width=\"340pt\" height=\"477pt\"\n",
       " viewBox=\"0.00 0.00 340.00 477.00\" xmlns=\"http://www.w3.org/2000/svg\" xmlns:xlink=\"http://www.w3.org/1999/xlink\">\n",
       "<g id=\"graph0\" class=\"graph\" transform=\"scale(1 1) rotate(0) translate(4 473)\">\n",
       "<title>Tree</title>\n",
       "<polygon fill=\"#ffffff\" stroke=\"transparent\" points=\"-4,4 -4,-473 336,-473 336,4 -4,4\"/>\n",
       "<!-- 0 -->\n",
       "<g id=\"node1\" class=\"node\">\n",
       "<title>0</title>\n",
       "<polygon fill=\"#f1bb95\" stroke=\"#000000\" points=\"290.5,-469 87.5,-469 87.5,-401 290.5,-401 290.5,-469\"/>\n",
       "<text text-anchor=\"middle\" x=\"189\" y=\"-453.8\" font-family=\"Times,serif\" font-size=\"14.00\" fill=\"#000000\">ROLLING_TEMP_T5 &lt;= 1000.5</text>\n",
       "<text text-anchor=\"middle\" x=\"189\" y=\"-438.8\" font-family=\"Times,serif\" font-size=\"14.00\" fill=\"#000000\">gini = 0.433</text>\n",
       "<text text-anchor=\"middle\" x=\"189\" y=\"-423.8\" font-family=\"Times,serif\" font-size=\"14.00\" fill=\"#000000\">samples = 499</text>\n",
       "<text text-anchor=\"middle\" x=\"189\" y=\"-408.8\" font-family=\"Times,serif\" font-size=\"14.00\" fill=\"#000000\">value = [341, 158]</text>\n",
       "</g>\n",
       "<!-- 1 -->\n",
       "<g id=\"node2\" class=\"node\">\n",
       "<title>1</title>\n",
       "<polygon fill=\"#e99558\" stroke=\"#000000\" points=\"183,-365 65,-365 65,-297 183,-297 183,-365\"/>\n",
       "<text text-anchor=\"middle\" x=\"124\" y=\"-349.8\" font-family=\"Times,serif\" font-size=\"14.00\" fill=\"#000000\">HSB_적용 &lt;= 0.5</text>\n",
       "<text text-anchor=\"middle\" x=\"124\" y=\"-334.8\" font-family=\"Times,serif\" font-size=\"14.00\" fill=\"#000000\">gini = 0.236</text>\n",
       "<text text-anchor=\"middle\" x=\"124\" y=\"-319.8\" font-family=\"Times,serif\" font-size=\"14.00\" fill=\"#000000\">samples = 395</text>\n",
       "<text text-anchor=\"middle\" x=\"124\" y=\"-304.8\" font-family=\"Times,serif\" font-size=\"14.00\" fill=\"#000000\">value = [341, 54]</text>\n",
       "</g>\n",
       "<!-- 0&#45;&gt;1 -->\n",
       "<g id=\"edge1\" class=\"edge\">\n",
       "<title>0&#45;&gt;1</title>\n",
       "<path fill=\"none\" stroke=\"#000000\" d=\"M167.7166,-400.9465C162.2733,-392.2373 156.3516,-382.7626 150.675,-373.6801\"/>\n",
       "<polygon fill=\"#000000\" stroke=\"#000000\" points=\"153.5993,-371.755 145.3312,-365.13 147.6633,-375.465 153.5993,-371.755\"/>\n",
       "<text text-anchor=\"middle\" x=\"139.7098\" y=\"-385.7898\" font-family=\"Times,serif\" font-size=\"14.00\" fill=\"#000000\">True</text>\n",
       "</g>\n",
       "<!-- 8 -->\n",
       "<g id=\"node9\" class=\"node\">\n",
       "<title>8</title>\n",
       "<polygon fill=\"#399de5\" stroke=\"#000000\" points=\"306.5,-357.5 201.5,-357.5 201.5,-304.5 306.5,-304.5 306.5,-357.5\"/>\n",
       "<text text-anchor=\"middle\" x=\"254\" y=\"-342.3\" font-family=\"Times,serif\" font-size=\"14.00\" fill=\"#000000\">gini = 0.0</text>\n",
       "<text text-anchor=\"middle\" x=\"254\" y=\"-327.3\" font-family=\"Times,serif\" font-size=\"14.00\" fill=\"#000000\">samples = 104</text>\n",
       "<text text-anchor=\"middle\" x=\"254\" y=\"-312.3\" font-family=\"Times,serif\" font-size=\"14.00\" fill=\"#000000\">value = [0, 104]</text>\n",
       "</g>\n",
       "<!-- 0&#45;&gt;8 -->\n",
       "<g id=\"edge8\" class=\"edge\">\n",
       "<title>0&#45;&gt;8</title>\n",
       "<path fill=\"none\" stroke=\"#000000\" d=\"M210.2834,-400.9465C217.2366,-389.8215 224.9705,-377.4473 231.9769,-366.237\"/>\n",
       "<polygon fill=\"#000000\" stroke=\"#000000\" points=\"235.0791,-367.8772 237.4111,-357.5422 229.1431,-364.1671 235.0791,-367.8772\"/>\n",
       "<text text-anchor=\"middle\" x=\"243.0326\" y=\"-378.2019\" font-family=\"Times,serif\" font-size=\"14.00\" fill=\"#000000\">False</text>\n",
       "</g>\n",
       "<!-- 2 -->\n",
       "<g id=\"node3\" class=\"node\">\n",
       "<title>2</title>\n",
       "<polygon fill=\"#399de5\" stroke=\"#000000\" points=\"98,-253.5 0,-253.5 0,-200.5 98,-200.5 98,-253.5\"/>\n",
       "<text text-anchor=\"middle\" x=\"49\" y=\"-238.3\" font-family=\"Times,serif\" font-size=\"14.00\" fill=\"#000000\">gini = 0.0</text>\n",
       "<text text-anchor=\"middle\" x=\"49\" y=\"-223.3\" font-family=\"Times,serif\" font-size=\"14.00\" fill=\"#000000\">samples = 21</text>\n",
       "<text text-anchor=\"middle\" x=\"49\" y=\"-208.3\" font-family=\"Times,serif\" font-size=\"14.00\" fill=\"#000000\">value = [0, 21]</text>\n",
       "</g>\n",
       "<!-- 1&#45;&gt;2 -->\n",
       "<g id=\"edge2\" class=\"edge\">\n",
       "<title>1&#45;&gt;2</title>\n",
       "<path fill=\"none\" stroke=\"#000000\" d=\"M99.4422,-296.9465C91.3399,-285.7113 82.3188,-273.2021 74.1714,-261.9043\"/>\n",
       "<polygon fill=\"#000000\" stroke=\"#000000\" points=\"76.8291,-259.6058 68.141,-253.5422 71.1514,-263.7003 76.8291,-259.6058\"/>\n",
       "</g>\n",
       "<!-- 3 -->\n",
       "<g id=\"node4\" class=\"node\">\n",
       "<title>3</title>\n",
       "<polygon fill=\"#e88d4c\" stroke=\"#000000\" points=\"282,-261 116,-261 116,-193 282,-193 282,-261\"/>\n",
       "<text text-anchor=\"middle\" x=\"199\" y=\"-245.8\" font-family=\"Times,serif\" font-size=\"14.00\" fill=\"#000000\">FUR_EXTEMP &lt;= 1175.5</text>\n",
       "<text text-anchor=\"middle\" x=\"199\" y=\"-230.8\" font-family=\"Times,serif\" font-size=\"14.00\" fill=\"#000000\">gini = 0.161</text>\n",
       "<text text-anchor=\"middle\" x=\"199\" y=\"-215.8\" font-family=\"Times,serif\" font-size=\"14.00\" fill=\"#000000\">samples = 374</text>\n",
       "<text text-anchor=\"middle\" x=\"199\" y=\"-200.8\" font-family=\"Times,serif\" font-size=\"14.00\" fill=\"#000000\">value = [341, 33]</text>\n",
       "</g>\n",
       "<!-- 1&#45;&gt;3 -->\n",
       "<g id=\"edge3\" class=\"edge\">\n",
       "<title>1&#45;&gt;3</title>\n",
       "<path fill=\"none\" stroke=\"#000000\" d=\"M148.5578,-296.9465C154.9032,-288.1475 161.8121,-278.5672 168.4236,-269.3993\"/>\n",
       "<polygon fill=\"#000000\" stroke=\"#000000\" points=\"171.3766,-271.2882 174.387,-261.13 165.6989,-267.1937 171.3766,-271.2882\"/>\n",
       "</g>\n",
       "<!-- 4 -->\n",
       "<g id=\"node5\" class=\"node\">\n",
       "<title>4</title>\n",
       "<polygon fill=\"#e68843\" stroke=\"#000000\" points=\"216,-157 16,-157 16,-89 216,-89 216,-157\"/>\n",
       "<text text-anchor=\"middle\" x=\"116\" y=\"-141.8\" font-family=\"Times,serif\" font-size=\"14.00\" fill=\"#000000\">ROLLING_DESCALING &lt;= 5.5</text>\n",
       "<text text-anchor=\"middle\" x=\"116\" y=\"-126.8\" font-family=\"Times,serif\" font-size=\"14.00\" fill=\"#000000\">gini = 0.095</text>\n",
       "<text text-anchor=\"middle\" x=\"116\" y=\"-111.8\" font-family=\"Times,serif\" font-size=\"14.00\" fill=\"#000000\">samples = 359</text>\n",
       "<text text-anchor=\"middle\" x=\"116\" y=\"-96.8\" font-family=\"Times,serif\" font-size=\"14.00\" fill=\"#000000\">value = [341, 18]</text>\n",
       "</g>\n",
       "<!-- 3&#45;&gt;4 -->\n",
       "<g id=\"edge4\" class=\"edge\">\n",
       "<title>3&#45;&gt;4</title>\n",
       "<path fill=\"none\" stroke=\"#000000\" d=\"M171.8227,-192.9465C164.7288,-184.0578 156.9985,-174.3716 149.614,-165.1188\"/>\n",
       "<polygon fill=\"#000000\" stroke=\"#000000\" points=\"152.2118,-162.7628 143.2384,-157.13 146.7406,-167.1293 152.2118,-162.7628\"/>\n",
       "</g>\n",
       "<!-- 7 -->\n",
       "<g id=\"node8\" class=\"node\">\n",
       "<title>7</title>\n",
       "<polygon fill=\"#399de5\" stroke=\"#000000\" points=\"332,-149.5 234,-149.5 234,-96.5 332,-96.5 332,-149.5\"/>\n",
       "<text text-anchor=\"middle\" x=\"283\" y=\"-134.3\" font-family=\"Times,serif\" font-size=\"14.00\" fill=\"#000000\">gini = 0.0</text>\n",
       "<text text-anchor=\"middle\" x=\"283\" y=\"-119.3\" font-family=\"Times,serif\" font-size=\"14.00\" fill=\"#000000\">samples = 15</text>\n",
       "<text text-anchor=\"middle\" x=\"283\" y=\"-104.3\" font-family=\"Times,serif\" font-size=\"14.00\" fill=\"#000000\">value = [0, 15]</text>\n",
       "</g>\n",
       "<!-- 3&#45;&gt;7 -->\n",
       "<g id=\"edge7\" class=\"edge\">\n",
       "<title>3&#45;&gt;7</title>\n",
       "<path fill=\"none\" stroke=\"#000000\" d=\"M226.5047,-192.9465C235.6683,-181.6012 245.8811,-168.9567 255.0761,-157.5724\"/>\n",
       "<polygon fill=\"#000000\" stroke=\"#000000\" points=\"258.0015,-159.5208 261.5621,-149.5422 252.5559,-155.1224 258.0015,-159.5208\"/>\n",
       "</g>\n",
       "<!-- 5 -->\n",
       "<g id=\"node6\" class=\"node\">\n",
       "<title>5</title>\n",
       "<polygon fill=\"#399de5\" stroke=\"#000000\" points=\"102,-53 10,-53 10,0 102,0 102,-53\"/>\n",
       "<text text-anchor=\"middle\" x=\"56\" y=\"-37.8\" font-family=\"Times,serif\" font-size=\"14.00\" fill=\"#000000\">gini = 0.0</text>\n",
       "<text text-anchor=\"middle\" x=\"56\" y=\"-22.8\" font-family=\"Times,serif\" font-size=\"14.00\" fill=\"#000000\">samples = 3</text>\n",
       "<text text-anchor=\"middle\" x=\"56\" y=\"-7.8\" font-family=\"Times,serif\" font-size=\"14.00\" fill=\"#000000\">value = [0, 3]</text>\n",
       "</g>\n",
       "<!-- 4&#45;&gt;5 -->\n",
       "<g id=\"edge5\" class=\"edge\">\n",
       "<title>4&#45;&gt;5</title>\n",
       "<path fill=\"none\" stroke=\"#000000\" d=\"M94.8462,-88.9777C89.3805,-80.187 83.4846,-70.7044 77.9778,-61.8477\"/>\n",
       "<polygon fill=\"#000000\" stroke=\"#000000\" points=\"80.8837,-59.8927 72.6312,-53.2485 74.9391,-63.5889 80.8837,-59.8927\"/>\n",
       "</g>\n",
       "<!-- 6 -->\n",
       "<g id=\"node7\" class=\"node\">\n",
       "<title>6</title>\n",
       "<polygon fill=\"#e68742\" stroke=\"#000000\" points=\"232,-53 120,-53 120,0 232,0 232,-53\"/>\n",
       "<text text-anchor=\"middle\" x=\"176\" y=\"-37.8\" font-family=\"Times,serif\" font-size=\"14.00\" fill=\"#000000\">gini = 0.081</text>\n",
       "<text text-anchor=\"middle\" x=\"176\" y=\"-22.8\" font-family=\"Times,serif\" font-size=\"14.00\" fill=\"#000000\">samples = 356</text>\n",
       "<text text-anchor=\"middle\" x=\"176\" y=\"-7.8\" font-family=\"Times,serif\" font-size=\"14.00\" fill=\"#000000\">value = [341, 15]</text>\n",
       "</g>\n",
       "<!-- 4&#45;&gt;6 -->\n",
       "<g id=\"edge6\" class=\"edge\">\n",
       "<title>4&#45;&gt;6</title>\n",
       "<path fill=\"none\" stroke=\"#000000\" d=\"M137.1538,-88.9777C142.6195,-80.187 148.5154,-70.7044 154.0222,-61.8477\"/>\n",
       "<polygon fill=\"#000000\" stroke=\"#000000\" points=\"157.0609,-63.5889 159.3688,-53.2485 151.1163,-59.8927 157.0609,-63.5889\"/>\n",
       "</g>\n",
       "</g>\n",
       "</svg>\n"
      ],
      "text/plain": [
       "<graphviz.files.Source at 0x7f3cacc2c0f0>"
      ]
     },
     "metadata": {},
     "output_type": "display_data"
    }
   ],
   "source": [
    "v_feature_name = df_train_x.columns\n",
    "\n",
    "\n",
    "# 노드의 최소 자료수=8 모델\n",
    "tree_graph=DecisionTreeClassifier(random_state=1234,max_depth=4)\n",
    "tree_graph.fit(df_train_x, df_train_y)\n",
    "export_graphviz(tree_graph, out_file=\"tree_depth.dot\", feature_names=v_feature_name, impurity=True, filled=True)\n",
    "\n",
    "with open(\"tree_depth.dot\") as f:\n",
    "    dot_graph=f.read()\n",
    "display(graphviz.Source(dot_graph))"
   ]
  },
  {
   "cell_type": "markdown",
   "metadata": {},
   "source": [
    "##### min_samples_split 정하기"
   ]
  },
  {
   "cell_type": "code",
   "execution_count": 57,
   "metadata": {},
   "outputs": [
    {
     "data": {
      "text/html": [
       "<div>\n",
       "<style scoped>\n",
       "    .dataframe tbody tr th:only-of-type {\n",
       "        vertical-align: middle;\n",
       "    }\n",
       "\n",
       "    .dataframe tbody tr th {\n",
       "        vertical-align: top;\n",
       "    }\n",
       "\n",
       "    .dataframe thead th {\n",
       "        text-align: right;\n",
       "    }\n",
       "</style>\n",
       "<table border=\"1\" class=\"dataframe\">\n",
       "  <thead>\n",
       "    <tr style=\"text-align: right;\">\n",
       "      <th></th>\n",
       "      <th>Split</th>\n",
       "      <th>TrainAccuracy</th>\n",
       "      <th>TestAccuracy</th>\n",
       "    </tr>\n",
       "  </thead>\n",
       "  <tbody>\n",
       "    <tr>\n",
       "      <th>0</th>\n",
       "      <td>10</td>\n",
       "      <td>0.97</td>\n",
       "      <td>0.967</td>\n",
       "    </tr>\n",
       "    <tr>\n",
       "      <th>1</th>\n",
       "      <td>20</td>\n",
       "      <td>0.97</td>\n",
       "      <td>0.967</td>\n",
       "    </tr>\n",
       "    <tr>\n",
       "      <th>2</th>\n",
       "      <td>30</td>\n",
       "      <td>0.97</td>\n",
       "      <td>0.967</td>\n",
       "    </tr>\n",
       "    <tr>\n",
       "      <th>3</th>\n",
       "      <td>40</td>\n",
       "      <td>0.97</td>\n",
       "      <td>0.967</td>\n",
       "    </tr>\n",
       "    <tr>\n",
       "      <th>4</th>\n",
       "      <td>50</td>\n",
       "      <td>0.97</td>\n",
       "      <td>0.967</td>\n",
       "    </tr>\n",
       "    <tr>\n",
       "      <th>5</th>\n",
       "      <td>60</td>\n",
       "      <td>0.97</td>\n",
       "      <td>0.967</td>\n",
       "    </tr>\n",
       "    <tr>\n",
       "      <th>6</th>\n",
       "      <td>70</td>\n",
       "      <td>0.97</td>\n",
       "      <td>0.967</td>\n",
       "    </tr>\n",
       "    <tr>\n",
       "      <th>7</th>\n",
       "      <td>80</td>\n",
       "      <td>0.97</td>\n",
       "      <td>0.967</td>\n",
       "    </tr>\n",
       "    <tr>\n",
       "      <th>8</th>\n",
       "      <td>90</td>\n",
       "      <td>0.97</td>\n",
       "      <td>0.967</td>\n",
       "    </tr>\n",
       "    <tr>\n",
       "      <th>9</th>\n",
       "      <td>100</td>\n",
       "      <td>0.97</td>\n",
       "      <td>0.967</td>\n",
       "    </tr>\n",
       "    <tr>\n",
       "      <th>10</th>\n",
       "      <td>110</td>\n",
       "      <td>0.97</td>\n",
       "      <td>0.967</td>\n",
       "    </tr>\n",
       "    <tr>\n",
       "      <th>11</th>\n",
       "      <td>120</td>\n",
       "      <td>0.97</td>\n",
       "      <td>0.967</td>\n",
       "    </tr>\n",
       "    <tr>\n",
       "      <th>12</th>\n",
       "      <td>130</td>\n",
       "      <td>0.97</td>\n",
       "      <td>0.967</td>\n",
       "    </tr>\n",
       "    <tr>\n",
       "      <th>13</th>\n",
       "      <td>140</td>\n",
       "      <td>0.97</td>\n",
       "      <td>0.967</td>\n",
       "    </tr>\n",
       "  </tbody>\n",
       "</table>\n",
       "</div>"
      ],
      "text/plain": [
       "    Split  TrainAccuracy  TestAccuracy\n",
       "0      10           0.97         0.967\n",
       "1      20           0.97         0.967\n",
       "2      30           0.97         0.967\n",
       "3      40           0.97         0.967\n",
       "4      50           0.97         0.967\n",
       "5      60           0.97         0.967\n",
       "6      70           0.97         0.967\n",
       "7      80           0.97         0.967\n",
       "8      90           0.97         0.967\n",
       "9     100           0.97         0.967\n",
       "10    110           0.97         0.967\n",
       "11    120           0.97         0.967\n",
       "12    130           0.97         0.967\n",
       "13    140           0.97         0.967"
      ]
     },
     "execution_count": 57,
     "metadata": {},
     "output_type": "execute_result"
    }
   ],
   "source": [
    "train_accuracy =[]; test_accuracy=[]\n",
    "\n",
    "para_split = [n_split*10 for n_split in range(1,15)]\n",
    "\n",
    "for v_min_samples_split in para_split:\n",
    "    tree=DecisionTreeClassifier(max_depth=4,\n",
    "                                min_samples_split=v_min_samples_split,random_state=1234)\n",
    "    tree.fit(df_train_x, df_train_y)\n",
    "    train_accuracy.append(tree.score(df_train_x, df_train_y))\n",
    "    test_accuracy.append(tree.score(df_test_x, df_test_y))\n",
    "    \n",
    "df_accuracy_split = pd.DataFrame()\n",
    "df_accuracy_split['Split']=para_split\n",
    "df_accuracy_split['TrainAccuracy']=train_accuracy\n",
    "df_accuracy_split['TestAccuracy']=test_accuracy\n",
    "\n",
    "df_accuracy_split.round(3)"
   ]
  },
  {
   "cell_type": "code",
   "execution_count": 58,
   "metadata": {},
   "outputs": [
    {
     "data": {
      "text/plain": [
       "<matplotlib.legend.Legend at 0x7f3cacc2cba8>"
      ]
     },
     "execution_count": 58,
     "metadata": {},
     "output_type": "execute_result"
    },
    {
     "data": {
      "image/png": "[encoded data removed]",
      "text/plain": [
       "<Figure size 432x288 with 1 Axes>"
      ]
     },
     "metadata": {
      "needs_background": "light"
     },
     "output_type": "display_data"
    }
   ],
   "source": [
    "plt.plot(para_split, train_accuracy, linestyle=\"-\", label=\"Train Accuracy\")\n",
    "plt.plot(para_split, test_accuracy, linestyle=\"--\", label=\"Test Accuracy\")\n",
    "plt.legend()"
   ]
  },
  {
   "cell_type": "markdown",
   "metadata": {},
   "source": [
    "분리 노드의 최소자료 수 변경에 따른 모델 성능이 일정하기 때문에 train데이터의 수(499개)를 고려하여 40을 선택한다."
   ]
  },
  {
   "cell_type": "code",
   "execution_count": 59,
   "metadata": {},
   "outputs": [
    {
     "data": {
      "image/svg+xml": [
       "<?xml version=\"1.0\" encoding=\"UTF-8\" standalone=\"no\"?>\n",
       "<!DOCTYPE svg PUBLIC \"-//W3C//DTD SVG 1.1//EN\"\n",
       " \"http://www.w3.org/Graphics/SVG/1.1/DTD/svg11.dtd\">\n",
       "<!-- Generated by graphviz version 2.40.1 (20161225.0304)\n",
       " -->\n",
       "<!-- Title: Tree Pages: 1 -->\n",
       "<svg width=\"340pt\" height=\"477pt\"\n",
       " viewBox=\"0.00 0.00 340.00 477.00\" xmlns=\"http://www.w3.org/2000/svg\" xmlns:xlink=\"http://www.w3.org/1999/xlink\">\n",
       "<g id=\"graph0\" class=\"graph\" transform=\"scale(1 1) rotate(0) translate(4 473)\">\n",
       "<title>Tree</title>\n",
       "<polygon fill=\"#ffffff\" stroke=\"transparent\" points=\"-4,4 -4,-473 336,-473 336,4 -4,4\"/>\n",
       "<!-- 0 -->\n",
       "<g id=\"node1\" class=\"node\">\n",
       "<title>0</title>\n",
       "<polygon fill=\"#f1bb95\" stroke=\"#000000\" points=\"290.5,-469 87.5,-469 87.5,-401 290.5,-401 290.5,-469\"/>\n",
       "<text text-anchor=\"middle\" x=\"189\" y=\"-453.8\" font-family=\"Times,serif\" font-size=\"14.00\" fill=\"#000000\">ROLLING_TEMP_T5 &lt;= 1000.5</text>\n",
       "<text text-anchor=\"middle\" x=\"189\" y=\"-438.8\" font-family=\"Times,serif\" font-size=\"14.00\" fill=\"#000000\">gini = 0.433</text>\n",
       "<text text-anchor=\"middle\" x=\"189\" y=\"-423.8\" font-family=\"Times,serif\" font-size=\"14.00\" fill=\"#000000\">samples = 499</text>\n",
       "<text text-anchor=\"middle\" x=\"189\" y=\"-408.8\" font-family=\"Times,serif\" font-size=\"14.00\" fill=\"#000000\">value = [341, 158]</text>\n",
       "</g>\n",
       "<!-- 1 -->\n",
       "<g id=\"node2\" class=\"node\">\n",
       "<title>1</title>\n",
       "<polygon fill=\"#e99558\" stroke=\"#000000\" points=\"183,-365 65,-365 65,-297 183,-297 183,-365\"/>\n",
       "<text text-anchor=\"middle\" x=\"124\" y=\"-349.8\" font-family=\"Times,serif\" font-size=\"14.00\" fill=\"#000000\">HSB_적용 &lt;= 0.5</text>\n",
       "<text text-anchor=\"middle\" x=\"124\" y=\"-334.8\" font-family=\"Times,serif\" font-size=\"14.00\" fill=\"#000000\">gini = 0.236</text>\n",
       "<text text-anchor=\"middle\" x=\"124\" y=\"-319.8\" font-family=\"Times,serif\" font-size=\"14.00\" fill=\"#000000\">samples = 395</text>\n",
       "<text text-anchor=\"middle\" x=\"124\" y=\"-304.8\" font-family=\"Times,serif\" font-size=\"14.00\" fill=\"#000000\">value = [341, 54]</text>\n",
       "</g>\n",
       "<!-- 0&#45;&gt;1 -->\n",
       "<g id=\"edge1\" class=\"edge\">\n",
       "<title>0&#45;&gt;1</title>\n",
       "<path fill=\"none\" stroke=\"#000000\" d=\"M167.7166,-400.9465C162.2733,-392.2373 156.3516,-382.7626 150.675,-373.6801\"/>\n",
       "<polygon fill=\"#000000\" stroke=\"#000000\" points=\"153.5993,-371.755 145.3312,-365.13 147.6633,-375.465 153.5993,-371.755\"/>\n",
       "<text text-anchor=\"middle\" x=\"139.7098\" y=\"-385.7898\" font-family=\"Times,serif\" font-size=\"14.00\" fill=\"#000000\">True</text>\n",
       "</g>\n",
       "<!-- 8 -->\n",
       "<g id=\"node9\" class=\"node\">\n",
       "<title>8</title>\n",
       "<polygon fill=\"#399de5\" stroke=\"#000000\" points=\"306.5,-357.5 201.5,-357.5 201.5,-304.5 306.5,-304.5 306.5,-357.5\"/>\n",
       "<text text-anchor=\"middle\" x=\"254\" y=\"-342.3\" font-family=\"Times,serif\" font-size=\"14.00\" fill=\"#000000\">gini = 0.0</text>\n",
       "<text text-anchor=\"middle\" x=\"254\" y=\"-327.3\" font-family=\"Times,serif\" font-size=\"14.00\" fill=\"#000000\">samples = 104</text>\n",
       "<text text-anchor=\"middle\" x=\"254\" y=\"-312.3\" font-family=\"Times,serif\" font-size=\"14.00\" fill=\"#000000\">value = [0, 104]</text>\n",
       "</g>\n",
       "<!-- 0&#45;&gt;8 -->\n",
       "<g id=\"edge8\" class=\"edge\">\n",
       "<title>0&#45;&gt;8</title>\n",
       "<path fill=\"none\" stroke=\"#000000\" d=\"M210.2834,-400.9465C217.2366,-389.8215 224.9705,-377.4473 231.9769,-366.237\"/>\n",
       "<polygon fill=\"#000000\" stroke=\"#000000\" points=\"235.0791,-367.8772 237.4111,-357.5422 229.1431,-364.1671 235.0791,-367.8772\"/>\n",
       "<text text-anchor=\"middle\" x=\"243.0326\" y=\"-378.2019\" font-family=\"Times,serif\" font-size=\"14.00\" fill=\"#000000\">False</text>\n",
       "</g>\n",
       "<!-- 2 -->\n",
       "<g id=\"node3\" class=\"node\">\n",
       "<title>2</title>\n",
       "<polygon fill=\"#399de5\" stroke=\"#000000\" points=\"98,-253.5 0,-253.5 0,-200.5 98,-200.5 98,-253.5\"/>\n",
       "<text text-anchor=\"middle\" x=\"49\" y=\"-238.3\" font-family=\"Times,serif\" font-size=\"14.00\" fill=\"#000000\">gini = 0.0</text>\n",
       "<text text-anchor=\"middle\" x=\"49\" y=\"-223.3\" font-family=\"Times,serif\" font-size=\"14.00\" fill=\"#000000\">samples = 21</text>\n",
       "<text text-anchor=\"middle\" x=\"49\" y=\"-208.3\" font-family=\"Times,serif\" font-size=\"14.00\" fill=\"#000000\">value = [0, 21]</text>\n",
       "</g>\n",
       "<!-- 1&#45;&gt;2 -->\n",
       "<g id=\"edge2\" class=\"edge\">\n",
       "<title>1&#45;&gt;2</title>\n",
       "<path fill=\"none\" stroke=\"#000000\" d=\"M99.4422,-296.9465C91.3399,-285.7113 82.3188,-273.2021 74.1714,-261.9043\"/>\n",
       "<polygon fill=\"#000000\" stroke=\"#000000\" points=\"76.8291,-259.6058 68.141,-253.5422 71.1514,-263.7003 76.8291,-259.6058\"/>\n",
       "</g>\n",
       "<!-- 3 -->\n",
       "<g id=\"node4\" class=\"node\">\n",
       "<title>3</title>\n",
       "<polygon fill=\"#e88d4c\" stroke=\"#000000\" points=\"282,-261 116,-261 116,-193 282,-193 282,-261\"/>\n",
       "<text text-anchor=\"middle\" x=\"199\" y=\"-245.8\" font-family=\"Times,serif\" font-size=\"14.00\" fill=\"#000000\">FUR_EXTEMP &lt;= 1175.5</text>\n",
       "<text text-anchor=\"middle\" x=\"199\" y=\"-230.8\" font-family=\"Times,serif\" font-size=\"14.00\" fill=\"#000000\">gini = 0.161</text>\n",
       "<text text-anchor=\"middle\" x=\"199\" y=\"-215.8\" font-family=\"Times,serif\" font-size=\"14.00\" fill=\"#000000\">samples = 374</text>\n",
       "<text text-anchor=\"middle\" x=\"199\" y=\"-200.8\" font-family=\"Times,serif\" font-size=\"14.00\" fill=\"#000000\">value = [341, 33]</text>\n",
       "</g>\n",
       "<!-- 1&#45;&gt;3 -->\n",
       "<g id=\"edge3\" class=\"edge\">\n",
       "<title>1&#45;&gt;3</title>\n",
       "<path fill=\"none\" stroke=\"#000000\" d=\"M148.5578,-296.9465C154.9032,-288.1475 161.8121,-278.5672 168.4236,-269.3993\"/>\n",
       "<polygon fill=\"#000000\" stroke=\"#000000\" points=\"171.3766,-271.2882 174.387,-261.13 165.6989,-267.1937 171.3766,-271.2882\"/>\n",
       "</g>\n",
       "<!-- 4 -->\n",
       "<g id=\"node5\" class=\"node\">\n",
       "<title>4</title>\n",
       "<polygon fill=\"#e68843\" stroke=\"#000000\" points=\"216,-157 16,-157 16,-89 216,-89 216,-157\"/>\n",
       "<text text-anchor=\"middle\" x=\"116\" y=\"-141.8\" font-family=\"Times,serif\" font-size=\"14.00\" fill=\"#000000\">ROLLING_DESCALING &lt;= 5.5</text>\n",
       "<text text-anchor=\"middle\" x=\"116\" y=\"-126.8\" font-family=\"Times,serif\" font-size=\"14.00\" fill=\"#000000\">gini = 0.095</text>\n",
       "<text text-anchor=\"middle\" x=\"116\" y=\"-111.8\" font-family=\"Times,serif\" font-size=\"14.00\" fill=\"#000000\">samples = 359</text>\n",
       "<text text-anchor=\"middle\" x=\"116\" y=\"-96.8\" font-family=\"Times,serif\" font-size=\"14.00\" fill=\"#000000\">value = [341, 18]</text>\n",
       "</g>\n",
       "<!-- 3&#45;&gt;4 -->\n",
       "<g id=\"edge4\" class=\"edge\">\n",
       "<title>3&#45;&gt;4</title>\n",
       "<path fill=\"none\" stroke=\"#000000\" d=\"M171.8227,-192.9465C164.7288,-184.0578 156.9985,-174.3716 149.614,-165.1188\"/>\n",
       "<polygon fill=\"#000000\" stroke=\"#000000\" points=\"152.2118,-162.7628 143.2384,-157.13 146.7406,-167.1293 152.2118,-162.7628\"/>\n",
       "</g>\n",
       "<!-- 7 -->\n",
       "<g id=\"node8\" class=\"node\">\n",
       "<title>7</title>\n",
       "<polygon fill=\"#399de5\" stroke=\"#000000\" points=\"332,-149.5 234,-149.5 234,-96.5 332,-96.5 332,-149.5\"/>\n",
       "<text text-anchor=\"middle\" x=\"283\" y=\"-134.3\" font-family=\"Times,serif\" font-size=\"14.00\" fill=\"#000000\">gini = 0.0</text>\n",
       "<text text-anchor=\"middle\" x=\"283\" y=\"-119.3\" font-family=\"Times,serif\" font-size=\"14.00\" fill=\"#000000\">samples = 15</text>\n",
       "<text text-anchor=\"middle\" x=\"283\" y=\"-104.3\" font-family=\"Times,serif\" font-size=\"14.00\" fill=\"#000000\">value = [0, 15]</text>\n",
       "</g>\n",
       "<!-- 3&#45;&gt;7 -->\n",
       "<g id=\"edge7\" class=\"edge\">\n",
       "<title>3&#45;&gt;7</title>\n",
       "<path fill=\"none\" stroke=\"#000000\" d=\"M226.5047,-192.9465C235.6683,-181.6012 245.8811,-168.9567 255.0761,-157.5724\"/>\n",
       "<polygon fill=\"#000000\" stroke=\"#000000\" points=\"258.0015,-159.5208 261.5621,-149.5422 252.5559,-155.1224 258.0015,-159.5208\"/>\n",
       "</g>\n",
       "<!-- 5 -->\n",
       "<g id=\"node6\" class=\"node\">\n",
       "<title>5</title>\n",
       "<polygon fill=\"#399de5\" stroke=\"#000000\" points=\"102,-53 10,-53 10,0 102,0 102,-53\"/>\n",
       "<text text-anchor=\"middle\" x=\"56\" y=\"-37.8\" font-family=\"Times,serif\" font-size=\"14.00\" fill=\"#000000\">gini = 0.0</text>\n",
       "<text text-anchor=\"middle\" x=\"56\" y=\"-22.8\" font-family=\"Times,serif\" font-size=\"14.00\" fill=\"#000000\">samples = 3</text>\n",
       "<text text-anchor=\"middle\" x=\"56\" y=\"-7.8\" font-family=\"Times,serif\" font-size=\"14.00\" fill=\"#000000\">value = [0, 3]</text>\n",
       "</g>\n",
       "<!-- 4&#45;&gt;5 -->\n",
       "<g id=\"edge5\" class=\"edge\">\n",
       "<title>4&#45;&gt;5</title>\n",
       "<path fill=\"none\" stroke=\"#000000\" d=\"M94.8462,-88.9777C89.3805,-80.187 83.4846,-70.7044 77.9778,-61.8477\"/>\n",
       "<polygon fill=\"#000000\" stroke=\"#000000\" points=\"80.8837,-59.8927 72.6312,-53.2485 74.9391,-63.5889 80.8837,-59.8927\"/>\n",
       "</g>\n",
       "<!-- 6 -->\n",
       "<g id=\"node7\" class=\"node\">\n",
       "<title>6</title>\n",
       "<polygon fill=\"#e68742\" stroke=\"#000000\" points=\"232,-53 120,-53 120,0 232,0 232,-53\"/>\n",
       "<text text-anchor=\"middle\" x=\"176\" y=\"-37.8\" font-family=\"Times,serif\" font-size=\"14.00\" fill=\"#000000\">gini = 0.081</text>\n",
       "<text text-anchor=\"middle\" x=\"176\" y=\"-22.8\" font-family=\"Times,serif\" font-size=\"14.00\" fill=\"#000000\">samples = 356</text>\n",
       "<text text-anchor=\"middle\" x=\"176\" y=\"-7.8\" font-family=\"Times,serif\" font-size=\"14.00\" fill=\"#000000\">value = [341, 15]</text>\n",
       "</g>\n",
       "<!-- 4&#45;&gt;6 -->\n",
       "<g id=\"edge6\" class=\"edge\">\n",
       "<title>4&#45;&gt;6</title>\n",
       "<path fill=\"none\" stroke=\"#000000\" d=\"M137.1538,-88.9777C142.6195,-80.187 148.5154,-70.7044 154.0222,-61.8477\"/>\n",
       "<polygon fill=\"#000000\" stroke=\"#000000\" points=\"157.0609,-63.5889 159.3688,-53.2485 151.1163,-59.8927 157.0609,-63.5889\"/>\n",
       "</g>\n",
       "</g>\n",
       "</svg>\n"
      ],
      "text/plain": [
       "<graphviz.files.Source at 0x7f3cacc2c5c0>"
      ]
     },
     "metadata": {},
     "output_type": "display_data"
    }
   ],
   "source": [
    "v_feature_name = df_train_x.columns\n",
    "\n",
    "\n",
    "# 노드의 최소 자료수=8 모델\n",
    "tree_graph=DecisionTreeClassifier(random_state=1234,max_depth=4,\n",
    "                                 min_samples_split=40)\n",
    "tree_graph.fit(df_train_x, df_train_y)\n",
    "export_graphviz(tree_graph, out_file=\"tree_split.dot\", feature_names=v_feature_name, impurity=True, filled=True)\n",
    "\n",
    "with open(\"tree_split.dot\") as f:\n",
    "    dot_graph=f.read()\n",
    "display(graphviz.Source(dot_graph))"
   ]
  },
  {
   "cell_type": "markdown",
   "metadata": {},
   "source": [
    "##### min_samples_leaf정하기"
   ]
  },
  {
   "cell_type": "code",
   "execution_count": 60,
   "metadata": {},
   "outputs": [
    {
     "data": {
      "text/html": [
       "<div>\n",
       "<style scoped>\n",
       "    .dataframe tbody tr th:only-of-type {\n",
       "        vertical-align: middle;\n",
       "    }\n",
       "\n",
       "    .dataframe tbody tr th {\n",
       "        vertical-align: top;\n",
       "    }\n",
       "\n",
       "    .dataframe thead th {\n",
       "        text-align: right;\n",
       "    }\n",
       "</style>\n",
       "<table border=\"1\" class=\"dataframe\">\n",
       "  <thead>\n",
       "    <tr style=\"text-align: right;\">\n",
       "      <th></th>\n",
       "      <th>Leaf</th>\n",
       "      <th>TrainAccuracy</th>\n",
       "      <th>TestAccuracy</th>\n",
       "    </tr>\n",
       "  </thead>\n",
       "  <tbody>\n",
       "    <tr>\n",
       "      <th>0</th>\n",
       "      <td>2</td>\n",
       "      <td>0.970</td>\n",
       "      <td>0.967</td>\n",
       "    </tr>\n",
       "    <tr>\n",
       "      <th>1</th>\n",
       "      <td>4</td>\n",
       "      <td>0.964</td>\n",
       "      <td>0.958</td>\n",
       "    </tr>\n",
       "    <tr>\n",
       "      <th>2</th>\n",
       "      <td>6</td>\n",
       "      <td>0.964</td>\n",
       "      <td>0.958</td>\n",
       "    </tr>\n",
       "    <tr>\n",
       "      <th>3</th>\n",
       "      <td>8</td>\n",
       "      <td>0.964</td>\n",
       "      <td>0.958</td>\n",
       "    </tr>\n",
       "    <tr>\n",
       "      <th>4</th>\n",
       "      <td>10</td>\n",
       "      <td>0.964</td>\n",
       "      <td>0.958</td>\n",
       "    </tr>\n",
       "    <tr>\n",
       "      <th>5</th>\n",
       "      <td>12</td>\n",
       "      <td>0.964</td>\n",
       "      <td>0.958</td>\n",
       "    </tr>\n",
       "    <tr>\n",
       "      <th>6</th>\n",
       "      <td>14</td>\n",
       "      <td>0.964</td>\n",
       "      <td>0.958</td>\n",
       "    </tr>\n",
       "    <tr>\n",
       "      <th>7</th>\n",
       "      <td>16</td>\n",
       "      <td>0.960</td>\n",
       "      <td>0.953</td>\n",
       "    </tr>\n",
       "    <tr>\n",
       "      <th>8</th>\n",
       "      <td>18</td>\n",
       "      <td>0.954</td>\n",
       "      <td>0.940</td>\n",
       "    </tr>\n",
       "    <tr>\n",
       "      <th>9</th>\n",
       "      <td>20</td>\n",
       "      <td>0.954</td>\n",
       "      <td>0.940</td>\n",
       "    </tr>\n",
       "  </tbody>\n",
       "</table>\n",
       "</div>"
      ],
      "text/plain": [
       "   Leaf  TrainAccuracy  TestAccuracy\n",
       "0     2          0.970         0.967\n",
       "1     4          0.964         0.958\n",
       "2     6          0.964         0.958\n",
       "3     8          0.964         0.958\n",
       "4    10          0.964         0.958\n",
       "5    12          0.964         0.958\n",
       "6    14          0.964         0.958\n",
       "7    16          0.960         0.953\n",
       "8    18          0.954         0.940\n",
       "9    20          0.954         0.940"
      ]
     },
     "execution_count": 60,
     "metadata": {},
     "output_type": "execute_result"
    }
   ],
   "source": [
    "train_accuracy =[]; test_accuracy=[]\n",
    "\n",
    "para_leaf = [n_leaf*2 for n_leaf in range(1,11)]\n",
    "\n",
    "for v_min_samples_leaf in para_leaf:\n",
    "    tree=DecisionTreeClassifier(max_depth=4,\n",
    "                                min_samples_split=40,\n",
    "                                min_samples_leaf=v_min_samples_leaf\n",
    "                                ,random_state=1234)\n",
    "    tree.fit(df_train_x, df_train_y)\n",
    "    train_accuracy.append(tree.score(df_train_x, df_train_y))\n",
    "    test_accuracy.append(tree.score(df_test_x, df_test_y))\n",
    "    \n",
    "df_accuracy_leaf = pd.DataFrame()\n",
    "df_accuracy_leaf['Leaf']=para_leaf\n",
    "df_accuracy_leaf['TrainAccuracy']=train_accuracy\n",
    "df_accuracy_leaf['TestAccuracy']=test_accuracy\n",
    "\n",
    "df_accuracy_leaf.round(3)"
   ]
  },
  {
   "cell_type": "code",
   "execution_count": 61,
   "metadata": {},
   "outputs": [
    {
     "data": {
      "text/plain": [
       "<matplotlib.legend.Legend at 0x7f3cacbf9eb8>"
      ]
     },
     "execution_count": 61,
     "metadata": {},
     "output_type": "execute_result"
    },
    {
     "data": {
      "image/png": "[encoded data removed]",
      "text/plain": [
       "<Figure size 432x288 with 1 Axes>"
      ]
     },
     "metadata": {
      "needs_background": "light"
     },
     "output_type": "display_data"
    }
   ],
   "source": [
    "plt.plot(para_leaf, train_accuracy, linestyle=\"-\", label=\"Train Accuracy\")\n",
    "plt.plot(para_leaf, test_accuracy, linestyle=\"--\", label=\"Test Accuracy\")\n",
    "plt.legend()"
   ]
  },
  {
   "cell_type": "markdown",
   "metadata": {},
   "source": [
    "잎사귀 노드의 최소 자료 수 변경에 따른 모델 성능이 점차 감소하는 추세를 보여주므로 train데이터의 수 (499개)와 분리노드의 최소 자료수 40을 고려하여 10을 선택한다."
   ]
  },
  {
   "cell_type": "code",
   "execution_count": 62,
   "metadata": {},
   "outputs": [
    {
     "data": {
      "image/svg+xml": [
       "<?xml version=\"1.0\" encoding=\"UTF-8\" standalone=\"no\"?>\n",
       "<!DOCTYPE svg PUBLIC \"-//W3C//DTD SVG 1.1//EN\"\n",
       " \"http://www.w3.org/Graphics/SVG/1.1/DTD/svg11.dtd\">\n",
       "<!-- Generated by graphviz version 2.40.1 (20161225.0304)\n",
       " -->\n",
       "<!-- Title: Tree Pages: 1 -->\n",
       "<svg width=\"343pt\" height=\"552pt\"\n",
       " viewBox=\"0.00 0.00 343.00 552.00\" xmlns=\"http://www.w3.org/2000/svg\" xmlns:xlink=\"http://www.w3.org/1999/xlink\">\n",
       "<g id=\"graph0\" class=\"graph\" transform=\"scale(1 1) rotate(0) translate(4 548)\">\n",
       "<title>Tree</title>\n",
       "<polygon fill=\"#ffffff\" stroke=\"transparent\" points=\"-4,4 -4,-548 339,-548 339,4 -4,4\"/>\n",
       "<!-- 0 -->\n",
       "<g id=\"node1\" class=\"node\">\n",
       "<title>0</title>\n",
       "<polygon fill=\"#f1bb95\" stroke=\"#000000\" points=\"293.5,-544 90.5,-544 90.5,-461 293.5,-461 293.5,-544\"/>\n",
       "<text text-anchor=\"middle\" x=\"192\" y=\"-528.8\" font-family=\"Times,serif\" font-size=\"14.00\" fill=\"#000000\">ROLLING_TEMP_T5 &lt;= 1000.5</text>\n",
       "<text text-anchor=\"middle\" x=\"192\" y=\"-513.8\" font-family=\"Times,serif\" font-size=\"14.00\" fill=\"#000000\">gini = 0.433</text>\n",
       "<text text-anchor=\"middle\" x=\"192\" y=\"-498.8\" font-family=\"Times,serif\" font-size=\"14.00\" fill=\"#000000\">samples = 499</text>\n",
       "<text text-anchor=\"middle\" x=\"192\" y=\"-483.8\" font-family=\"Times,serif\" font-size=\"14.00\" fill=\"#000000\">value = [341, 158]</text>\n",
       "<text text-anchor=\"middle\" x=\"192\" y=\"-468.8\" font-family=\"Times,serif\" font-size=\"14.00\" fill=\"#000000\">class = Good</text>\n",
       "</g>\n",
       "<!-- 1 -->\n",
       "<g id=\"node2\" class=\"node\">\n",
       "<title>1</title>\n",
       "<polygon fill=\"#e99558\" stroke=\"#000000\" points=\"186,-425 68,-425 68,-342 186,-342 186,-425\"/>\n",
       "<text text-anchor=\"middle\" x=\"127\" y=\"-409.8\" font-family=\"Times,serif\" font-size=\"14.00\" fill=\"#000000\">HSB_적용 &lt;= 0.5</text>\n",
       "<text text-anchor=\"middle\" x=\"127\" y=\"-394.8\" font-family=\"Times,serif\" font-size=\"14.00\" fill=\"#000000\">gini = 0.236</text>\n",
       "<text text-anchor=\"middle\" x=\"127\" y=\"-379.8\" font-family=\"Times,serif\" font-size=\"14.00\" fill=\"#000000\">samples = 395</text>\n",
       "<text text-anchor=\"middle\" x=\"127\" y=\"-364.8\" font-family=\"Times,serif\" font-size=\"14.00\" fill=\"#000000\">value = [341, 54]</text>\n",
       "<text text-anchor=\"middle\" x=\"127\" y=\"-349.8\" font-family=\"Times,serif\" font-size=\"14.00\" fill=\"#000000\">class = Good</text>\n",
       "</g>\n",
       "<!-- 0&#45;&gt;1 -->\n",
       "<g id=\"edge1\" class=\"edge\">\n",
       "<title>0&#45;&gt;1</title>\n",
       "<path fill=\"none\" stroke=\"#000000\" d=\"M169.2662,-460.8796C164.5435,-452.2335 159.5176,-443.0322 154.641,-434.1042\"/>\n",
       "<polygon fill=\"#000000\" stroke=\"#000000\" points=\"157.6963,-432.3964 149.8309,-425.2981 151.553,-435.752 157.6963,-432.3964\"/>\n",
       "<text text-anchor=\"middle\" x=\"142.7908\" y=\"-445.5864\" font-family=\"Times,serif\" font-size=\"14.00\" fill=\"#000000\">True</text>\n",
       "</g>\n",
       "<!-- 8 -->\n",
       "<g id=\"node9\" class=\"node\">\n",
       "<title>8</title>\n",
       "<polygon fill=\"#399de5\" stroke=\"#000000\" points=\"309.5,-417.5 204.5,-417.5 204.5,-349.5 309.5,-349.5 309.5,-417.5\"/>\n",
       "<text text-anchor=\"middle\" x=\"257\" y=\"-402.3\" font-family=\"Times,serif\" font-size=\"14.00\" fill=\"#000000\">gini = 0.0</text>\n",
       "<text text-anchor=\"middle\" x=\"257\" y=\"-387.3\" font-family=\"Times,serif\" font-size=\"14.00\" fill=\"#000000\">samples = 104</text>\n",
       "<text text-anchor=\"middle\" x=\"257\" y=\"-372.3\" font-family=\"Times,serif\" font-size=\"14.00\" fill=\"#000000\">value = [0, 104]</text>\n",
       "<text text-anchor=\"middle\" x=\"257\" y=\"-357.3\" font-family=\"Times,serif\" font-size=\"14.00\" fill=\"#000000\">class = Bad</text>\n",
       "</g>\n",
       "<!-- 0&#45;&gt;8 -->\n",
       "<g id=\"edge8\" class=\"edge\">\n",
       "<title>0&#45;&gt;8</title>\n",
       "<path fill=\"none\" stroke=\"#000000\" d=\"M214.7338,-460.8796C220.7401,-449.8835 227.237,-437.9893 233.2933,-426.9015\"/>\n",
       "<polygon fill=\"#000000\" stroke=\"#000000\" points=\"236.5345,-428.2689 238.2565,-417.8149 230.3912,-424.9133 236.5345,-428.2689\"/>\n",
       "<text text-anchor=\"middle\" x=\"245.2966\" y=\"-438.1032\" font-family=\"Times,serif\" font-size=\"14.00\" fill=\"#000000\">False</text>\n",
       "</g>\n",
       "<!-- 2 -->\n",
       "<g id=\"node3\" class=\"node\">\n",
       "<title>2</title>\n",
       "<polygon fill=\"#399de5\" stroke=\"#000000\" points=\"101,-298.5 3,-298.5 3,-230.5 101,-230.5 101,-298.5\"/>\n",
       "<text text-anchor=\"middle\" x=\"52\" y=\"-283.3\" font-family=\"Times,serif\" font-size=\"14.00\" fill=\"#000000\">gini = 0.0</text>\n",
       "<text text-anchor=\"middle\" x=\"52\" y=\"-268.3\" font-family=\"Times,serif\" font-size=\"14.00\" fill=\"#000000\">samples = 21</text>\n",
       "<text text-anchor=\"middle\" x=\"52\" y=\"-253.3\" font-family=\"Times,serif\" font-size=\"14.00\" fill=\"#000000\">value = [0, 21]</text>\n",
       "<text text-anchor=\"middle\" x=\"52\" y=\"-238.3\" font-family=\"Times,serif\" font-size=\"14.00\" fill=\"#000000\">class = Bad</text>\n",
       "</g>\n",
       "<!-- 1&#45;&gt;2 -->\n",
       "<g id=\"edge2\" class=\"edge\">\n",
       "<title>1&#45;&gt;2</title>\n",
       "<path fill=\"none\" stroke=\"#000000\" d=\"M100.7686,-341.8796C93.769,-330.7735 86.192,-318.7513 79.1444,-307.5691\"/>\n",
       "<polygon fill=\"#000000\" stroke=\"#000000\" points=\"81.92,-305.4087 73.6271,-298.8149 75.998,-309.1411 81.92,-305.4087\"/>\n",
       "</g>\n",
       "<!-- 3 -->\n",
       "<g id=\"node4\" class=\"node\">\n",
       "<title>3</title>\n",
       "<polygon fill=\"#e88d4c\" stroke=\"#000000\" points=\"285,-306 119,-306 119,-223 285,-223 285,-306\"/>\n",
       "<text text-anchor=\"middle\" x=\"202\" y=\"-290.8\" font-family=\"Times,serif\" font-size=\"14.00\" fill=\"#000000\">FUR_EXTEMP &lt;= 1175.5</text>\n",
       "<text text-anchor=\"middle\" x=\"202\" y=\"-275.8\" font-family=\"Times,serif\" font-size=\"14.00\" fill=\"#000000\">gini = 0.161</text>\n",
       "<text text-anchor=\"middle\" x=\"202\" y=\"-260.8\" font-family=\"Times,serif\" font-size=\"14.00\" fill=\"#000000\">samples = 374</text>\n",
       "<text text-anchor=\"middle\" x=\"202\" y=\"-245.8\" font-family=\"Times,serif\" font-size=\"14.00\" fill=\"#000000\">value = [341, 33]</text>\n",
       "<text text-anchor=\"middle\" x=\"202\" y=\"-230.8\" font-family=\"Times,serif\" font-size=\"14.00\" fill=\"#000000\">class = Good</text>\n",
       "</g>\n",
       "<!-- 1&#45;&gt;3 -->\n",
       "<g id=\"edge3\" class=\"edge\">\n",
       "<title>1&#45;&gt;3</title>\n",
       "<path fill=\"none\" stroke=\"#000000\" d=\"M153.2314,-341.8796C158.7373,-333.1434 164.6006,-323.8404 170.2824,-314.8253\"/>\n",
       "<polygon fill=\"#000000\" stroke=\"#000000\" points=\"173.2857,-316.6242 175.6567,-306.2981 167.3637,-312.8919 173.2857,-316.6242\"/>\n",
       "</g>\n",
       "<!-- 4 -->\n",
       "<g id=\"node5\" class=\"node\">\n",
       "<title>4</title>\n",
       "<polygon fill=\"#e68843\" stroke=\"#000000\" points=\"219,-187 19,-187 19,-104 219,-104 219,-187\"/>\n",
       "<text text-anchor=\"middle\" x=\"119\" y=\"-171.8\" font-family=\"Times,serif\" font-size=\"14.00\" fill=\"#000000\">ROLLING_DESCALING &lt;= 9.5</text>\n",
       "<text text-anchor=\"middle\" x=\"119\" y=\"-156.8\" font-family=\"Times,serif\" font-size=\"14.00\" fill=\"#000000\">gini = 0.095</text>\n",
       "<text text-anchor=\"middle\" x=\"119\" y=\"-141.8\" font-family=\"Times,serif\" font-size=\"14.00\" fill=\"#000000\">samples = 359</text>\n",
       "<text text-anchor=\"middle\" x=\"119\" y=\"-126.8\" font-family=\"Times,serif\" font-size=\"14.00\" fill=\"#000000\">value = [341, 18]</text>\n",
       "<text text-anchor=\"middle\" x=\"119\" y=\"-111.8\" font-family=\"Times,serif\" font-size=\"14.00\" fill=\"#000000\">class = Good</text>\n",
       "</g>\n",
       "<!-- 3&#45;&gt;4 -->\n",
       "<g id=\"edge4\" class=\"edge\">\n",
       "<title>3&#45;&gt;4</title>\n",
       "<path fill=\"none\" stroke=\"#000000\" d=\"M172.9706,-222.8796C166.8145,-214.0534 160.2549,-204.6485 153.9064,-195.5466\"/>\n",
       "<polygon fill=\"#000000\" stroke=\"#000000\" points=\"156.7448,-193.4978 148.1533,-187.2981 151.0033,-197.5024 156.7448,-193.4978\"/>\n",
       "</g>\n",
       "<!-- 7 -->\n",
       "<g id=\"node8\" class=\"node\">\n",
       "<title>7</title>\n",
       "<polygon fill=\"#399de5\" stroke=\"#000000\" points=\"335,-179.5 237,-179.5 237,-111.5 335,-111.5 335,-179.5\"/>\n",
       "<text text-anchor=\"middle\" x=\"286\" y=\"-164.3\" font-family=\"Times,serif\" font-size=\"14.00\" fill=\"#000000\">gini = 0.0</text>\n",
       "<text text-anchor=\"middle\" x=\"286\" y=\"-149.3\" font-family=\"Times,serif\" font-size=\"14.00\" fill=\"#000000\">samples = 15</text>\n",
       "<text text-anchor=\"middle\" x=\"286\" y=\"-134.3\" font-family=\"Times,serif\" font-size=\"14.00\" fill=\"#000000\">value = [0, 15]</text>\n",
       "<text text-anchor=\"middle\" x=\"286\" y=\"-119.3\" font-family=\"Times,serif\" font-size=\"14.00\" fill=\"#000000\">class = Bad</text>\n",
       "</g>\n",
       "<!-- 3&#45;&gt;7 -->\n",
       "<g id=\"edge7\" class=\"edge\">\n",
       "<title>3&#45;&gt;7</title>\n",
       "<path fill=\"none\" stroke=\"#000000\" d=\"M231.3791,-222.8796C239.2963,-211.6636 247.8731,-199.5131 255.8325,-188.2372\"/>\n",
       "<polygon fill=\"#000000\" stroke=\"#000000\" points=\"258.8702,-190.003 261.7777,-179.8149 253.1514,-185.9662 258.8702,-190.003\"/>\n",
       "</g>\n",
       "<!-- 5 -->\n",
       "<g id=\"node6\" class=\"node\">\n",
       "<title>5</title>\n",
       "<polygon fill=\"#e88e4d\" stroke=\"#000000\" points=\"112,-68 0,-68 0,0 112,0 112,-68\"/>\n",
       "<text text-anchor=\"middle\" x=\"56\" y=\"-52.8\" font-family=\"Times,serif\" font-size=\"14.00\" fill=\"#000000\">gini = 0.17</text>\n",
       "<text text-anchor=\"middle\" x=\"56\" y=\"-37.8\" font-family=\"Times,serif\" font-size=\"14.00\" fill=\"#000000\">samples = 192</text>\n",
       "<text text-anchor=\"middle\" x=\"56\" y=\"-22.8\" font-family=\"Times,serif\" font-size=\"14.00\" fill=\"#000000\">value = [174, 18]</text>\n",
       "<text text-anchor=\"middle\" x=\"56\" y=\"-7.8\" font-family=\"Times,serif\" font-size=\"14.00\" fill=\"#000000\">class = Good</text>\n",
       "</g>\n",
       "<!-- 4&#45;&gt;5 -->\n",
       "<g id=\"edge5\" class=\"edge\">\n",
       "<title>4&#45;&gt;5</title>\n",
       "<path fill=\"none\" stroke=\"#000000\" d=\"M95.5411,-103.9815C90.6078,-95.2504 85.3926,-86.0202 80.4248,-77.2281\"/>\n",
       "<polygon fill=\"#000000\" stroke=\"#000000\" points=\"83.3263,-75.2483 75.3597,-68.2637 77.2319,-78.6918 83.3263,-75.2483\"/>\n",
       "</g>\n",
       "<!-- 6 -->\n",
       "<g id=\"node7\" class=\"node\">\n",
       "<title>6</title>\n",
       "<polygon fill=\"#e58139\" stroke=\"#000000\" points=\"235.5,-68 130.5,-68 130.5,0 235.5,0 235.5,-68\"/>\n",
       "<text text-anchor=\"middle\" x=\"183\" y=\"-52.8\" font-family=\"Times,serif\" font-size=\"14.00\" fill=\"#000000\">gini = 0.0</text>\n",
       "<text text-anchor=\"middle\" x=\"183\" y=\"-37.8\" font-family=\"Times,serif\" font-size=\"14.00\" fill=\"#000000\">samples = 167</text>\n",
       "<text text-anchor=\"middle\" x=\"183\" y=\"-22.8\" font-family=\"Times,serif\" font-size=\"14.00\" fill=\"#000000\">value = [167, 0]</text>\n",
       "<text text-anchor=\"middle\" x=\"183\" y=\"-7.8\" font-family=\"Times,serif\" font-size=\"14.00\" fill=\"#000000\">class = Good</text>\n",
       "</g>\n",
       "<!-- 4&#45;&gt;6 -->\n",
       "<g id=\"edge6\" class=\"edge\">\n",
       "<title>4&#45;&gt;6</title>\n",
       "<path fill=\"none\" stroke=\"#000000\" d=\"M142.8312,-103.9815C147.8956,-95.1585 153.2525,-85.8258 158.3468,-76.9506\"/>\n",
       "<polygon fill=\"#000000\" stroke=\"#000000\" points=\"161.3903,-78.6789 163.333,-68.2637 155.3193,-75.1942 161.3903,-78.6789\"/>\n",
       "</g>\n",
       "</g>\n",
       "</svg>\n"
      ],
      "text/plain": [
       "<graphviz.files.Source at 0x7f3cacb9ae80>"
      ]
     },
     "metadata": {},
     "output_type": "display_data"
    }
   ],
   "source": [
    "v_feature_name = df_train_x.columns\n",
    "\n",
    "tree_graph=DecisionTreeClassifier(random_state=1234,max_depth=4,\n",
    "                                 min_samples_split=40,\n",
    "                                 min_samples_leaf=10)\n",
    "tree_graph.fit(df_train_x, df_train_y)\n",
    "export_graphviz(tree_graph, out_file=\"tree_low.dot\", feature_names=v_feature_name, impurity=True, filled=True,\n",
    "               class_names=['Good','Bad'])\n",
    "\n",
    "with open(\"tree_low.dot\") as f:\n",
    "    dot_graph=f.read()\n",
    "display(graphviz.Source(dot_graph))"
   ]
  },
  {
   "cell_type": "markdown",
   "metadata": {},
   "source": [
    "##### 최종 모델 선정"
   ]
  },
  {
   "cell_type": "code",
   "execution_count": 63,
   "metadata": {},
   "outputs": [
    {
     "data": {
      "text/plain": [
       "DecisionTreeClassifier(class_weight=None, criterion='gini', max_depth=4,\n",
       "                       max_features=None, max_leaf_nodes=None,\n",
       "                       min_impurity_decrease=0.0, min_impurity_split=None,\n",
       "                       min_samples_leaf=4, min_samples_split=40,\n",
       "                       min_weight_fraction_leaf=0.0, presort=False,\n",
       "                       random_state=1234, splitter='best')"
      ]
     },
     "execution_count": 63,
     "metadata": {},
     "output_type": "execute_result"
    }
   ],
   "source": [
    "tree_final = DecisionTreeClassifier(max_depth=4, min_samples_split=40,\n",
    "                                   min_samples_leaf=4, random_state=1234)\n",
    "tree_final.fit(df_train_x, df_train_y)"
   ]
  },
  {
   "cell_type": "markdown",
   "metadata": {},
   "source": [
    "**최종 모델 시각화**"
   ]
  },
  {
   "cell_type": "code",
   "execution_count": 105,
   "metadata": {},
   "outputs": [
    {
     "data": {
      "image/svg+xml": [
       "<?xml version=\"1.0\" encoding=\"UTF-8\" standalone=\"no\"?>\n",
       "<!DOCTYPE svg PUBLIC \"-//W3C//DTD SVG 1.1//EN\"\n",
       " \"http://www.w3.org/Graphics/SVG/1.1/DTD/svg11.dtd\">\n",
       "<!-- Generated by graphviz version 2.40.1 (20161225.0304)\n",
       " -->\n",
       "<!-- Title: Tree Pages: 1 -->\n",
       "<svg width=\"324pt\" height=\"552pt\"\n",
       " viewBox=\"0.00 0.00 324.00 552.00\" xmlns=\"http://www.w3.org/2000/svg\" xmlns:xlink=\"http://www.w3.org/1999/xlink\">\n",
       "<g id=\"graph0\" class=\"graph\" transform=\"scale(1 1) rotate(0) translate(4 548)\">\n",
       "<title>Tree</title>\n",
       "<polygon fill=\"#ffffff\" stroke=\"transparent\" points=\"-4,4 -4,-548 320,-548 320,4 -4,4\"/>\n",
       "<!-- 0 -->\n",
       "<g id=\"node1\" class=\"node\">\n",
       "<title>0</title>\n",
       "<polygon fill=\"#f1bb95\" stroke=\"#000000\" points=\"290.5,-544 87.5,-544 87.5,-461 290.5,-461 290.5,-544\"/>\n",
       "<text text-anchor=\"middle\" x=\"189\" y=\"-528.8\" font-family=\"Times,serif\" font-size=\"14.00\" fill=\"#000000\">ROLLING_TEMP_T5 &lt;= 1000.5</text>\n",
       "<text text-anchor=\"middle\" x=\"189\" y=\"-513.8\" font-family=\"Times,serif\" font-size=\"14.00\" fill=\"#000000\">gini = 0.433</text>\n",
       "<text text-anchor=\"middle\" x=\"189\" y=\"-498.8\" font-family=\"Times,serif\" font-size=\"14.00\" fill=\"#000000\">samples = 499</text>\n",
       "<text text-anchor=\"middle\" x=\"189\" y=\"-483.8\" font-family=\"Times,serif\" font-size=\"14.00\" fill=\"#000000\">value = [341, 158]</text>\n",
       "<text text-anchor=\"middle\" x=\"189\" y=\"-468.8\" font-family=\"Times,serif\" font-size=\"14.00\" fill=\"#000000\">class = Good</text>\n",
       "</g>\n",
       "<!-- 1 -->\n",
       "<g id=\"node2\" class=\"node\">\n",
       "<title>1</title>\n",
       "<polygon fill=\"#e99558\" stroke=\"#000000\" points=\"183,-425 65,-425 65,-342 183,-342 183,-425\"/>\n",
       "<text text-anchor=\"middle\" x=\"124\" y=\"-409.8\" font-family=\"Times,serif\" font-size=\"14.00\" fill=\"#000000\">HSB_적용 &lt;= 0.5</text>\n",
       "<text text-anchor=\"middle\" x=\"124\" y=\"-394.8\" font-family=\"Times,serif\" font-size=\"14.00\" fill=\"#000000\">gini = 0.236</text>\n",
       "<text text-anchor=\"middle\" x=\"124\" y=\"-379.8\" font-family=\"Times,serif\" font-size=\"14.00\" fill=\"#000000\">samples = 395</text>\n",
       "<text text-anchor=\"middle\" x=\"124\" y=\"-364.8\" font-family=\"Times,serif\" font-size=\"14.00\" fill=\"#000000\">value = [341, 54]</text>\n",
       "<text text-anchor=\"middle\" x=\"124\" y=\"-349.8\" font-family=\"Times,serif\" font-size=\"14.00\" fill=\"#000000\">class = Good</text>\n",
       "</g>\n",
       "<!-- 0&#45;&gt;1 -->\n",
       "<g id=\"edge1\" class=\"edge\">\n",
       "<title>0&#45;&gt;1</title>\n",
       "<path fill=\"none\" stroke=\"#000000\" d=\"M166.2662,-460.8796C161.5435,-452.2335 156.5176,-443.0322 151.641,-434.1042\"/>\n",
       "<polygon fill=\"#000000\" stroke=\"#000000\" points=\"154.6963,-432.3964 146.8309,-425.2981 148.553,-435.752 154.6963,-432.3964\"/>\n",
       "<text text-anchor=\"middle\" x=\"139.7908\" y=\"-445.5864\" font-family=\"Times,serif\" font-size=\"14.00\" fill=\"#000000\">True</text>\n",
       "</g>\n",
       "<!-- 8 -->\n",
       "<g id=\"node9\" class=\"node\">\n",
       "<title>8</title>\n",
       "<polygon fill=\"#399de5\" stroke=\"#000000\" points=\"306.5,-417.5 201.5,-417.5 201.5,-349.5 306.5,-349.5 306.5,-417.5\"/>\n",
       "<text text-anchor=\"middle\" x=\"254\" y=\"-402.3\" font-family=\"Times,serif\" font-size=\"14.00\" fill=\"#000000\">gini = 0.0</text>\n",
       "<text text-anchor=\"middle\" x=\"254\" y=\"-387.3\" font-family=\"Times,serif\" font-size=\"14.00\" fill=\"#000000\">samples = 104</text>\n",
       "<text text-anchor=\"middle\" x=\"254\" y=\"-372.3\" font-family=\"Times,serif\" font-size=\"14.00\" fill=\"#000000\">value = [0, 104]</text>\n",
       "<text text-anchor=\"middle\" x=\"254\" y=\"-357.3\" font-family=\"Times,serif\" font-size=\"14.00\" fill=\"#000000\">class = Bad</text>\n",
       "</g>\n",
       "<!-- 0&#45;&gt;8 -->\n",
       "<g id=\"edge8\" class=\"edge\">\n",
       "<title>0&#45;&gt;8</title>\n",
       "<path fill=\"none\" stroke=\"#000000\" d=\"M211.7338,-460.8796C217.7401,-449.8835 224.237,-437.9893 230.2933,-426.9015\"/>\n",
       "<polygon fill=\"#000000\" stroke=\"#000000\" points=\"233.5345,-428.2689 235.2565,-417.8149 227.3912,-424.9133 233.5345,-428.2689\"/>\n",
       "<text text-anchor=\"middle\" x=\"242.2966\" y=\"-438.1032\" font-family=\"Times,serif\" font-size=\"14.00\" fill=\"#000000\">False</text>\n",
       "</g>\n",
       "<!-- 2 -->\n",
       "<g id=\"node3\" class=\"node\">\n",
       "<title>2</title>\n",
       "<polygon fill=\"#399de5\" stroke=\"#000000\" points=\"98,-298.5 0,-298.5 0,-230.5 98,-230.5 98,-298.5\"/>\n",
       "<text text-anchor=\"middle\" x=\"49\" y=\"-283.3\" font-family=\"Times,serif\" font-size=\"14.00\" fill=\"#000000\">gini = 0.0</text>\n",
       "<text text-anchor=\"middle\" x=\"49\" y=\"-268.3\" font-family=\"Times,serif\" font-size=\"14.00\" fill=\"#000000\">samples = 21</text>\n",
       "<text text-anchor=\"middle\" x=\"49\" y=\"-253.3\" font-family=\"Times,serif\" font-size=\"14.00\" fill=\"#000000\">value = [0, 21]</text>\n",
       "<text text-anchor=\"middle\" x=\"49\" y=\"-238.3\" font-family=\"Times,serif\" font-size=\"14.00\" fill=\"#000000\">class = Bad</text>\n",
       "</g>\n",
       "<!-- 1&#45;&gt;2 -->\n",
       "<g id=\"edge2\" class=\"edge\">\n",
       "<title>1&#45;&gt;2</title>\n",
       "<path fill=\"none\" stroke=\"#000000\" d=\"M97.7686,-341.8796C90.769,-330.7735 83.192,-318.7513 76.1444,-307.5691\"/>\n",
       "<polygon fill=\"#000000\" stroke=\"#000000\" points=\"78.92,-305.4087 70.6271,-298.8149 72.998,-309.1411 78.92,-305.4087\"/>\n",
       "</g>\n",
       "<!-- 3 -->\n",
       "<g id=\"node4\" class=\"node\">\n",
       "<title>3</title>\n",
       "<polygon fill=\"#e88d4c\" stroke=\"#000000\" points=\"282,-306 116,-306 116,-223 282,-223 282,-306\"/>\n",
       "<text text-anchor=\"middle\" x=\"199\" y=\"-290.8\" font-family=\"Times,serif\" font-size=\"14.00\" fill=\"#000000\">FUR_EXTEMP &lt;= 1175.5</text>\n",
       "<text text-anchor=\"middle\" x=\"199\" y=\"-275.8\" font-family=\"Times,serif\" font-size=\"14.00\" fill=\"#000000\">gini = 0.161</text>\n",
       "<text text-anchor=\"middle\" x=\"199\" y=\"-260.8\" font-family=\"Times,serif\" font-size=\"14.00\" fill=\"#000000\">samples = 374</text>\n",
       "<text text-anchor=\"middle\" x=\"199\" y=\"-245.8\" font-family=\"Times,serif\" font-size=\"14.00\" fill=\"#000000\">value = [341, 33]</text>\n",
       "<text text-anchor=\"middle\" x=\"199\" y=\"-230.8\" font-family=\"Times,serif\" font-size=\"14.00\" fill=\"#000000\">class = Good</text>\n",
       "</g>\n",
       "<!-- 1&#45;&gt;3 -->\n",
       "<g id=\"edge3\" class=\"edge\">\n",
       "<title>1&#45;&gt;3</title>\n",
       "<path fill=\"none\" stroke=\"#000000\" d=\"M150.2314,-341.8796C155.7373,-333.1434 161.6006,-323.8404 167.2824,-314.8253\"/>\n",
       "<polygon fill=\"#000000\" stroke=\"#000000\" points=\"170.2857,-316.6242 172.6567,-306.2981 164.3637,-312.8919 170.2857,-316.6242\"/>\n",
       "</g>\n",
       "<!-- 4 -->\n",
       "<g id=\"node5\" class=\"node\">\n",
       "<title>4</title>\n",
       "<polygon fill=\"#e68843\" stroke=\"#000000\" points=\"200,-187 62,-187 62,-104 200,-104 200,-187\"/>\n",
       "<text text-anchor=\"middle\" x=\"131\" y=\"-171.8\" font-family=\"Times,serif\" font-size=\"14.00\" fill=\"#000000\">FUR_TIME &lt;= 228.5</text>\n",
       "<text text-anchor=\"middle\" x=\"131\" y=\"-156.8\" font-family=\"Times,serif\" font-size=\"14.00\" fill=\"#000000\">gini = 0.095</text>\n",
       "<text text-anchor=\"middle\" x=\"131\" y=\"-141.8\" font-family=\"Times,serif\" font-size=\"14.00\" fill=\"#000000\">samples = 359</text>\n",
       "<text text-anchor=\"middle\" x=\"131\" y=\"-126.8\" font-family=\"Times,serif\" font-size=\"14.00\" fill=\"#000000\">value = [341, 18]</text>\n",
       "<text text-anchor=\"middle\" x=\"131\" y=\"-111.8\" font-family=\"Times,serif\" font-size=\"14.00\" fill=\"#000000\">class = Good</text>\n",
       "</g>\n",
       "<!-- 3&#45;&gt;4 -->\n",
       "<g id=\"edge4\" class=\"edge\">\n",
       "<title>3&#45;&gt;4</title>\n",
       "<path fill=\"none\" stroke=\"#000000\" d=\"M175.2169,-222.8796C170.2763,-214.2335 165.0184,-205.0322 159.9167,-196.1042\"/>\n",
       "<polygon fill=\"#000000\" stroke=\"#000000\" points=\"162.8849,-194.244 154.8846,-187.2981 156.8072,-197.717 162.8849,-194.244\"/>\n",
       "</g>\n",
       "<!-- 7 -->\n",
       "<g id=\"node8\" class=\"node\">\n",
       "<title>7</title>\n",
       "<polygon fill=\"#399de5\" stroke=\"#000000\" points=\"316,-179.5 218,-179.5 218,-111.5 316,-111.5 316,-179.5\"/>\n",
       "<text text-anchor=\"middle\" x=\"267\" y=\"-164.3\" font-family=\"Times,serif\" font-size=\"14.00\" fill=\"#000000\">gini = 0.0</text>\n",
       "<text text-anchor=\"middle\" x=\"267\" y=\"-149.3\" font-family=\"Times,serif\" font-size=\"14.00\" fill=\"#000000\">samples = 15</text>\n",
       "<text text-anchor=\"middle\" x=\"267\" y=\"-134.3\" font-family=\"Times,serif\" font-size=\"14.00\" fill=\"#000000\">value = [0, 15]</text>\n",
       "<text text-anchor=\"middle\" x=\"267\" y=\"-119.3\" font-family=\"Times,serif\" font-size=\"14.00\" fill=\"#000000\">class = Bad</text>\n",
       "</g>\n",
       "<!-- 3&#45;&gt;7 -->\n",
       "<g id=\"edge7\" class=\"edge\">\n",
       "<title>3&#45;&gt;7</title>\n",
       "<path fill=\"none\" stroke=\"#000000\" d=\"M222.7831,-222.8796C229.1294,-211.7735 235.9993,-199.7513 242.3891,-188.5691\"/>\n",
       "<polygon fill=\"#000000\" stroke=\"#000000\" points=\"245.4689,-190.2339 247.3915,-179.8149 239.3912,-186.7609 245.4689,-190.2339\"/>\n",
       "</g>\n",
       "<!-- 5 -->\n",
       "<g id=\"node6\" class=\"node\">\n",
       "<title>5</title>\n",
       "<polygon fill=\"#ffffff\" stroke=\"#000000\" points=\"117,-68 25,-68 25,0 117,0 117,-68\"/>\n",
       "<text text-anchor=\"middle\" x=\"71\" y=\"-52.8\" font-family=\"Times,serif\" font-size=\"14.00\" fill=\"#000000\">gini = 0.5</text>\n",
       "<text text-anchor=\"middle\" x=\"71\" y=\"-37.8\" font-family=\"Times,serif\" font-size=\"14.00\" fill=\"#000000\">samples = 4</text>\n",
       "<text text-anchor=\"middle\" x=\"71\" y=\"-22.8\" font-family=\"Times,serif\" font-size=\"14.00\" fill=\"#000000\">value = [2, 2]</text>\n",
       "<text text-anchor=\"middle\" x=\"71\" y=\"-7.8\" font-family=\"Times,serif\" font-size=\"14.00\" fill=\"#000000\">class = Good</text>\n",
       "</g>\n",
       "<!-- 4&#45;&gt;5 -->\n",
       "<g id=\"edge5\" class=\"edge\">\n",
       "<title>4&#45;&gt;5</title>\n",
       "<path fill=\"none\" stroke=\"#000000\" d=\"M108.6582,-103.9815C103.9598,-95.2504 98.9929,-86.0202 94.2617,-77.2281\"/>\n",
       "<polygon fill=\"#000000\" stroke=\"#000000\" points=\"97.2586,-75.4111 89.4379,-68.2637 91.0944,-78.7282 97.2586,-75.4111\"/>\n",
       "</g>\n",
       "<!-- 6 -->\n",
       "<g id=\"node7\" class=\"node\">\n",
       "<title>6</title>\n",
       "<polygon fill=\"#e68742\" stroke=\"#000000\" points=\"247,-68 135,-68 135,0 247,0 247,-68\"/>\n",
       "<text text-anchor=\"middle\" x=\"191\" y=\"-52.8\" font-family=\"Times,serif\" font-size=\"14.00\" fill=\"#000000\">gini = 0.086</text>\n",
       "<text text-anchor=\"middle\" x=\"191\" y=\"-37.8\" font-family=\"Times,serif\" font-size=\"14.00\" fill=\"#000000\">samples = 355</text>\n",
       "<text text-anchor=\"middle\" x=\"191\" y=\"-22.8\" font-family=\"Times,serif\" font-size=\"14.00\" fill=\"#000000\">value = [339, 16]</text>\n",
       "<text text-anchor=\"middle\" x=\"191\" y=\"-7.8\" font-family=\"Times,serif\" font-size=\"14.00\" fill=\"#000000\">class = Good</text>\n",
       "</g>\n",
       "<!-- 4&#45;&gt;6 -->\n",
       "<g id=\"edge6\" class=\"edge\">\n",
       "<title>4&#45;&gt;6</title>\n",
       "<path fill=\"none\" stroke=\"#000000\" d=\"M153.3418,-103.9815C158.0402,-95.2504 163.0071,-86.0202 167.7383,-77.2281\"/>\n",
       "<polygon fill=\"#000000\" stroke=\"#000000\" points=\"170.9056,-78.7282 172.5621,-68.2637 164.7414,-75.4111 170.9056,-78.7282\"/>\n",
       "</g>\n",
       "</g>\n",
       "</svg>\n"
      ],
      "text/plain": [
       "<graphviz.files.Source at 0x7f3cacaad208>"
      ]
     },
     "metadata": {},
     "output_type": "display_data"
    }
   ],
   "source": [
    "\n",
    "export_graphviz(tree_final, out_file=\"tree_final.dot\", feature_names=v_feature_name, impurity=True, filled=True,\n",
    "               class_names=['Good','Bad'])\n",
    "\n",
    "with open(\"tree_final.dot\") as f:\n",
    "    dot_graph=f.read()\n",
    "display(graphviz.Source(dot_graph))"
   ]
  },
  {
   "cell_type": "markdown",
   "metadata": {},
   "source": [
    "##### 최종 모델 평가"
   ]
  },
  {
   "cell_type": "code",
   "execution_count": 65,
   "metadata": {},
   "outputs": [
    {
     "name": "stdout",
     "output_type": "stream",
     "text": [
      "Accuracy:0.958\n",
      "\n",
      "Confusion matrix :\n",
      "[[142   0]\n",
      " [  9  64]]\n"
     ]
    }
   ],
   "source": [
    "y_pred = tree_final.predict(df_test_x)\n",
    "\n",
    "train.append(tree_final.score(df_train_x, df_train_y))\n",
    "test.append(tree_final.score(df_test_x, df_test_y))\n",
    "\n",
    "fpr, tpr, thresholds =roc_curve(df_test_y, y_pred)\n",
    "roc_auc=auc(fpr, tpr)\n",
    "\n",
    "model_auc_score.append(roc_auc)\n",
    "print(\"Accuracy:{0:.3f}\\n\".format(tree_final.score(df_test_x, df_test_y)))\n",
    "print(\"Confusion matrix :\\n{}\".format(confusion_matrix(df_test_y, y_pred)))"
   ]
  },
  {
   "cell_type": "code",
   "execution_count": 66,
   "metadata": {},
   "outputs": [
    {
     "data": {
      "image/png": "[encoded data removed]",
      "text/plain": [
       "<Figure size 432x288 with 1 Axes>"
      ]
     },
     "metadata": {
      "needs_background": "light"
     },
     "output_type": "display_data"
    }
   ],
   "source": [
    "plt.plot(fpr,tpr,label=\"AUC = %0.2f\"%roc_auc)\n",
    "plt.legend(loc='lower right')\n",
    "plt.ylabel(\"TPR\"); plt.xlabel(\"FPR\")\n",
    "plt.show()"
   ]
  },
  {
   "cell_type": "code",
   "execution_count": 67,
   "metadata": {},
   "outputs": [],
   "source": [
    "#f1 스코어\n",
    "model_f1_score.append(f1_score(df_test_y, y_pred))\n",
    "model_precision_score.append(precision_score(df_test_y, y_pred))\n",
    "model_recall_score.append(recall_score(df_test_y, y_pred))"
   ]
  },
  {
   "cell_type": "markdown",
   "metadata": {},
   "source": [
    "설명변수의 중요도 확인하기\n"
   ]
  },
  {
   "cell_type": "code",
   "execution_count": 68,
   "metadata": {},
   "outputs": [
    {
     "data": {
      "text/plain": [
       "Text(0, 0.5, '설명변수')"
      ]
     },
     "execution_count": 68,
     "metadata": {},
     "output_type": "execute_result"
    },
    {
     "data": {
      "image/png": "[encoded data removed]",
      "text/plain": [
       "<Figure size 432x288 with 1 Axes>"
      ]
     },
     "metadata": {
      "needs_background": "light"
     },
     "output_type": "display_data"
    }
   ],
   "source": [
    "df_importance=pd.DataFrame()\n",
    "df_importance['Feature']=v_feature_name\n",
    "df_importance['Importance']=tree_final.feature_importances_\n",
    "\n",
    "df_importance=df_importance[df_importance['Importance']>0]\n",
    "df_importance.sort_values(\"Importance\", ascending=True, inplace=True)\n",
    "corrdinates =range(len(df_importance))\n",
    "plt.barh(y=corrdinates, width = df_importance['Importance'])\n",
    "plt.yticks (corrdinates, df_importance['Feature'])\n",
    "plt.xlabel('설명변수 중요도')\n",
    "plt.ylabel('설명변수')"
   ]
  },
  {
   "cell_type": "markdown",
   "metadata": {},
   "source": [
    "ROLLING_TEMP_T5 > HSB  > FUR_EXTEMP > FUR_TIME 순으로 설명변수 중요도가 높다고 나왔다.  \n",
    "\n",
    "1위로 나온 ROLLING_TEMP_T5는 로지스틱 회귀분석에서도 중요하다고 판단한 설명변수이므로 다른 모델에서도 집중할 필요가 있다"
   ]
  },
  {
   "cell_type": "markdown",
   "metadata": {},
   "source": [
    "### 3. Random Forest"
   ]
  },
  {
   "cell_type": "code",
   "execution_count": 69,
   "metadata": {},
   "outputs": [
    {
     "name": "stdout",
     "output_type": "stream",
     "text": [
      "Accuracy on training set : 0.998\n",
      "Accuracy on test set : 0.940\n"
     ]
    }
   ],
   "source": [
    "tree_uncustomized =  RandomForestClassifier(random_state=1234)\n",
    "tree_uncustomized.fit(df_train_x,df_train_y)\n",
    "\n",
    "print(\"Accuracy on training set : {:.3f}\".format(tree_uncustomized.score(df_train_x, df_train_y)))\n",
    "print(\"Accuracy on test set : {:.3f}\".format(tree_uncustomized.score(df_test_x, df_test_y)))"
   ]
  },
  {
   "cell_type": "markdown",
   "metadata": {},
   "source": [
    "##### n_estimator 정하기"
   ]
  },
  {
   "cell_type": "code",
   "execution_count": 70,
   "metadata": {},
   "outputs": [
    {
     "data": {
      "text/html": [
       "<div>\n",
       "<style scoped>\n",
       "    .dataframe tbody tr th:only-of-type {\n",
       "        vertical-align: middle;\n",
       "    }\n",
       "\n",
       "    .dataframe tbody tr th {\n",
       "        vertical-align: top;\n",
       "    }\n",
       "\n",
       "    .dataframe thead th {\n",
       "        text-align: right;\n",
       "    }\n",
       "</style>\n",
       "<table border=\"1\" class=\"dataframe\">\n",
       "  <thead>\n",
       "    <tr style=\"text-align: right;\">\n",
       "      <th></th>\n",
       "      <th>n_estimators</th>\n",
       "      <th>TrainAccuracy</th>\n",
       "      <th>TestAccuracy</th>\n",
       "    </tr>\n",
       "  </thead>\n",
       "  <tbody>\n",
       "    <tr>\n",
       "      <th>0</th>\n",
       "      <td>10</td>\n",
       "      <td>0.998</td>\n",
       "      <td>0.940</td>\n",
       "    </tr>\n",
       "    <tr>\n",
       "      <th>1</th>\n",
       "      <td>20</td>\n",
       "      <td>0.998</td>\n",
       "      <td>0.953</td>\n",
       "    </tr>\n",
       "    <tr>\n",
       "      <th>2</th>\n",
       "      <td>30</td>\n",
       "      <td>1.000</td>\n",
       "      <td>0.953</td>\n",
       "    </tr>\n",
       "    <tr>\n",
       "      <th>3</th>\n",
       "      <td>40</td>\n",
       "      <td>1.000</td>\n",
       "      <td>0.953</td>\n",
       "    </tr>\n",
       "    <tr>\n",
       "      <th>4</th>\n",
       "      <td>50</td>\n",
       "      <td>1.000</td>\n",
       "      <td>0.958</td>\n",
       "    </tr>\n",
       "    <tr>\n",
       "      <th>5</th>\n",
       "      <td>60</td>\n",
       "      <td>1.000</td>\n",
       "      <td>0.958</td>\n",
       "    </tr>\n",
       "    <tr>\n",
       "      <th>6</th>\n",
       "      <td>70</td>\n",
       "      <td>1.000</td>\n",
       "      <td>0.958</td>\n",
       "    </tr>\n",
       "    <tr>\n",
       "      <th>7</th>\n",
       "      <td>80</td>\n",
       "      <td>1.000</td>\n",
       "      <td>0.958</td>\n",
       "    </tr>\n",
       "    <tr>\n",
       "      <th>8</th>\n",
       "      <td>90</td>\n",
       "      <td>1.000</td>\n",
       "      <td>0.958</td>\n",
       "    </tr>\n",
       "    <tr>\n",
       "      <th>9</th>\n",
       "      <td>100</td>\n",
       "      <td>1.000</td>\n",
       "      <td>0.958</td>\n",
       "    </tr>\n",
       "    <tr>\n",
       "      <th>10</th>\n",
       "      <td>110</td>\n",
       "      <td>1.000</td>\n",
       "      <td>0.958</td>\n",
       "    </tr>\n",
       "    <tr>\n",
       "      <th>11</th>\n",
       "      <td>120</td>\n",
       "      <td>1.000</td>\n",
       "      <td>0.958</td>\n",
       "    </tr>\n",
       "    <tr>\n",
       "      <th>12</th>\n",
       "      <td>130</td>\n",
       "      <td>1.000</td>\n",
       "      <td>0.958</td>\n",
       "    </tr>\n",
       "    <tr>\n",
       "      <th>13</th>\n",
       "      <td>140</td>\n",
       "      <td>1.000</td>\n",
       "      <td>0.958</td>\n",
       "    </tr>\n",
       "    <tr>\n",
       "      <th>14</th>\n",
       "      <td>150</td>\n",
       "      <td>1.000</td>\n",
       "      <td>0.958</td>\n",
       "    </tr>\n",
       "  </tbody>\n",
       "</table>\n",
       "</div>"
      ],
      "text/plain": [
       "    n_estimators  TrainAccuracy  TestAccuracy\n",
       "0             10          0.998         0.940\n",
       "1             20          0.998         0.953\n",
       "2             30          1.000         0.953\n",
       "3             40          1.000         0.953\n",
       "4             50          1.000         0.958\n",
       "5             60          1.000         0.958\n",
       "6             70          1.000         0.958\n",
       "7             80          1.000         0.958\n",
       "8             90          1.000         0.958\n",
       "9            100          1.000         0.958\n",
       "10           110          1.000         0.958\n",
       "11           120          1.000         0.958\n",
       "12           130          1.000         0.958\n",
       "13           140          1.000         0.958\n",
       "14           150          1.000         0.958"
      ]
     },
     "execution_count": 70,
     "metadata": {},
     "output_type": "execute_result"
    }
   ],
   "source": [
    "train_accuracy =[]; test_accuracy=[]\n",
    "\n",
    "para_n_tree = [n_tree*10 for n_tree in range(1,16)]\n",
    "\n",
    "for v_n_estimators in para_n_tree:\n",
    "    tree=RandomForestClassifier(n_estimators=v_n_estimators, random_state=1234)\n",
    "    tree.fit(df_train_x, df_train_y)\n",
    "    train_accuracy.append(tree.score(df_train_x, df_train_y))\n",
    "    test_accuracy.append(tree.score(df_test_x, df_test_y))\n",
    "    \n",
    "df_accuracy_n = pd.DataFrame()\n",
    "df_accuracy_n['n_estimators']=para_n_tree\n",
    "df_accuracy_n['TrainAccuracy']=train_accuracy\n",
    "df_accuracy_n['TestAccuracy']=test_accuracy\n",
    "\n",
    "df_accuracy_n.round(3)"
   ]
  },
  {
   "cell_type": "code",
   "execution_count": 71,
   "metadata": {},
   "outputs": [
    {
     "data": {
      "text/plain": [
       "<matplotlib.legend.Legend at 0x7f3cace39588>"
      ]
     },
     "execution_count": 71,
     "metadata": {},
     "output_type": "execute_result"
    },
    {
     "data": {
      "image/png": "[encoded data removed]",
      "text/plain": [
       "<Figure size 432x288 with 1 Axes>"
      ]
     },
     "metadata": {
      "needs_background": "light"
     },
     "output_type": "display_data"
    }
   ],
   "source": [
    "plt.plot(para_n_tree, train_accuracy, linestyle=\"-\", label=\"Train Accuracy\")\n",
    "plt.plot(para_n_tree, test_accuracy, linestyle=\"--\", label=\"Test Accuracy\")\n",
    "plt.legend()"
   ]
  },
  {
   "cell_type": "markdown",
   "metadata": {},
   "source": [
    "n_estimators : 트리 수 변경에 따른 모델 oob error 변화"
   ]
  },
  {
   "cell_type": "code",
   "execution_count": 72,
   "metadata": {},
   "outputs": [],
   "source": [
    "oob_error=[]\n",
    "\n",
    "for v_n_estimator in range(1,151):\n",
    "    rf = RandomForestClassifier(n_estimators=v_n_estimator, oob_score=True, random_state=1234)\n",
    "    rf.fit(df_train_x, df_train_y)\n",
    "    oob_error.append(1-rf.oob_score_)"
   ]
  },
  {
   "cell_type": "code",
   "execution_count": 73,
   "metadata": {},
   "outputs": [
    {
     "data": {
      "text/plain": [
       "Text(0.5, 0, 'n_estimators')"
      ]
     },
     "execution_count": 73,
     "metadata": {},
     "output_type": "execute_result"
    },
    {
     "data": {
      "image/png": "[encoded data removed]",
      "text/plain": [
       "<Figure size 432x288 with 1 Axes>"
      ]
     },
     "metadata": {
      "needs_background": "light"
     },
     "output_type": "display_data"
    }
   ],
   "source": [
    "plt.plot(range(1,151), oob_error)\n",
    "plt.ylabel(\"oob error\")\n",
    "plt.xlabel('n_estimators')\n"
   ]
  },
  {
   "cell_type": "markdown",
   "metadata": {},
   "source": [
    "    생성하는 결정 트리 수 증가에 따라 모델의 정확도는 증가하며 OOB Error는 감소,\n",
    "    모델의 특성을 고려하여 60 선택"
   ]
  },
  {
   "cell_type": "markdown",
   "metadata": {},
   "source": [
    "##### Depth 정하기"
   ]
  },
  {
   "cell_type": "code",
   "execution_count": 74,
   "metadata": {},
   "outputs": [
    {
     "data": {
      "text/html": [
       "<div>\n",
       "<style scoped>\n",
       "    .dataframe tbody tr th:only-of-type {\n",
       "        vertical-align: middle;\n",
       "    }\n",
       "\n",
       "    .dataframe tbody tr th {\n",
       "        vertical-align: top;\n",
       "    }\n",
       "\n",
       "    .dataframe thead th {\n",
       "        text-align: right;\n",
       "    }\n",
       "</style>\n",
       "<table border=\"1\" class=\"dataframe\">\n",
       "  <thead>\n",
       "    <tr style=\"text-align: right;\">\n",
       "      <th></th>\n",
       "      <th>Depth</th>\n",
       "      <th>TrainAccuracy</th>\n",
       "      <th>TestAccuracy</th>\n",
       "    </tr>\n",
       "  </thead>\n",
       "  <tbody>\n",
       "    <tr>\n",
       "      <th>0</th>\n",
       "      <td>1</td>\n",
       "      <td>0.685</td>\n",
       "      <td>0.660</td>\n",
       "    </tr>\n",
       "    <tr>\n",
       "      <th>1</th>\n",
       "      <td>2</td>\n",
       "      <td>0.892</td>\n",
       "      <td>0.879</td>\n",
       "    </tr>\n",
       "    <tr>\n",
       "      <th>2</th>\n",
       "      <td>3</td>\n",
       "      <td>0.950</td>\n",
       "      <td>0.930</td>\n",
       "    </tr>\n",
       "    <tr>\n",
       "      <th>3</th>\n",
       "      <td>4</td>\n",
       "      <td>0.962</td>\n",
       "      <td>0.958</td>\n",
       "    </tr>\n",
       "    <tr>\n",
       "      <th>4</th>\n",
       "      <td>5</td>\n",
       "      <td>0.964</td>\n",
       "      <td>0.958</td>\n",
       "    </tr>\n",
       "    <tr>\n",
       "      <th>5</th>\n",
       "      <td>6</td>\n",
       "      <td>0.966</td>\n",
       "      <td>0.958</td>\n",
       "    </tr>\n",
       "    <tr>\n",
       "      <th>6</th>\n",
       "      <td>7</td>\n",
       "      <td>0.968</td>\n",
       "      <td>0.958</td>\n",
       "    </tr>\n",
       "    <tr>\n",
       "      <th>7</th>\n",
       "      <td>8</td>\n",
       "      <td>0.978</td>\n",
       "      <td>0.958</td>\n",
       "    </tr>\n",
       "    <tr>\n",
       "      <th>8</th>\n",
       "      <td>9</td>\n",
       "      <td>0.994</td>\n",
       "      <td>0.958</td>\n",
       "    </tr>\n",
       "    <tr>\n",
       "      <th>9</th>\n",
       "      <td>10</td>\n",
       "      <td>0.998</td>\n",
       "      <td>0.958</td>\n",
       "    </tr>\n",
       "  </tbody>\n",
       "</table>\n",
       "</div>"
      ],
      "text/plain": [
       "   Depth  TrainAccuracy  TestAccuracy\n",
       "0      1          0.685         0.660\n",
       "1      2          0.892         0.879\n",
       "2      3          0.950         0.930\n",
       "3      4          0.962         0.958\n",
       "4      5          0.964         0.958\n",
       "5      6          0.966         0.958\n",
       "6      7          0.968         0.958\n",
       "7      8          0.978         0.958\n",
       "8      9          0.994         0.958\n",
       "9     10          0.998         0.958"
      ]
     },
     "execution_count": 74,
     "metadata": {},
     "output_type": "execute_result"
    }
   ],
   "source": [
    "train_accuracy =[]; test_accuracy=[]\n",
    "\n",
    "para_depth = [depth for depth in range(1,11)]\n",
    "\n",
    "for v_max_depth in para_depth:\n",
    "    tree=RandomForestClassifier(n_estimators=60,max_depth=v_max_depth, random_state=1234)\n",
    "    tree.fit(df_train_x, df_train_y)\n",
    "    train_accuracy.append(tree.score(df_train_x, df_train_y))\n",
    "    test_accuracy.append(tree.score(df_test_x, df_test_y))\n",
    "    \n",
    "df_accuracy_depth = pd.DataFrame()\n",
    "df_accuracy_depth['Depth']=para_depth\n",
    "df_accuracy_depth['TrainAccuracy']=train_accuracy\n",
    "df_accuracy_depth['TestAccuracy']=test_accuracy\n",
    "\n",
    "df_accuracy_depth.round(3)"
   ]
  },
  {
   "cell_type": "code",
   "execution_count": 75,
   "metadata": {},
   "outputs": [
    {
     "data": {
      "text/plain": [
       "<matplotlib.legend.Legend at 0x7f3cacfcce10>"
      ]
     },
     "execution_count": 75,
     "metadata": {},
     "output_type": "execute_result"
    },
    {
     "data": {
      "image/png": "[encoded data removed]",
      "text/plain": [
       "<Figure size 432x288 with 1 Axes>"
      ]
     },
     "metadata": {
      "needs_background": "light"
     },
     "output_type": "display_data"
    }
   ],
   "source": [
    "plt.plot(para_depth, train_accuracy, linestyle=\"-\", label=\"Train Accuracy\")\n",
    "plt.plot(para_depth, test_accuracy, linestyle=\"--\", label=\"Test Accuracy\")\n",
    "plt.legend()"
   ]
  },
  {
   "cell_type": "markdown",
   "metadata": {},
   "source": [
    "    최대 깊이 증가에 따라 모델의 정확도는 증가하며 4를 기점으로 Test데이터의 score가 일정하므로 Train/Test 데이터의 성능 변화를 고려하여 4 선택"
   ]
  },
  {
   "cell_type": "markdown",
   "metadata": {},
   "source": [
    "##### min_samples_split 정하기"
   ]
  },
  {
   "cell_type": "code",
   "execution_count": 76,
   "metadata": {
    "scrolled": true
   },
   "outputs": [
    {
     "data": {
      "text/html": [
       "<div>\n",
       "<style scoped>\n",
       "    .dataframe tbody tr th:only-of-type {\n",
       "        vertical-align: middle;\n",
       "    }\n",
       "\n",
       "    .dataframe tbody tr th {\n",
       "        vertical-align: top;\n",
       "    }\n",
       "\n",
       "    .dataframe thead th {\n",
       "        text-align: right;\n",
       "    }\n",
       "</style>\n",
       "<table border=\"1\" class=\"dataframe\">\n",
       "  <thead>\n",
       "    <tr style=\"text-align: right;\">\n",
       "      <th></th>\n",
       "      <th>Split</th>\n",
       "      <th>TrainAccuracy</th>\n",
       "      <th>TestAccuracy</th>\n",
       "    </tr>\n",
       "  </thead>\n",
       "  <tbody>\n",
       "    <tr>\n",
       "      <th>0</th>\n",
       "      <td>10</td>\n",
       "      <td>0.960</td>\n",
       "      <td>0.958</td>\n",
       "    </tr>\n",
       "    <tr>\n",
       "      <th>1</th>\n",
       "      <td>20</td>\n",
       "      <td>0.960</td>\n",
       "      <td>0.958</td>\n",
       "    </tr>\n",
       "    <tr>\n",
       "      <th>2</th>\n",
       "      <td>30</td>\n",
       "      <td>0.962</td>\n",
       "      <td>0.953</td>\n",
       "    </tr>\n",
       "    <tr>\n",
       "      <th>3</th>\n",
       "      <td>40</td>\n",
       "      <td>0.962</td>\n",
       "      <td>0.949</td>\n",
       "    </tr>\n",
       "    <tr>\n",
       "      <th>4</th>\n",
       "      <td>50</td>\n",
       "      <td>0.958</td>\n",
       "      <td>0.949</td>\n",
       "    </tr>\n",
       "    <tr>\n",
       "      <th>5</th>\n",
       "      <td>60</td>\n",
       "      <td>0.960</td>\n",
       "      <td>0.949</td>\n",
       "    </tr>\n",
       "    <tr>\n",
       "      <th>6</th>\n",
       "      <td>70</td>\n",
       "      <td>0.954</td>\n",
       "      <td>0.949</td>\n",
       "    </tr>\n",
       "    <tr>\n",
       "      <th>7</th>\n",
       "      <td>80</td>\n",
       "      <td>0.960</td>\n",
       "      <td>0.953</td>\n",
       "    </tr>\n",
       "    <tr>\n",
       "      <th>8</th>\n",
       "      <td>90</td>\n",
       "      <td>0.948</td>\n",
       "      <td>0.935</td>\n",
       "    </tr>\n",
       "    <tr>\n",
       "      <th>9</th>\n",
       "      <td>100</td>\n",
       "      <td>0.948</td>\n",
       "      <td>0.940</td>\n",
       "    </tr>\n",
       "  </tbody>\n",
       "</table>\n",
       "</div>"
      ],
      "text/plain": [
       "   Split  TrainAccuracy  TestAccuracy\n",
       "0     10          0.960         0.958\n",
       "1     20          0.960         0.958\n",
       "2     30          0.962         0.953\n",
       "3     40          0.962         0.949\n",
       "4     50          0.958         0.949\n",
       "5     60          0.960         0.949\n",
       "6     70          0.954         0.949\n",
       "7     80          0.960         0.953\n",
       "8     90          0.948         0.935\n",
       "9    100          0.948         0.940"
      ]
     },
     "execution_count": 76,
     "metadata": {},
     "output_type": "execute_result"
    }
   ],
   "source": [
    "train_accuracy =[]; test_accuracy=[]\n",
    "\n",
    "para_split = [n_split*10 for n_split in range(1,11)]\n",
    "\n",
    "for v_min_samples_split in para_split:\n",
    "    tree=RandomForestClassifier(n_estimators=60,max_depth=4,\n",
    "                                min_samples_split=v_min_samples_split,random_state=1234)\n",
    "    tree.fit(df_train_x, df_train_y)\n",
    "    train_accuracy.append(tree.score(df_train_x, df_train_y))\n",
    "    test_accuracy.append(tree.score(df_test_x, df_test_y))\n",
    "    \n",
    "df_accuracy_split = pd.DataFrame()\n",
    "df_accuracy_split['Split']=para_split\n",
    "df_accuracy_split['TrainAccuracy']=train_accuracy\n",
    "df_accuracy_split['TestAccuracy']=test_accuracy\n",
    "\n",
    "df_accuracy_split.round(3)"
   ]
  },
  {
   "cell_type": "code",
   "execution_count": 77,
   "metadata": {},
   "outputs": [
    {
     "data": {
      "text/plain": [
       "<matplotlib.legend.Legend at 0x7f3cad18e6d8>"
      ]
     },
     "execution_count": 77,
     "metadata": {},
     "output_type": "execute_result"
    },
    {
     "data": {
      "image/png": "[encoded data removed]",
      "text/plain": [
       "<Figure size 432x288 with 1 Axes>"
      ]
     },
     "metadata": {
      "needs_background": "light"
     },
     "output_type": "display_data"
    }
   ],
   "source": [
    "plt.plot(para_split, train_accuracy, linestyle=\"-\", label=\"Train Accuracy\")\n",
    "plt.plot(para_split, test_accuracy, linestyle=\"--\", label=\"Test Accuracy\")\n",
    "plt.legend()"
   ]
  },
  {
   "cell_type": "markdown",
   "metadata": {},
   "source": [
    "    분리 노드의 최소 자료 수 증가에 따라 모델의 정확도는 감소하나 특히 20을 기점으로 test 데이터의 성능이 현저하게 떨어지게 되므로 20을 선택한다."
   ]
  },
  {
   "cell_type": "markdown",
   "metadata": {},
   "source": [
    "##### min_samples_leaf정하기"
   ]
  },
  {
   "cell_type": "code",
   "execution_count": 78,
   "metadata": {},
   "outputs": [
    {
     "data": {
      "text/html": [
       "<div>\n",
       "<style scoped>\n",
       "    .dataframe tbody tr th:only-of-type {\n",
       "        vertical-align: middle;\n",
       "    }\n",
       "\n",
       "    .dataframe tbody tr th {\n",
       "        vertical-align: top;\n",
       "    }\n",
       "\n",
       "    .dataframe thead th {\n",
       "        text-align: right;\n",
       "    }\n",
       "</style>\n",
       "<table border=\"1\" class=\"dataframe\">\n",
       "  <thead>\n",
       "    <tr style=\"text-align: right;\">\n",
       "      <th></th>\n",
       "      <th>Leaf</th>\n",
       "      <th>TrainAccuracy</th>\n",
       "      <th>TestAccuracy</th>\n",
       "    </tr>\n",
       "  </thead>\n",
       "  <tbody>\n",
       "    <tr>\n",
       "      <th>0</th>\n",
       "      <td>10</td>\n",
       "      <td>0.932</td>\n",
       "      <td>0.907</td>\n",
       "    </tr>\n",
       "    <tr>\n",
       "      <th>1</th>\n",
       "      <td>20</td>\n",
       "      <td>0.876</td>\n",
       "      <td>0.856</td>\n",
       "    </tr>\n",
       "    <tr>\n",
       "      <th>2</th>\n",
       "      <td>30</td>\n",
       "      <td>0.880</td>\n",
       "      <td>0.874</td>\n",
       "    </tr>\n",
       "    <tr>\n",
       "      <th>3</th>\n",
       "      <td>40</td>\n",
       "      <td>0.870</td>\n",
       "      <td>0.865</td>\n",
       "    </tr>\n",
       "    <tr>\n",
       "      <th>4</th>\n",
       "      <td>50</td>\n",
       "      <td>0.874</td>\n",
       "      <td>0.865</td>\n",
       "    </tr>\n",
       "    <tr>\n",
       "      <th>5</th>\n",
       "      <td>60</td>\n",
       "      <td>0.862</td>\n",
       "      <td>0.865</td>\n",
       "    </tr>\n",
       "    <tr>\n",
       "      <th>6</th>\n",
       "      <td>70</td>\n",
       "      <td>0.856</td>\n",
       "      <td>0.847</td>\n",
       "    </tr>\n",
       "    <tr>\n",
       "      <th>7</th>\n",
       "      <td>80</td>\n",
       "      <td>0.818</td>\n",
       "      <td>0.814</td>\n",
       "    </tr>\n",
       "    <tr>\n",
       "      <th>8</th>\n",
       "      <td>90</td>\n",
       "      <td>0.790</td>\n",
       "      <td>0.767</td>\n",
       "    </tr>\n",
       "    <tr>\n",
       "      <th>9</th>\n",
       "      <td>100</td>\n",
       "      <td>0.683</td>\n",
       "      <td>0.660</td>\n",
       "    </tr>\n",
       "  </tbody>\n",
       "</table>\n",
       "</div>"
      ],
      "text/plain": [
       "   Leaf  TrainAccuracy  TestAccuracy\n",
       "0    10          0.932         0.907\n",
       "1    20          0.876         0.856\n",
       "2    30          0.880         0.874\n",
       "3    40          0.870         0.865\n",
       "4    50          0.874         0.865\n",
       "5    60          0.862         0.865\n",
       "6    70          0.856         0.847\n",
       "7    80          0.818         0.814\n",
       "8    90          0.790         0.767\n",
       "9   100          0.683         0.660"
      ]
     },
     "execution_count": 78,
     "metadata": {},
     "output_type": "execute_result"
    }
   ],
   "source": [
    "train_accuracy =[]; test_accuracy=[]\n",
    "\n",
    "para_leaf = [n_leaf*10 for n_leaf in range(1,11)]\n",
    "\n",
    "for v_min_samples_leaf in para_leaf:\n",
    "    tree=RandomForestClassifier(n_estimators=60,max_depth=4,\n",
    "                                min_samples_split=20,\n",
    "                                min_samples_leaf=v_min_samples_leaf\n",
    "                                ,random_state=1234)\n",
    "    tree.fit(df_train_x, df_train_y)\n",
    "    train_accuracy.append(tree.score(df_train_x, df_train_y))\n",
    "    test_accuracy.append(tree.score(df_test_x, df_test_y))\n",
    "    \n",
    "df_accuracy_leaf = pd.DataFrame()\n",
    "df_accuracy_leaf['Leaf']=para_leaf\n",
    "df_accuracy_leaf['TrainAccuracy']=train_accuracy\n",
    "df_accuracy_leaf['TestAccuracy']=test_accuracy\n",
    "\n",
    "df_accuracy_leaf.round(3)"
   ]
  },
  {
   "cell_type": "code",
   "execution_count": 79,
   "metadata": {
    "scrolled": true
   },
   "outputs": [
    {
     "data": {
      "text/plain": [
       "<matplotlib.legend.Legend at 0x7f3cad0f9d30>"
      ]
     },
     "execution_count": 79,
     "metadata": {},
     "output_type": "execute_result"
    },
    {
     "data": {
      "image/png": "[encoded data removed]",
      "text/plain": [
       "<Figure size 432x288 with 1 Axes>"
      ]
     },
     "metadata": {
      "needs_background": "light"
     },
     "output_type": "display_data"
    }
   ],
   "source": [
    "plt.plot(para_leaf, train_accuracy, linestyle=\"-\", label=\"Train Accuracy\")\n",
    "plt.plot(para_leaf, test_accuracy, linestyle=\"--\", label=\"Test Accuracy\")\n",
    "plt.legend()"
   ]
  },
  {
   "cell_type": "markdown",
   "metadata": {},
   "source": [
    "    잎사귀 노드 최소 자료 수 증가에 따라 모델의 정확도는 감소하며\n",
    "    Train/Test 데이터의 성능 변화를 고려하여 10 선택"
   ]
  },
  {
   "cell_type": "markdown",
   "metadata": {},
   "source": [
    "##### 최종 모델 선정"
   ]
  },
  {
   "cell_type": "code",
   "execution_count": 80,
   "metadata": {},
   "outputs": [
    {
     "name": "stdout",
     "output_type": "stream",
     "text": [
      "Accuracy on training set : 0.932\n",
      "Accuracy on test set : 0.907\n",
      "Confusion matrix : \n",
      "[[142   0]\n",
      " [ 20  53]]\n"
     ]
    }
   ],
   "source": [
    "rf_final = RandomForestClassifier(n_estimators=60,max_depth=4, min_samples_split=20,\n",
    "                                   min_samples_leaf=10, random_state=1234)\n",
    "rf_final.fit(df_train_x, df_train_y)\n",
    "\n",
    "y_pred = rf_final.predict(df_test_x)\n",
    "\n",
    "\n",
    "train.append(rf_final.score(df_train_x, df_train_y))\n",
    "test.append(rf_final.score(df_test_x, df_test_y))\n",
    "\n",
    "fpr, tpr, thresholds =roc_curve(df_test_y, y_pred)\n",
    "roc_auc=auc(fpr, tpr)\n",
    "\n",
    "model_auc_score.append(roc_auc)\n",
    "\n",
    "print(\"Accuracy on training set : {:.3f}\".format(rf_final.score(df_train_x, df_train_y)))\n",
    "print(\"Accuracy on test set : {:.3f}\".format(rf_final.score(df_test_x, df_test_y)))\n",
    "\n",
    "print(\"Confusion matrix : \\n{}\".format(confusion_matrix(df_test_y, y_pred)))"
   ]
  },
  {
   "cell_type": "code",
   "execution_count": 81,
   "metadata": {},
   "outputs": [
    {
     "data": {
      "image/png": "[encoded data removed]",
      "text/plain": [
       "<Figure size 432x288 with 1 Axes>"
      ]
     },
     "metadata": {
      "needs_background": "light"
     },
     "output_type": "display_data"
    }
   ],
   "source": [
    "plt.plot(fpr,tpr,label=\"AUC = %0.2f\"%roc_auc)\n",
    "plt.legend(loc='lower right')\n",
    "plt.ylabel(\"TPR\"); plt.xlabel(\"FPR\")\n",
    "plt.show()"
   ]
  },
  {
   "cell_type": "code",
   "execution_count": 82,
   "metadata": {},
   "outputs": [],
   "source": [
    "#f1 스코어\n",
    "model_f1_score.append(f1_score(df_test_y, y_pred))\n",
    "model_precision_score.append(precision_score(df_test_y, y_pred))\n",
    "model_recall_score.append(recall_score(df_test_y, y_pred))"
   ]
  },
  {
   "cell_type": "markdown",
   "metadata": {},
   "source": [
    "train/test 데이터의 정분류율이 비슷한 수준(**90.7%**)으로 안정적인 모델임을 확인할 수 있음"
   ]
  },
  {
   "cell_type": "code",
   "execution_count": 83,
   "metadata": {},
   "outputs": [
    {
     "data": {
      "text/html": [
       "<div>\n",
       "<style scoped>\n",
       "    .dataframe tbody tr th:only-of-type {\n",
       "        vertical-align: middle;\n",
       "    }\n",
       "\n",
       "    .dataframe tbody tr th {\n",
       "        vertical-align: top;\n",
       "    }\n",
       "\n",
       "    .dataframe thead th {\n",
       "        text-align: right;\n",
       "    }\n",
       "</style>\n",
       "<table border=\"1\" class=\"dataframe\">\n",
       "  <thead>\n",
       "    <tr style=\"text-align: right;\">\n",
       "      <th></th>\n",
       "      <th>Feature</th>\n",
       "      <th>Importance</th>\n",
       "    </tr>\n",
       "  </thead>\n",
       "  <tbody>\n",
       "    <tr>\n",
       "      <th>11</th>\n",
       "      <td>ROLLING_TEMP_T5</td>\n",
       "      <td>0.272</td>\n",
       "    </tr>\n",
       "    <tr>\n",
       "      <th>1</th>\n",
       "      <td>PT_WDTH</td>\n",
       "      <td>0.123</td>\n",
       "    </tr>\n",
       "    <tr>\n",
       "      <th>7</th>\n",
       "      <td>FUR_SZ_TEMP</td>\n",
       "      <td>0.089</td>\n",
       "    </tr>\n",
       "    <tr>\n",
       "      <th>10</th>\n",
       "      <td>FUR_EXTEMP</td>\n",
       "      <td>0.087</td>\n",
       "    </tr>\n",
       "    <tr>\n",
       "      <th>0</th>\n",
       "      <td>PT_THK</td>\n",
       "      <td>0.058</td>\n",
       "    </tr>\n",
       "    <tr>\n",
       "      <th>12</th>\n",
       "      <td>ROLLING_DESCALING</td>\n",
       "      <td>0.052</td>\n",
       "    </tr>\n",
       "    <tr>\n",
       "      <th>8</th>\n",
       "      <td>FUR_SZ_TIME</td>\n",
       "      <td>0.045</td>\n",
       "    </tr>\n",
       "    <tr>\n",
       "      <th>13</th>\n",
       "      <td>STEEL_KIND_C0</td>\n",
       "      <td>0.044</td>\n",
       "    </tr>\n",
       "    <tr>\n",
       "      <th>5</th>\n",
       "      <td>FUR_HZ_TEMP</td>\n",
       "      <td>0.040</td>\n",
       "    </tr>\n",
       "    <tr>\n",
       "      <th>25</th>\n",
       "      <td>HSB_미적용</td>\n",
       "      <td>0.035</td>\n",
       "    </tr>\n",
       "    <tr>\n",
       "      <th>2</th>\n",
       "      <td>PT_LTH</td>\n",
       "      <td>0.032</td>\n",
       "    </tr>\n",
       "    <tr>\n",
       "      <th>6</th>\n",
       "      <td>FUR_HZ_TIME</td>\n",
       "      <td>0.027</td>\n",
       "    </tr>\n",
       "    <tr>\n",
       "      <th>45</th>\n",
       "      <td>SPEC_prefix_JS</td>\n",
       "      <td>0.024</td>\n",
       "    </tr>\n",
       "    <tr>\n",
       "      <th>26</th>\n",
       "      <td>HSB_적용</td>\n",
       "      <td>0.021</td>\n",
       "    </tr>\n",
       "    <tr>\n",
       "      <th>3</th>\n",
       "      <td>PT_WGT</td>\n",
       "      <td>0.016</td>\n",
       "    </tr>\n",
       "    <tr>\n",
       "      <th>9</th>\n",
       "      <td>FUR_TIME</td>\n",
       "      <td>0.013</td>\n",
       "    </tr>\n",
       "    <tr>\n",
       "      <th>21</th>\n",
       "      <td>STEEL_KIND_T8</td>\n",
       "      <td>0.005</td>\n",
       "    </tr>\n",
       "    <tr>\n",
       "      <th>41</th>\n",
       "      <td>SPEC_prefix_BV</td>\n",
       "      <td>0.003</td>\n",
       "    </tr>\n",
       "    <tr>\n",
       "      <th>46</th>\n",
       "      <td>SPEC_prefix_KR</td>\n",
       "      <td>0.003</td>\n",
       "    </tr>\n",
       "    <tr>\n",
       "      <th>48</th>\n",
       "      <td>SPEC_prefix_LR</td>\n",
       "      <td>0.002</td>\n",
       "    </tr>\n",
       "    <tr>\n",
       "      <th>20</th>\n",
       "      <td>STEEL_KIND_T7</td>\n",
       "      <td>0.002</td>\n",
       "    </tr>\n",
       "    <tr>\n",
       "      <th>24</th>\n",
       "      <td>FUR_NO_3호기</td>\n",
       "      <td>0.002</td>\n",
       "    </tr>\n",
       "    <tr>\n",
       "      <th>28</th>\n",
       "      <td>WORK_GR_2조</td>\n",
       "      <td>0.002</td>\n",
       "    </tr>\n",
       "    <tr>\n",
       "      <th>23</th>\n",
       "      <td>FUR_NO_2호기</td>\n",
       "      <td>0.001</td>\n",
       "    </tr>\n",
       "    <tr>\n",
       "      <th>44</th>\n",
       "      <td>SPEC_prefix_GL</td>\n",
       "      <td>0.001</td>\n",
       "    </tr>\n",
       "    <tr>\n",
       "      <th>22</th>\n",
       "      <td>FUR_NO_1호기</td>\n",
       "      <td>0.001</td>\n",
       "    </tr>\n",
       "    <tr>\n",
       "      <th>27</th>\n",
       "      <td>WORK_GR_1조</td>\n",
       "      <td>0.001</td>\n",
       "    </tr>\n",
       "    <tr>\n",
       "      <th>29</th>\n",
       "      <td>WORK_GR_3조</td>\n",
       "      <td>0.000</td>\n",
       "    </tr>\n",
       "    <tr>\n",
       "      <th>4</th>\n",
       "      <td>FUR_NO_ROW</td>\n",
       "      <td>0.000</td>\n",
       "    </tr>\n",
       "    <tr>\n",
       "      <th>47</th>\n",
       "      <td>SPEC_prefix_KS</td>\n",
       "      <td>0.000</td>\n",
       "    </tr>\n",
       "    <tr>\n",
       "      <th>49</th>\n",
       "      <td>SPEC_prefix_NK</td>\n",
       "      <td>0.000</td>\n",
       "    </tr>\n",
       "    <tr>\n",
       "      <th>30</th>\n",
       "      <td>WORK_GR_4조</td>\n",
       "      <td>0.000</td>\n",
       "    </tr>\n",
       "    <tr>\n",
       "      <th>19</th>\n",
       "      <td>STEEL_KIND_T5</td>\n",
       "      <td>0.000</td>\n",
       "    </tr>\n",
       "    <tr>\n",
       "      <th>43</th>\n",
       "      <td>SPEC_prefix_COMMON</td>\n",
       "      <td>0.000</td>\n",
       "    </tr>\n",
       "    <tr>\n",
       "      <th>50</th>\n",
       "      <td>SPEC_prefix_NV</td>\n",
       "      <td>0.000</td>\n",
       "    </tr>\n",
       "    <tr>\n",
       "      <th>42</th>\n",
       "      <td>SPEC_prefix_CCS</td>\n",
       "      <td>0.000</td>\n",
       "    </tr>\n",
       "    <tr>\n",
       "      <th>52</th>\n",
       "      <td>SPEC_prefix_SA283</td>\n",
       "      <td>0.000</td>\n",
       "    </tr>\n",
       "    <tr>\n",
       "      <th>51</th>\n",
       "      <td>SPEC_prefix_PILAC</td>\n",
       "      <td>0.000</td>\n",
       "    </tr>\n",
       "    <tr>\n",
       "      <th>14</th>\n",
       "      <td>STEEL_KIND_C1</td>\n",
       "      <td>0.000</td>\n",
       "    </tr>\n",
       "    <tr>\n",
       "      <th>15</th>\n",
       "      <td>STEEL_KIND_C3</td>\n",
       "      <td>0.000</td>\n",
       "    </tr>\n",
       "    <tr>\n",
       "      <th>16</th>\n",
       "      <td>STEEL_KIND_T0</td>\n",
       "      <td>0.000</td>\n",
       "    </tr>\n",
       "    <tr>\n",
       "      <th>40</th>\n",
       "      <td>SPEC_prefix_API</td>\n",
       "      <td>0.000</td>\n",
       "    </tr>\n",
       "    <tr>\n",
       "      <th>17</th>\n",
       "      <td>STEEL_KIND_T1</td>\n",
       "      <td>0.000</td>\n",
       "    </tr>\n",
       "    <tr>\n",
       "      <th>18</th>\n",
       "      <td>STEEL_KIND_T3</td>\n",
       "      <td>0.000</td>\n",
       "    </tr>\n",
       "    <tr>\n",
       "      <th>39</th>\n",
       "      <td>SPEC_prefix_AB/EH36</td>\n",
       "      <td>0.000</td>\n",
       "    </tr>\n",
       "    <tr>\n",
       "      <th>38</th>\n",
       "      <td>SPEC_prefix_AB/EH32</td>\n",
       "      <td>0.000</td>\n",
       "    </tr>\n",
       "    <tr>\n",
       "      <th>37</th>\n",
       "      <td>SPEC_prefix_AB/B</td>\n",
       "      <td>0.000</td>\n",
       "    </tr>\n",
       "    <tr>\n",
       "      <th>36</th>\n",
       "      <td>SPEC_prefix_AB/AH32</td>\n",
       "      <td>0.000</td>\n",
       "    </tr>\n",
       "    <tr>\n",
       "      <th>35</th>\n",
       "      <td>SPEC_prefix_AB/A</td>\n",
       "      <td>0.000</td>\n",
       "    </tr>\n",
       "    <tr>\n",
       "      <th>34</th>\n",
       "      <td>SPEC_prefix_A709</td>\n",
       "      <td>0.000</td>\n",
       "    </tr>\n",
       "    <tr>\n",
       "      <th>33</th>\n",
       "      <td>SPEC_prefix_A516</td>\n",
       "      <td>0.000</td>\n",
       "    </tr>\n",
       "    <tr>\n",
       "      <th>32</th>\n",
       "      <td>SPEC_prefix_A283</td>\n",
       "      <td>0.000</td>\n",
       "    </tr>\n",
       "    <tr>\n",
       "      <th>31</th>\n",
       "      <td>SPEC_prefix_A131</td>\n",
       "      <td>0.000</td>\n",
       "    </tr>\n",
       "    <tr>\n",
       "      <th>53</th>\n",
       "      <td>SPEC_prefix_V42JBN3</td>\n",
       "      <td>0.000</td>\n",
       "    </tr>\n",
       "  </tbody>\n",
       "</table>\n",
       "</div>"
      ],
      "text/plain": [
       "                Feature  Importance\n",
       "11      ROLLING_TEMP_T5       0.272\n",
       "1               PT_WDTH       0.123\n",
       "7           FUR_SZ_TEMP       0.089\n",
       "10           FUR_EXTEMP       0.087\n",
       "0                PT_THK       0.058\n",
       "12    ROLLING_DESCALING       0.052\n",
       "8           FUR_SZ_TIME       0.045\n",
       "13        STEEL_KIND_C0       0.044\n",
       "5           FUR_HZ_TEMP       0.040\n",
       "25              HSB_미적용       0.035\n",
       "2                PT_LTH       0.032\n",
       "6           FUR_HZ_TIME       0.027\n",
       "45       SPEC_prefix_JS       0.024\n",
       "26               HSB_적용       0.021\n",
       "3                PT_WGT       0.016\n",
       "9              FUR_TIME       0.013\n",
       "21        STEEL_KIND_T8       0.005\n",
       "41       SPEC_prefix_BV       0.003\n",
       "46       SPEC_prefix_KR       0.003\n",
       "48       SPEC_prefix_LR       0.002\n",
       "20        STEEL_KIND_T7       0.002\n",
       "24           FUR_NO_3호기       0.002\n",
       "28           WORK_GR_2조       0.002\n",
       "23           FUR_NO_2호기       0.001\n",
       "44       SPEC_prefix_GL       0.001\n",
       "22           FUR_NO_1호기       0.001\n",
       "27           WORK_GR_1조       0.001\n",
       "29           WORK_GR_3조       0.000\n",
       "4            FUR_NO_ROW       0.000\n",
       "47       SPEC_prefix_KS       0.000\n",
       "49       SPEC_prefix_NK       0.000\n",
       "30           WORK_GR_4조       0.000\n",
       "19        STEEL_KIND_T5       0.000\n",
       "43   SPEC_prefix_COMMON       0.000\n",
       "50       SPEC_prefix_NV       0.000\n",
       "42      SPEC_prefix_CCS       0.000\n",
       "52    SPEC_prefix_SA283       0.000\n",
       "51    SPEC_prefix_PILAC       0.000\n",
       "14        STEEL_KIND_C1       0.000\n",
       "15        STEEL_KIND_C3       0.000\n",
       "16        STEEL_KIND_T0       0.000\n",
       "40      SPEC_prefix_API       0.000\n",
       "17        STEEL_KIND_T1       0.000\n",
       "18        STEEL_KIND_T3       0.000\n",
       "39  SPEC_prefix_AB/EH36       0.000\n",
       "38  SPEC_prefix_AB/EH32       0.000\n",
       "37     SPEC_prefix_AB/B       0.000\n",
       "36  SPEC_prefix_AB/AH32       0.000\n",
       "35     SPEC_prefix_AB/A       0.000\n",
       "34     SPEC_prefix_A709       0.000\n",
       "33     SPEC_prefix_A516       0.000\n",
       "32     SPEC_prefix_A283       0.000\n",
       "31     SPEC_prefix_A131       0.000\n",
       "53  SPEC_prefix_V42JBN3       0.000"
      ]
     },
     "execution_count": 83,
     "metadata": {},
     "output_type": "execute_result"
    }
   ],
   "source": [
    "v_feature_name = df_train_x.columns\n",
    "\n",
    "df_importance=pd.DataFrame()\n",
    "df_importance['Feature']=v_feature_name\n",
    "df_importance['Importance']=rf_final.feature_importances_\n",
    "\n",
    "df_importance.sort_values(\"Importance\", ascending=False, inplace=True)\n",
    "df_importance.round(3)"
   ]
  },
  {
   "cell_type": "code",
   "execution_count": 84,
   "metadata": {},
   "outputs": [
    {
     "data": {
      "text/plain": [
       "Text(0, 0.5, '설명변수')"
      ]
     },
     "execution_count": 84,
     "metadata": {},
     "output_type": "execute_result"
    },
    {
     "data": {
      "image/png": "[encoded data removed]",
      "text/plain": [
       "<Figure size 432x288 with 1 Axes>"
      ]
     },
     "metadata": {
      "needs_background": "light"
     },
     "output_type": "display_data"
    }
   ],
   "source": [
    "# 설명변수 중요도 그래프\n",
    "# 중요도가 높은 변수를 상위에 그림\n",
    "df_importance=df_importance[df_importance['Importance']>0.002]\n",
    "df_importance.sort_values(\"Importance\", ascending=True, inplace=True)\n",
    "coordinates=range(len(df_importance))\n",
    "plt.barh(y=coordinates, width=df_importance['Importance'])\n",
    "plt.yticks(coordinates, df_importance['Feature'])\n",
    "plt.xlabel(\"설명변수 중요도\")\n",
    "plt.ylabel('설명변수')"
   ]
  },
  {
   "cell_type": "markdown",
   "metadata": {},
   "source": [
    "ROLLING_TEMP_T5 > PT_WDTH  > FUR_SZ_TEMP > FUR_EXTEP 순으로 설명변수 중요도가 높다고 나왔다.  \n",
    "\n",
    "1위로 나온 ROLLING_TEMP_T5는 로지스틱 회귀분석과 의사결정 나무에서도 중요하다고 판단한 설명변수로 계속해서 설명변수 중요도의 상위권에 머무르며 SCALE에 영향을 많이 주고 있는 변수임을 말해주고 있다."
   ]
  },
  {
   "cell_type": "markdown",
   "metadata": {},
   "source": [
    "### 4. Gradient Boosting"
   ]
  },
  {
   "cell_type": "code",
   "execution_count": 85,
   "metadata": {},
   "outputs": [
    {
     "name": "stdout",
     "output_type": "stream",
     "text": [
      "Accuracy on training set : 1.000\n",
      "Accuracy on test set : 0.972\n"
     ]
    }
   ],
   "source": [
    "tree_uncustomized =  GradientBoostingClassifier(random_state=1234)\n",
    "tree_uncustomized.fit(df_train_x,df_train_y)\n",
    "\n",
    "print(\"Accuracy on training set : {:.3f}\".format(tree_uncustomized.score(df_train_x, df_train_y)))\n",
    "print(\"Accuracy on test set : {:.3f}\".format(tree_uncustomized.score(df_test_x, df_test_y)))"
   ]
  },
  {
   "cell_type": "markdown",
   "metadata": {},
   "source": [
    "learning rate : 학습률 변경에 따른 모델 성능"
   ]
  },
  {
   "cell_type": "code",
   "execution_count": 86,
   "metadata": {},
   "outputs": [
    {
     "data": {
      "text/html": [
       "<div>\n",
       "<style scoped>\n",
       "    .dataframe tbody tr th:only-of-type {\n",
       "        vertical-align: middle;\n",
       "    }\n",
       "\n",
       "    .dataframe tbody tr th {\n",
       "        vertical-align: top;\n",
       "    }\n",
       "\n",
       "    .dataframe thead th {\n",
       "        text-align: right;\n",
       "    }\n",
       "</style>\n",
       "<table border=\"1\" class=\"dataframe\">\n",
       "  <thead>\n",
       "    <tr style=\"text-align: right;\">\n",
       "      <th></th>\n",
       "      <th>LearningRate</th>\n",
       "      <th>TrainAccuracy</th>\n",
       "      <th>TestAccuracy</th>\n",
       "    </tr>\n",
       "  </thead>\n",
       "  <tbody>\n",
       "    <tr>\n",
       "      <th>0</th>\n",
       "      <td>0.01</td>\n",
       "      <td>0.964</td>\n",
       "      <td>0.958</td>\n",
       "    </tr>\n",
       "    <tr>\n",
       "      <th>1</th>\n",
       "      <td>0.02</td>\n",
       "      <td>0.970</td>\n",
       "      <td>0.967</td>\n",
       "    </tr>\n",
       "    <tr>\n",
       "      <th>2</th>\n",
       "      <td>0.03</td>\n",
       "      <td>0.980</td>\n",
       "      <td>0.967</td>\n",
       "    </tr>\n",
       "    <tr>\n",
       "      <th>3</th>\n",
       "      <td>0.04</td>\n",
       "      <td>0.988</td>\n",
       "      <td>0.977</td>\n",
       "    </tr>\n",
       "    <tr>\n",
       "      <th>4</th>\n",
       "      <td>0.05</td>\n",
       "      <td>0.994</td>\n",
       "      <td>0.977</td>\n",
       "    </tr>\n",
       "    <tr>\n",
       "      <th>5</th>\n",
       "      <td>0.06</td>\n",
       "      <td>0.998</td>\n",
       "      <td>0.972</td>\n",
       "    </tr>\n",
       "    <tr>\n",
       "      <th>6</th>\n",
       "      <td>0.07</td>\n",
       "      <td>0.998</td>\n",
       "      <td>0.981</td>\n",
       "    </tr>\n",
       "    <tr>\n",
       "      <th>7</th>\n",
       "      <td>0.08</td>\n",
       "      <td>0.998</td>\n",
       "      <td>0.972</td>\n",
       "    </tr>\n",
       "    <tr>\n",
       "      <th>8</th>\n",
       "      <td>0.09</td>\n",
       "      <td>1.000</td>\n",
       "      <td>0.972</td>\n",
       "    </tr>\n",
       "    <tr>\n",
       "      <th>9</th>\n",
       "      <td>0.10</td>\n",
       "      <td>1.000</td>\n",
       "      <td>0.972</td>\n",
       "    </tr>\n",
       "    <tr>\n",
       "      <th>10</th>\n",
       "      <td>0.11</td>\n",
       "      <td>1.000</td>\n",
       "      <td>0.972</td>\n",
       "    </tr>\n",
       "    <tr>\n",
       "      <th>11</th>\n",
       "      <td>0.12</td>\n",
       "      <td>1.000</td>\n",
       "      <td>0.977</td>\n",
       "    </tr>\n",
       "    <tr>\n",
       "      <th>12</th>\n",
       "      <td>0.13</td>\n",
       "      <td>1.000</td>\n",
       "      <td>0.977</td>\n",
       "    </tr>\n",
       "    <tr>\n",
       "      <th>13</th>\n",
       "      <td>0.14</td>\n",
       "      <td>1.000</td>\n",
       "      <td>0.986</td>\n",
       "    </tr>\n",
       "    <tr>\n",
       "      <th>14</th>\n",
       "      <td>0.15</td>\n",
       "      <td>1.000</td>\n",
       "      <td>0.977</td>\n",
       "    </tr>\n",
       "    <tr>\n",
       "      <th>15</th>\n",
       "      <td>0.16</td>\n",
       "      <td>1.000</td>\n",
       "      <td>0.981</td>\n",
       "    </tr>\n",
       "    <tr>\n",
       "      <th>16</th>\n",
       "      <td>0.17</td>\n",
       "      <td>1.000</td>\n",
       "      <td>0.972</td>\n",
       "    </tr>\n",
       "    <tr>\n",
       "      <th>17</th>\n",
       "      <td>0.18</td>\n",
       "      <td>1.000</td>\n",
       "      <td>0.972</td>\n",
       "    </tr>\n",
       "    <tr>\n",
       "      <th>18</th>\n",
       "      <td>0.19</td>\n",
       "      <td>1.000</td>\n",
       "      <td>0.972</td>\n",
       "    </tr>\n",
       "  </tbody>\n",
       "</table>\n",
       "</div>"
      ],
      "text/plain": [
       "    LearningRate  TrainAccuracy  TestAccuracy\n",
       "0           0.01          0.964         0.958\n",
       "1           0.02          0.970         0.967\n",
       "2           0.03          0.980         0.967\n",
       "3           0.04          0.988         0.977\n",
       "4           0.05          0.994         0.977\n",
       "5           0.06          0.998         0.972\n",
       "6           0.07          0.998         0.981\n",
       "7           0.08          0.998         0.972\n",
       "8           0.09          1.000         0.972\n",
       "9           0.10          1.000         0.972\n",
       "10          0.11          1.000         0.972\n",
       "11          0.12          1.000         0.977\n",
       "12          0.13          1.000         0.977\n",
       "13          0.14          1.000         0.986\n",
       "14          0.15          1.000         0.977\n",
       "15          0.16          1.000         0.981\n",
       "16          0.17          1.000         0.972\n",
       "17          0.18          1.000         0.972\n",
       "18          0.19          1.000         0.972"
      ]
     },
     "execution_count": 86,
     "metadata": {},
     "output_type": "execute_result"
    }
   ],
   "source": [
    "train_accuracy = []; test_accuracy=[]\n",
    "\n",
    "para_lr = [lr*0.01 for lr in range(1,20)]\n",
    "\n",
    "for v_learning_rate in para_lr:\n",
    "    gb=GradientBoostingClassifier(learning_rate=v_learning_rate, random_state=1234)\n",
    "    gb.fit(df_train_x, df_train_y)\n",
    "    train_accuracy.append(gb.score(df_train_x, df_train_y))\n",
    "    test_accuracy.append(gb.score(df_test_x, df_test_y))\n",
    "    \n",
    "df_accuracy_lr = pd.DataFrame()\n",
    "df_accuracy_lr['LearningRate']=para_lr\n",
    "df_accuracy_lr['TrainAccuracy']=train_accuracy\n",
    "df_accuracy_lr['TestAccuracy']=test_accuracy\n",
    "\n",
    "df_accuracy_lr.round(3)"
   ]
  },
  {
   "cell_type": "code",
   "execution_count": 87,
   "metadata": {
    "scrolled": true
   },
   "outputs": [
    {
     "data": {
      "text/plain": [
       "<matplotlib.legend.Legend at 0x7f3cacaeff60>"
      ]
     },
     "execution_count": 87,
     "metadata": {},
     "output_type": "execute_result"
    },
    {
     "data": {
      "image/png": "[encoded data removed]",
      "text/plain": [
       "<Figure size 432x288 with 1 Axes>"
      ]
     },
     "metadata": {
      "needs_background": "light"
     },
     "output_type": "display_data"
    }
   ],
   "source": [
    "plt.plot(para_lr, train_accuracy, linestyle=\"-\", label=\"Train Accuracy\")\n",
    "plt.plot(para_lr, test_accuracy, linestyle=\"--\", label=\"Test Accuracy\")\n",
    "plt.legend()"
   ]
  },
  {
   "cell_type": "markdown",
   "metadata": {},
   "source": [
    "learning rate가 0.05이상일 때 train score가 0.97~0.98 정도로 안정되기 때문에 0.05 이후 중 가장 높은 값을 갖는 0.14 선택"
   ]
  },
  {
   "cell_type": "markdown",
   "metadata": {},
   "source": [
    "##### n_estimator 정하기"
   ]
  },
  {
   "cell_type": "code",
   "execution_count": 88,
   "metadata": {},
   "outputs": [
    {
     "data": {
      "text/html": [
       "<div>\n",
       "<style scoped>\n",
       "    .dataframe tbody tr th:only-of-type {\n",
       "        vertical-align: middle;\n",
       "    }\n",
       "\n",
       "    .dataframe tbody tr th {\n",
       "        vertical-align: top;\n",
       "    }\n",
       "\n",
       "    .dataframe thead th {\n",
       "        text-align: right;\n",
       "    }\n",
       "</style>\n",
       "<table border=\"1\" class=\"dataframe\">\n",
       "  <thead>\n",
       "    <tr style=\"text-align: right;\">\n",
       "      <th></th>\n",
       "      <th>n_estimators</th>\n",
       "      <th>TrainAccuracy</th>\n",
       "      <th>TestAccuracy</th>\n",
       "    </tr>\n",
       "  </thead>\n",
       "  <tbody>\n",
       "    <tr>\n",
       "      <th>0</th>\n",
       "      <td>10</td>\n",
       "      <td>0.964</td>\n",
       "      <td>0.958</td>\n",
       "    </tr>\n",
       "    <tr>\n",
       "      <th>1</th>\n",
       "      <td>20</td>\n",
       "      <td>0.978</td>\n",
       "      <td>0.967</td>\n",
       "    </tr>\n",
       "    <tr>\n",
       "      <th>2</th>\n",
       "      <td>30</td>\n",
       "      <td>0.992</td>\n",
       "      <td>0.981</td>\n",
       "    </tr>\n",
       "    <tr>\n",
       "      <th>3</th>\n",
       "      <td>40</td>\n",
       "      <td>0.998</td>\n",
       "      <td>0.981</td>\n",
       "    </tr>\n",
       "    <tr>\n",
       "      <th>4</th>\n",
       "      <td>50</td>\n",
       "      <td>0.998</td>\n",
       "      <td>0.981</td>\n",
       "    </tr>\n",
       "    <tr>\n",
       "      <th>5</th>\n",
       "      <td>60</td>\n",
       "      <td>1.000</td>\n",
       "      <td>0.986</td>\n",
       "    </tr>\n",
       "    <tr>\n",
       "      <th>6</th>\n",
       "      <td>70</td>\n",
       "      <td>1.000</td>\n",
       "      <td>0.986</td>\n",
       "    </tr>\n",
       "    <tr>\n",
       "      <th>7</th>\n",
       "      <td>80</td>\n",
       "      <td>1.000</td>\n",
       "      <td>0.986</td>\n",
       "    </tr>\n",
       "    <tr>\n",
       "      <th>8</th>\n",
       "      <td>90</td>\n",
       "      <td>1.000</td>\n",
       "      <td>0.986</td>\n",
       "    </tr>\n",
       "    <tr>\n",
       "      <th>9</th>\n",
       "      <td>100</td>\n",
       "      <td>1.000</td>\n",
       "      <td>0.986</td>\n",
       "    </tr>\n",
       "    <tr>\n",
       "      <th>10</th>\n",
       "      <td>110</td>\n",
       "      <td>1.000</td>\n",
       "      <td>0.986</td>\n",
       "    </tr>\n",
       "    <tr>\n",
       "      <th>11</th>\n",
       "      <td>120</td>\n",
       "      <td>1.000</td>\n",
       "      <td>0.981</td>\n",
       "    </tr>\n",
       "    <tr>\n",
       "      <th>12</th>\n",
       "      <td>130</td>\n",
       "      <td>1.000</td>\n",
       "      <td>0.981</td>\n",
       "    </tr>\n",
       "    <tr>\n",
       "      <th>13</th>\n",
       "      <td>140</td>\n",
       "      <td>1.000</td>\n",
       "      <td>0.981</td>\n",
       "    </tr>\n",
       "    <tr>\n",
       "      <th>14</th>\n",
       "      <td>150</td>\n",
       "      <td>1.000</td>\n",
       "      <td>0.981</td>\n",
       "    </tr>\n",
       "  </tbody>\n",
       "</table>\n",
       "</div>"
      ],
      "text/plain": [
       "    n_estimators  TrainAccuracy  TestAccuracy\n",
       "0             10          0.964         0.958\n",
       "1             20          0.978         0.967\n",
       "2             30          0.992         0.981\n",
       "3             40          0.998         0.981\n",
       "4             50          0.998         0.981\n",
       "5             60          1.000         0.986\n",
       "6             70          1.000         0.986\n",
       "7             80          1.000         0.986\n",
       "8             90          1.000         0.986\n",
       "9            100          1.000         0.986\n",
       "10           110          1.000         0.986\n",
       "11           120          1.000         0.981\n",
       "12           130          1.000         0.981\n",
       "13           140          1.000         0.981\n",
       "14           150          1.000         0.981"
      ]
     },
     "execution_count": 88,
     "metadata": {},
     "output_type": "execute_result"
    }
   ],
   "source": [
    "train_accuracy =[]; test_accuracy=[]\n",
    "\n",
    "para_n_tree = [n_tree*10 for n_tree in range(1,16)]\n",
    "\n",
    "for v_n_estimators in para_n_tree:\n",
    "    tree=GradientBoostingClassifier(learning_rate=0.14,n_estimators=v_n_estimators, random_state=1234)\n",
    "    tree.fit(df_train_x, df_train_y)\n",
    "    train_accuracy.append(tree.score(df_train_x, df_train_y))\n",
    "    test_accuracy.append(tree.score(df_test_x, df_test_y))\n",
    "    \n",
    "df_accuracy_n = pd.DataFrame()\n",
    "df_accuracy_n['n_estimators']=para_n_tree\n",
    "df_accuracy_n['TrainAccuracy']=train_accuracy\n",
    "df_accuracy_n['TestAccuracy']=test_accuracy\n",
    "\n",
    "df_accuracy_n.round(3)"
   ]
  },
  {
   "cell_type": "code",
   "execution_count": 89,
   "metadata": {},
   "outputs": [
    {
     "data": {
      "text/plain": [
       "<matplotlib.legend.Legend at 0x7f3caca67eb8>"
      ]
     },
     "execution_count": 89,
     "metadata": {},
     "output_type": "execute_result"
    },
    {
     "data": {
      "image/png": "[encoded data removed]",
      "text/plain": [
       "<Figure size 432x288 with 1 Axes>"
      ]
     },
     "metadata": {
      "needs_background": "light"
     },
     "output_type": "display_data"
    }
   ],
   "source": [
    "plt.plot(para_n_tree, train_accuracy, linestyle=\"-\", label=\"Train Accuracy\")\n",
    "plt.plot(para_n_tree, test_accuracy, linestyle=\"--\", label=\"Test Accuracy\")\n",
    "plt.legend()"
   ]
  },
  {
   "cell_type": "markdown",
   "metadata": {},
   "source": [
    "score가 안정적으로 높게 나오고 있고, 전체 데이터의 수가 499개이므로 모델의 특성을 고려하여 70 선택"
   ]
  },
  {
   "cell_type": "markdown",
   "metadata": {},
   "source": [
    "##### Depth 정하기"
   ]
  },
  {
   "cell_type": "code",
   "execution_count": 90,
   "metadata": {},
   "outputs": [
    {
     "data": {
      "text/html": [
       "<div>\n",
       "<style scoped>\n",
       "    .dataframe tbody tr th:only-of-type {\n",
       "        vertical-align: middle;\n",
       "    }\n",
       "\n",
       "    .dataframe tbody tr th {\n",
       "        vertical-align: top;\n",
       "    }\n",
       "\n",
       "    .dataframe thead th {\n",
       "        text-align: right;\n",
       "    }\n",
       "</style>\n",
       "<table border=\"1\" class=\"dataframe\">\n",
       "  <thead>\n",
       "    <tr style=\"text-align: right;\">\n",
       "      <th></th>\n",
       "      <th>Depth</th>\n",
       "      <th>TrainAccuracy</th>\n",
       "      <th>TestAccuracy</th>\n",
       "    </tr>\n",
       "  </thead>\n",
       "  <tbody>\n",
       "    <tr>\n",
       "      <th>0</th>\n",
       "      <td>1</td>\n",
       "      <td>0.970</td>\n",
       "      <td>0.967</td>\n",
       "    </tr>\n",
       "    <tr>\n",
       "      <th>1</th>\n",
       "      <td>2</td>\n",
       "      <td>0.996</td>\n",
       "      <td>0.986</td>\n",
       "    </tr>\n",
       "    <tr>\n",
       "      <th>2</th>\n",
       "      <td>3</td>\n",
       "      <td>1.000</td>\n",
       "      <td>0.986</td>\n",
       "    </tr>\n",
       "    <tr>\n",
       "      <th>3</th>\n",
       "      <td>4</td>\n",
       "      <td>1.000</td>\n",
       "      <td>0.972</td>\n",
       "    </tr>\n",
       "    <tr>\n",
       "      <th>4</th>\n",
       "      <td>5</td>\n",
       "      <td>1.000</td>\n",
       "      <td>0.967</td>\n",
       "    </tr>\n",
       "    <tr>\n",
       "      <th>5</th>\n",
       "      <td>6</td>\n",
       "      <td>1.000</td>\n",
       "      <td>0.967</td>\n",
       "    </tr>\n",
       "    <tr>\n",
       "      <th>6</th>\n",
       "      <td>7</td>\n",
       "      <td>1.000</td>\n",
       "      <td>0.986</td>\n",
       "    </tr>\n",
       "    <tr>\n",
       "      <th>7</th>\n",
       "      <td>8</td>\n",
       "      <td>1.000</td>\n",
       "      <td>0.958</td>\n",
       "    </tr>\n",
       "    <tr>\n",
       "      <th>8</th>\n",
       "      <td>9</td>\n",
       "      <td>1.000</td>\n",
       "      <td>0.972</td>\n",
       "    </tr>\n",
       "    <tr>\n",
       "      <th>9</th>\n",
       "      <td>10</td>\n",
       "      <td>1.000</td>\n",
       "      <td>0.967</td>\n",
       "    </tr>\n",
       "  </tbody>\n",
       "</table>\n",
       "</div>"
      ],
      "text/plain": [
       "   Depth  TrainAccuracy  TestAccuracy\n",
       "0      1          0.970         0.967\n",
       "1      2          0.996         0.986\n",
       "2      3          1.000         0.986\n",
       "3      4          1.000         0.972\n",
       "4      5          1.000         0.967\n",
       "5      6          1.000         0.967\n",
       "6      7          1.000         0.986\n",
       "7      8          1.000         0.958\n",
       "8      9          1.000         0.972\n",
       "9     10          1.000         0.967"
      ]
     },
     "execution_count": 90,
     "metadata": {},
     "output_type": "execute_result"
    }
   ],
   "source": [
    "train_accuracy =[]; test_accuracy=[]\n",
    "\n",
    "para_depth = [depth for depth in range(1,11)]\n",
    "\n",
    "for v_max_depth in para_depth:\n",
    "    tree=GradientBoostingClassifier(learning_rate=0.14,n_estimators=70,max_depth=v_max_depth, random_state=1234)\n",
    "    tree.fit(df_train_x, df_train_y)\n",
    "    train_accuracy.append(tree.score(df_train_x, df_train_y))\n",
    "    test_accuracy.append(tree.score(df_test_x, df_test_y))\n",
    "    \n",
    "df_accuracy_depth = pd.DataFrame()\n",
    "df_accuracy_depth['Depth']=para_depth\n",
    "df_accuracy_depth['TrainAccuracy']=train_accuracy\n",
    "df_accuracy_depth['TestAccuracy']=test_accuracy\n",
    "\n",
    "df_accuracy_depth.round(3)"
   ]
  },
  {
   "cell_type": "code",
   "execution_count": 91,
   "metadata": {},
   "outputs": [
    {
     "data": {
      "text/plain": [
       "<matplotlib.legend.Legend at 0x7f3caca1d4a8>"
      ]
     },
     "execution_count": 91,
     "metadata": {},
     "output_type": "execute_result"
    },
    {
     "data": {
      "image/png": "[encoded data removed]",
      "text/plain": [
       "<Figure size 432x288 with 1 Axes>"
      ]
     },
     "metadata": {
      "needs_background": "light"
     },
     "output_type": "display_data"
    }
   ],
   "source": [
    "plt.plot(para_depth, train_accuracy, linestyle=\"-\", label=\"Train Accuracy\")\n",
    "plt.plot(para_depth, test_accuracy, linestyle=\"--\", label=\"Test Accuracy\")\n",
    "plt.legend()"
   ]
  },
  {
   "cell_type": "markdown",
   "metadata": {},
   "source": [
    "최대 깊이는 클 수록 과대적합의 여지가 생기기 때문에 3과 7중 더 작은 3을 선택하겠다."
   ]
  },
  {
   "cell_type": "markdown",
   "metadata": {},
   "source": [
    "##### min_samples_split 정하기"
   ]
  },
  {
   "cell_type": "code",
   "execution_count": 92,
   "metadata": {},
   "outputs": [
    {
     "data": {
      "text/html": [
       "<div>\n",
       "<style scoped>\n",
       "    .dataframe tbody tr th:only-of-type {\n",
       "        vertical-align: middle;\n",
       "    }\n",
       "\n",
       "    .dataframe tbody tr th {\n",
       "        vertical-align: top;\n",
       "    }\n",
       "\n",
       "    .dataframe thead th {\n",
       "        text-align: right;\n",
       "    }\n",
       "</style>\n",
       "<table border=\"1\" class=\"dataframe\">\n",
       "  <thead>\n",
       "    <tr style=\"text-align: right;\">\n",
       "      <th></th>\n",
       "      <th>Split</th>\n",
       "      <th>TrainAccuracy</th>\n",
       "      <th>TestAccuracy</th>\n",
       "    </tr>\n",
       "  </thead>\n",
       "  <tbody>\n",
       "    <tr>\n",
       "      <th>0</th>\n",
       "      <td>10</td>\n",
       "      <td>0.998</td>\n",
       "      <td>0.972</td>\n",
       "    </tr>\n",
       "    <tr>\n",
       "      <th>1</th>\n",
       "      <td>20</td>\n",
       "      <td>1.000</td>\n",
       "      <td>0.981</td>\n",
       "    </tr>\n",
       "    <tr>\n",
       "      <th>2</th>\n",
       "      <td>30</td>\n",
       "      <td>0.998</td>\n",
       "      <td>0.981</td>\n",
       "    </tr>\n",
       "    <tr>\n",
       "      <th>3</th>\n",
       "      <td>40</td>\n",
       "      <td>0.998</td>\n",
       "      <td>0.981</td>\n",
       "    </tr>\n",
       "    <tr>\n",
       "      <th>4</th>\n",
       "      <td>50</td>\n",
       "      <td>0.998</td>\n",
       "      <td>0.981</td>\n",
       "    </tr>\n",
       "    <tr>\n",
       "      <th>5</th>\n",
       "      <td>60</td>\n",
       "      <td>0.998</td>\n",
       "      <td>0.981</td>\n",
       "    </tr>\n",
       "    <tr>\n",
       "      <th>6</th>\n",
       "      <td>70</td>\n",
       "      <td>0.998</td>\n",
       "      <td>0.981</td>\n",
       "    </tr>\n",
       "    <tr>\n",
       "      <th>7</th>\n",
       "      <td>80</td>\n",
       "      <td>0.998</td>\n",
       "      <td>0.981</td>\n",
       "    </tr>\n",
       "    <tr>\n",
       "      <th>8</th>\n",
       "      <td>90</td>\n",
       "      <td>0.998</td>\n",
       "      <td>0.981</td>\n",
       "    </tr>\n",
       "    <tr>\n",
       "      <th>9</th>\n",
       "      <td>100</td>\n",
       "      <td>0.998</td>\n",
       "      <td>0.981</td>\n",
       "    </tr>\n",
       "  </tbody>\n",
       "</table>\n",
       "</div>"
      ],
      "text/plain": [
       "   Split  TrainAccuracy  TestAccuracy\n",
       "0     10          0.998         0.972\n",
       "1     20          1.000         0.981\n",
       "2     30          0.998         0.981\n",
       "3     40          0.998         0.981\n",
       "4     50          0.998         0.981\n",
       "5     60          0.998         0.981\n",
       "6     70          0.998         0.981\n",
       "7     80          0.998         0.981\n",
       "8     90          0.998         0.981\n",
       "9    100          0.998         0.981"
      ]
     },
     "execution_count": 92,
     "metadata": {},
     "output_type": "execute_result"
    }
   ],
   "source": [
    "train_accuracy =[]; test_accuracy=[]\n",
    "\n",
    "para_split = [n_split*10 for n_split in range(1,11)]\n",
    "\n",
    "for v_min_samples_split in para_split:\n",
    "    tree=GradientBoostingClassifier(learning_rate=0.14,n_estimators=60,max_depth=3,\n",
    "                                min_samples_split=v_min_samples_split,random_state=1234)\n",
    "    tree.fit(df_train_x, df_train_y)\n",
    "    train_accuracy.append(tree.score(df_train_x, df_train_y))\n",
    "    test_accuracy.append(tree.score(df_test_x, df_test_y))\n",
    "    \n",
    "df_accuracy_split = pd.DataFrame()\n",
    "df_accuracy_split['Split']=para_split\n",
    "df_accuracy_split['TrainAccuracy']=train_accuracy\n",
    "df_accuracy_split['TestAccuracy']=test_accuracy\n",
    "\n",
    "df_accuracy_split.round(3)"
   ]
  },
  {
   "cell_type": "code",
   "execution_count": 93,
   "metadata": {},
   "outputs": [
    {
     "data": {
      "text/plain": [
       "<matplotlib.legend.Legend at 0x7f3cac98a7b8>"
      ]
     },
     "execution_count": 93,
     "metadata": {},
     "output_type": "execute_result"
    },
    {
     "data": {
      "image/png": "[encoded data removed]",
      "text/plain": [
       "<Figure size 432x288 with 1 Axes>"
      ]
     },
     "metadata": {
      "needs_background": "light"
     },
     "output_type": "display_data"
    }
   ],
   "source": [
    "plt.plot(para_split, train_accuracy, linestyle=\"-\", label=\"Train Accuracy\")\n",
    "plt.plot(para_split, test_accuracy, linestyle=\"--\", label=\"Test Accuracy\")\n",
    "plt.legend()"
   ]
  },
  {
   "cell_type": "markdown",
   "metadata": {},
   "source": [
    "    분리 노드의 최소 자료 수 증가에 따라 모델의 정확도는 차이가 존재하나 test 데이터의 성능 변화를 고려하면 30정도에서 안정성을 보여준다고 판단하여 30으로 결정함"
   ]
  },
  {
   "cell_type": "markdown",
   "metadata": {},
   "source": [
    "##### min_samples_leaf정하기"
   ]
  },
  {
   "cell_type": "code",
   "execution_count": 94,
   "metadata": {},
   "outputs": [
    {
     "data": {
      "text/html": [
       "<div>\n",
       "<style scoped>\n",
       "    .dataframe tbody tr th:only-of-type {\n",
       "        vertical-align: middle;\n",
       "    }\n",
       "\n",
       "    .dataframe tbody tr th {\n",
       "        vertical-align: top;\n",
       "    }\n",
       "\n",
       "    .dataframe thead th {\n",
       "        text-align: right;\n",
       "    }\n",
       "</style>\n",
       "<table border=\"1\" class=\"dataframe\">\n",
       "  <thead>\n",
       "    <tr style=\"text-align: right;\">\n",
       "      <th></th>\n",
       "      <th>Leaf</th>\n",
       "      <th>TrainAccuracy</th>\n",
       "      <th>TestAccuracy</th>\n",
       "    </tr>\n",
       "  </thead>\n",
       "  <tbody>\n",
       "    <tr>\n",
       "      <th>0</th>\n",
       "      <td>5</td>\n",
       "      <td>0.992</td>\n",
       "      <td>0.972</td>\n",
       "    </tr>\n",
       "    <tr>\n",
       "      <th>1</th>\n",
       "      <td>10</td>\n",
       "      <td>0.996</td>\n",
       "      <td>0.981</td>\n",
       "    </tr>\n",
       "    <tr>\n",
       "      <th>2</th>\n",
       "      <td>15</td>\n",
       "      <td>0.996</td>\n",
       "      <td>0.991</td>\n",
       "    </tr>\n",
       "    <tr>\n",
       "      <th>3</th>\n",
       "      <td>20</td>\n",
       "      <td>0.992</td>\n",
       "      <td>0.967</td>\n",
       "    </tr>\n",
       "    <tr>\n",
       "      <th>4</th>\n",
       "      <td>25</td>\n",
       "      <td>0.954</td>\n",
       "      <td>0.912</td>\n",
       "    </tr>\n",
       "    <tr>\n",
       "      <th>5</th>\n",
       "      <td>30</td>\n",
       "      <td>0.958</td>\n",
       "      <td>0.912</td>\n",
       "    </tr>\n",
       "  </tbody>\n",
       "</table>\n",
       "</div>"
      ],
      "text/plain": [
       "   Leaf  TrainAccuracy  TestAccuracy\n",
       "0     5          0.992         0.972\n",
       "1    10          0.996         0.981\n",
       "2    15          0.996         0.991\n",
       "3    20          0.992         0.967\n",
       "4    25          0.954         0.912\n",
       "5    30          0.958         0.912"
      ]
     },
     "execution_count": 94,
     "metadata": {},
     "output_type": "execute_result"
    }
   ],
   "source": [
    "train_accuracy =[]; test_accuracy=[]\n",
    "\n",
    "para_leaf = [n_leaf*5 for n_leaf in range(1,7)]\n",
    "\n",
    "for v_min_samples_leaf in para_leaf:\n",
    "    tree=GradientBoostingClassifier(learning_rate=0.14,n_estimators=60,max_depth=3,\n",
    "                                min_samples_split=30,\n",
    "                                min_samples_leaf=v_min_samples_leaf\n",
    "                                ,random_state=1234)\n",
    "    tree.fit(df_train_x, df_train_y)\n",
    "    train_accuracy.append(tree.score(df_train_x, df_train_y))\n",
    "    test_accuracy.append(tree.score(df_test_x, df_test_y))\n",
    "    \n",
    "df_accuracy_leaf = pd.DataFrame()\n",
    "df_accuracy_leaf['Leaf']=para_leaf\n",
    "df_accuracy_leaf['TrainAccuracy']=train_accuracy\n",
    "df_accuracy_leaf['TestAccuracy']=test_accuracy\n",
    "\n",
    "df_accuracy_leaf.round(3)"
   ]
  },
  {
   "cell_type": "code",
   "execution_count": 95,
   "metadata": {
    "scrolled": true
   },
   "outputs": [
    {
     "data": {
      "text/plain": [
       "<matplotlib.legend.Legend at 0x7f3cac9626d8>"
      ]
     },
     "execution_count": 95,
     "metadata": {},
     "output_type": "execute_result"
    },
    {
     "data": {
      "image/png": "[encoded data removed]",
      "text/plain": [
       "<Figure size 432x288 with 1 Axes>"
      ]
     },
     "metadata": {
      "needs_background": "light"
     },
     "output_type": "display_data"
    }
   ],
   "source": [
    "plt.plot(para_leaf, train_accuracy, linestyle=\"-\", label=\"Train Accuracy\")\n",
    "plt.plot(para_leaf, test_accuracy, linestyle=\"--\", label=\"Test Accuracy\")\n",
    "plt.legend()"
   ]
  },
  {
   "cell_type": "markdown",
   "metadata": {},
   "source": [
    "    과적합 요소를 배제하고 전체데이터 개수(499개)와 Train/Test 데이터의 성능 변화를 고려하여 15 선택"
   ]
  },
  {
   "cell_type": "markdown",
   "metadata": {},
   "source": [
    "##### 최종 모델 선정"
   ]
  },
  {
   "cell_type": "code",
   "execution_count": 96,
   "metadata": {},
   "outputs": [
    {
     "name": "stdout",
     "output_type": "stream",
     "text": [
      "Accuracy on training set : 0.956\n",
      "Accuracy on test set : 0.912\n",
      "Confusion matrix : \n",
      "[[142   0]\n",
      " [ 20  53]]\n"
     ]
    }
   ],
   "source": [
    "gb_final = GradientBoostingClassifier(learning_rate=0.14, n_estimators=60,max_depth=3, min_samples_split=60,\n",
    "                                   min_samples_leaf=25, random_state=1234)\n",
    "gb_final.fit(df_train_x, df_train_y)\n",
    "\n",
    "y_pred = rf_final.predict(df_test_x)\n",
    "\n",
    "print(\"Accuracy on training set : {:.3f}\".format(gb_final.score(df_train_x, df_train_y)))\n",
    "print(\"Accuracy on test set : {:.3f}\".format(gb_final.score(df_test_x, df_test_y)))\n",
    "print(\"Confusion matrix : \\n{}\".format(confusion_matrix(df_test_y, y_pred)))\n",
    "\n",
    "train.append(gb_final.score(df_train_x, df_train_y))\n",
    "test.append(gb_final.score(df_test_x, df_test_y))\n",
    "\n",
    "fpr, tpr, thresholds =roc_curve(df_test_y, y_pred)\n",
    "roc_auc=auc(fpr, tpr)\n",
    "\n",
    "model_auc_score.append(roc_auc)"
   ]
  },
  {
   "cell_type": "code",
   "execution_count": 97,
   "metadata": {},
   "outputs": [
    {
     "data": {
      "image/png": "[encoded data removed]",
      "text/plain": [
       "<Figure size 432x288 with 1 Axes>"
      ]
     },
     "metadata": {
      "needs_background": "light"
     },
     "output_type": "display_data"
    }
   ],
   "source": [
    "plt.plot(fpr,tpr,label=\"AUC = %0.2f\"%roc_auc)\n",
    "plt.legend(loc='lower right')\n",
    "plt.ylabel(\"TPR\"); plt.xlabel(\"FPR\")\n",
    "plt.show()"
   ]
  },
  {
   "cell_type": "code",
   "execution_count": 98,
   "metadata": {},
   "outputs": [],
   "source": [
    "#f1 스코어\n",
    "model_f1_score.append(f1_score(df_test_y, y_pred))\n",
    "model_precision_score.append(precision_score(df_test_y, y_pred))\n",
    "model_recall_score.append(recall_score(df_test_y, y_pred))"
   ]
  },
  {
   "cell_type": "markdown",
   "metadata": {},
   "source": [
    "train/test 데이터의 정분류율이 비슷한 수준(**91.2%**)으로 안정적인 모델임을 확인할 수 있음"
   ]
  },
  {
   "cell_type": "code",
   "execution_count": 99,
   "metadata": {},
   "outputs": [
    {
     "data": {
      "text/html": [
       "<div>\n",
       "<style scoped>\n",
       "    .dataframe tbody tr th:only-of-type {\n",
       "        vertical-align: middle;\n",
       "    }\n",
       "\n",
       "    .dataframe tbody tr th {\n",
       "        vertical-align: top;\n",
       "    }\n",
       "\n",
       "    .dataframe thead th {\n",
       "        text-align: right;\n",
       "    }\n",
       "</style>\n",
       "<table border=\"1\" class=\"dataframe\">\n",
       "  <thead>\n",
       "    <tr style=\"text-align: right;\">\n",
       "      <th></th>\n",
       "      <th>Feature</th>\n",
       "      <th>Importance</th>\n",
       "    </tr>\n",
       "  </thead>\n",
       "  <tbody>\n",
       "    <tr>\n",
       "      <th>11</th>\n",
       "      <td>ROLLING_TEMP_T5</td>\n",
       "      <td>0.743</td>\n",
       "    </tr>\n",
       "    <tr>\n",
       "      <th>5</th>\n",
       "      <td>FUR_HZ_TEMP</td>\n",
       "      <td>0.063</td>\n",
       "    </tr>\n",
       "    <tr>\n",
       "      <th>7</th>\n",
       "      <td>FUR_SZ_TEMP</td>\n",
       "      <td>0.044</td>\n",
       "    </tr>\n",
       "    <tr>\n",
       "      <th>0</th>\n",
       "      <td>PT_THK</td>\n",
       "      <td>0.035</td>\n",
       "    </tr>\n",
       "    <tr>\n",
       "      <th>12</th>\n",
       "      <td>ROLLING_DESCALING</td>\n",
       "      <td>0.026</td>\n",
       "    </tr>\n",
       "    <tr>\n",
       "      <th>3</th>\n",
       "      <td>PT_WGT</td>\n",
       "      <td>0.024</td>\n",
       "    </tr>\n",
       "    <tr>\n",
       "      <th>8</th>\n",
       "      <td>FUR_SZ_TIME</td>\n",
       "      <td>0.016</td>\n",
       "    </tr>\n",
       "    <tr>\n",
       "      <th>10</th>\n",
       "      <td>FUR_EXTEMP</td>\n",
       "      <td>0.012</td>\n",
       "    </tr>\n",
       "    <tr>\n",
       "      <th>2</th>\n",
       "      <td>PT_LTH</td>\n",
       "      <td>0.011</td>\n",
       "    </tr>\n",
       "    <tr>\n",
       "      <th>9</th>\n",
       "      <td>FUR_TIME</td>\n",
       "      <td>0.008</td>\n",
       "    </tr>\n",
       "    <tr>\n",
       "      <th>20</th>\n",
       "      <td>STEEL_KIND_T7</td>\n",
       "      <td>0.005</td>\n",
       "    </tr>\n",
       "    <tr>\n",
       "      <th>4</th>\n",
       "      <td>FUR_NO_ROW</td>\n",
       "      <td>0.004</td>\n",
       "    </tr>\n",
       "    <tr>\n",
       "      <th>1</th>\n",
       "      <td>PT_WDTH</td>\n",
       "      <td>0.003</td>\n",
       "    </tr>\n",
       "    <tr>\n",
       "      <th>6</th>\n",
       "      <td>FUR_HZ_TIME</td>\n",
       "      <td>0.003</td>\n",
       "    </tr>\n",
       "    <tr>\n",
       "      <th>23</th>\n",
       "      <td>FUR_NO_2호기</td>\n",
       "      <td>0.001</td>\n",
       "    </tr>\n",
       "    <tr>\n",
       "      <th>24</th>\n",
       "      <td>FUR_NO_3호기</td>\n",
       "      <td>0.001</td>\n",
       "    </tr>\n",
       "    <tr>\n",
       "      <th>21</th>\n",
       "      <td>STEEL_KIND_T8</td>\n",
       "      <td>0.001</td>\n",
       "    </tr>\n",
       "    <tr>\n",
       "      <th>50</th>\n",
       "      <td>SPEC_prefix_NV</td>\n",
       "      <td>0.000</td>\n",
       "    </tr>\n",
       "    <tr>\n",
       "      <th>48</th>\n",
       "      <td>SPEC_prefix_LR</td>\n",
       "      <td>0.000</td>\n",
       "    </tr>\n",
       "    <tr>\n",
       "      <th>46</th>\n",
       "      <td>SPEC_prefix_KR</td>\n",
       "      <td>0.000</td>\n",
       "    </tr>\n",
       "    <tr>\n",
       "      <th>47</th>\n",
       "      <td>SPEC_prefix_KS</td>\n",
       "      <td>0.000</td>\n",
       "    </tr>\n",
       "    <tr>\n",
       "      <th>35</th>\n",
       "      <td>SPEC_prefix_AB/A</td>\n",
       "      <td>0.000</td>\n",
       "    </tr>\n",
       "    <tr>\n",
       "      <th>45</th>\n",
       "      <td>SPEC_prefix_JS</td>\n",
       "      <td>0.000</td>\n",
       "    </tr>\n",
       "    <tr>\n",
       "      <th>49</th>\n",
       "      <td>SPEC_prefix_NK</td>\n",
       "      <td>0.000</td>\n",
       "    </tr>\n",
       "    <tr>\n",
       "      <th>51</th>\n",
       "      <td>SPEC_prefix_PILAC</td>\n",
       "      <td>0.000</td>\n",
       "    </tr>\n",
       "    <tr>\n",
       "      <th>44</th>\n",
       "      <td>SPEC_prefix_GL</td>\n",
       "      <td>0.000</td>\n",
       "    </tr>\n",
       "    <tr>\n",
       "      <th>43</th>\n",
       "      <td>SPEC_prefix_COMMON</td>\n",
       "      <td>0.000</td>\n",
       "    </tr>\n",
       "    <tr>\n",
       "      <th>52</th>\n",
       "      <td>SPEC_prefix_SA283</td>\n",
       "      <td>0.000</td>\n",
       "    </tr>\n",
       "    <tr>\n",
       "      <th>42</th>\n",
       "      <td>SPEC_prefix_CCS</td>\n",
       "      <td>0.000</td>\n",
       "    </tr>\n",
       "    <tr>\n",
       "      <th>41</th>\n",
       "      <td>SPEC_prefix_BV</td>\n",
       "      <td>0.000</td>\n",
       "    </tr>\n",
       "    <tr>\n",
       "      <th>40</th>\n",
       "      <td>SPEC_prefix_API</td>\n",
       "      <td>0.000</td>\n",
       "    </tr>\n",
       "    <tr>\n",
       "      <th>39</th>\n",
       "      <td>SPEC_prefix_AB/EH36</td>\n",
       "      <td>0.000</td>\n",
       "    </tr>\n",
       "    <tr>\n",
       "      <th>38</th>\n",
       "      <td>SPEC_prefix_AB/EH32</td>\n",
       "      <td>0.000</td>\n",
       "    </tr>\n",
       "    <tr>\n",
       "      <th>37</th>\n",
       "      <td>SPEC_prefix_AB/B</td>\n",
       "      <td>0.000</td>\n",
       "    </tr>\n",
       "    <tr>\n",
       "      <th>36</th>\n",
       "      <td>SPEC_prefix_AB/AH32</td>\n",
       "      <td>0.000</td>\n",
       "    </tr>\n",
       "    <tr>\n",
       "      <th>27</th>\n",
       "      <td>WORK_GR_1조</td>\n",
       "      <td>0.000</td>\n",
       "    </tr>\n",
       "    <tr>\n",
       "      <th>34</th>\n",
       "      <td>SPEC_prefix_A709</td>\n",
       "      <td>0.000</td>\n",
       "    </tr>\n",
       "    <tr>\n",
       "      <th>33</th>\n",
       "      <td>SPEC_prefix_A516</td>\n",
       "      <td>0.000</td>\n",
       "    </tr>\n",
       "    <tr>\n",
       "      <th>13</th>\n",
       "      <td>STEEL_KIND_C0</td>\n",
       "      <td>0.000</td>\n",
       "    </tr>\n",
       "    <tr>\n",
       "      <th>14</th>\n",
       "      <td>STEEL_KIND_C1</td>\n",
       "      <td>0.000</td>\n",
       "    </tr>\n",
       "    <tr>\n",
       "      <th>15</th>\n",
       "      <td>STEEL_KIND_C3</td>\n",
       "      <td>0.000</td>\n",
       "    </tr>\n",
       "    <tr>\n",
       "      <th>16</th>\n",
       "      <td>STEEL_KIND_T0</td>\n",
       "      <td>0.000</td>\n",
       "    </tr>\n",
       "    <tr>\n",
       "      <th>17</th>\n",
       "      <td>STEEL_KIND_T1</td>\n",
       "      <td>0.000</td>\n",
       "    </tr>\n",
       "    <tr>\n",
       "      <th>18</th>\n",
       "      <td>STEEL_KIND_T3</td>\n",
       "      <td>0.000</td>\n",
       "    </tr>\n",
       "    <tr>\n",
       "      <th>19</th>\n",
       "      <td>STEEL_KIND_T5</td>\n",
       "      <td>0.000</td>\n",
       "    </tr>\n",
       "    <tr>\n",
       "      <th>22</th>\n",
       "      <td>FUR_NO_1호기</td>\n",
       "      <td>0.000</td>\n",
       "    </tr>\n",
       "    <tr>\n",
       "      <th>25</th>\n",
       "      <td>HSB_미적용</td>\n",
       "      <td>0.000</td>\n",
       "    </tr>\n",
       "    <tr>\n",
       "      <th>26</th>\n",
       "      <td>HSB_적용</td>\n",
       "      <td>0.000</td>\n",
       "    </tr>\n",
       "    <tr>\n",
       "      <th>28</th>\n",
       "      <td>WORK_GR_2조</td>\n",
       "      <td>0.000</td>\n",
       "    </tr>\n",
       "    <tr>\n",
       "      <th>29</th>\n",
       "      <td>WORK_GR_3조</td>\n",
       "      <td>0.000</td>\n",
       "    </tr>\n",
       "    <tr>\n",
       "      <th>30</th>\n",
       "      <td>WORK_GR_4조</td>\n",
       "      <td>0.000</td>\n",
       "    </tr>\n",
       "    <tr>\n",
       "      <th>31</th>\n",
       "      <td>SPEC_prefix_A131</td>\n",
       "      <td>0.000</td>\n",
       "    </tr>\n",
       "    <tr>\n",
       "      <th>32</th>\n",
       "      <td>SPEC_prefix_A283</td>\n",
       "      <td>0.000</td>\n",
       "    </tr>\n",
       "    <tr>\n",
       "      <th>53</th>\n",
       "      <td>SPEC_prefix_V42JBN3</td>\n",
       "      <td>0.000</td>\n",
       "    </tr>\n",
       "  </tbody>\n",
       "</table>\n",
       "</div>"
      ],
      "text/plain": [
       "                Feature  Importance\n",
       "11      ROLLING_TEMP_T5       0.743\n",
       "5           FUR_HZ_TEMP       0.063\n",
       "7           FUR_SZ_TEMP       0.044\n",
       "0                PT_THK       0.035\n",
       "12    ROLLING_DESCALING       0.026\n",
       "3                PT_WGT       0.024\n",
       "8           FUR_SZ_TIME       0.016\n",
       "10           FUR_EXTEMP       0.012\n",
       "2                PT_LTH       0.011\n",
       "9              FUR_TIME       0.008\n",
       "20        STEEL_KIND_T7       0.005\n",
       "4            FUR_NO_ROW       0.004\n",
       "1               PT_WDTH       0.003\n",
       "6           FUR_HZ_TIME       0.003\n",
       "23           FUR_NO_2호기       0.001\n",
       "24           FUR_NO_3호기       0.001\n",
       "21        STEEL_KIND_T8       0.001\n",
       "50       SPEC_prefix_NV       0.000\n",
       "48       SPEC_prefix_LR       0.000\n",
       "46       SPEC_prefix_KR       0.000\n",
       "47       SPEC_prefix_KS       0.000\n",
       "35     SPEC_prefix_AB/A       0.000\n",
       "45       SPEC_prefix_JS       0.000\n",
       "49       SPEC_prefix_NK       0.000\n",
       "51    SPEC_prefix_PILAC       0.000\n",
       "44       SPEC_prefix_GL       0.000\n",
       "43   SPEC_prefix_COMMON       0.000\n",
       "52    SPEC_prefix_SA283       0.000\n",
       "42      SPEC_prefix_CCS       0.000\n",
       "41       SPEC_prefix_BV       0.000\n",
       "40      SPEC_prefix_API       0.000\n",
       "39  SPEC_prefix_AB/EH36       0.000\n",
       "38  SPEC_prefix_AB/EH32       0.000\n",
       "37     SPEC_prefix_AB/B       0.000\n",
       "36  SPEC_prefix_AB/AH32       0.000\n",
       "27           WORK_GR_1조       0.000\n",
       "34     SPEC_prefix_A709       0.000\n",
       "33     SPEC_prefix_A516       0.000\n",
       "13        STEEL_KIND_C0       0.000\n",
       "14        STEEL_KIND_C1       0.000\n",
       "15        STEEL_KIND_C3       0.000\n",
       "16        STEEL_KIND_T0       0.000\n",
       "17        STEEL_KIND_T1       0.000\n",
       "18        STEEL_KIND_T3       0.000\n",
       "19        STEEL_KIND_T5       0.000\n",
       "22           FUR_NO_1호기       0.000\n",
       "25              HSB_미적용       0.000\n",
       "26               HSB_적용       0.000\n",
       "28           WORK_GR_2조       0.000\n",
       "29           WORK_GR_3조       0.000\n",
       "30           WORK_GR_4조       0.000\n",
       "31     SPEC_prefix_A131       0.000\n",
       "32     SPEC_prefix_A283       0.000\n",
       "53  SPEC_prefix_V42JBN3       0.000"
      ]
     },
     "execution_count": 99,
     "metadata": {},
     "output_type": "execute_result"
    }
   ],
   "source": [
    "v_feature_name = df_train_x.columns\n",
    "\n",
    "df_importance=pd.DataFrame()\n",
    "df_importance['Feature']=v_feature_name\n",
    "df_importance['Importance']=gb_final.feature_importances_\n",
    "\n",
    "df_importance.sort_values(\"Importance\", ascending=False, inplace=True)\n",
    "df_importance.round(3)"
   ]
  },
  {
   "cell_type": "code",
   "execution_count": 100,
   "metadata": {},
   "outputs": [
    {
     "data": {
      "text/plain": [
       "Text(0, 0.5, '설명변수')"
      ]
     },
     "execution_count": 100,
     "metadata": {},
     "output_type": "execute_result"
    },
    {
     "data": {
      "image/png": "[encoded data removed]",
      "text/plain": [
       "<Figure size 432x288 with 1 Axes>"
      ]
     },
     "metadata": {
      "needs_background": "light"
     },
     "output_type": "display_data"
    }
   ],
   "source": [
    "# 설명변수 중요도 그래프\n",
    "# 중요도가 높은 변수를 상위에 그림\n",
    "df_importance=df_importance[df_importance['Importance']>0.002]\n",
    "df_importance.sort_values(\"Importance\", ascending=True, inplace=True)\n",
    "coordinates=range(len(df_importance))\n",
    "plt.barh(y=coordinates, width=df_importance['Importance'])\n",
    "plt.yticks(coordinates, df_importance['Feature'])\n",
    "plt.xlabel(\"설명변수 중요도\")\n",
    "plt.ylabel('설명변수')"
   ]
  },
  {
   "cell_type": "markdown",
   "metadata": {},
   "source": [
    "ROLLING_TEMP_T5 > FUR_HZ_TEMP  > FUR_SZ_TEMP > PT_THK 순으로 설명변수 중요도가 높다고 나왔다.  \n",
    "\n",
    "1위로 나온 ROLLING_TEMP_T5는 로지스틱 회귀분석과 의사결정 나무에서도 중요하다고 판단한 설명변수로 계속해서 설명변수 중요도의 상위권에 머무르며 SCALE에 영향을 많이 주고 있는 변수임을 말해주고 있다."
   ]
  },
  {
   "cell_type": "markdown",
   "metadata": {},
   "source": [
    "## 모델 평가"
   ]
  },
  {
   "cell_type": "code",
   "execution_count": 101,
   "metadata": {},
   "outputs": [
    {
     "data": {
      "text/html": [
       "<div>\n",
       "<style scoped>\n",
       "    .dataframe tbody tr th:only-of-type {\n",
       "        vertical-align: middle;\n",
       "    }\n",
       "\n",
       "    .dataframe tbody tr th {\n",
       "        vertical-align: top;\n",
       "    }\n",
       "\n",
       "    .dataframe thead th {\n",
       "        text-align: right;\n",
       "    }\n",
       "</style>\n",
       "<table border=\"1\" class=\"dataframe\">\n",
       "  <thead>\n",
       "    <tr style=\"text-align: right;\">\n",
       "      <th></th>\n",
       "      <th>Train Accuracy</th>\n",
       "      <th>Test Accuracy</th>\n",
       "      <th>F1 Score</th>\n",
       "      <th>AUC</th>\n",
       "      <th>Precision Score</th>\n",
       "      <th>Recall Score</th>\n",
       "    </tr>\n",
       "  </thead>\n",
       "  <tbody>\n",
       "    <tr>\n",
       "      <th>DecisionTree</th>\n",
       "      <td>0.964</td>\n",
       "      <td>0.958</td>\n",
       "      <td>0.934</td>\n",
       "      <td>0.938</td>\n",
       "      <td>1.0</td>\n",
       "      <td>0.877</td>\n",
       "    </tr>\n",
       "    <tr>\n",
       "      <th>RandomForest</th>\n",
       "      <td>0.932</td>\n",
       "      <td>0.907</td>\n",
       "      <td>0.841</td>\n",
       "      <td>0.863</td>\n",
       "      <td>1.0</td>\n",
       "      <td>0.726</td>\n",
       "    </tr>\n",
       "    <tr>\n",
       "      <th>GradientBoosing</th>\n",
       "      <td>0.956</td>\n",
       "      <td>0.912</td>\n",
       "      <td>0.841</td>\n",
       "      <td>0.863</td>\n",
       "      <td>1.0</td>\n",
       "      <td>0.726</td>\n",
       "    </tr>\n",
       "  </tbody>\n",
       "</table>\n",
       "</div>"
      ],
      "text/plain": [
       "                 Train Accuracy  Test Accuracy  F1 Score    AUC  \\\n",
       "DecisionTree              0.964          0.958     0.934  0.938   \n",
       "RandomForest              0.932          0.907     0.841  0.863   \n",
       "GradientBoosing           0.956          0.912     0.841  0.863   \n",
       "\n",
       "                 Precision Score  Recall Score  \n",
       "DecisionTree                 1.0         0.877  \n",
       "RandomForest                 1.0         0.726  \n",
       "GradientBoosing              1.0         0.726  "
      ]
     },
     "execution_count": 101,
     "metadata": {},
     "output_type": "execute_result"
    }
   ],
   "source": [
    "df_eval = pd.DataFrame(index=model)\n",
    "df_eval['Train Accuracy']=train\n",
    "df_eval['Test Accuracy']=test\n",
    "df_eval['F1 Score']=model_f1_score\n",
    "df_eval['AUC']=model_auc_score\n",
    "df_eval['Precision Score']=model_precision_score\n",
    "df_eval['Recall Score']=model_recall_score\n",
    "df_eval.round(3)"
   ]
  },
  {
   "cell_type": "code",
   "execution_count": 102,
   "metadata": {},
   "outputs": [
    {
     "data": {
      "image/png": "[encoded data removed]",
      "text/plain": [
       "<Figure size 720x288 with 1 Axes>"
      ]
     },
     "metadata": {
      "needs_background": "light"
     },
     "output_type": "display_data"
    }
   ],
   "source": [
    "df_eval.plot.bar(rot=0,figsize=(10,4))\n",
    "plt.legend(loc='best', bbox_to_anchor=(1.4,0))\n",
    "plt.grid(axis='y')"
   ]
  },
  {
   "cell_type": "markdown",
   "metadata": {},
   "source": [
    "F1점수는 정밀도(Precision)와 재현율(Recall) 지수를 활용한 분류의 정확도 지수로 목표변수가 편향된 경우 사용되며 특정 분류값에 의존하지 않고 모델의 우수성을 비교 할 수 있다.  \n",
    "\n",
    "위 3가지 모델에서 F1점수가 높았던 모델은 **Decision Tree**로 특정 분류 기준값에 의존하지 않고 모델의 우수성을 비교할 수 있는 AUC 역시 가장 높았다."
   ]
  },
  {
   "cell_type": "markdown",
   "metadata": {},
   "source": [
    "# 결론"
   ]
  },
  {
   "cell_type": "markdown",
   "metadata": {},
   "source": [
    "Scale 불량을 줄이기 위하여 엔지니어들과의 협의한 잠재 원인\n",
    "    \n",
    "    \n",
    "|SCALE발생|가열로 가열대온도|가열로 균열대온도|가열로 추출온도|Hot Scale Breaker|사상 압연 온도|압연간 Descaling 횟수|판두께|\n",
    "|-----|---|-------|----|-----|---|---|---|\n",
    "|없음|저|저|저|적용|저|증가|후|\n",
    "|발생|고|고|고|미적용|고|감소|박|"
   ]
  },
  {
   "cell_type": "markdown",
   "metadata": {},
   "source": [
    "엔지니어들이 도출한 잠재적 원인에 대해 EDA를 진행한 결과 \n",
    "* 가열로 가열대온도 : 가열대 온도가 1152도 이상 1184도 이하 일때 양품 대비 불량률이 높았다.\n",
    "* 가열로 균열대온도 : 균열대 온도가 1146도 이상 1166 이하 일때 양품 대비 불량률이 높았다.\n",
    "* 가열로 추출온도 : 추출 온도가 1152도이상 1154도 이하일 때와 1164도 일때 양품 대비 불량률이 높았다. \n",
    "* Hot Scale Breaker : HSB를 적용하지 않은 경우에는 모든 생산 제품에서 SCALE이 발생하였다.\n",
    "* 사상 압연온도 : 압연온도가 1000도 이상일때 생산되는 모든 제품에서 SCALE이 발생하였다.\n",
    "* 압연간 Descaling 횟수 : Descaling을 7회 이상 시행한 경우 불량률이 급격히 증가하다 10회 이후부터는 감소하였다.\n",
    "* 판두께 : 판두께가 50이하일때 불량률이 높았다."
   ]
  },
  {
   "cell_type": "code",
   "execution_count": null,
   "metadata": {},
   "outputs": [],
   "source": []
  }
 ],
 "metadata": {
  "kernelspec": {
   "display_name": "Python 3",
   "language": "python",
   "name": "python3"
  },
  "language_info": {
   "codemirror_mode": {
    "name": "ipython",
    "version": 3
   },
   "file_extension": ".py",
   "mimetype": "text/x-python",
   "name": "python",
   "nbconvert_exporter": "python",
   "pygments_lexer": "ipython3",
   "version": "3.7.3"
  }
 },
 "nbformat": 4,
 "nbformat_minor": 2
}
