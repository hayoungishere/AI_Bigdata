{
 "cells": [
  {
   "cell_type": "code",
   "execution_count": 54,
   "metadata": {},
   "outputs": [],
   "source": [
    "import pandas as pd\n",
    "import matplotlib.pyplot as plt\n",
    "import matplotlib\n",
    "import numpy as np\n",
    "import seaborn as sns\n",
    "import scipy.stats as stats\n",
    "from collections import Counter\n",
    "from statsmodels.api import Logit"
   ]
  },
  {
   "cell_type": "code",
   "execution_count": 22,
   "metadata": {},
   "outputs": [],
   "source": [
    "matplotlib.rc(\"font\", family=\"NanumGothic\")\n",
    "plt.rcParams['axes.unicode_minus']=False\n"
   ]
  },
  {
   "cell_type": "markdown",
   "metadata": {},
   "source": [
    "# MFG_PROCESS 데이터셋 확인"
   ]
  },
  {
   "cell_type": "code",
   "execution_count": 124,
   "metadata": {
    "scrolled": false
   },
   "outputs": [
    {
     "name": "stdout",
     "output_type": "stream",
     "text": [
      "<class 'pandas.core.frame.DataFrame'>\n",
      "RangeIndex: 4000 entries, 0 to 3999\n",
      "Columns: 107 entries, JUDGE to PHOS_FIRE_EXHAUST_HEAT4\n",
      "dtypes: float64(96), object(11)\n",
      "memory usage: 3.3+ MB\n"
     ]
    }
   ],
   "source": [
    "mfg_process=pd.read_csv(\"data/MFG_PROCESS.csv\", encoding=\"cp949\")\n",
    "mfg_process.info()\n"
   ]
  },
  {
   "cell_type": "code",
   "execution_count": 127,
   "metadata": {},
   "outputs": [
    {
     "name": "stdout",
     "output_type": "stream",
     "text": [
      "(45, 107)\n",
      "(169, 107)\n",
      "(214, 107)\n"
     ]
    }
   ],
   "source": [
    "print(mfg_process[(mfg_process['PHOS_R_DRY_TEMP_HOOD_START']<100)& (mfg_process['JUDGE']=='양품')].shape)\n",
    "print(mfg_process[(mfg_process['PHOS_R_DRY_TEMP_HOOD_START']<100)& (mfg_process['JUDGE']!='양품')].shape)\n",
    "print(mfg_process[(mfg_process['PHOS_R_DRY_TEMP_HOOD_START']<100)].shape)\n"
   ]
  },
  {
   "cell_type": "code",
   "execution_count": 129,
   "metadata": {},
   "outputs": [
    {
     "data": {
      "text/plain": [
       "0.01025"
      ]
     },
     "execution_count": 129,
     "metadata": {},
     "output_type": "execute_result"
    }
   ],
   "source": [
    "41/4000"
   ]
  },
  {
   "cell_type": "code",
   "execution_count": 88,
   "metadata": {
    "scrolled": true
   },
   "outputs": [
    {
     "data": {
      "text/plain": [
       "JUDGE                           0\n",
       "LOT_ID                          0\n",
       "PANEL_ID                        0\n",
       "TIME_1BLACK                     0\n",
       "TIME_2AG                        0\n",
       "TIME_3BUS                       0\n",
       "TIME_4DIELEC                    0\n",
       "TIME_5MGO                       0\n",
       "TIME_6PHOS                      0\n",
       "TIME_7PASTE                     0\n",
       "TIME_8AGING                     0\n",
       "BLACK_RTD_TEMP_GLASS_START      4\n",
       "BLACK_RTD_TEMP_GLASS_END        4\n",
       "BLACK_RTD_TEMP_WALL_START       4\n",
       "BLACK_RTD_TEMP_WALL_MAX         4\n",
       "BLACK_RTD_PRES_START            4\n",
       "BLACK_RTD_PRES_END              4\n",
       "BLACK_RTD_TEMP_GLASS_OUT        4\n",
       "BLACK_RTD_TEMP_HOOD_START       4\n",
       "BLACK_RTD_TEMP_HOOD_MAX         4\n",
       "AG_RTD_TEMP_GLASS_START         0\n",
       "AG_RTD_TEMP_GLASS_END           0\n",
       "AG_RTD_TEMP_WALL_START          0\n",
       "AG_RTD_TEMP_WALL_MAX            0\n",
       "AG_RTD_PRES_START               0\n",
       "AG_RTD_PRES_END                 0\n",
       "AG_RTD_TEMP_GLASS_OUT           0\n",
       "AG_RTD_TEMP_HOOD_START          0\n",
       "AG_RTD_TEMP_HOOD_MAX            0\n",
       "AG_EXPOSURE_TEMP_MASK          88\n",
       "                               ..\n",
       "PHOS_R_DRY_PRES_START          25\n",
       "PHOS_R_DRY_PRES_END            25\n",
       "PHOS_R_DRY_TEMP_GLASS_OUT      25\n",
       "PHOS_R_DRY_TEMP_HOOD_START     25\n",
       "PHOS_R_DRY_TEMP_HOOD_MAX       25\n",
       "PHOS_G_DRY_TEMP_GLASS_START    57\n",
       "PHOS_G_DRY_TEMP_GLASS_END      57\n",
       "PHOS_G_DRY_TEMP_WALL_START     57\n",
       "PHOS_G_DRY_TEMP_WALL_MAX       57\n",
       "PHOS_G_DRY_PRES_START          57\n",
       "PHOS_G_DRY_PRES_END            57\n",
       "PHOS_G_DRY_TEMP_GLASS_OUT      57\n",
       "PHOS_G_DRY_TEMP_HOOD_START     57\n",
       "PHOS_G_DRY_TEMP_HOOD_MAX       57\n",
       "PHOS_FIRE_TEMP_HEAT_CH01       27\n",
       "PHOS_FIRE_TEMP_HEAT_CH02       27\n",
       "PHOS_FIRE_TEMP_HEAT_CH03       27\n",
       "PHOS_FIRE_TEMP_HEAT_CH04       27\n",
       "PHOS_FIRE_TEMP_KEEP_CH01       27\n",
       "PHOS_FIRE_TEMP_KEEP_CH02       27\n",
       "PHOS_FIRE_TEMP_KEEP_CH03       27\n",
       "PHOS_FIRE_TEMP_KEEP_CH04       27\n",
       "PHOS_FIRE_TEMP_ANEAL_CH01      27\n",
       "PHOS_FIRE_TEMP_ANEAL_CH02      27\n",
       "PHOS_FIRE_TEMP_ANEAL_CH03      27\n",
       "PHOS_FIRE_TEMP_ANEAL_CH04      27\n",
       "PHOS_FIRE_EXHAUST_HEAT1        27\n",
       "PHOS_FIRE_EXHAUST_HEAT2        27\n",
       "PHOS_FIRE_EXHAUST_HEAT3        27\n",
       "PHOS_FIRE_EXHAUST_HEAT4        27\n",
       "Length: 107, dtype: int64"
      ]
     },
     "execution_count": 88,
     "metadata": {},
     "output_type": "execute_result"
    }
   ],
   "source": [
    "mfg_process.isnull().sum()"
   ]
  },
  {
   "cell_type": "code",
   "execution_count": 89,
   "metadata": {},
   "outputs": [],
   "source": [
    "def changeNoneValue(c):\n",
    "    # 결측치처리\n",
    "    mfg_process[c].fillna(mfg_process[mfg_process['JUDGE']==\"양품\"][c].median(), inplace=True)\n",
    "    mfg_process[c].fillna(mfg_process[mfg_process['JUDGE']!=\"양품\"][c].median(), inplace=True)\n",
    "    print(mfg_process[c].isnull().sum())\n"
   ]
  },
  {
   "cell_type": "code",
   "execution_count": 104,
   "metadata": {},
   "outputs": [
    {
     "data": {
      "text/plain": [
       "10"
      ]
     },
     "execution_count": 104,
     "metadata": {},
     "output_type": "execute_result"
    }
   ],
   "source": [
    "len([ 'LOT_ID', 'PANEL_ID', 'TIME_1BLACK', 'TIME_2AG', 'TIME_3BUS',\n",
    "       'TIME_4DIELEC', 'TIME_5MGO', 'TIME_6PHOS', 'TIME_7PASTE','TIME_8AGING'])"
   ]
  },
  {
   "cell_type": "code",
   "execution_count": 90,
   "metadata": {},
   "outputs": [],
   "source": [
    "# mfg_process.drop([ 'LOT_ID', 'PANEL_ID', 'TIME_1BLACK', 'TIME_2AG', 'TIME_3BUS',\n",
    "#        'TIME_4DIELEC', 'TIME_5MGO', 'TIME_6PHOS', 'TIME_7PASTE','TIME_8AGING'], axis=1, inplace=True)"
   ]
  },
  {
   "cell_type": "code",
   "execution_count": 111,
   "metadata": {
    "collapsed": true
   },
   "outputs": [
    {
     "data": {
      "text/plain": [
       "Index(['BLACK_RTD_TEMP_GLASS_START', 'BLACK_RTD_TEMP_GLASS_END',\n",
       "       'BLACK_RTD_TEMP_WALL_START', 'BLACK_RTD_TEMP_WALL_MAX',\n",
       "       'BLACK_RTD_PRES_START', 'BLACK_RTD_PRES_END',\n",
       "       'BLACK_RTD_TEMP_GLASS_OUT', 'BLACK_RTD_TEMP_HOOD_START',\n",
       "       'BLACK_RTD_TEMP_HOOD_MAX', 'AG_RTD_TEMP_GLASS_START',\n",
       "       'AG_RTD_TEMP_GLASS_END', 'AG_RTD_TEMP_WALL_START',\n",
       "       'AG_RTD_TEMP_WALL_MAX', 'AG_RTD_PRES_START', 'AG_RTD_PRES_END',\n",
       "       'AG_RTD_TEMP_GLASS_OUT', 'AG_RTD_TEMP_HOOD_START',\n",
       "       'AG_RTD_TEMP_HOOD_MAX', 'AG_EXPOSURE_TEMP_MASK',\n",
       "       'BUS_DEVELOP_TEMP_OVEN1', 'BUS_DEVELOP_TEMP_OVEN2',\n",
       "       'BUS_DEVELOP_TEMP_OVEN3', 'BUS_DEVELOP_PH_TANK1',\n",
       "       'BUS_DEVELOP_TEMP_TANK1', 'BUS_DEVELOP_PH_TANK1.1',\n",
       "       'BUS_DEVELOP_TEMP_TANK2', 'BUS_DEVELOP_PH_TANK1.2',\n",
       "       'BUS_DEVELOP_TEMP_TANK3', 'BUS_DEVELOP_PRES1', 'BUS_DEVELOP_PRES2',\n",
       "       'BUS_DEVELOP_PRES3', 'BUS_FIRE_TEMP_HEAT1_CH01',\n",
       "       'BUS_FIRE_TEMP_HEAT1_CH02', 'BUS_FIRE_TEMP_HEAT1_CH03',\n",
       "       'BUS_FIRE_TEMP_HEAT2_CH01', 'BUS_FIRE_TEMP_HEAT2_CH02',\n",
       "       'BUS_FIRE_TEMP_HEAT2_CH03', 'BUS_FIRE_TEMP_KEEP_CH01',\n",
       "       'BUS_FIRE_TEMP_KEEP_CH02', 'BUS_FIRE_TEMP_KEEP_CH03',\n",
       "       'BUS_FIRE_TEMP_ANEAL_CH01', 'BUS_FIRE_TEMP_ANEAL_CH02',\n",
       "       'BUS_FIRE_TEMP_ANEAL_CH03', 'DIELEC_FIRE_TEMP_HEAT1_CH01',\n",
       "       'DIELEC_FIRE_TEMP_HEAT1_CH02', 'DIELEC_FIRE_TEMP_HEAT1_CH03',\n",
       "       'DIELEC_FIRE_TEMP_HEAT2_CH01', 'DIELEC_FIRE_TEMP_HEAT2_CH02',\n",
       "       'DIELEC_FIRE_TEMP_HEAT2_CH03', 'DIELEC_FIRE_TEMP_KEEP_CH01',\n",
       "       'DIELEC_FIRE_TEMP_KEEP_CH02', 'DIELEC_FIRE_TEMP_KEEP_CH03',\n",
       "       'DIELEC_FIRE_TEMP_ANEAL_CH01', 'DIELEC_FIRE_TEMP_ANEAL_CH02',\n",
       "       'DIELEC_FIRE_TEMP_ANEAL_CH03', 'DIELEC_FIRE_EXHAUST_HEAT1',\n",
       "       'DIELEC_FIRE_EXHAUST_HEAT2', 'DIELEC_FIRE_EXHAUST_HEAT3',\n",
       "       'DIELEC_FIRE_EXHAUST_HEAT4', 'DIELEC_FIRE_EXHAUST_HEAT5',\n",
       "       'DIELEC_FIRE_EXHAUST_HEAT6', 'DIELEC_FIRE_EXHAUST_HEAT7',\n",
       "       'PHOS_R_DRY_TEMP_GLASS_START', 'PHOS_R_DRY_TEMP_GLASS_END',\n",
       "       'PHOS_R_DRY_TEMP_WALL_START', 'PHOS_R_DRY_TEMP_WALL_MAX',\n",
       "       'PHOS_R_DRY_PRES_START', 'PHOS_R_DRY_PRES_END',\n",
       "       'PHOS_R_DRY_TEMP_GLASS_OUT', 'PHOS_R_DRY_TEMP_HOOD_START',\n",
       "       'PHOS_R_DRY_TEMP_HOOD_MAX', 'PHOS_G_DRY_TEMP_GLASS_START',\n",
       "       'PHOS_G_DRY_TEMP_GLASS_END', 'PHOS_G_DRY_TEMP_WALL_START',\n",
       "       'PHOS_G_DRY_TEMP_WALL_MAX', 'PHOS_G_DRY_PRES_START',\n",
       "       'PHOS_G_DRY_PRES_END', 'PHOS_G_DRY_TEMP_GLASS_OUT',\n",
       "       'PHOS_G_DRY_TEMP_HOOD_START', 'PHOS_G_DRY_TEMP_HOOD_MAX',\n",
       "       'PHOS_FIRE_TEMP_HEAT_CH01', 'PHOS_FIRE_TEMP_HEAT_CH02',\n",
       "       'PHOS_FIRE_TEMP_HEAT_CH03', 'PHOS_FIRE_TEMP_HEAT_CH04',\n",
       "       'PHOS_FIRE_TEMP_KEEP_CH01', 'PHOS_FIRE_TEMP_KEEP_CH02',\n",
       "       'PHOS_FIRE_TEMP_KEEP_CH03', 'PHOS_FIRE_TEMP_KEEP_CH04',\n",
       "       'PHOS_FIRE_TEMP_ANEAL_CH01', 'PHOS_FIRE_TEMP_ANEAL_CH02',\n",
       "       'PHOS_FIRE_TEMP_ANEAL_CH03', 'PHOS_FIRE_TEMP_ANEAL_CH04',\n",
       "       'PHOS_FIRE_EXHAUST_HEAT1', 'PHOS_FIRE_EXHAUST_HEAT2',\n",
       "       'PHOS_FIRE_EXHAUST_HEAT3', 'PHOS_FIRE_EXHAUST_HEAT4'],\n",
       "      dtype='object')"
      ]
     },
     "execution_count": 111,
     "metadata": {},
     "output_type": "execute_result"
    }
   ],
   "source": [
    "mfg_process.columns[11:]"
   ]
  },
  {
   "cell_type": "code",
   "execution_count": 112,
   "metadata": {},
   "outputs": [
    {
     "name": "stdout",
     "output_type": "stream",
     "text": [
      "0\n",
      "0\n",
      "0\n",
      "0\n",
      "0\n",
      "0\n",
      "0\n",
      "0\n",
      "0\n",
      "0\n",
      "0\n",
      "0\n",
      "0\n",
      "0\n",
      "0\n",
      "0\n",
      "0\n",
      "0\n",
      "0\n",
      "0\n",
      "0\n",
      "0\n",
      "0\n",
      "0\n",
      "0\n",
      "0\n",
      "0\n",
      "0\n",
      "0\n",
      "0\n",
      "0\n",
      "0\n",
      "0\n",
      "0\n",
      "0\n",
      "0\n",
      "0\n",
      "0\n",
      "0\n",
      "0\n",
      "0\n",
      "0\n",
      "0\n",
      "0\n",
      "0\n",
      "0\n",
      "0\n",
      "0\n",
      "0\n",
      "0\n",
      "0\n",
      "0\n",
      "0\n",
      "0\n",
      "0\n",
      "0\n",
      "0\n",
      "0\n",
      "0\n",
      "0\n",
      "0\n",
      "0\n",
      "0\n",
      "0\n",
      "0\n",
      "0\n",
      "0\n",
      "0\n",
      "0\n",
      "0\n",
      "0\n",
      "0\n",
      "0\n",
      "0\n",
      "0\n",
      "0\n",
      "0\n",
      "0\n",
      "0\n",
      "0\n",
      "0\n",
      "0\n",
      "0\n",
      "0\n",
      "0\n",
      "0\n",
      "0\n",
      "0\n",
      "0\n",
      "0\n",
      "0\n",
      "0\n",
      "0\n",
      "0\n",
      "0\n",
      "0\n"
     ]
    },
    {
     "data": {
      "text/plain": [
       "JUDGE                          0\n",
       "LOT_ID                         0\n",
       "PANEL_ID                       0\n",
       "TIME_1BLACK                    0\n",
       "TIME_2AG                       0\n",
       "TIME_3BUS                      0\n",
       "TIME_4DIELEC                   0\n",
       "TIME_5MGO                      0\n",
       "TIME_6PHOS                     0\n",
       "TIME_7PASTE                    0\n",
       "TIME_8AGING                    0\n",
       "BLACK_RTD_TEMP_GLASS_START     0\n",
       "BLACK_RTD_TEMP_GLASS_END       0\n",
       "BLACK_RTD_TEMP_WALL_START      0\n",
       "BLACK_RTD_TEMP_WALL_MAX        0\n",
       "BLACK_RTD_PRES_START           0\n",
       "BLACK_RTD_PRES_END             0\n",
       "BLACK_RTD_TEMP_GLASS_OUT       0\n",
       "BLACK_RTD_TEMP_HOOD_START      0\n",
       "BLACK_RTD_TEMP_HOOD_MAX        0\n",
       "AG_RTD_TEMP_GLASS_START        0\n",
       "AG_RTD_TEMP_GLASS_END          0\n",
       "AG_RTD_TEMP_WALL_START         0\n",
       "AG_RTD_TEMP_WALL_MAX           0\n",
       "AG_RTD_PRES_START              0\n",
       "AG_RTD_PRES_END                0\n",
       "AG_RTD_TEMP_GLASS_OUT          0\n",
       "AG_RTD_TEMP_HOOD_START         0\n",
       "AG_RTD_TEMP_HOOD_MAX           0\n",
       "AG_EXPOSURE_TEMP_MASK          0\n",
       "                              ..\n",
       "PHOS_R_DRY_PRES_START          0\n",
       "PHOS_R_DRY_PRES_END            0\n",
       "PHOS_R_DRY_TEMP_GLASS_OUT      0\n",
       "PHOS_R_DRY_TEMP_HOOD_START     0\n",
       "PHOS_R_DRY_TEMP_HOOD_MAX       0\n",
       "PHOS_G_DRY_TEMP_GLASS_START    0\n",
       "PHOS_G_DRY_TEMP_GLASS_END      0\n",
       "PHOS_G_DRY_TEMP_WALL_START     0\n",
       "PHOS_G_DRY_TEMP_WALL_MAX       0\n",
       "PHOS_G_DRY_PRES_START          0\n",
       "PHOS_G_DRY_PRES_END            0\n",
       "PHOS_G_DRY_TEMP_GLASS_OUT      0\n",
       "PHOS_G_DRY_TEMP_HOOD_START     0\n",
       "PHOS_G_DRY_TEMP_HOOD_MAX       0\n",
       "PHOS_FIRE_TEMP_HEAT_CH01       0\n",
       "PHOS_FIRE_TEMP_HEAT_CH02       0\n",
       "PHOS_FIRE_TEMP_HEAT_CH03       0\n",
       "PHOS_FIRE_TEMP_HEAT_CH04       0\n",
       "PHOS_FIRE_TEMP_KEEP_CH01       0\n",
       "PHOS_FIRE_TEMP_KEEP_CH02       0\n",
       "PHOS_FIRE_TEMP_KEEP_CH03       0\n",
       "PHOS_FIRE_TEMP_KEEP_CH04       0\n",
       "PHOS_FIRE_TEMP_ANEAL_CH01      0\n",
       "PHOS_FIRE_TEMP_ANEAL_CH02      0\n",
       "PHOS_FIRE_TEMP_ANEAL_CH03      0\n",
       "PHOS_FIRE_TEMP_ANEAL_CH04      0\n",
       "PHOS_FIRE_EXHAUST_HEAT1        0\n",
       "PHOS_FIRE_EXHAUST_HEAT2        0\n",
       "PHOS_FIRE_EXHAUST_HEAT3        0\n",
       "PHOS_FIRE_EXHAUST_HEAT4        0\n",
       "Length: 107, dtype: int64"
      ]
     },
     "execution_count": 112,
     "metadata": {},
     "output_type": "execute_result"
    }
   ],
   "source": [
    "\n",
    "for c in mfg_process.columns[11:]:\n",
    "    changeNoneValue(c)\n",
    "mfg_process.isnull().sum()"
   ]
  },
  {
   "cell_type": "code",
   "execution_count": 113,
   "metadata": {
    "scrolled": true
   },
   "outputs": [
    {
     "name": "stdout",
     "output_type": "stream",
     "text": [
      "(3573, 107) (427, 107)\n",
      "(4000, 107)\n"
     ]
    }
   ],
   "source": [
    "medi_ok=mfg_process[mfg_process['JUDGE']=='양품']\n",
    "medi_no=mfg_process[mfg_process['JUDGE']!='양품']\n",
    "print(medi_ok.shape, medi_no.shape)\n",
    "print(mfg_process.shape)"
   ]
  },
  {
   "cell_type": "code",
   "execution_count": 74,
   "metadata": {},
   "outputs": [],
   "source": [
    "def okk(c, stan, dire=0 ):\n",
    "    if dire==0:\n",
    "        medi_ok[c]=[medi_ok[c].median() if x > stan else x for x in medi_ok[c]]\n",
    "    else:\n",
    "        medi_ok[c]=[medi_ok[c].median() if x < stan else x for x in medi_ok[c]]\n",
    "    return medi_ok\n",
    "        \n",
    "def noo(c, stan, dire=0 ):\n",
    "    if dire==0:\n",
    "        medi_no[c]=[medi_no[c].median() if x > stan else x for x in medi_no[c]]\n",
    "    else:\n",
    "        medi_no[c]=[medi_no[c].median() if x < stan else x for x in medi_no[c]]\n",
    "    return medi_no\n",
    "        \n",
    "def callChangeFunction(c, ctype=2, dire=[], stan=[] ):\n",
    "    if ctype==2:\n",
    "        medi_ok=okk(c, stan[0],dire[0])\n",
    "        medi_no=noo(c, stan[1],dire[1])\n",
    "        return medi_ok, medi_no\n",
    "    elif ctype==1:\n",
    "        return okk(c, stan[0], dire[0])\n",
    "    else:\n",
    "        return noo(c, stan[0], dire[0])        "
   ]
  },
  {
   "cell_type": "code",
   "execution_count": 114,
   "metadata": {},
   "outputs": [],
   "source": [
    "d=['BLACK_RTD_PRES_END',\n",
    "'AG_RTD_TEMP_GLASS_END',\n",
    "'AG_RTD_TEMP_HOOD_START',\n",
    "'AG_RTD_TEMP_HOOD_MAX',\n",
    "'BUS_FIRE_TEMP_HEAT1_CH02',\n",
    "'PHOS_R_DRY_TEMP_GLASS_START',\n",
    "'PHOS_R_DRY_TEMP_WALL_START',\n",
    "'PHOS_R_DRY_TEMP_WALL_MAX',\n",
    "'PHOS_R_DRY_PRES_START',\n",
    "'PHOS_G_DRY_TEMP_GLASS_START',\n",
    "'PHOS_G_DRY_TEMP_GLASS_OUT']"
   ]
  },
  {
   "cell_type": "code",
   "execution_count": 115,
   "metadata": {},
   "outputs": [],
   "source": [
    "check_list=['300/167.3/상',\n",
    "'130/138/하',\n",
    "'110/92.0/상',\n",
    "'110/93/상',\n",
    "'189.2/190/하',\n",
    "'40/47.4/하',\n",
    "'87/109.2/하',\n",
    "'157.5/167/하',\n",
    "'100/86.4/상',\n",
    "'40/47.2/하',\n",
    "'500/32.9/상']"
   ]
  },
  {
   "cell_type": "code",
   "execution_count": 116,
   "metadata": {},
   "outputs": [
    {
     "name": "stderr",
     "output_type": "stream",
     "text": [
      "/home/pirl/anaconda3/lib/python3.7/site-packages/ipykernel_launcher.py:3: SettingWithCopyWarning: \n",
      "A value is trying to be set on a copy of a slice from a DataFrame.\n",
      "Try using .loc[row_indexer,col_indexer] = value instead\n",
      "\n",
      "See the caveats in the documentation: http://pandas.pydata.org/pandas-docs/stable/indexing.html#indexing-view-versus-copy\n",
      "  This is separate from the ipykernel package so we can avoid doing imports until\n",
      "/home/pirl/anaconda3/lib/python3.7/site-packages/ipykernel_launcher.py:5: SettingWithCopyWarning: \n",
      "A value is trying to be set on a copy of a slice from a DataFrame.\n",
      "Try using .loc[row_indexer,col_indexer] = value instead\n",
      "\n",
      "See the caveats in the documentation: http://pandas.pydata.org/pandas-docs/stable/indexing.html#indexing-view-versus-copy\n",
      "  \"\"\"\n"
     ]
    }
   ],
   "source": [
    "idx=0\n",
    "for dd in d:\n",
    "    st,_,dirr=check_list[idx].split(\"/\")\n",
    "    st=float(st)\n",
    "    if dirr ==\"상\":\n",
    "        dirr = 0\n",
    "    else:\n",
    "        dirr=1\n",
    "    #print(st, dirr)\n",
    "    idx+=1\n",
    "    okk(dd,st,dirr)"
   ]
  },
  {
   "cell_type": "code",
   "execution_count": 117,
   "metadata": {},
   "outputs": [],
   "source": [
    "d1=['BLACK_RTD_TEMP_WALL_START',\n",
    "'AG_RTD_TEMP_HOOD_START',\n",
    "'AG_RTD_TEMP_HOOD_MAX',\n",
    "'BUS_DEVELOP_PH_TANK1.1',\n",
    "'PHOS_R_DRY_TEMP_GLASS_START',\n",
    "'PHOS_R_DRY_TEMP_WALL_MAX',\n",
    "'PHOS_G_DRY_TEMP_GLASS_START',\n",
    "'PHOS_G_DRY_TEMP_GLASS_OUT',\n",
    "    'PHOS_FIRE_TEMP_ANEAL_CH04']\n",
    "\n",
    "cl2=['82/88.9/하',\n",
    "'110/92.1/상',\n",
    "'110/93/상',\n",
    "'9.192/9.1999/하',\n",
    "'40/47.2/하',\n",
    "'157.5/166.3/하',\n",
    "'40/46.9/하',\n",
    "'500/33.2/상',\n",
    "'377/371/상']\n",
    "\n"
   ]
  },
  {
   "cell_type": "code",
   "execution_count": 118,
   "metadata": {},
   "outputs": [
    {
     "name": "stderr",
     "output_type": "stream",
     "text": [
      "/home/pirl/anaconda3/lib/python3.7/site-packages/ipykernel_launcher.py:12: SettingWithCopyWarning: \n",
      "A value is trying to be set on a copy of a slice from a DataFrame.\n",
      "Try using .loc[row_indexer,col_indexer] = value instead\n",
      "\n",
      "See the caveats in the documentation: http://pandas.pydata.org/pandas-docs/stable/indexing.html#indexing-view-versus-copy\n",
      "  if sys.path[0] == '':\n",
      "/home/pirl/anaconda3/lib/python3.7/site-packages/ipykernel_launcher.py:10: SettingWithCopyWarning: \n",
      "A value is trying to be set on a copy of a slice from a DataFrame.\n",
      "Try using .loc[row_indexer,col_indexer] = value instead\n",
      "\n",
      "See the caveats in the documentation: http://pandas.pydata.org/pandas-docs/stable/indexing.html#indexing-view-versus-copy\n",
      "  # Remove the CWD from sys.path while we load stuff.\n"
     ]
    }
   ],
   "source": [
    "idx=0\n",
    "for dd in d1:\n",
    "    st,_,dirr=cl2[idx].split(\"/\")\n",
    "    st=float(st)\n",
    "    if dirr ==\"상\":\n",
    "        dirr = 0\n",
    "    else:\n",
    "        dirr=1\n",
    "    #print(st, dirr)\n",
    "    idx+=1\n",
    "    noo(dd,st,dirr)"
   ]
  },
  {
   "cell_type": "code",
   "execution_count": 120,
   "metadata": {},
   "outputs": [
    {
     "name": "stdout",
     "output_type": "stream",
     "text": [
      "<class 'pandas.core.frame.DataFrame'>\n",
      "Int64Index: 4000 entries, 0 to 3999\n",
      "Columns: 107 entries, JUDGE to PHOS_FIRE_EXHAUST_HEAT4\n",
      "dtypes: float64(96), object(11)\n",
      "memory usage: 3.3+ MB\n"
     ]
    }
   ],
   "source": [
    "final=pd.concat([medi_ok,medi_no]).sort_values(by=['LOT_ID','PANEL_ID'])\n",
    "final.info()"
   ]
  },
  {
   "cell_type": "code",
   "execution_count": 121,
   "metadata": {},
   "outputs": [],
   "source": [
    "final.to_csv(\"final_process.csv\", encoding=\"cp949\")"
   ]
  },
  {
   "cell_type": "code",
   "execution_count": 42,
   "metadata": {},
   "outputs": [
    {
     "data": {
      "text/plain": [
       "(27, 97)"
      ]
     },
     "execution_count": 42,
     "metadata": {},
     "output_type": "execute_result"
    }
   ],
   "source": [
    "c='PHOS_FIRE_TEMP_ANEAL_CH03'\n",
    "medi_ok[medi_ok[c]>395.5].shape"
   ]
  },
  {
   "cell_type": "code",
   "execution_count": 32,
   "metadata": {},
   "outputs": [
    {
     "name": "stderr",
     "output_type": "stream",
     "text": [
      "/home/pirl/anaconda3/lib/python3.7/site-packages/ipykernel_launcher.py:1: SettingWithCopyWarning: \n",
      "A value is trying to be set on a copy of a slice from a DataFrame.\n",
      "Try using .loc[row_indexer,col_indexer] = value instead\n",
      "\n",
      "See the caveats in the documentation: http://pandas.pydata.org/pandas-docs/stable/indexing.html#indexing-view-versus-copy\n",
      "  \"\"\"Entry point for launching an IPython kernel.\n"
     ]
    },
    {
     "data": {
      "text/plain": [
       "(27, 97)"
      ]
     },
     "execution_count": 32,
     "metadata": {},
     "output_type": "execute_result"
    }
   ],
   "source": [
    "medi_ok[c]=[0 if x>395.5 else x for x in medi_ok[c]]\n",
    "medi_ok[medi_ok[c]==0].shape"
   ]
  },
  {
   "cell_type": "code",
   "execution_count": 83,
   "metadata": {},
   "outputs": [
    {
     "data": {
      "text/plain": [
       "418.0"
      ]
     },
     "execution_count": 83,
     "metadata": {},
     "output_type": "execute_result"
    }
   ],
   "source": [
    "medi_ok['PHOS_FIRE_TEMP_HEAT_CH03'].min()"
   ]
  },
  {
   "cell_type": "code",
   "execution_count": 86,
   "metadata": {},
   "outputs": [
    {
     "name": "stdout",
     "output_type": "stream",
     "text": [
      "(0, 97)\n"
     ]
    },
    {
     "name": "stderr",
     "output_type": "stream",
     "text": [
      "/home/pirl/anaconda3/lib/python3.7/site-packages/ipykernel_launcher.py:5: SettingWithCopyWarning: \n",
      "A value is trying to be set on a copy of a slice from a DataFrame.\n",
      "Try using .loc[row_indexer,col_indexer] = value instead\n",
      "\n",
      "See the caveats in the documentation: http://pandas.pydata.org/pandas-docs/stable/indexing.html#indexing-view-versus-copy\n",
      "  \"\"\"\n"
     ]
    }
   ],
   "source": [
    "c='PHOS_FIRE_TEMP_HEAT_CH03'\n",
    "callChangeFunction(c, 1, [1], [419])\n",
    "print(medi_ok[medi_ok['PHOS_FIRE_TEMP_HEAT_CH03']<419].shape)"
   ]
  },
  {
   "cell_type": "code",
   "execution_count": null,
   "metadata": {},
   "outputs": [],
   "source": [
    "okk(c, 1, 1,419)\n",
    "print(medi_ok[medi_ok['PHOS_FIRE_TEMP_HEAT_CH03']<419].shape)"
   ]
  },
  {
   "cell_type": "code",
   "execution_count": 68,
   "metadata": {},
   "outputs": [
    {
     "name": "stdout",
     "output_type": "stream",
     "text": [
      "(0, 97) (0, 97)\n"
     ]
    },
    {
     "name": "stderr",
     "output_type": "stream",
     "text": [
      "/home/pirl/anaconda3/lib/python3.7/site-packages/ipykernel_launcher.py:5: SettingWithCopyWarning: \n",
      "A value is trying to be set on a copy of a slice from a DataFrame.\n",
      "Try using .loc[row_indexer,col_indexer] = value instead\n",
      "\n",
      "See the caveats in the documentation: http://pandas.pydata.org/pandas-docs/stable/indexing.html#indexing-view-versus-copy\n",
      "  \"\"\"\n"
     ]
    }
   ],
   "source": [
    "\n",
    "print(medi_ok[medi_ok[c]<382].shape, medi_no[medi_no[c]<387].shape)\n",
    "callChangeFunction(c, 2, [1,1], [382,387])\n"
   ]
  },
  {
   "cell_type": "code",
   "execution_count": 43,
   "metadata": {},
   "outputs": [
    {
     "name": "stderr",
     "output_type": "stream",
     "text": [
      "/home/pirl/anaconda3/lib/python3.7/site-packages/ipykernel_launcher.py:3: SettingWithCopyWarning: \n",
      "A value is trying to be set on a copy of a slice from a DataFrame.\n",
      "Try using .loc[row_indexer,col_indexer] = value instead\n",
      "\n",
      "See the caveats in the documentation: http://pandas.pydata.org/pandas-docs/stable/indexing.html#indexing-view-versus-copy\n",
      "  This is separate from the ipykernel package so we can avoid doing imports until\n"
     ]
    }
   ],
   "source": [
    "okk(c, 395.5)"
   ]
  },
  {
   "cell_type": "code",
   "execution_count": 44,
   "metadata": {},
   "outputs": [
    {
     "data": {
      "text/plain": [
       "(0, 97)"
      ]
     },
     "execution_count": 44,
     "metadata": {},
     "output_type": "execute_result"
    }
   ],
   "source": [
    "medi_ok[medi_ok[c]>395.5].shape"
   ]
  },
  {
   "cell_type": "code",
   "execution_count": 47,
   "metadata": {},
   "outputs": [
    {
     "data": {
      "text/plain": [
       "(7, 97)"
      ]
     },
     "execution_count": 47,
     "metadata": {},
     "output_type": "execute_result"
    }
   ],
   "source": [
    "medi_ok[medi_ok[c]<382].shape"
   ]
  },
  {
   "cell_type": "code",
   "execution_count": 48,
   "metadata": {},
   "outputs": [
    {
     "name": "stderr",
     "output_type": "stream",
     "text": [
      "/home/pirl/anaconda3/lib/python3.7/site-packages/ipykernel_launcher.py:5: SettingWithCopyWarning: \n",
      "A value is trying to be set on a copy of a slice from a DataFrame.\n",
      "Try using .loc[row_indexer,col_indexer] = value instead\n",
      "\n",
      "See the caveats in the documentation: http://pandas.pydata.org/pandas-docs/stable/indexing.html#indexing-view-versus-copy\n",
      "  \"\"\"\n"
     ]
    }
   ],
   "source": [
    "okk(c, 382, 1)"
   ]
  },
  {
   "cell_type": "code",
   "execution_count": 49,
   "metadata": {},
   "outputs": [
    {
     "data": {
      "text/plain": [
       "(0, 97)"
      ]
     },
     "execution_count": 49,
     "metadata": {},
     "output_type": "execute_result"
    }
   ],
   "source": [
    "medi_ok[medi_ok[c]<382].shape"
   ]
  },
  {
   "cell_type": "code",
   "execution_count": 51,
   "metadata": {},
   "outputs": [
    {
     "data": {
      "text/plain": [
       "(8, 97)"
      ]
     },
     "execution_count": 51,
     "metadata": {},
     "output_type": "execute_result"
    }
   ],
   "source": [
    "medi_no[medi_no[c]>395.5].shape"
   ]
  },
  {
   "cell_type": "code",
   "execution_count": 52,
   "metadata": {},
   "outputs": [
    {
     "name": "stderr",
     "output_type": "stream",
     "text": [
      "/home/pirl/anaconda3/lib/python3.7/site-packages/ipykernel_launcher.py:3: SettingWithCopyWarning: \n",
      "A value is trying to be set on a copy of a slice from a DataFrame.\n",
      "Try using .loc[row_indexer,col_indexer] = value instead\n",
      "\n",
      "See the caveats in the documentation: http://pandas.pydata.org/pandas-docs/stable/indexing.html#indexing-view-versus-copy\n",
      "  This is separate from the ipykernel package so we can avoid doing imports until\n"
     ]
    }
   ],
   "source": [
    "noo(c, 395.5)"
   ]
  },
  {
   "cell_type": "code",
   "execution_count": 53,
   "metadata": {},
   "outputs": [
    {
     "data": {
      "text/plain": [
       "(0, 97)"
      ]
     },
     "execution_count": 53,
     "metadata": {},
     "output_type": "execute_result"
    }
   ],
   "source": [
    "medi_no[medi_no[c]>395.5].shape"
   ]
  },
  {
   "cell_type": "code",
   "execution_count": 58,
   "metadata": {},
   "outputs": [
    {
     "data": {
      "text/plain": [
       "386.0"
      ]
     },
     "execution_count": 58,
     "metadata": {},
     "output_type": "execute_result"
    }
   ],
   "source": [
    "medi_no[c].min()"
   ]
  },
  {
   "cell_type": "code",
   "execution_count": null,
   "metadata": {},
   "outputs": [],
   "source": []
  },
  {
   "cell_type": "code",
   "execution_count": 59,
   "metadata": {},
   "outputs": [
    {
     "data": {
      "text/plain": [
       "(1, 97)"
      ]
     },
     "execution_count": 59,
     "metadata": {},
     "output_type": "execute_result"
    }
   ],
   "source": [
    "medi_no[medi_no[c]<387].shape"
   ]
  },
  {
   "cell_type": "code",
   "execution_count": 60,
   "metadata": {},
   "outputs": [
    {
     "name": "stdout",
     "output_type": "stream",
     "text": [
      "(0, 97)\n"
     ]
    },
    {
     "name": "stderr",
     "output_type": "stream",
     "text": [
      "/home/pirl/anaconda3/lib/python3.7/site-packages/ipykernel_launcher.py:5: SettingWithCopyWarning: \n",
      "A value is trying to be set on a copy of a slice from a DataFrame.\n",
      "Try using .loc[row_indexer,col_indexer] = value instead\n",
      "\n",
      "See the caveats in the documentation: http://pandas.pydata.org/pandas-docs/stable/indexing.html#indexing-view-versus-copy\n",
      "  \"\"\"\n"
     ]
    }
   ],
   "source": [
    "noo(c, 387,1)\n",
    "print(medi_no[medi_no[c]<387].shape)"
   ]
  },
  {
   "cell_type": "markdown",
   "metadata": {},
   "source": [
    "=================================CUT LINE ============================================="
   ]
  },
  {
   "cell_type": "code",
   "execution_count": 16,
   "metadata": {
    "scrolled": true
   },
   "outputs": [
    {
     "data": {
      "text/html": [
       "<div>\n",
       "<style scoped>\n",
       "    .dataframe tbody tr th:only-of-type {\n",
       "        vertical-align: middle;\n",
       "    }\n",
       "\n",
       "    .dataframe tbody tr th {\n",
       "        vertical-align: top;\n",
       "    }\n",
       "\n",
       "    .dataframe thead th {\n",
       "        text-align: right;\n",
       "    }\n",
       "</style>\n",
       "<table border=\"1\" class=\"dataframe\">\n",
       "  <thead>\n",
       "    <tr style=\"text-align: right;\">\n",
       "      <th></th>\n",
       "      <th>count</th>\n",
       "      <th>unique</th>\n",
       "      <th>top</th>\n",
       "      <th>freq</th>\n",
       "    </tr>\n",
       "  </thead>\n",
       "  <tbody>\n",
       "    <tr>\n",
       "      <th>JUDGE</th>\n",
       "      <td>4000</td>\n",
       "      <td>2</td>\n",
       "      <td>양품</td>\n",
       "      <td>3573</td>\n",
       "    </tr>\n",
       "    <tr>\n",
       "      <th>LOT_ID</th>\n",
       "      <td>4000</td>\n",
       "      <td>200</td>\n",
       "      <td>LOT-287</td>\n",
       "      <td>20</td>\n",
       "    </tr>\n",
       "    <tr>\n",
       "      <th>PANEL_ID</th>\n",
       "      <td>4000</td>\n",
       "      <td>20</td>\n",
       "      <td>PNL-02</td>\n",
       "      <td>200</td>\n",
       "    </tr>\n",
       "    <tr>\n",
       "      <th>DATE_1BLACK</th>\n",
       "      <td>4000</td>\n",
       "      <td>124</td>\n",
       "      <td>2019-07-24</td>\n",
       "      <td>33</td>\n",
       "    </tr>\n",
       "    <tr>\n",
       "      <th>TIME_1BLACK</th>\n",
       "      <td>4000</td>\n",
       "      <td>4000</td>\n",
       "      <td>2019-04-02 22:31</td>\n",
       "      <td>1</td>\n",
       "    </tr>\n",
       "    <tr>\n",
       "      <th>TIME_2AG</th>\n",
       "      <td>4000</td>\n",
       "      <td>4000</td>\n",
       "      <td>2019-08-01 12:57</td>\n",
       "      <td>1</td>\n",
       "    </tr>\n",
       "    <tr>\n",
       "      <th>TIME_3BUS</th>\n",
       "      <td>4000</td>\n",
       "      <td>4000</td>\n",
       "      <td>2019-05-06 6:03</td>\n",
       "      <td>1</td>\n",
       "    </tr>\n",
       "    <tr>\n",
       "      <th>TIME_4DIELEC</th>\n",
       "      <td>4000</td>\n",
       "      <td>4000</td>\n",
       "      <td>2019-04-24 6:57</td>\n",
       "      <td>1</td>\n",
       "    </tr>\n",
       "    <tr>\n",
       "      <th>TIME_5MGO</th>\n",
       "      <td>4000</td>\n",
       "      <td>4000</td>\n",
       "      <td>2019-04-20 6:57</td>\n",
       "      <td>1</td>\n",
       "    </tr>\n",
       "    <tr>\n",
       "      <th>TIME_6PHOS</th>\n",
       "      <td>4000</td>\n",
       "      <td>4000</td>\n",
       "      <td>2019-07-27 17:50</td>\n",
       "      <td>1</td>\n",
       "    </tr>\n",
       "    <tr>\n",
       "      <th>TIME_7PASTE</th>\n",
       "      <td>4000</td>\n",
       "      <td>4000</td>\n",
       "      <td>2019-08-02 5:56</td>\n",
       "      <td>1</td>\n",
       "    </tr>\n",
       "    <tr>\n",
       "      <th>TIME_8AGING</th>\n",
       "      <td>4000</td>\n",
       "      <td>4000</td>\n",
       "      <td>2019-06-21 11:28</td>\n",
       "      <td>1</td>\n",
       "    </tr>\n",
       "    <tr>\n",
       "      <th>MC_1BLACK_1PRINT</th>\n",
       "      <td>4000</td>\n",
       "      <td>2</td>\n",
       "      <td>1호기</td>\n",
       "      <td>2160</td>\n",
       "    </tr>\n",
       "    <tr>\n",
       "      <th>MC_1BLACK_2RTD</th>\n",
       "      <td>4000</td>\n",
       "      <td>2</td>\n",
       "      <td>1호기</td>\n",
       "      <td>2180</td>\n",
       "    </tr>\n",
       "    <tr>\n",
       "      <th>MC_2AG_1PRINT</th>\n",
       "      <td>4000</td>\n",
       "      <td>2</td>\n",
       "      <td>1호기</td>\n",
       "      <td>2020</td>\n",
       "    </tr>\n",
       "    <tr>\n",
       "      <th>MC_2AG_2RTD</th>\n",
       "      <td>4000</td>\n",
       "      <td>2</td>\n",
       "      <td>1호기</td>\n",
       "      <td>2180</td>\n",
       "    </tr>\n",
       "    <tr>\n",
       "      <th>MC_2AG_3EXPOSURE</th>\n",
       "      <td>4000</td>\n",
       "      <td>2</td>\n",
       "      <td>1호기</td>\n",
       "      <td>2020</td>\n",
       "    </tr>\n",
       "    <tr>\n",
       "      <th>MC_3BUS_1DEVELOP</th>\n",
       "      <td>4000</td>\n",
       "      <td>2</td>\n",
       "      <td>2호기</td>\n",
       "      <td>2040</td>\n",
       "    </tr>\n",
       "    <tr>\n",
       "      <th>MC_3BUS_2FIRE</th>\n",
       "      <td>4000</td>\n",
       "      <td>2</td>\n",
       "      <td>1호기</td>\n",
       "      <td>2180</td>\n",
       "    </tr>\n",
       "    <tr>\n",
       "      <th>MC_4DIELEC_1FIRE</th>\n",
       "      <td>4000</td>\n",
       "      <td>3</td>\n",
       "      <td>3호기</td>\n",
       "      <td>1380</td>\n",
       "    </tr>\n",
       "    <tr>\n",
       "      <th>MC_5MGO</th>\n",
       "      <td>4000</td>\n",
       "      <td>2</td>\n",
       "      <td>2호기</td>\n",
       "      <td>2040</td>\n",
       "    </tr>\n",
       "    <tr>\n",
       "      <th>MC_6PHOS_1R_1DISPENSER</th>\n",
       "      <td>4000</td>\n",
       "      <td>2</td>\n",
       "      <td>1호기</td>\n",
       "      <td>2240</td>\n",
       "    </tr>\n",
       "    <tr>\n",
       "      <th>MC_6PHOS_1R_2DRY</th>\n",
       "      <td>4000</td>\n",
       "      <td>2</td>\n",
       "      <td>2호기</td>\n",
       "      <td>2140</td>\n",
       "    </tr>\n",
       "    <tr>\n",
       "      <th>MC_6PHOS_2G_1DISPENSER</th>\n",
       "      <td>4000</td>\n",
       "      <td>2</td>\n",
       "      <td>1호기</td>\n",
       "      <td>2120</td>\n",
       "    </tr>\n",
       "    <tr>\n",
       "      <th>MC_6PHOS_2G_2DRY</th>\n",
       "      <td>4000</td>\n",
       "      <td>2</td>\n",
       "      <td>1호기</td>\n",
       "      <td>2260</td>\n",
       "    </tr>\n",
       "    <tr>\n",
       "      <th>MC_6PHOS_3B_1DISPENSER</th>\n",
       "      <td>4000</td>\n",
       "      <td>2</td>\n",
       "      <td>1호기</td>\n",
       "      <td>2100</td>\n",
       "    </tr>\n",
       "    <tr>\n",
       "      <th>MC_6PHOS_4FIRE</th>\n",
       "      <td>4000</td>\n",
       "      <td>3</td>\n",
       "      <td>2호기</td>\n",
       "      <td>1420</td>\n",
       "    </tr>\n",
       "    <tr>\n",
       "      <th>MC_7PASTE</th>\n",
       "      <td>4000</td>\n",
       "      <td>2</td>\n",
       "      <td>1호기</td>\n",
       "      <td>2200</td>\n",
       "    </tr>\n",
       "    <tr>\n",
       "      <th>MC_8AGING</th>\n",
       "      <td>4000</td>\n",
       "      <td>2</td>\n",
       "      <td>1호기</td>\n",
       "      <td>2200</td>\n",
       "    </tr>\n",
       "  </tbody>\n",
       "</table>\n",
       "</div>"
      ],
      "text/plain": [
       "                       count unique               top  freq\n",
       "JUDGE                   4000      2                양품  3573\n",
       "LOT_ID                  4000    200           LOT-287    20\n",
       "PANEL_ID                4000     20            PNL-02   200\n",
       "DATE_1BLACK             4000    124        2019-07-24    33\n",
       "TIME_1BLACK             4000   4000  2019-04-02 22:31     1\n",
       "TIME_2AG                4000   4000  2019-08-01 12:57     1\n",
       "TIME_3BUS               4000   4000   2019-05-06 6:03     1\n",
       "TIME_4DIELEC            4000   4000   2019-04-24 6:57     1\n",
       "TIME_5MGO               4000   4000   2019-04-20 6:57     1\n",
       "TIME_6PHOS              4000   4000  2019-07-27 17:50     1\n",
       "TIME_7PASTE             4000   4000   2019-08-02 5:56     1\n",
       "TIME_8AGING             4000   4000  2019-06-21 11:28     1\n",
       "MC_1BLACK_1PRINT        4000      2               1호기  2160\n",
       "MC_1BLACK_2RTD          4000      2               1호기  2180\n",
       "MC_2AG_1PRINT           4000      2               1호기  2020\n",
       "MC_2AG_2RTD             4000      2               1호기  2180\n",
       "MC_2AG_3EXPOSURE        4000      2               1호기  2020\n",
       "MC_3BUS_1DEVELOP        4000      2               2호기  2040\n",
       "MC_3BUS_2FIRE           4000      2               1호기  2180\n",
       "MC_4DIELEC_1FIRE        4000      3               3호기  1380\n",
       "MC_5MGO                 4000      2               2호기  2040\n",
       "MC_6PHOS_1R_1DISPENSER  4000      2               1호기  2240\n",
       "MC_6PHOS_1R_2DRY        4000      2               2호기  2140\n",
       "MC_6PHOS_2G_1DISPENSER  4000      2               1호기  2120\n",
       "MC_6PHOS_2G_2DRY        4000      2               1호기  2260\n",
       "MC_6PHOS_3B_1DISPENSER  4000      2               1호기  2100\n",
       "MC_6PHOS_4FIRE          4000      3               2호기  1420\n",
       "MC_7PASTE               4000      2               1호기  2200\n",
       "MC_8AGING               4000      2               1호기  2200"
      ]
     },
     "execution_count": 16,
     "metadata": {},
     "output_type": "execute_result"
    }
   ],
   "source": [
    "m1=pd.read_csv(\"m2.csv\", encoding=\"utf-8\")\n",
    "m1.describe().T"
   ]
  },
  {
   "cell_type": "code",
   "execution_count": 14,
   "metadata": {
    "scrolled": true
   },
   "outputs": [
    {
     "data": {
      "text/plain": [
       "2019-04-25 12:37    2\n",
       "2019-08-01 12:57    1\n",
       "2019-06-30 20:28    1\n",
       "2019-05-01 16:17    1\n",
       "2019-06-30 2:45     1\n",
       "2019-06-04 16:53    1\n",
       "2019-07-24 7:49     1\n",
       "2019-07-11 22:16    1\n",
       "2019-06-25 10:31    1\n",
       "2019-05-31 13:13    1\n",
       "2019-07-29 3:44     1\n",
       "2019-05-16 16:35    1\n",
       "2019-06-30 21:12    1\n",
       "2019-06-27 21:35    1\n",
       "2019-06-24 18:17    1\n",
       "2019-07-17 17:48    1\n",
       "2019-05-24 18:03    1\n",
       "2019-06-11 5:25     1\n",
       "2019-07-25 8:55     1\n",
       "2019-04-01 14:56    1\n",
       "2019-06-29 7:33     1\n",
       "2019-07-02 7:10     1\n",
       "2019-07-28 20:21    1\n",
       "2019-07-13 15:37    1\n",
       "2019-07-26 15:12    1\n",
       "2019-06-13 15:44    1\n",
       "2019-05-26 17:18    1\n",
       "2019-06-29 21:34    1\n",
       "2019-04-19 18:33    1\n",
       "2019-07-15 10:27    1\n",
       "                   ..\n",
       "2019-05-04 21:04    1\n",
       "2019-06-15 23:07    1\n",
       "2019-07-03 11:58    1\n",
       "2019-07-12 14:31    1\n",
       "2019-06-17 2:25     1\n",
       "2019-04-09 11:13    1\n",
       "2019-04-11 11:12    1\n",
       "2019-07-20 4:52     1\n",
       "2019-07-03 20:50    1\n",
       "2019-04-09 12:41    1\n",
       "2019-05-24 17:17    1\n",
       "2019-07-26 10:45    1\n",
       "2019-06-28 16:47    1\n",
       "2019-06-20 8:42     1\n",
       "2019-04-12 1:14     1\n",
       "2019-05-22 16:34    1\n",
       "2019-04-25 8:12     1\n",
       "2019-05-11 8:08     1\n",
       "2019-05-11 12:33    1\n",
       "2019-07-24 20:22    1\n",
       "2019-07-23 10:25    1\n",
       "2019-05-08 8:30     1\n",
       "2019-06-24 13:51    1\n",
       "2019-07-10 10:05    1\n",
       "2019-04-23 8:57     1\n",
       "2019-06-07 6:09     1\n",
       "2019-05-04 13:42    1\n",
       "2019-06-14 7:15     1\n",
       "2019-05-07 14:03    1\n",
       "2019-05-23 13:59    1\n",
       "Name: TIME_2AG, Length: 3999, dtype: int64"
      ]
     },
     "execution_count": 14,
     "metadata": {},
     "output_type": "execute_result"
    }
   ],
   "source": [
    "m1['TIME_2AG'].value_counts()"
   ]
  },
  {
   "cell_type": "code",
   "execution_count": 15,
   "metadata": {},
   "outputs": [
    {
     "data": {
      "text/html": [
       "<div>\n",
       "<style scoped>\n",
       "    .dataframe tbody tr th:only-of-type {\n",
       "        vertical-align: middle;\n",
       "    }\n",
       "\n",
       "    .dataframe tbody tr th {\n",
       "        vertical-align: top;\n",
       "    }\n",
       "\n",
       "    .dataframe thead th {\n",
       "        text-align: right;\n",
       "    }\n",
       "</style>\n",
       "<table border=\"1\" class=\"dataframe\">\n",
       "  <thead>\n",
       "    <tr style=\"text-align: right;\">\n",
       "      <th></th>\n",
       "      <th>JUDGE</th>\n",
       "      <th>LOT_ID</th>\n",
       "      <th>PANEL_ID</th>\n",
       "      <th>DATE_1BLACK</th>\n",
       "      <th>TIME_1BLACK</th>\n",
       "      <th>TIME_2AG</th>\n",
       "      <th>TIME_3BUS</th>\n",
       "      <th>TIME_4DIELEC</th>\n",
       "      <th>TIME_5MGO</th>\n",
       "      <th>TIME_6PHOS</th>\n",
       "      <th>...</th>\n",
       "      <th>MC_4DIELEC_1FIRE</th>\n",
       "      <th>MC_5MGO</th>\n",
       "      <th>MC_6PHOS_1R_1DISPENSER</th>\n",
       "      <th>MC_6PHOS_1R_2DRY</th>\n",
       "      <th>MC_6PHOS_2G_1DISPENSER</th>\n",
       "      <th>MC_6PHOS_2G_2DRY</th>\n",
       "      <th>MC_6PHOS_3B_1DISPENSER</th>\n",
       "      <th>MC_6PHOS_4FIRE</th>\n",
       "      <th>MC_7PASTE</th>\n",
       "      <th>MC_8AGING</th>\n",
       "    </tr>\n",
       "  </thead>\n",
       "  <tbody>\n",
       "    <tr>\n",
       "      <th>790</th>\n",
       "      <td>양품</td>\n",
       "      <td>LOT-140</td>\n",
       "      <td>PNL-11</td>\n",
       "      <td>2019-04-25</td>\n",
       "      <td>2019-04-25 7:17</td>\n",
       "      <td>2019-04-25 12:37</td>\n",
       "      <td>2019-04-25 18:17</td>\n",
       "      <td>2019-04-30 20:57</td>\n",
       "      <td>2019-05-05 10:57</td>\n",
       "      <td>2019-04-28 2:57</td>\n",
       "      <td>...</td>\n",
       "      <td>3호기</td>\n",
       "      <td>2호기</td>\n",
       "      <td>2호기</td>\n",
       "      <td>1호기</td>\n",
       "      <td>2호기</td>\n",
       "      <td>1호기</td>\n",
       "      <td>1호기</td>\n",
       "      <td>1호기</td>\n",
       "      <td>1호기</td>\n",
       "      <td>1호기</td>\n",
       "    </tr>\n",
       "    <tr>\n",
       "      <th>796</th>\n",
       "      <td>양품</td>\n",
       "      <td>LOT-140</td>\n",
       "      <td>PNL-17</td>\n",
       "      <td>2019-04-25</td>\n",
       "      <td>2019-04-25 11:43</td>\n",
       "      <td>2019-04-25 12:37</td>\n",
       "      <td>2019-04-25 18:17</td>\n",
       "      <td>2019-04-30 20:57</td>\n",
       "      <td>2019-05-05 10:57</td>\n",
       "      <td>2019-04-28 2:57</td>\n",
       "      <td>...</td>\n",
       "      <td>3호기</td>\n",
       "      <td>2호기</td>\n",
       "      <td>2호기</td>\n",
       "      <td>1호기</td>\n",
       "      <td>2호기</td>\n",
       "      <td>1호기</td>\n",
       "      <td>1호기</td>\n",
       "      <td>1호기</td>\n",
       "      <td>1호기</td>\n",
       "      <td>1호기</td>\n",
       "    </tr>\n",
       "  </tbody>\n",
       "</table>\n",
       "<p>2 rows × 29 columns</p>\n",
       "</div>"
      ],
      "text/plain": [
       "    JUDGE   LOT_ID PANEL_ID DATE_1BLACK       TIME_1BLACK          TIME_2AG  \\\n",
       "790    양품  LOT-140   PNL-11  2019-04-25   2019-04-25 7:17  2019-04-25 12:37   \n",
       "796    양품  LOT-140   PNL-17  2019-04-25  2019-04-25 11:43  2019-04-25 12:37   \n",
       "\n",
       "            TIME_3BUS      TIME_4DIELEC         TIME_5MGO       TIME_6PHOS  \\\n",
       "790  2019-04-25 18:17  2019-04-30 20:57  2019-05-05 10:57  2019-04-28 2:57   \n",
       "796  2019-04-25 18:17  2019-04-30 20:57  2019-05-05 10:57  2019-04-28 2:57   \n",
       "\n",
       "     ... MC_4DIELEC_1FIRE MC_5MGO MC_6PHOS_1R_1DISPENSER MC_6PHOS_1R_2DRY  \\\n",
       "790  ...              3호기     2호기                    2호기              1호기   \n",
       "796  ...              3호기     2호기                    2호기              1호기   \n",
       "\n",
       "    MC_6PHOS_2G_1DISPENSER MC_6PHOS_2G_2DRY MC_6PHOS_3B_1DISPENSER  \\\n",
       "790                    2호기              1호기                    1호기   \n",
       "796                    2호기              1호기                    1호기   \n",
       "\n",
       "    MC_6PHOS_4FIRE MC_7PASTE MC_8AGING  \n",
       "790            1호기       1호기       1호기  \n",
       "796            1호기       1호기       1호기  \n",
       "\n",
       "[2 rows x 29 columns]"
      ]
     },
     "execution_count": 15,
     "metadata": {},
     "output_type": "execute_result"
    }
   ],
   "source": [
    "m1[m1['TIME_2AG']=='2019-04-25 12:37']"
   ]
  },
  {
   "cell_type": "markdown",
   "metadata": {},
   "source": [
    "============================CUT LINE ======================================\n",
    "# WORK_TIME"
   ]
  },
  {
   "cell_type": "code",
   "execution_count": 63,
   "metadata": {
    "scrolled": true
   },
   "outputs": [
    {
     "data": {
      "text/html": [
       "<div>\n",
       "<style scoped>\n",
       "    .dataframe tbody tr th:only-of-type {\n",
       "        vertical-align: middle;\n",
       "    }\n",
       "\n",
       "    .dataframe tbody tr th {\n",
       "        vertical-align: top;\n",
       "    }\n",
       "\n",
       "    .dataframe thead th {\n",
       "        text-align: right;\n",
       "    }\n",
       "</style>\n",
       "<table border=\"1\" class=\"dataframe\">\n",
       "  <thead>\n",
       "    <tr style=\"text-align: right;\">\n",
       "      <th></th>\n",
       "      <th>JUDGE</th>\n",
       "      <th>LOT_ID</th>\n",
       "      <th>PANEL_ID</th>\n",
       "      <th>TIME_1BLACK</th>\n",
       "      <th>TIME_2AG</th>\n",
       "      <th>TIME_3BUS</th>\n",
       "      <th>TIME_4DIELEC</th>\n",
       "      <th>TIME_5MGO</th>\n",
       "      <th>TIME_6PHOS</th>\n",
       "      <th>TIME_7PASTE</th>\n",
       "      <th>...</th>\n",
       "      <th>TAT_4DIELEC_FIRE</th>\n",
       "      <th>TAT_5MGO</th>\n",
       "      <th>TAT_6PHOS_1R_1DISPENSER</th>\n",
       "      <th>TAT_6PHOS_1R_2DRY</th>\n",
       "      <th>TAT_6PHOS_2G_1DISPENSER</th>\n",
       "      <th>TAT_6PHOS_2G_2DRY</th>\n",
       "      <th>TAT_6PHOS_3B_1DISPENSER</th>\n",
       "      <th>TAT_6PHOS_4FIRE</th>\n",
       "      <th>TAT_7PASTE</th>\n",
       "      <th>TAT_8AGING</th>\n",
       "    </tr>\n",
       "  </thead>\n",
       "  <tbody>\n",
       "    <tr>\n",
       "      <th>0</th>\n",
       "      <td>양품</td>\n",
       "      <td>LOT-101</td>\n",
       "      <td>PNL-01</td>\n",
       "      <td>2019-04-01 0:01</td>\n",
       "      <td>2019-04-01 5:21</td>\n",
       "      <td>2019-04-01 11:01</td>\n",
       "      <td>2019-04-06 13:41</td>\n",
       "      <td>2019-04-11 3:41</td>\n",
       "      <td>2019-04-03 20:20</td>\n",
       "      <td>2019-04-11 12:41</td>\n",
       "      <td>...</td>\n",
       "      <td>6447.0</td>\n",
       "      <td>530.0</td>\n",
       "      <td>76.0</td>\n",
       "      <td>333.0</td>\n",
       "      <td>88.0</td>\n",
       "      <td>396.0</td>\n",
       "      <td>86.0</td>\n",
       "      <td>7140.0</td>\n",
       "      <td>0.0</td>\n",
       "      <td>10074.0</td>\n",
       "    </tr>\n",
       "    <tr>\n",
       "      <th>1</th>\n",
       "      <td>양품</td>\n",
       "      <td>LOT-101</td>\n",
       "      <td>PNL-02</td>\n",
       "      <td>2019-04-01 0:45</td>\n",
       "      <td>2019-04-01 6:05</td>\n",
       "      <td>2019-04-01 11:45</td>\n",
       "      <td>2019-04-06 14:25</td>\n",
       "      <td>2019-04-11 4:25</td>\n",
       "      <td>2019-04-03 21:04</td>\n",
       "      <td>2019-04-11 13:25</td>\n",
       "      <td>...</td>\n",
       "      <td>6600.0</td>\n",
       "      <td>530.0</td>\n",
       "      <td>80.0</td>\n",
       "      <td>438.0</td>\n",
       "      <td>82.0</td>\n",
       "      <td>381.0</td>\n",
       "      <td>84.0</td>\n",
       "      <td>6956.0</td>\n",
       "      <td>0.0</td>\n",
       "      <td>10075.0</td>\n",
       "    </tr>\n",
       "  </tbody>\n",
       "</table>\n",
       "<p>2 rows × 28 columns</p>\n",
       "</div>"
      ],
      "text/plain": [
       "  JUDGE   LOT_ID PANEL_ID      TIME_1BLACK         TIME_2AG         TIME_3BUS  \\\n",
       "0    양품  LOT-101   PNL-01  2019-04-01 0:01  2019-04-01 5:21  2019-04-01 11:01   \n",
       "1    양품  LOT-101   PNL-02  2019-04-01 0:45  2019-04-01 6:05  2019-04-01 11:45   \n",
       "\n",
       "       TIME_4DIELEC        TIME_5MGO        TIME_6PHOS       TIME_7PASTE  ...  \\\n",
       "0  2019-04-06 13:41  2019-04-11 3:41  2019-04-03 20:20  2019-04-11 12:41  ...   \n",
       "1  2019-04-06 14:25  2019-04-11 4:25  2019-04-03 21:04  2019-04-11 13:25  ...   \n",
       "\n",
       "  TAT_4DIELEC_FIRE  TAT_5MGO  TAT_6PHOS_1R_1DISPENSER  TAT_6PHOS_1R_2DRY  \\\n",
       "0           6447.0     530.0                     76.0              333.0   \n",
       "1           6600.0     530.0                     80.0              438.0   \n",
       "\n",
       "   TAT_6PHOS_2G_1DISPENSER  TAT_6PHOS_2G_2DRY  TAT_6PHOS_3B_1DISPENSER  \\\n",
       "0                     88.0              396.0                     86.0   \n",
       "1                     82.0              381.0                     84.0   \n",
       "\n",
       "   TAT_6PHOS_4FIRE  TAT_7PASTE  TAT_8AGING  \n",
       "0           7140.0         0.0     10074.0  \n",
       "1           6956.0         0.0     10075.0  \n",
       "\n",
       "[2 rows x 28 columns]"
      ]
     },
     "execution_count": 63,
     "metadata": {},
     "output_type": "execute_result"
    }
   ],
   "source": [
    "work=pd.read_csv(\"data/MFG_WORK_TIME.csv\", encoding=\"cp949\")\n",
    "work.head(2)"
   ]
  },
  {
   "cell_type": "code",
   "execution_count": 64,
   "metadata": {},
   "outputs": [
    {
     "name": "stdout",
     "output_type": "stream",
     "text": [
      "<class 'pandas.core.frame.DataFrame'>\n",
      "RangeIndex: 4000 entries, 0 to 3999\n",
      "Data columns (total 28 columns):\n",
      "JUDGE                      4000 non-null object\n",
      "LOT_ID                     4000 non-null object\n",
      "PANEL_ID                   4000 non-null object\n",
      "TIME_1BLACK                4000 non-null object\n",
      "TIME_2AG                   4000 non-null object\n",
      "TIME_3BUS                  4000 non-null object\n",
      "TIME_4DIELEC               4000 non-null object\n",
      "TIME_5MGO                  4000 non-null object\n",
      "TIME_6PHOS                 4000 non-null object\n",
      "TIME_7PASTE                4000 non-null object\n",
      "TIME_8AGING                4000 non-null object\n",
      "TAT_1BLACK_1PRINT          4000 non-null int64\n",
      "TAT_1BLACK_2RTD            3996 non-null float64\n",
      "TAT_2AG_1PRINT             3994 non-null float64\n",
      "TAT_2AG_2RTD               4000 non-null int64\n",
      "TAT_2AG_3EXPOSURE          3912 non-null float64\n",
      "TAT_3BUS_1DEVELOP          3966 non-null float64\n",
      "TAT_3BUS_2FIRE             3991 non-null float64\n",
      "TAT_4DIELEC_FIRE           3835 non-null float64\n",
      "TAT_5MGO                   3943 non-null float64\n",
      "TAT_6PHOS_1R_1DISPENSER    3975 non-null float64\n",
      "TAT_6PHOS_1R_2DRY          3975 non-null float64\n",
      "TAT_6PHOS_2G_1DISPENSER    3953 non-null float64\n",
      "TAT_6PHOS_2G_2DRY          3943 non-null float64\n",
      "TAT_6PHOS_3B_1DISPENSER    3969 non-null float64\n",
      "TAT_6PHOS_4FIRE            3973 non-null float64\n",
      "TAT_7PASTE                 3984 non-null float64\n",
      "TAT_8AGING                 3956 non-null float64\n",
      "dtypes: float64(15), int64(2), object(11)\n",
      "memory usage: 875.1+ KB\n"
     ]
    }
   ],
   "source": [
    "work.info()"
   ]
  },
  {
   "cell_type": "code",
   "execution_count": 65,
   "metadata": {},
   "outputs": [
    {
     "data": {
      "text/plain": [
       "JUDGE                        0\n",
       "LOT_ID                       0\n",
       "PANEL_ID                     0\n",
       "TIME_1BLACK                  0\n",
       "TIME_2AG                     0\n",
       "TIME_3BUS                    0\n",
       "TIME_4DIELEC                 0\n",
       "TIME_5MGO                    0\n",
       "TIME_6PHOS                   0\n",
       "TIME_7PASTE                  0\n",
       "TIME_8AGING                  0\n",
       "TAT_1BLACK_1PRINT            0\n",
       "TAT_1BLACK_2RTD              4\n",
       "TAT_2AG_1PRINT               6\n",
       "TAT_2AG_2RTD                 0\n",
       "TAT_2AG_3EXPOSURE           88\n",
       "TAT_3BUS_1DEVELOP           34\n",
       "TAT_3BUS_2FIRE               9\n",
       "TAT_4DIELEC_FIRE           165\n",
       "TAT_5MGO                    57\n",
       "TAT_6PHOS_1R_1DISPENSER     25\n",
       "TAT_6PHOS_1R_2DRY           25\n",
       "TAT_6PHOS_2G_1DISPENSER     47\n",
       "TAT_6PHOS_2G_2DRY           57\n",
       "TAT_6PHOS_3B_1DISPENSER     31\n",
       "TAT_6PHOS_4FIRE             27\n",
       "TAT_7PASTE                  16\n",
       "TAT_8AGING                  44\n",
       "dtype: int64"
      ]
     },
     "execution_count": 65,
     "metadata": {},
     "output_type": "execute_result"
    }
   ],
   "source": [
    "work.isnull().sum()"
   ]
  },
  {
   "cell_type": "code",
   "execution_count": 66,
   "metadata": {},
   "outputs": [
    {
     "data": {
      "text/plain": [
       "78.0    10\n",
       "80.0     2\n",
       "76.0     2\n",
       "72.0     1\n",
       "96.0     1\n",
       "82.0     1\n",
       "86.0     1\n",
       "94.0     1\n",
       "Name: TAT_6PHOS_2G_1DISPENSER, dtype: int64"
      ]
     },
     "execution_count": 66,
     "metadata": {},
     "output_type": "execute_result"
    }
   ],
   "source": [
    "work[(work['LOT_ID']=='LOT-102')]['TAT_6PHOS_2G_1DISPENSER'].value_counts()"
   ]
  },
  {
   "cell_type": "code",
   "execution_count": 67,
   "metadata": {},
   "outputs": [
    {
     "data": {
      "text/plain": [
       "0.0    3984\n",
       "Name: TAT_7PASTE, dtype: int64"
      ]
     },
     "execution_count": 67,
     "metadata": {},
     "output_type": "execute_result"
    }
   ],
   "source": [
    "work['TAT_7PASTE'].value_counts()"
   ]
  },
  {
   "cell_type": "code",
   "execution_count": 69,
   "metadata": {},
   "outputs": [],
   "source": [
    "def okk2(c, stan, dire=0 ):\n",
    "    if dire==0:\n",
    "        medi_ok[c]=[medi_ok[c].median() if x > stan else x for x in medi_ok[c]]\n",
    "    else:\n",
    "        medi_ok[c]=[medi_ok[c].median() if x < stan else x for x in medi_ok[c]]\n",
    "    return medi_ok\n",
    "        \n",
    "def noo2(c, stan, dire=0 ):\n",
    "    if dire==0:\n",
    "        medi_no[c]=[medi_no[c].median() if x > stan else x for x in medi_no[c]]\n",
    "    else:\n",
    "        medi_no[c]=[medi_no[c].median() if x < stan else x for x in medi_no[c]]\n",
    "    return medi_no\n",
    "        \n",
    "def callChangeFunction2(c, ctype=2, dire=[], stan=[] ):\n",
    "    if ctype==2:\n",
    "        medi_ok=okk(c, stan[0],dire[0])\n",
    "        medi_no=noo(c, stan[1],dire[1])\n",
    "        return medi_ok, medi_no\n",
    "    elif ctype==1:\n",
    "        return okk(c, stan[0], dire[0])\n",
    "    else:\n",
    "        return noo(c, stan[0], dire[0])        "
   ]
  },
  {
   "cell_type": "code",
   "execution_count": 70,
   "metadata": {},
   "outputs": [],
   "source": [
    "def changeNoneValue2(c):\n",
    "    # 결측치처리\n",
    "    work[c].fillna(work[work['JUDGE']==\"양품\"][c].median(), inplace=True)\n",
    "    work[c].fillna(work[work['JUDGE']!=\"양품\"][c].median(), inplace=True)\n",
    "    print(work[c].isnull().sum())\n"
   ]
  },
  {
   "cell_type": "code",
   "execution_count": 71,
   "metadata": {},
   "outputs": [
    {
     "data": {
      "text/plain": [
       "Index(['TAT_1BLACK_1PRINT', 'TAT_1BLACK_2RTD', 'TAT_2AG_1PRINT',\n",
       "       'TAT_2AG_2RTD', 'TAT_2AG_3EXPOSURE', 'TAT_3BUS_1DEVELOP',\n",
       "       'TAT_3BUS_2FIRE', 'TAT_4DIELEC_FIRE', 'TAT_5MGO',\n",
       "       'TAT_6PHOS_1R_1DISPENSER', 'TAT_6PHOS_1R_2DRY',\n",
       "       'TAT_6PHOS_2G_1DISPENSER', 'TAT_6PHOS_2G_2DRY',\n",
       "       'TAT_6PHOS_3B_1DISPENSER', 'TAT_6PHOS_4FIRE', 'TAT_7PASTE',\n",
       "       'TAT_8AGING'],\n",
       "      dtype='object')"
      ]
     },
     "execution_count": 71,
     "metadata": {},
     "output_type": "execute_result"
    }
   ],
   "source": [
    "work.columns[11:]"
   ]
  },
  {
   "cell_type": "code",
   "execution_count": 72,
   "metadata": {},
   "outputs": [
    {
     "name": "stdout",
     "output_type": "stream",
     "text": [
      "0\n",
      "0\n",
      "0\n",
      "0\n",
      "0\n",
      "0\n",
      "0\n",
      "0\n",
      "0\n",
      "0\n",
      "0\n",
      "0\n",
      "0\n",
      "0\n",
      "0\n",
      "0\n",
      "0\n"
     ]
    }
   ],
   "source": [
    "for col in work.columns[11:]:\n",
    "    changeNoneValue2(col)"
   ]
  },
  {
   "cell_type": "code",
   "execution_count": 73,
   "metadata": {},
   "outputs": [
    {
     "name": "stdout",
     "output_type": "stream",
     "text": [
      "(3573, 28) (427, 28)\n",
      "(4000, 28)\n"
     ]
    }
   ],
   "source": [
    "medi_ok=work[work['JUDGE']=='양품']\n",
    "medi_no=work[work['JUDGE']!='양품']\n",
    "print(medi_ok.shape, medi_no.shape)\n",
    "print(work.shape)"
   ]
  },
  {
   "cell_type": "code",
   "execution_count": 74,
   "metadata": {},
   "outputs": [],
   "source": [
    "col=['TAT_3BUS_2FIRE',\n",
    "'TAT_4DIELEC_FIRE',\n",
    "'TAT_5MGO',\n",
    "'TAT_5MGO',\n",
    "'TAT_6PHOS_1R_1DISPENSER',\n",
    "'TAT_6PHOS_2G_1DISPENSER',\n",
    "'TAT_6PHOS_3B_1DISPENSER']"
   ]
  },
  {
   "cell_type": "code",
   "execution_count": 75,
   "metadata": {},
   "outputs": [],
   "source": [
    "cd=['8500,6933,상',\n",
    "'8500,6513,상',\n",
    "'700,530,상',\n",
    "'400,530,하',\n",
    "'20,80,하',\n",
    "'20,78,하',\n",
    "'20,84,하']"
   ]
  },
  {
   "cell_type": "code",
   "execution_count": null,
   "metadata": {},
   "outputs": [],
   "source": []
  },
  {
   "cell_type": "code",
   "execution_count": 76,
   "metadata": {},
   "outputs": [
    {
     "name": "stdout",
     "output_type": "stream",
     "text": [
      "TAT_3BUS_2FIRE 8500.0 0\n",
      "TAT_4DIELEC_FIRE 8500.0 0\n",
      "TAT_5MGO 700.0 0\n",
      "TAT_5MGO 400.0 1\n",
      "TAT_6PHOS_1R_1DISPENSER 20.0 1\n"
     ]
    },
    {
     "name": "stderr",
     "output_type": "stream",
     "text": [
      "/home/pirl/anaconda3/lib/python3.7/site-packages/ipykernel_launcher.py:10: SettingWithCopyWarning: \n",
      "A value is trying to be set on a copy of a slice from a DataFrame.\n",
      "Try using .loc[row_indexer,col_indexer] = value instead\n",
      "\n",
      "See the caveats in the documentation: http://pandas.pydata.org/pandas-docs/stable/indexing.html#indexing-view-versus-copy\n",
      "  # Remove the CWD from sys.path while we load stuff.\n",
      "/home/pirl/anaconda3/lib/python3.7/site-packages/ipykernel_launcher.py:12: SettingWithCopyWarning: \n",
      "A value is trying to be set on a copy of a slice from a DataFrame.\n",
      "Try using .loc[row_indexer,col_indexer] = value instead\n",
      "\n",
      "See the caveats in the documentation: http://pandas.pydata.org/pandas-docs/stable/indexing.html#indexing-view-versus-copy\n",
      "  if sys.path[0] == '':\n"
     ]
    },
    {
     "name": "stdout",
     "output_type": "stream",
     "text": [
      "TAT_6PHOS_2G_1DISPENSER 20.0 1\n",
      "TAT_6PHOS_3B_1DISPENSER 20.0 1\n"
     ]
    }
   ],
   "source": [
    "idx=0\n",
    "for dd in col:\n",
    "    st,_,dirr=cd[idx].split(\",\")\n",
    "    st=float(st)\n",
    "    if dirr ==\"상\":\n",
    "        dirr = 0\n",
    "    else:\n",
    "        dirr=1\n",
    "    print(dd,st, dirr)\n",
    "    idx+=1\n",
    "    noo2(dd,st,dirr)"
   ]
  },
  {
   "cell_type": "code",
   "execution_count": 77,
   "metadata": {},
   "outputs": [],
   "source": [
    "d=['TAT_3BUS_2FIRE',\n",
    "'TAT_4DIELEC_FIRE',\n",
    "'TAT_5MGO',\n",
    "'TAT_5MGO',\n",
    "'TAT_6PHOS_1R_1DISPENSER',\n",
    "'TAT_6PHOS_2G_1DISPENSER',\n",
    "'TAT_6PHOS_3B_1DISPENSER',\n",
    "'TAT_8AGING',\n",
    "'TAT_8AGING']"
   ]
  },
  {
   "cell_type": "code",
   "execution_count": 78,
   "metadata": {},
   "outputs": [],
   "source": [
    "check_list=['8500,6927,상',\n",
    "'8500,6480,상',\n",
    "'700,530,상',\n",
    "'400,530,하',\n",
    "'20,80,하',\n",
    "'20,78,하',\n",
    "'20,84,하',\n",
    "'12000,10074,상',\n",
    "'6000,10074,하']"
   ]
  },
  {
   "cell_type": "code",
   "execution_count": 79,
   "metadata": {},
   "outputs": [
    {
     "name": "stderr",
     "output_type": "stream",
     "text": [
      "/home/pirl/anaconda3/lib/python3.7/site-packages/ipykernel_launcher.py:3: SettingWithCopyWarning: \n",
      "A value is trying to be set on a copy of a slice from a DataFrame.\n",
      "Try using .loc[row_indexer,col_indexer] = value instead\n",
      "\n",
      "See the caveats in the documentation: http://pandas.pydata.org/pandas-docs/stable/indexing.html#indexing-view-versus-copy\n",
      "  This is separate from the ipykernel package so we can avoid doing imports until\n",
      "/home/pirl/anaconda3/lib/python3.7/site-packages/ipykernel_launcher.py:5: SettingWithCopyWarning: \n",
      "A value is trying to be set on a copy of a slice from a DataFrame.\n",
      "Try using .loc[row_indexer,col_indexer] = value instead\n",
      "\n",
      "See the caveats in the documentation: http://pandas.pydata.org/pandas-docs/stable/indexing.html#indexing-view-versus-copy\n",
      "  \"\"\"\n"
     ]
    }
   ],
   "source": [
    "idx=0\n",
    "for dd in d:\n",
    "    st,_,dirr=check_list[idx].split(\",\")\n",
    "    st=float(st)\n",
    "    if dirr ==\"상\":\n",
    "        dirr = 0\n",
    "    else:\n",
    "        dirr=1\n",
    "    #print(st, dirr)\n",
    "    idx+=1\n",
    "    okk2(dd,st,dirr)"
   ]
  },
  {
   "cell_type": "code",
   "execution_count": 80,
   "metadata": {},
   "outputs": [
    {
     "data": {
      "text/plain": [
       "JUDGE                      0\n",
       "LOT_ID                     0\n",
       "PANEL_ID                   0\n",
       "TIME_1BLACK                0\n",
       "TIME_2AG                   0\n",
       "TIME_3BUS                  0\n",
       "TIME_4DIELEC               0\n",
       "TIME_5MGO                  0\n",
       "TIME_6PHOS                 0\n",
       "TIME_7PASTE                0\n",
       "TIME_8AGING                0\n",
       "TAT_1BLACK_1PRINT          0\n",
       "TAT_1BLACK_2RTD            0\n",
       "TAT_2AG_1PRINT             0\n",
       "TAT_2AG_2RTD               0\n",
       "TAT_2AG_3EXPOSURE          0\n",
       "TAT_3BUS_1DEVELOP          0\n",
       "TAT_3BUS_2FIRE             0\n",
       "TAT_4DIELEC_FIRE           0\n",
       "TAT_5MGO                   0\n",
       "TAT_6PHOS_1R_1DISPENSER    0\n",
       "TAT_6PHOS_1R_2DRY          0\n",
       "TAT_6PHOS_2G_1DISPENSER    0\n",
       "TAT_6PHOS_2G_2DRY          0\n",
       "TAT_6PHOS_3B_1DISPENSER    0\n",
       "TAT_6PHOS_4FIRE            0\n",
       "TAT_7PASTE                 0\n",
       "TAT_8AGING                 0\n",
       "dtype: int64"
      ]
     },
     "execution_count": 80,
     "metadata": {},
     "output_type": "execute_result"
    }
   ],
   "source": [
    "work.isnull().sum()"
   ]
  },
  {
   "cell_type": "code",
   "execution_count": 57,
   "metadata": {},
   "outputs": [
    {
     "data": {
      "text/plain": [
       "Index(['JUDGE', 'LOT_ID', 'PANEL_ID', 'TIME_1BLACK', 'TIME_2AG', 'TIME_3BUS',\n",
       "       'TIME_4DIELEC', 'TIME_5MGO', 'TIME_6PHOS', 'TIME_7PASTE', 'TIME_8AGING',\n",
       "       'TAT_1BLACK_1PRINT', 'TAT_1BLACK_2RTD', 'TAT_2AG_1PRINT',\n",
       "       'TAT_2AG_2RTD', 'TAT_2AG_3EXPOSURE', 'TAT_3BUS_1DEVELOP',\n",
       "       'TAT_3BUS_2FIRE', 'TAT_4DIELEC_FIRE', 'TAT_5MGO',\n",
       "       'TAT_6PHOS_1R_1DISPENSER', 'TAT_6PHOS_1R_2DRY',\n",
       "       'TAT_6PHOS_2G_1DISPENSER', 'TAT_6PHOS_2G_2DRY',\n",
       "       'TAT_6PHOS_3B_1DISPENSER', 'TAT_6PHOS_4FIRE', 'TAT_7PASTE',\n",
       "       'TAT_8AGING'],\n",
       "      dtype='object')"
      ]
     },
     "execution_count": 57,
     "metadata": {},
     "output_type": "execute_result"
    }
   ],
   "source": [
    "work.columns"
   ]
  },
  {
   "cell_type": "code",
   "execution_count": 81,
   "metadata": {},
   "outputs": [
    {
     "name": "stdout",
     "output_type": "stream",
     "text": [
      "<class 'pandas.core.frame.DataFrame'>\n",
      "Int64Index: 4000 entries, 0 to 3999\n",
      "Data columns (total 28 columns):\n",
      "JUDGE                      4000 non-null object\n",
      "LOT_ID                     4000 non-null object\n",
      "PANEL_ID                   4000 non-null object\n",
      "TIME_1BLACK                4000 non-null object\n",
      "TIME_2AG                   4000 non-null object\n",
      "TIME_3BUS                  4000 non-null object\n",
      "TIME_4DIELEC               4000 non-null object\n",
      "TIME_5MGO                  4000 non-null object\n",
      "TIME_6PHOS                 4000 non-null object\n",
      "TIME_7PASTE                4000 non-null object\n",
      "TIME_8AGING                4000 non-null object\n",
      "TAT_1BLACK_1PRINT          4000 non-null int64\n",
      "TAT_1BLACK_2RTD            4000 non-null float64\n",
      "TAT_2AG_1PRINT             4000 non-null float64\n",
      "TAT_2AG_2RTD               4000 non-null int64\n",
      "TAT_2AG_3EXPOSURE          4000 non-null float64\n",
      "TAT_3BUS_1DEVELOP          4000 non-null float64\n",
      "TAT_3BUS_2FIRE             4000 non-null float64\n",
      "TAT_4DIELEC_FIRE           4000 non-null float64\n",
      "TAT_5MGO                   4000 non-null float64\n",
      "TAT_6PHOS_1R_1DISPENSER    4000 non-null float64\n",
      "TAT_6PHOS_1R_2DRY          4000 non-null float64\n",
      "TAT_6PHOS_2G_1DISPENSER    4000 non-null float64\n",
      "TAT_6PHOS_2G_2DRY          4000 non-null float64\n",
      "TAT_6PHOS_3B_1DISPENSER    4000 non-null float64\n",
      "TAT_6PHOS_4FIRE            4000 non-null float64\n",
      "TAT_7PASTE                 4000 non-null float64\n",
      "TAT_8AGING                 4000 non-null float64\n",
      "dtypes: float64(15), int64(2), object(11)\n",
      "memory usage: 906.2+ KB\n"
     ]
    }
   ],
   "source": [
    "final=pd.concat([medi_ok,medi_no]).sort_values(by=['LOT_ID','PANEL_ID'])\n",
    "final.info()"
   ]
  },
  {
   "cell_type": "code",
   "execution_count": 83,
   "metadata": {
    "collapsed": true
   },
   "outputs": [
    {
     "name": "stdout",
     "output_type": "stream",
     "text": [
      "TAT_1BLACK_1PRINT\n",
      "upper 485\n",
      "Counter({'양품': 437, '명점': 48})\n",
      "---------------------------------------------------------------\n",
      "lower 322\n",
      "Counter({'양품': 264, '명점': 58})\n",
      "---------------------------------------------------------------\n",
      "양품 median: 88.0\n",
      "불량 median: 86.0\n"
     ]
    },
    {
     "data": {
      "image/png": "[encoded data removed]",
      "text/plain": [
       "<Figure size 432x288 with 1 Axes>"
      ]
     },
     "metadata": {
      "needs_background": "light"
     },
     "output_type": "display_data"
    },
    {
     "data": {
      "image/png": "[encoded data removed]",
      "text/plain": [
       "<Figure size 432x288 with 1 Axes>"
      ]
     },
     "metadata": {
      "needs_background": "light"
     },
     "output_type": "display_data"
    },
    {
     "data": {
      "image/png": "[encoded data removed]",
      "text/plain": [
       "<Figure size 432x288 with 1 Axes>"
      ]
     },
     "metadata": {
      "needs_background": "light"
     },
     "output_type": "display_data"
    },
    {
     "name": "stdout",
     "output_type": "stream",
     "text": [
      "Series([], Name: JUDGE, dtype: object)\n",
      "===============================================================\n",
      "\n",
      "TAT_1BLACK_2RTD\n",
      "upper 502\n",
      "Counter({'양품': 429, '명점': 73})\n",
      "---------------------------------------------------------------\n",
      "lower 30\n",
      "Counter({'양품': 29, '명점': 1})\n",
      "---------------------------------------------------------------\n",
      "양품 median: 220.0\n",
      "불량 median: 220.0\n"
     ]
    },
    {
     "data": {
      "image/png": "[encoded data removed]",
      "text/plain": [
       "<Figure size 432x288 with 1 Axes>"
      ]
     },
     "metadata": {
      "needs_background": "light"
     },
     "output_type": "display_data"
    },
    {
     "data": {
      "image/png": "[encoded data removed]",
      "text/plain": [
       "<Figure size 432x288 with 1 Axes>"
      ]
     },
     "metadata": {
      "needs_background": "light"
     },
     "output_type": "display_data"
    },
    {
     "data": {
      "image/png": "[encoded data removed]",
      "text/plain": [
       "<Figure size 432x288 with 1 Axes>"
      ]
     },
     "metadata": {
      "needs_background": "light"
     },
     "output_type": "display_data"
    },
    {
     "name": "stdout",
     "output_type": "stream",
     "text": [
      "Series([], Name: JUDGE, dtype: object)\n",
      "===============================================================\n",
      "\n",
      "TAT_2AG_1PRINT\n",
      "upper 312\n",
      "Counter({'양품': 270, '명점': 42})\n",
      "---------------------------------------------------------------\n",
      "lower 342\n",
      "Counter({'양품': 265, '명점': 77})\n",
      "---------------------------------------------------------------\n",
      "양품 median: 84.0\n",
      "불량 median: 84.0\n"
     ]
    },
    {
     "data": {
      "image/png": "[encoded data removed]",
      "text/plain": [
       "<Figure size 432x288 with 1 Axes>"
      ]
     },
     "metadata": {
      "needs_background": "light"
     },
     "output_type": "display_data"
    },
    {
     "data": {
      "image/png": "[encoded data removed]",
      "text/plain": [
       "<Figure size 432x288 with 1 Axes>"
      ]
     },
     "metadata": {
      "needs_background": "light"
     },
     "output_type": "display_data"
    },
    {
     "data": {
      "image/png": "[encoded data removed]",
      "text/plain": [
       "<Figure size 432x288 with 1 Axes>"
      ]
     },
     "metadata": {
      "needs_background": "light"
     },
     "output_type": "display_data"
    },
    {
     "name": "stdout",
     "output_type": "stream",
     "text": [
      "Series([], Name: JUDGE, dtype: object)\n",
      "===============================================================\n",
      "\n",
      "TAT_2AG_2RTD\n",
      "upper 83\n",
      "Counter({'양품': 79, '명점': 4})\n",
      "---------------------------------------------------------------\n",
      "lower 31\n",
      "Counter({'양품': 28, '명점': 3})\n",
      "---------------------------------------------------------------\n",
      "양품 median: 69.0\n",
      "불량 median: 69.0\n"
     ]
    },
    {
     "data": {
      "image/png": "[encoded data removed]",
      "text/plain": [
       "<Figure size 432x288 with 1 Axes>"
      ]
     },
     "metadata": {
      "needs_background": "light"
     },
     "output_type": "display_data"
    },
    {
     "data": {
      "image/png": "[encoded data removed]",
      "text/plain": [
       "<Figure size 432x288 with 1 Axes>"
      ]
     },
     "metadata": {
      "needs_background": "light"
     },
     "output_type": "display_data"
    },
    {
     "data": {
      "image/png": "[encoded data removed]",
      "text/plain": [
       "<Figure size 432x288 with 1 Axes>"
      ]
     },
     "metadata": {
      "needs_background": "light"
     },
     "output_type": "display_data"
    },
    {
     "name": "stdout",
     "output_type": "stream",
     "text": [
      "Series([], Name: JUDGE, dtype: object)\n",
      "===============================================================\n",
      "\n",
      "TAT_2AG_3EXPOSURE\n",
      "upper 173\n",
      "Counter({'양품': 144, '명점': 29})\n",
      "---------------------------------------------------------------\n",
      "lower 0\n",
      "Counter()\n",
      "---------------------------------------------------------------\n",
      "양품 median: 152.0\n",
      "불량 median: 152.0\n"
     ]
    },
    {
     "data": {
      "image/png": "[encoded data removed]",
      "text/plain": [
       "<Figure size 432x288 with 1 Axes>"
      ]
     },
     "metadata": {
      "needs_background": "light"
     },
     "output_type": "display_data"
    },
    {
     "data": {
      "image/png": "[encoded data removed]",
      "text/plain": [
       "<Figure size 432x288 with 1 Axes>"
      ]
     },
     "metadata": {
      "needs_background": "light"
     },
     "output_type": "display_data"
    },
    {
     "data": {
      "image/png": "[encoded data removed]",
      "text/plain": [
       "<Figure size 432x288 with 1 Axes>"
      ]
     },
     "metadata": {
      "needs_background": "light"
     },
     "output_type": "display_data"
    },
    {
     "name": "stdout",
     "output_type": "stream",
     "text": [
      "Series([], Name: JUDGE, dtype: object)\n",
      "===============================================================\n",
      "\n",
      "TAT_3BUS_1DEVELOP\n",
      "upper 0\n",
      "Counter()\n",
      "---------------------------------------------------------------\n",
      "lower 1\n",
      "Counter({'명점': 1})\n",
      "---------------------------------------------------------------\n",
      "양품 median: 372.0\n",
      "불량 median: 368.0\n"
     ]
    },
    {
     "data": {
      "image/png": "[encoded data removed]",
      "text/plain": [
       "<Figure size 432x288 with 1 Axes>"
      ]
     },
     "metadata": {
      "needs_background": "light"
     },
     "output_type": "display_data"
    },
    {
     "data": {
      "image/png": "[encoded data removed]",
      "text/plain": [
       "<Figure size 432x288 with 1 Axes>"
      ]
     },
     "metadata": {
      "needs_background": "light"
     },
     "output_type": "display_data"
    },
    {
     "data": {
      "image/png": "[encoded data removed]",
      "text/plain": [
       "<Figure size 432x288 with 1 Axes>"
      ]
     },
     "metadata": {
      "needs_background": "light"
     },
     "output_type": "display_data"
    },
    {
     "name": "stdout",
     "output_type": "stream",
     "text": [
      "Series([], Name: JUDGE, dtype: object)\n",
      "===============================================================\n",
      "\n",
      "TAT_3BUS_2FIRE\n",
      "upper 496\n",
      "Counter({'양품': 457, '명점': 39})\n",
      "---------------------------------------------------------------\n",
      "lower 1\n",
      "Counter({'양품': 1})\n",
      "---------------------------------------------------------------\n",
      "양품 median: 6900.0\n",
      "불량 median: 6927.0\n"
     ]
    },
    {
     "data": {
      "image/png": "[encoded data removed]",
      "text/plain": [
       "<Figure size 432x288 with 1 Axes>"
      ]
     },
     "metadata": {
      "needs_background": "light"
     },
     "output_type": "display_data"
    },
    {
     "data": {
      "image/png": "[encoded data removed]",
      "text/plain": [
       "<Figure size 432x288 with 1 Axes>"
      ]
     },
     "metadata": {
      "needs_background": "light"
     },
     "output_type": "display_data"
    },
    {
     "data": {
      "image/png": "[encoded data removed]",
      "text/plain": [
       "<Figure size 432x288 with 1 Axes>"
      ]
     },
     "metadata": {
      "needs_background": "light"
     },
     "output_type": "display_data"
    },
    {
     "name": "stdout",
     "output_type": "stream",
     "text": [
      "Series([], Name: JUDGE, dtype: object)\n",
      "===============================================================\n",
      "\n",
      "TAT_4DIELEC_FIRE\n",
      "upper 105\n",
      "Counter({'명점': 90, '양품': 15})\n",
      "---------------------------------------------------------------\n",
      "lower 0\n",
      "Counter()\n",
      "---------------------------------------------------------------\n",
      "양품 median: 6480.0\n",
      "불량 median: 6513.0\n"
     ]
    },
    {
     "data": {
      "image/png": "[encoded data removed]",
      "text/plain": [
       "<Figure size 432x288 with 1 Axes>"
      ]
     },
     "metadata": {
      "needs_background": "light"
     },
     "output_type": "display_data"
    },
    {
     "data": {
      "image/png": "[encoded data removed]",
      "text/plain": [
       "<Figure size 432x288 with 1 Axes>"
      ]
     },
     "metadata": {
      "needs_background": "light"
     },
     "output_type": "display_data"
    },
    {
     "data": {
      "image/png": "[encoded data removed]",
      "text/plain": [
       "<Figure size 432x288 with 1 Axes>"
      ]
     },
     "metadata": {
      "needs_background": "light"
     },
     "output_type": "display_data"
    },
    {
     "name": "stdout",
     "output_type": "stream",
     "text": [
      "Series([], Name: JUDGE, dtype: object)\n",
      "===============================================================\n",
      "\n",
      "TAT_5MGO\n",
      "upper 12\n",
      "Counter({'양품': 12})\n",
      "---------------------------------------------------------------\n",
      "lower 61\n",
      "Counter({'양품': 57, '명점': 4})\n",
      "---------------------------------------------------------------\n",
      "양품 median: 530.0\n",
      "불량 median: 530.0\n"
     ]
    },
    {
     "data": {
      "image/png": "[encoded data removed]",
      "text/plain": [
       "<Figure size 432x288 with 1 Axes>"
      ]
     },
     "metadata": {
      "needs_background": "light"
     },
     "output_type": "display_data"
    },
    {
     "data": {
      "image/png": "[encoded data removed]",
      "text/plain": [
       "<Figure size 432x288 with 1 Axes>"
      ]
     },
     "metadata": {
      "needs_background": "light"
     },
     "output_type": "display_data"
    },
    {
     "data": {
      "image/png": "[encoded data removed]",
      "text/plain": [
       "<Figure size 432x288 with 1 Axes>"
      ]
     },
     "metadata": {
      "needs_background": "light"
     },
     "output_type": "display_data"
    },
    {
     "name": "stdout",
     "output_type": "stream",
     "text": [
      "Series([], Name: JUDGE, dtype: object)\n",
      "===============================================================\n",
      "\n",
      "TAT_6PHOS_1R_1DISPENSER\n",
      "upper 534\n",
      "Counter({'양품': 461, '명점': 73})\n",
      "---------------------------------------------------------------\n",
      "lower 13\n",
      "Counter({'양품': 13})\n",
      "---------------------------------------------------------------\n",
      "양품 median: 80.0\n",
      "불량 median: 80.0\n"
     ]
    },
    {
     "data": {
      "image/png": "[encoded data removed]",
      "text/plain": [
       "<Figure size 432x288 with 1 Axes>"
      ]
     },
     "metadata": {
      "needs_background": "light"
     },
     "output_type": "display_data"
    },
    {
     "data": {
      "image/png": "[encoded data removed]",
      "text/plain": [
       "<Figure size 432x288 with 1 Axes>"
      ]
     },
     "metadata": {
      "needs_background": "light"
     },
     "output_type": "display_data"
    },
    {
     "data": {
      "image/png": "[encoded data removed]",
      "text/plain": [
       "<Figure size 432x288 with 1 Axes>"
      ]
     },
     "metadata": {
      "needs_background": "light"
     },
     "output_type": "display_data"
    },
    {
     "name": "stdout",
     "output_type": "stream",
     "text": [
      "Series([], Name: JUDGE, dtype: object)\n",
      "===============================================================\n",
      "\n",
      "TAT_6PHOS_1R_2DRY\n",
      "upper 289\n",
      "Counter({'양품': 254, '명점': 35})\n",
      "---------------------------------------------------------------\n",
      "lower 0\n",
      "Counter()\n",
      "---------------------------------------------------------------\n",
      "양품 median: 390.0\n",
      "불량 median: 393.0\n"
     ]
    },
    {
     "data": {
      "image/png": "[encoded data removed]",
      "text/plain": [
       "<Figure size 432x288 with 1 Axes>"
      ]
     },
     "metadata": {
      "needs_background": "light"
     },
     "output_type": "display_data"
    },
    {
     "data": {
      "image/png": "[encoded data removed]",
      "text/plain": [
       "<Figure size 432x288 with 1 Axes>"
      ]
     },
     "metadata": {
      "needs_background": "light"
     },
     "output_type": "display_data"
    },
    {
     "data": {
      "image/png": "[encoded data removed]",
      "text/plain": [
       "<Figure size 432x288 with 1 Axes>"
      ]
     },
     "metadata": {
      "needs_background": "light"
     },
     "output_type": "display_data"
    },
    {
     "name": "stdout",
     "output_type": "stream",
     "text": [
      "Series([], Name: JUDGE, dtype: object)\n",
      "===============================================================\n",
      "\n",
      "TAT_6PHOS_2G_1DISPENSER\n",
      "upper 565\n",
      "Counter({'양품': 494, '명점': 71})\n",
      "---------------------------------------------------------------\n",
      "lower 6\n",
      "Counter({'양품': 5, '명점': 1})\n",
      "---------------------------------------------------------------\n",
      "양품 median: 78.0\n",
      "불량 median: 78.0\n"
     ]
    },
    {
     "data": {
      "image/png": "[encoded data removed]",
      "text/plain": [
       "<Figure size 432x288 with 1 Axes>"
      ]
     },
     "metadata": {
      "needs_background": "light"
     },
     "output_type": "display_data"
    },
    {
     "data": {
      "image/png": "[encoded data removed]",
      "text/plain": [
       "<Figure size 432x288 with 1 Axes>"
      ]
     },
     "metadata": {
      "needs_background": "light"
     },
     "output_type": "display_data"
    },
    {
     "data": {
      "image/png": "[encoded data removed]",
      "text/plain": [
       "<Figure size 432x288 with 1 Axes>"
      ]
     },
     "metadata": {
      "needs_background": "light"
     },
     "output_type": "display_data"
    },
    {
     "name": "stdout",
     "output_type": "stream",
     "text": [
      "Series([], Name: JUDGE, dtype: object)\n",
      "===============================================================\n",
      "\n",
      "TAT_6PHOS_2G_2DRY\n",
      "upper 0\n",
      "Counter()\n",
      "---------------------------------------------------------------\n",
      "lower 290\n",
      "Counter({'양품': 252, '명점': 38})\n",
      "---------------------------------------------------------------\n",
      "양품 median: 396.0\n",
      "불량 median: 396.0\n"
     ]
    },
    {
     "data": {
      "image/png": "[encoded data removed]",
      "text/plain": [
       "<Figure size 432x288 with 1 Axes>"
      ]
     },
     "metadata": {
      "needs_background": "light"
     },
     "output_type": "display_data"
    },
    {
     "data": {
      "image/png": "[encoded data removed]",
      "text/plain": [
       "<Figure size 432x288 with 1 Axes>"
      ]
     },
     "metadata": {
      "needs_background": "light"
     },
     "output_type": "display_data"
    },
    {
     "data": {
      "image/png": "[encoded data removed]",
      "text/plain": [
       "<Figure size 432x288 with 1 Axes>"
      ]
     },
     "metadata": {
      "needs_background": "light"
     },
     "output_type": "display_data"
    },
    {
     "name": "stdout",
     "output_type": "stream",
     "text": [
      "Series([], Name: JUDGE, dtype: object)\n",
      "===============================================================\n",
      "\n",
      "TAT_6PHOS_3B_1DISPENSER\n",
      "upper 392\n",
      "Counter({'양품': 334, '명점': 58})\n",
      "---------------------------------------------------------------\n",
      "lower 452\n",
      "Counter({'양품': 327, '명점': 125})\n",
      "---------------------------------------------------------------\n",
      "양품 median: 84.0\n",
      "불량 median: 84.0\n"
     ]
    },
    {
     "data": {
      "image/png": "[encoded data removed]",
      "text/plain": [
       "<Figure size 432x288 with 1 Axes>"
      ]
     },
     "metadata": {
      "needs_background": "light"
     },
     "output_type": "display_data"
    },
    {
     "data": {
      "image/png": "[encoded data removed]",
      "text/plain": [
       "<Figure size 432x288 with 1 Axes>"
      ]
     },
     "metadata": {
      "needs_background": "light"
     },
     "output_type": "display_data"
    },
    {
     "data": {
      "image/png": "[encoded data removed]",
      "text/plain": [
       "<Figure size 432x288 with 1 Axes>"
      ]
     },
     "metadata": {
      "needs_background": "light"
     },
     "output_type": "display_data"
    },
    {
     "name": "stdout",
     "output_type": "stream",
     "text": [
      "Series([], Name: JUDGE, dtype: object)\n",
      "===============================================================\n",
      "\n",
      "TAT_6PHOS_4FIRE\n",
      "upper 170\n",
      "Counter({'양품': 147, '명점': 23})\n",
      "---------------------------------------------------------------\n",
      "lower 0\n",
      "Counter()\n",
      "---------------------------------------------------------------\n",
      "양품 median: 7110.0\n",
      "불량 median: 6990.0\n"
     ]
    },
    {
     "data": {
      "image/png": "[encoded data removed]",
      "text/plain": [
       "<Figure size 432x288 with 1 Axes>"
      ]
     },
     "metadata": {
      "needs_background": "light"
     },
     "output_type": "display_data"
    },
    {
     "data": {
      "image/png": "[encoded data removed]",
      "text/plain": [
       "<Figure size 432x288 with 1 Axes>"
      ]
     },
     "metadata": {
      "needs_background": "light"
     },
     "output_type": "display_data"
    },
    {
     "data": {
      "image/png": "[encoded data removed]",
      "text/plain": [
       "<Figure size 432x288 with 1 Axes>"
      ]
     },
     "metadata": {
      "needs_background": "light"
     },
     "output_type": "display_data"
    },
    {
     "name": "stdout",
     "output_type": "stream",
     "text": [
      "Series([], Name: JUDGE, dtype: object)\n",
      "===============================================================\n",
      "\n",
      "TAT_7PASTE\n",
      "upper 0\n",
      "Counter()\n",
      "---------------------------------------------------------------\n",
      "lower 0\n",
      "Counter()\n",
      "---------------------------------------------------------------\n",
      "양품 median: 0.0\n",
      "불량 median: 0.0\n"
     ]
    },
    {
     "data": {
      "image/png": "[encoded data removed]",
      "text/plain": [
       "<Figure size 432x288 with 1 Axes>"
      ]
     },
     "metadata": {
      "needs_background": "light"
     },
     "output_type": "display_data"
    },
    {
     "data": {
      "image/png": "[encoded data removed]",
      "text/plain": [
       "<Figure size 432x288 with 1 Axes>"
      ]
     },
     "metadata": {
      "needs_background": "light"
     },
     "output_type": "display_data"
    },
    {
     "data": {
      "image/png": "[encoded data removed]",
      "text/plain": [
       "<Figure size 432x288 with 1 Axes>"
      ]
     },
     "metadata": {
      "needs_background": "light"
     },
     "output_type": "display_data"
    },
    {
     "name": "stdout",
     "output_type": "stream",
     "text": [
      "Series([], Name: JUDGE, dtype: object)\n",
      "===============================================================\n",
      "\n",
      "TAT_8AGING\n",
      "upper 32\n",
      "Counter({'양품': 20, '명점': 12})\n",
      "---------------------------------------------------------------\n",
      "lower 0\n",
      "Counter()\n",
      "---------------------------------------------------------------\n",
      "양품 median: 10074.0\n",
      "불량 median: 10074.0\n"
     ]
    },
    {
     "data": {
      "image/png": "[encoded data removed]",
      "text/plain": [
       "<Figure size 432x288 with 1 Axes>"
      ]
     },
     "metadata": {
      "needs_background": "light"
     },
     "output_type": "display_data"
    },
    {
     "data": {
      "image/png": "[encoded data removed]",
      "text/plain": [
       "<Figure size 432x288 with 1 Axes>"
      ]
     },
     "metadata": {
      "needs_background": "light"
     },
     "output_type": "display_data"
    },
    {
     "data": {
      "image/png": "[encoded data removed]",
      "text/plain": [
       "<Figure size 432x288 with 1 Axes>"
      ]
     },
     "metadata": {
      "needs_background": "light"
     },
     "output_type": "display_data"
    },
    {
     "name": "stdout",
     "output_type": "stream",
     "text": [
      "Series([], Name: JUDGE, dtype: object)\n",
      "===============================================================\n",
      "\n"
     ]
    }
   ],
   "source": [
    "list_temp=['TAT_1BLACK_1PRINT', 'TAT_1BLACK_2RTD', 'TAT_2AG_1PRINT',\n",
    "       'TAT_2AG_2RTD', 'TAT_2AG_3EXPOSURE', 'TAT_3BUS_1DEVELOP',\n",
    "       'TAT_3BUS_2FIRE', 'TAT_4DIELEC_FIRE', 'TAT_5MGO',\n",
    "       'TAT_6PHOS_1R_1DISPENSER', 'TAT_6PHOS_1R_2DRY',\n",
    "       'TAT_6PHOS_2G_1DISPENSER', 'TAT_6PHOS_2G_2DRY',\n",
    "       'TAT_6PHOS_3B_1DISPENSER', 'TAT_6PHOS_4FIRE', 'TAT_7PASTE',\n",
    "       'TAT_8AGING']\n",
    "\n",
    "def count_outlier(val, q25, q75):\n",
    "    print('upper',final[final[val]>(q75+(1.5*(q75-q25)))][val].count())\n",
    "    print(Counter(final[final[val]>(q75+(1.5*(q75-q25)))]['JUDGE']))\n",
    "    print('---------------------------------------------------------------')\n",
    "    print('lower',final[final[val]<(q25-(1.5*(q75-q25)))][val].count())\n",
    "    print(Counter(final[final[val]<(q25-(1.5*(q75-q25)))]['JUDGE']))\n",
    "    print('---------------------------------------------------------------')\n",
    "\n",
    "for c in list_temp:\n",
    "    if c == 'JUDGE':\n",
    "        continue\n",
    "    print(c)\n",
    "    q75, q25 =  np.percentile(final[c],[75,25])\n",
    "    count_outlier(c, q25, q75)\n",
    "    final.boxplot(column = c)\n",
    "    final.boxplot(column = c, by = [\"JUDGE\"])\n",
    "    print('양품 median:', final[final['JUDGE'] == '양품'][c].median())\n",
    "    print('불량 median:', final[final['JUDGE'] == '명점'][c].median())\n",
    "    plt.show()\n",
    "    fun_plot_hist(final, 'JUDGE', c)\n",
    "    plt.show()\n",
    "    print(final[final[c].isnull() == True]['JUDGE'])\n",
    "    print(\"===============================================================\\n\")"
   ]
  },
  {
   "cell_type": "code",
   "execution_count": 84,
   "metadata": {},
   "outputs": [],
   "source": [
    "final.to_csv(\"final_time.csv\", encoding=\"cp949\")"
   ]
  },
  {
   "cell_type": "code",
   "execution_count": null,
   "metadata": {},
   "outputs": [],
   "source": []
  },
  {
   "cell_type": "code",
   "execution_count": null,
   "metadata": {},
   "outputs": [],
   "source": []
  },
  {
   "cell_type": "code",
   "execution_count": null,
   "metadata": {},
   "outputs": [],
   "source": []
  },
  {
   "cell_type": "code",
   "execution_count": null,
   "metadata": {},
   "outputs": [],
   "source": []
  }
 ],
 "metadata": {
  "kernelspec": {
   "display_name": "Python 3",
   "language": "python",
   "name": "python3"
  },
  "language_info": {
   "codemirror_mode": {
    "name": "ipython",
    "version": 3
   },
   "file_extension": ".py",
   "mimetype": "text/x-python",
   "name": "python",
   "nbconvert_exporter": "python",
   "pygments_lexer": "ipython3",
   "version": "3.7.3"
  }
 },
 "nbformat": 4,
 "nbformat_minor": 2
}
