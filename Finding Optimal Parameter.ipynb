{
 "cells": [
  {
   "cell_type": "code",
   "execution_count": 1,
   "metadata": {},
   "outputs": [],
   "source": [
    "# 데이터 구성 : Series, DataFrame\n",
    "import pandas as pd\n",
    "# 행렬 연산\n",
    "import numpy as np\n",
    "\n",
    "# 데이터 시각화\n",
    "import matplotlib.pyplot as plt\n",
    "import matplotlib\n",
    "\n",
    "# Scaling\n",
    "from sklearn.preprocessing import StandardScaler\n",
    "\n",
    "# 데이터 분할\n",
    "from sklearn.model_selection import train_test_split\n",
    "\n",
    "# 로지스틱 회귀\n",
    "from statsmodels.api import Logit\n",
    "\n",
    "# 의사결정나무\n",
    "from sklearn.tree import DecisionTreeClassifier\n",
    "\n",
    "# 평가함수\n",
    "from sklearn.metrics import accuracy_score\n",
    "\n",
    "# confusion matrix\n",
    "from sklearn.metrics import confusion_matrix\n",
    "\n",
    "# column counter\n",
    "from collections import Counter\n",
    "\n",
    "import graphviz\n",
    "\n",
    "from sklearn.tree import export_graphviz\n",
    "from sklearn.model_selection import GridSearchCV\n",
    "import os"
   ]
  },
  {
   "cell_type": "code",
   "execution_count": 2,
   "metadata": {},
   "outputs": [],
   "source": [
    "matplotlib.rc(\"font\", family=\"NanumGothic\")\n",
    "plt.rcParams['axes.unicode_minus']=False\n",
    "os.environ['PATH']+=os.pathsep+\"~/anaconda3/lib/python3.7/site-packages\""
   ]
  },
  {
   "cell_type": "code",
   "execution_count": 3,
   "metadata": {},
   "outputs": [],
   "source": [
    "import warnings\n",
    "\n",
    "warnings.filterwarnings(\"ignore\")"
   ]
  },
  {
   "cell_type": "code",
   "execution_count": 7,
   "metadata": {},
   "outputs": [],
   "source": [
    "#==================================================================\n",
    "# fun_check_class_level(v_data, v_start=None, v_pattern=None)\n",
    "# 범주형 변수 수준 및 자료 수 확인\n",
    "# -.input:\n",
    "# v_data:input data, v_start:입력 문자로 시작하는 변수명 탐색, v_pattern:입력 문자를 포함하는 변수명 탐색\n",
    "# -call function:fun_select_cols\n",
    "# -.output:\n",
    "#\n",
    "#==================================================================\n",
    "def fun_check_class_level(v_data, v_start=None, v_pattern=None):\n",
    "\n",
    "    for v_col in list_cols:\n",
    "        print()    \n",
    "        print(\"변수: \", v_col, \"Level = \",Counter(v_data[v_col]))\n",
    "\n",
    "#=======================다===========================================\n",
    "# fun_plot_hist(v_data, yvar, xvar, alpha = 0.5)\n",
    "# Histogram, 범주형 변수의 수준(level)별 색깔 구분\n",
    "# -.input:\n",
    "# v_data:input data, yvar:목표변수(범주형), x:분석변수(연속형), alpha:transparency(투명도)\n",
    "# -.output:\n",
    "#\n",
    "#==================================================================\n",
    "def fun_plot_hist(v_data, yvar, xvar, alpha = 0.5):\n",
    "    levels = v_data[yvar].unique()\n",
    "    for level in levels:\n",
    "        plt.hist(v_data[v_data[yvar] == level][xvar], label = level, alpha = alpha)\n",
    "    plt.title(xvar)\n",
    "    plt.legend()\n",
    "\n",
    "#==================================================================\n",
    "# fun_stat_by_class(v_data, var_anal, var_class = \"JUDGE\")\n",
    "# 범주형 변수 수준별 분석 변수 통계량 생성\n",
    "# -.input:\n",
    "#   v_data:input data, var_class:범주형 변수, var_anal:분석 변수\n",
    "# -.output:\n",
    "#\n",
    "#==================================================================\n",
    "def fun_bstat_by_class(v_data, var_anal, var_class ):    \n",
    "    _tmp = v_data.groupby(var_class)[var_anal].describe().T\n",
    "    _tmp.reset_index(inplace = True)\n",
    "    return pd.pivot_table(data = _tmp, index = \"level_0\", columns = \"level_1\", values = list(np.unique(v_data[var_class])))\n",
    "\n",
    "#==================================================================\n",
    "# fun_anova(v_data, yvar, xvar)\n",
    "# 분산분석(ANOVA), stats.f_oneway() 활용\n",
    "# -.input:다\n",
    "# v_data:input data, yvar:목표변수(범주형), x:분석변수(연속형) -일반적인 명칭 구분과 상이함\n",
    "# -.output:\n",
    "# fv:F 통계량, pv:p-value(F)다\n",
    "#\n",
    "#==================================================================\n",
    "def fun_anova(v_data, yvar, xvar):\n",
    "    dict_data = dict()\n",
    "    y_level = v_data[yvar].unique()\n",
    "    for i in y_level:\n",
    "        dict_data[i] = v_data[v_data[yvar] == i][xvar]\n",
    "    fv, pv = stats.f_oneway(dict_data[y_level[0]], dict_data[y_level[1]])\n",
    "   \n",
    "    #print(\"분석 통계량 => \")\n",
    "    #print(\"statistic:(F) {0:.3f}, p-value: {1:.3f}\".format(fv, pv))\n",
    "    return fv, pv\n",
    "\n",
    "#==================================================================\n",
    "# fun_chi2(v_data, yvar, xvar, heatmap = True, print_crosstab = True)\n",
    "# 카이제곱 분석\n",
    "# -.input:다\n",
    "#   v_data:input data, yvar:Y축, 목표변수(범주형), xvar:X축, 분석변수(범주형),\n",
    "#   heatmap:heatmap 표시, print_crosstab:교차표(cross tabulate) 표시\n",
    "# -.output:\n",
    "#\n",
    "#==================================================================\n",
    "def fun_chi2(v_data, yvar, xvar, heatmap = True, print_crosstab = True):    \n",
    "    _tmp_cross = pd.crosstab(v_data[yvar], v_data[xvar])\n",
    "    chi2, p, dof, expt = stats.chi2_contingency(_tmp_cross)\n",
    "    print(\"카이제곱 통계량 =>\")\n",
    "    print(\"Chi2: {0:.3f}, p-value: {1:.3f}\".format(chi2, p))\n",
    "   \n",
    "    # heatmap\n",
    "    if heatmap:\n",
    "        cmap = sns.cubehelix_palette(as_cmap=True)\n",
    "        sns.heatmap(_tmp_cross, cmap = cmap, annot=True, fmt=\"d\")\n",
    "        plt.title(xvar)\n",
    "        plt.show()\n",
    "       \n",
    "    # print data\n",
    "    if print_crosstab:\n",
    "        print(\"교차표(빈도) =>\")        \n",
    "        print(_tmp_cross)\n",
    "        print()\n",
    "        print(\"교차표(확률) =>\")            \n",
    "        print(pd.crosstab(v_data[yvar], v_data[xvar], normalize = \"columns\"))\n",
    "    return chi2, p\n",
    "\n",
    "#==================================================================\n",
    "# fun_select_cols(v_data, pattern = None, start = None)\n",
    "# 변수명 선택 및 리스트 생성\n",
    "# -.input:\n",
    "# v_data:input data, start:입력 문자로 시작하는 변수명 탐색, pattern:입력 문자를 포함하는 변수명 탐색\n",
    "# -.output:\n",
    "#다\n",
    "#==================================================================\n",
    "def fun_select_cols(v_data, pattern = None, start = None):\n",
    "    cols = v_data.columns.tolist()\n",
    "    if pattern:\n",
    "        cols = [col for col in cols if col.find(pattern) > -1]\n",
    "    if start:\n",
    "        cols = [col for col in cols if col.startswith(start) > 0]\n",
    "    return cols\n",
    "\n"
   ]
  },
  {
   "cell_type": "code",
   "execution_count": 5,
   "metadata": {},
   "outputs": [
    {
     "name": "stdout",
     "output_type": "stream",
     "text": [
      "<class 'pandas.core.frame.DataFrame'>\n",
      "RangeIndex: 4000 entries, 0 to 3999\n",
      "Columns: 119 entries, JUDGE to MC_8AGING\n",
      "dtypes: float64(43), int64(56), object(20)\n",
      "memory usage: 3.6+ MB\n"
     ]
    }
   ],
   "source": [
    "data=pd.read_csv(\"data/sh_process_n_time.csv\", encoding=\"utf-8\")\n",
    "data.info()"
   ]
  },
  {
   "cell_type": "code",
   "execution_count": 6,
   "metadata": {},
   "outputs": [
    {
     "name": "stdout",
     "output_type": "stream",
     "text": [
      "JUDGE\n",
      "LOT_ID\n",
      "PANEL_ID\n",
      "BLACK_RTD_TEMP_GLASS_START\n",
      "BLACK_RTD_TEMP_GLASS_END\n",
      "BLACK_RTD_TEMP_WALL_START\n",
      "BLACK_RTD_TEMP_WALL_MAX\n",
      "BLACK_RTD_PRES_START\n",
      "BLACK_RTD_PRES_END\n",
      "BLACK_RTD_TEMP_GLASS_OUT\n",
      "BLACK_RTD_TEMP_HOOD_MAX\n",
      "AG_RTD_TEMP_GLASS_START\n",
      "AG_RTD_TEMP_GLASS_END\n",
      "AG_RTD_TEMP_WALL_START\n",
      "AG_RTD_TEMP_WALL_MAX\n",
      "AG_RTD_PRES_START\n",
      "AG_RTD_PRES_END\n",
      "AG_RTD_TEMP_GLASS_OUT\n",
      "AG_RTD_TEMP_HOOD_START\n",
      "AG_EXPOSURE_TEMP_MASK\n",
      "BUS_DEVELOP_TEMP_OVEN1\n",
      "BUS_DEVELOP_TEMP_OVEN2\n",
      "BUS_DEVELOP_TEMP_OVEN3\n",
      "BUS_DEVELOP_TEMP_TANK1\n",
      "BUS_DEVELOP_PH_TANK1.1\n",
      "BUS_DEVELOP_TEMP_TANK2\n",
      "BUS_DEVELOP_PH_TANK1.2\n",
      "BUS_DEVELOP_TEMP_TANK3\n",
      "BUS_DEVELOP_PRES2\n",
      "BUS_DEVELOP_PRES3\n",
      "BUS_FIRE_TEMP_HEAT1_CH01\n",
      "BUS_FIRE_TEMP_HEAT1_CH03\n",
      "BUS_FIRE_TEMP_HEAT2_CH01\n",
      "BUS_FIRE_TEMP_HEAT2_CH02\n",
      "BUS_FIRE_TEMP_HEAT2_CH03\n",
      "BUS_FIRE_TEMP_KEEP_CH02\n",
      "BUS_FIRE_TEMP_ANEAL_CH01\n",
      "BUS_FIRE_TEMP_ANEAL_CH02\n",
      "BUS_FIRE_TEMP_ANEAL_CH03\n",
      "DIELEC_FIRE_TEMP_HEAT1_CH01\n",
      "DIELEC_FIRE_TEMP_HEAT1_CH02\n",
      "DIELEC_FIRE_TEMP_HEAT1_CH03\n",
      "DIELEC_FIRE_TEMP_HEAT2_CH01\n",
      "DIELEC_FIRE_TEMP_HEAT2_CH02\n",
      "DIELEC_FIRE_TEMP_HEAT2_CH03\n",
      "DIELEC_FIRE_TEMP_KEEP_CH01\n",
      "DIELEC_FIRE_TEMP_KEEP_CH03\n",
      "DIELEC_FIRE_TEMP_ANEAL_CH01\n",
      "DIELEC_FIRE_TEMP_ANEAL_CH03\n",
      "DIELEC_FIRE_EXHAUST_HEAT1\n",
      "DIELEC_FIRE_EXHAUST_HEAT2\n",
      "DIELEC_FIRE_EXHAUST_HEAT4\n",
      "DIELEC_FIRE_EXHAUST_HEAT5\n",
      "DIELEC_FIRE_EXHAUST_HEAT6\n",
      "DIELEC_FIRE_EXHAUST_HEAT7\n",
      "PHOS_R_DRY_TEMP_GLASS_START\n",
      "PHOS_R_DRY_TEMP_GLASS_END\n",
      "PHOS_R_DRY_TEMP_WALL_START\n",
      "PHOS_R_DRY_TEMP_WALL_MAX\n",
      "PHOS_R_DRY_PRES_START\n",
      "PHOS_R_DRY_PRES_END\n",
      "PHOS_R_DRY_TEMP_GLASS_OUT\n",
      "PHOS_R_DRY_TEMP_HOOD_START\n",
      "PHOS_G_DRY_TEMP_GLASS_START\n",
      "PHOS_G_DRY_TEMP_GLASS_END\n",
      "PHOS_G_DRY_TEMP_WALL_START\n",
      "PHOS_G_DRY_PRES_START\n",
      "PHOS_G_DRY_PRES_END\n",
      "PHOS_G_DRY_TEMP_GLASS_OUT\n",
      "PHOS_G_DRY_TEMP_HOOD_MAX\n",
      "PHOS_FIRE_TEMP_HEAT_CH01\n",
      "PHOS_FIRE_TEMP_HEAT_CH02\n",
      "PHOS_FIRE_TEMP_HEAT_CH03\n",
      "PHOS_FIRE_TEMP_HEAT_CH04\n",
      "PHOS_FIRE_TEMP_KEEP_CH01\n",
      "PHOS_FIRE_TEMP_KEEP_CH02\n",
      "PHOS_FIRE_TEMP_KEEP_CH03\n",
      "PHOS_FIRE_TEMP_KEEP_CH04\n",
      "PHOS_FIRE_TEMP_ANEAL_CH01\n",
      "PHOS_FIRE_TEMP_ANEAL_CH03\n",
      "PHOS_FIRE_TEMP_ANEAL_CH04\n",
      "PHOS_FIRE_EXHAUST_HEAT1\n",
      "PHOS_FIRE_EXHAUST_HEAT2\n",
      "PHOS_FIRE_EXHAUST_HEAT3\n",
      "PHOS_FIRE_EXHAUST_HEAT4\n",
      "TAT_1BLACK_1PRINT\n",
      "TAT_1BLACK_2RTD\n",
      "TAT_2AG_1PRINT\n",
      "TAT_2AG_2RTD\n",
      "TAT_2AG_3EXPOSURE\n",
      "TAT_3BUS_1DEVELOP\n",
      "TAT_3BUS_2FIRE\n",
      "TAT_4DIELEC_FIRE\n",
      "TAT_5MGO\n",
      "TAT_6PHOS_1R_1DISPENSER\n",
      "TAT_6PHOS_1R_2DRY\n",
      "TAT_6PHOS_2G_1DISPENSER\n",
      "TAT_6PHOS_2G_2DRY\n",
      "TAT_6PHOS_3B_1DISPENSER\n",
      "TAT_6PHOS_4FIRE\n",
      "TAT_7PASTE\n",
      "TAT_8AGING\n",
      "MC_1BLACK_1PRINT\n",
      "MC_1BLACK_2RTD\n",
      "MC_2AG_1PRINT\n",
      "MC_2AG_2RTD\n",
      "MC_2AG_3EXPOSURE\n",
      "MC_3BUS_1DEVELOP\n",
      "MC_3BUS_2FIRE\n",
      "MC_4DIELEC_1FIRE\n",
      "MC_5MGO\n",
      "MC_6PHOS_1R_1DISPENSER\n",
      "MC_6PHOS_1R_2DRY\n",
      "MC_6PHOS_2G_1DISPENSER\n",
      "MC_6PHOS_2G_2DRY\n",
      "MC_6PHOS_3B_1DISPENSER\n",
      "MC_6PHOS_4FIRE\n",
      "MC_7PASTE\n",
      "MC_8AGING\n"
     ]
    }
   ],
   "source": [
    "for c in data.columns:\n",
    "    print(c)"
   ]
  },
  {
   "cell_type": "markdown",
   "metadata": {},
   "source": [
    "### 1) MACHINE데이터(호기 사용 내역)은 삭제한다."
   ]
  },
  {
   "cell_type": "code",
   "execution_count": 10,
   "metadata": {},
   "outputs": [
    {
     "name": "stdout",
     "output_type": "stream",
     "text": [
      "<class 'pandas.core.frame.DataFrame'>\n",
      "RangeIndex: 4000 entries, 0 to 3999\n",
      "Columns: 102 entries, JUDGE to TAT_8AGING\n",
      "dtypes: float64(43), int64(56), object(3)\n",
      "memory usage: 3.1+ MB\n"
     ]
    }
   ],
   "source": [
    "data.drop(fun_select_cols(data,start=\"MC_\"),axis=1,inplace=True)\n",
    "data.info()"
   ]
  },
  {
   "cell_type": "markdown",
   "metadata": {},
   "source": [
    "## 2) LOT_ID, PANEL_ID는 삭제한다."
   ]
  },
  {
   "cell_type": "code",
   "execution_count": 19,
   "metadata": {},
   "outputs": [
    {
     "name": "stdout",
     "output_type": "stream",
     "text": [
      "JUDGE\n",
      "BLACK_RTD_TEMP_GLASS_START\n",
      "BLACK_RTD_TEMP_GLASS_END\n",
      "BLACK_RTD_TEMP_WALL_START\n",
      "BLACK_RTD_TEMP_WALL_MAX\n",
      "BLACK_RTD_PRES_START\n",
      "BLACK_RTD_PRES_END\n",
      "BLACK_RTD_TEMP_GLASS_OUT\n",
      "BLACK_RTD_TEMP_HOOD_MAX\n",
      "AG_RTD_TEMP_GLASS_START\n",
      "AG_RTD_TEMP_GLASS_END\n",
      "AG_RTD_TEMP_WALL_START\n",
      "AG_RTD_TEMP_WALL_MAX\n",
      "AG_RTD_PRES_START\n",
      "AG_RTD_PRES_END\n",
      "AG_RTD_TEMP_GLASS_OUT\n",
      "AG_RTD_TEMP_HOOD_START\n",
      "AG_EXPOSURE_TEMP_MASK\n",
      "BUS_DEVELOP_TEMP_OVEN1\n",
      "BUS_DEVELOP_TEMP_OVEN2\n",
      "BUS_DEVELOP_TEMP_OVEN3\n",
      "BUS_DEVELOP_TEMP_TANK1\n",
      "BUS_DEVELOP_PH_TANK1.1\n",
      "BUS_DEVELOP_TEMP_TANK2\n",
      "BUS_DEVELOP_PH_TANK1.2\n",
      "BUS_DEVELOP_TEMP_TANK3\n",
      "BUS_DEVELOP_PRES2\n",
      "BUS_DEVELOP_PRES3\n",
      "BUS_FIRE_TEMP_HEAT1_CH01\n",
      "BUS_FIRE_TEMP_HEAT1_CH03\n",
      "BUS_FIRE_TEMP_HEAT2_CH01\n",
      "BUS_FIRE_TEMP_HEAT2_CH02\n",
      "BUS_FIRE_TEMP_HEAT2_CH03\n",
      "BUS_FIRE_TEMP_KEEP_CH02\n",
      "BUS_FIRE_TEMP_ANEAL_CH01\n",
      "BUS_FIRE_TEMP_ANEAL_CH02\n",
      "BUS_FIRE_TEMP_ANEAL_CH03\n",
      "DIELEC_FIRE_TEMP_HEAT1_CH01\n",
      "DIELEC_FIRE_TEMP_HEAT1_CH02\n",
      "DIELEC_FIRE_TEMP_HEAT1_CH03\n",
      "DIELEC_FIRE_TEMP_HEAT2_CH01\n",
      "DIELEC_FIRE_TEMP_HEAT2_CH02\n",
      "DIELEC_FIRE_TEMP_HEAT2_CH03\n",
      "DIELEC_FIRE_TEMP_KEEP_CH01\n",
      "DIELEC_FIRE_TEMP_KEEP_CH03\n",
      "DIELEC_FIRE_TEMP_ANEAL_CH01\n",
      "DIELEC_FIRE_TEMP_ANEAL_CH03\n",
      "DIELEC_FIRE_EXHAUST_HEAT1\n",
      "DIELEC_FIRE_EXHAUST_HEAT2\n",
      "DIELEC_FIRE_EXHAUST_HEAT4\n",
      "DIELEC_FIRE_EXHAUST_HEAT5\n",
      "DIELEC_FIRE_EXHAUST_HEAT6\n",
      "DIELEC_FIRE_EXHAUST_HEAT7\n",
      "PHOS_R_DRY_TEMP_GLASS_START\n",
      "PHOS_R_DRY_TEMP_GLASS_END\n",
      "PHOS_R_DRY_TEMP_WALL_START\n",
      "PHOS_R_DRY_TEMP_WALL_MAX\n",
      "PHOS_R_DRY_PRES_START\n",
      "PHOS_R_DRY_PRES_END\n",
      "PHOS_R_DRY_TEMP_GLASS_OUT\n",
      "PHOS_R_DRY_TEMP_HOOD_START\n",
      "PHOS_G_DRY_TEMP_GLASS_START\n",
      "PHOS_G_DRY_TEMP_GLASS_END\n",
      "PHOS_G_DRY_TEMP_WALL_START\n",
      "PHOS_G_DRY_PRES_START\n",
      "PHOS_G_DRY_PRES_END\n",
      "PHOS_G_DRY_TEMP_GLASS_OUT\n",
      "PHOS_G_DRY_TEMP_HOOD_MAX\n",
      "PHOS_FIRE_TEMP_HEAT_CH01\n",
      "PHOS_FIRE_TEMP_HEAT_CH02\n",
      "PHOS_FIRE_TEMP_HEAT_CH03\n",
      "PHOS_FIRE_TEMP_HEAT_CH04\n",
      "PHOS_FIRE_TEMP_KEEP_CH01\n",
      "PHOS_FIRE_TEMP_KEEP_CH02\n",
      "PHOS_FIRE_TEMP_KEEP_CH03\n",
      "PHOS_FIRE_TEMP_KEEP_CH04\n",
      "PHOS_FIRE_TEMP_ANEAL_CH01\n",
      "PHOS_FIRE_TEMP_ANEAL_CH03\n",
      "PHOS_FIRE_TEMP_ANEAL_CH04\n",
      "PHOS_FIRE_EXHAUST_HEAT1\n",
      "PHOS_FIRE_EXHAUST_HEAT2\n",
      "PHOS_FIRE_EXHAUST_HEAT3\n",
      "PHOS_FIRE_EXHAUST_HEAT4\n",
      "TAT_1BLACK_1PRINT\n",
      "TAT_1BLACK_2RTD\n",
      "TAT_2AG_1PRINT\n",
      "TAT_2AG_2RTD\n",
      "TAT_2AG_3EXPOSURE\n",
      "TAT_3BUS_1DEVELOP\n",
      "TAT_3BUS_2FIRE\n",
      "TAT_4DIELEC_FIRE\n",
      "TAT_5MGO\n",
      "TAT_6PHOS_1R_1DISPENSER\n",
      "TAT_6PHOS_1R_2DRY\n",
      "TAT_6PHOS_2G_1DISPENSER\n",
      "TAT_6PHOS_2G_2DRY\n",
      "TAT_6PHOS_3B_1DISPENSER\n",
      "TAT_6PHOS_4FIRE\n",
      "TAT_7PASTE\n",
      "TAT_8AGING\n"
     ]
    }
   ],
   "source": [
    "#data.drop(['LOT_ID','PANEL_ID'],axis=1, inplace=True)\n",
    "for c in data.columns:\n",
    "    print(c)"
   ]
  },
  {
   "cell_type": "code",
   "execution_count": 11,
   "metadata": {},
   "outputs": [],
   "source": [
    "optimal_variables=['TAT_2AG_2RTD',\n",
    " 'TAT_3BUS_1DEVELOP',\n",
    " 'TAT_6PHOS_2G_2DRY',\n",
    " 'TAT_6PHOS_4FIRE',\n",
    " 'TAT_4DIELEC_FIRE',\n",
    "'AG_RTD_TEMP_GLASS_END',\n",
    " 'AG_RTD_TEMP_WALL_START',\n",
    " 'AG_RTD_TEMP_WALL_MAX',\n",
    " 'AG_RTD_PRES_END',\n",
    " 'AG_RTD_TEMP_GLASS_OUT',\n",
    " 'BUS_DEVELOP_TEMP_TANK1',\n",
    " 'BUS_DEVELOP_TEMP_TANK2',\n",
    " 'BUS_DEVELOP_PH_TANK1.2',\n",
    " 'BUS_DEVELOP_PRES2',\n",
    " 'BUS_DEVELOP_PRES3',\n",
    " 'PHOS_G_DRY_TEMP_GLASS_START',\n",
    " 'PHOS_G_DRY_TEMP_GLASS_END',\n",
    " 'PHOS_G_DRY_TEMP_WALL_START',\n",
    " 'PHOS_G_DRY_PRES_START',\n",
    " 'PHOS_G_DRY_PRES_END',\n",
    " 'PHOS_FIRE_TEMP_HEAT_CH02',\n",
    " 'PHOS_FIRE_EXHAUST_HEAT2',\n",
    " 'PHOS_FIRE_EXHAUST_HEAT3',\n",
    " 'PHOS_FIRE_EXHAUST_HEAT4',\n",
    " 'DIELEC_FIRE_TEMP_KEEP_CH01',\n",
    " 'DIELEC_FIRE_TEMP_ANEAL_CH03',\n",
    " 'DIELEC_FIRE_EXHAUST_HEAT1',\n",
    " 'DIELEC_FIRE_EXHAUST_HEAT2',\n",
    " 'DIELEC_FIRE_EXHAUST_HEAT4',\n",
    " 'DIELEC_FIRE_EXHAUST_HEAT5',\n",
    " 'DIELEC_FIRE_EXHAUST_HEAT6',\n",
    " 'DIELEC_FIRE_EXHAUST_HEAT7']"
   ]
  },
  {
   "cell_type": "code",
   "execution_count": 12,
   "metadata": {},
   "outputs": [
    {
     "data": {
      "text/plain": [
       "32"
      ]
     },
     "execution_count": 12,
     "metadata": {},
     "output_type": "execute_result"
    }
   ],
   "source": [
    "len(optimal_variables)"
   ]
  },
  {
   "cell_type": "code",
   "execution_count": 21,
   "metadata": {},
   "outputs": [],
   "source": [
    "df_y=data['JUDGE']\n",
    "df_x=data.drop(\"JUDGE\", axis=1)"
   ]
  },
  {
   "cell_type": "code",
   "execution_count": 22,
   "metadata": {},
   "outputs": [
    {
     "name": "stdout",
     "output_type": "stream",
     "text": [
      "train size is (2800, 99)\n",
      "test size is (1200, 99)\n"
     ]
    }
   ],
   "source": [
    "df_train_x, df_test_x, df_train_y, df_test_y = train_test_split(df_x, df_y, test_size=0.3, random_state=1234)\n",
    "print(\"train size is {}\".format(df_train_x.shape))\n",
    "print(\"test size is {}\".format(df_test_x.shape))\n"
   ]
  },
  {
   "cell_type": "code",
   "execution_count": 23,
   "metadata": {},
   "outputs": [
    {
     "name": "stdout",
     "output_type": "stream",
     "text": [
      "Accuracy on training set : 0.983\n",
      "Accuracy on test set : 0.907\n"
     ]
    }
   ],
   "source": [
    "tree_uncustomized =  DecisionTreeClassifier(random_state=1234)\n",
    "tree_uncustomized.fit(df_train_x,df_train_y)\n",
    "\n",
    "print(\"Accuracy on training set : {:.3f}\".format(tree_uncustomized.score(df_train_x, df_train_y)))\n",
    "print(\"Accuracy on test set : {:.3f}\".format(tree_uncustomized.score(df_test_x, df_test_y)))"
   ]
  },
  {
   "cell_type": "markdown",
   "metadata": {},
   "source": [
    "##### Depth 정하기"
   ]
  },
  {
   "cell_type": "code",
   "execution_count": 24,
   "metadata": {},
   "outputs": [
    {
     "data": {
      "text/html": [
       "<div>\n",
       "<style scoped>\n",
       "    .dataframe tbody tr th:only-of-type {\n",
       "        vertical-align: middle;\n",
       "    }\n",
       "\n",
       "    .dataframe tbody tr th {\n",
       "        vertical-align: top;\n",
       "    }\n",
       "\n",
       "    .dataframe thead th {\n",
       "        text-align: right;\n",
       "    }\n",
       "</style>\n",
       "<table border=\"1\" class=\"dataframe\">\n",
       "  <thead>\n",
       "    <tr style=\"text-align: right;\">\n",
       "      <th></th>\n",
       "      <th>Depth</th>\n",
       "      <th>TrainAccuracy</th>\n",
       "      <th>TestAccuracy</th>\n",
       "    </tr>\n",
       "  </thead>\n",
       "  <tbody>\n",
       "    <tr>\n",
       "      <th>0</th>\n",
       "      <td>1</td>\n",
       "      <td>0.924</td>\n",
       "      <td>0.928</td>\n",
       "    </tr>\n",
       "    <tr>\n",
       "      <th>1</th>\n",
       "      <td>2</td>\n",
       "      <td>0.931</td>\n",
       "      <td>0.926</td>\n",
       "    </tr>\n",
       "    <tr>\n",
       "      <th>2</th>\n",
       "      <td>3</td>\n",
       "      <td>0.937</td>\n",
       "      <td>0.934</td>\n",
       "    </tr>\n",
       "    <tr>\n",
       "      <th>3</th>\n",
       "      <td>4</td>\n",
       "      <td>0.944</td>\n",
       "      <td>0.940</td>\n",
       "    </tr>\n",
       "    <tr>\n",
       "      <th>4</th>\n",
       "      <td>5</td>\n",
       "      <td>0.948</td>\n",
       "      <td>0.943</td>\n",
       "    </tr>\n",
       "    <tr>\n",
       "      <th>5</th>\n",
       "      <td>6</td>\n",
       "      <td>0.949</td>\n",
       "      <td>0.943</td>\n",
       "    </tr>\n",
       "    <tr>\n",
       "      <th>6</th>\n",
       "      <td>7</td>\n",
       "      <td>0.952</td>\n",
       "      <td>0.943</td>\n",
       "    </tr>\n",
       "    <tr>\n",
       "      <th>7</th>\n",
       "      <td>8</td>\n",
       "      <td>0.952</td>\n",
       "      <td>0.943</td>\n",
       "    </tr>\n",
       "    <tr>\n",
       "      <th>8</th>\n",
       "      <td>9</td>\n",
       "      <td>0.953</td>\n",
       "      <td>0.943</td>\n",
       "    </tr>\n",
       "    <tr>\n",
       "      <th>9</th>\n",
       "      <td>10</td>\n",
       "      <td>0.955</td>\n",
       "      <td>0.942</td>\n",
       "    </tr>\n",
       "  </tbody>\n",
       "</table>\n",
       "</div>"
      ],
      "text/plain": [
       "   Depth  TrainAccuracy  TestAccuracy\n",
       "0      1          0.924         0.928\n",
       "1      2          0.931         0.926\n",
       "2      3          0.937         0.934\n",
       "3      4          0.944         0.940\n",
       "4      5          0.948         0.943\n",
       "5      6          0.949         0.943\n",
       "6      7          0.952         0.943\n",
       "7      8          0.952         0.943\n",
       "8      9          0.953         0.943\n",
       "9     10          0.955         0.942"
      ]
     },
     "execution_count": 24,
     "metadata": {},
     "output_type": "execute_result"
    }
   ],
   "source": [
    "train_accuracy =[]; test_accuracy=[]\n",
    "\n",
    "para_depth = [depth for depth in range(1,11)]\n",
    "\n",
    "for v_max_depth in para_depth:\n",
    "    tree=DecisionTreeClassifier(max_depth=v_max_depth, random_state=1234)\n",
    "    tree.fit(df_train_x, df_train_y)\n",
    "    train_accuracy.append(tree.score(df_train_x, df_train_y))\n",
    "    test_accuracy.append(tree.score(df_test_x, df_test_y))\n",
    "    \n",
    "df_accuracy_depth = pd.DataFrame()\n",
    "df_accuracy_depth['Depth']=para_depth\n",
    "df_accuracy_depth['TrainAccuracy']=train_accuracy\n",
    "df_accuracy_depth['TestAccuracy']=test_accuracy\n",
    "\n",
    "df_accuracy_depth.round(3)"
   ]
  },
  {
   "cell_type": "code",
   "execution_count": 25,
   "metadata": {},
   "outputs": [
    {
     "data": {
      "text/plain": [
       "<matplotlib.legend.Legend at 0x7f8826719358>"
      ]
     },
     "execution_count": 25,
     "metadata": {},
     "output_type": "execute_result"
    },
    {
     "data": {
      "image/png": "[encoded data removed]",
      "text/plain": [
       "<Figure size 432x288 with 1 Axes>"
      ]
     },
     "metadata": {
      "needs_background": "light"
     },
     "output_type": "display_data"
    }
   ],
   "source": [
    "plt.plot(para_depth, train_accuracy, linestyle=\"-\", label=\"Train Accuracy\")\n",
    "plt.plot(para_depth, test_accuracy, linestyle=\"--\", label=\"Test Accuracy\")\n",
    "plt.legend()"
   ]
  },
  {
   "cell_type": "markdown",
   "metadata": {},
   "source": [
    "### Depth =5"
   ]
  },
  {
   "cell_type": "markdown",
   "metadata": {},
   "source": [
    "##### min_samples_split 정하기"
   ]
  },
  {
   "cell_type": "code",
   "execution_count": 29,
   "metadata": {},
   "outputs": [
    {
     "data": {
      "text/html": [
       "<div>\n",
       "<style scoped>\n",
       "    .dataframe tbody tr th:only-of-type {\n",
       "        vertical-align: middle;\n",
       "    }\n",
       "\n",
       "    .dataframe tbody tr th {\n",
       "        vertical-align: top;\n",
       "    }\n",
       "\n",
       "    .dataframe thead th {\n",
       "        text-align: right;\n",
       "    }\n",
       "</style>\n",
       "<table border=\"1\" class=\"dataframe\">\n",
       "  <thead>\n",
       "    <tr style=\"text-align: right;\">\n",
       "      <th></th>\n",
       "      <th>Split</th>\n",
       "      <th>TrainAccuracy</th>\n",
       "      <th>TestAccuracy</th>\n",
       "      <th>SubAccuracy</th>\n",
       "    </tr>\n",
       "  </thead>\n",
       "  <tbody>\n",
       "    <tr>\n",
       "      <th>0</th>\n",
       "      <td>10</td>\n",
       "      <td>0.948</td>\n",
       "      <td>0.943</td>\n",
       "      <td>0.005</td>\n",
       "    </tr>\n",
       "    <tr>\n",
       "      <th>1</th>\n",
       "      <td>20</td>\n",
       "      <td>0.946</td>\n",
       "      <td>0.939</td>\n",
       "      <td>0.007</td>\n",
       "    </tr>\n",
       "    <tr>\n",
       "      <th>2</th>\n",
       "      <td>30</td>\n",
       "      <td>0.942</td>\n",
       "      <td>0.933</td>\n",
       "      <td>0.009</td>\n",
       "    </tr>\n",
       "    <tr>\n",
       "      <th>3</th>\n",
       "      <td>40</td>\n",
       "      <td>0.938</td>\n",
       "      <td>0.931</td>\n",
       "      <td>0.007</td>\n",
       "    </tr>\n",
       "    <tr>\n",
       "      <th>4</th>\n",
       "      <td>50</td>\n",
       "      <td>0.938</td>\n",
       "      <td>0.931</td>\n",
       "      <td>0.007</td>\n",
       "    </tr>\n",
       "    <tr>\n",
       "      <th>5</th>\n",
       "      <td>60</td>\n",
       "      <td>0.938</td>\n",
       "      <td>0.931</td>\n",
       "      <td>0.007</td>\n",
       "    </tr>\n",
       "    <tr>\n",
       "      <th>6</th>\n",
       "      <td>70</td>\n",
       "      <td>0.938</td>\n",
       "      <td>0.931</td>\n",
       "      <td>0.007</td>\n",
       "    </tr>\n",
       "    <tr>\n",
       "      <th>7</th>\n",
       "      <td>80</td>\n",
       "      <td>0.938</td>\n",
       "      <td>0.931</td>\n",
       "      <td>0.007</td>\n",
       "    </tr>\n",
       "    <tr>\n",
       "      <th>8</th>\n",
       "      <td>90</td>\n",
       "      <td>0.938</td>\n",
       "      <td>0.931</td>\n",
       "      <td>0.007</td>\n",
       "    </tr>\n",
       "    <tr>\n",
       "      <th>9</th>\n",
       "      <td>100</td>\n",
       "      <td>0.938</td>\n",
       "      <td>0.931</td>\n",
       "      <td>0.007</td>\n",
       "    </tr>\n",
       "  </tbody>\n",
       "</table>\n",
       "</div>"
      ],
      "text/plain": [
       "   Split  TrainAccuracy  TestAccuracy  SubAccuracy\n",
       "0     10          0.948         0.943        0.005\n",
       "1     20          0.946         0.939        0.007\n",
       "2     30          0.942         0.933        0.009\n",
       "3     40          0.938         0.931        0.007\n",
       "4     50          0.938         0.931        0.007\n",
       "5     60          0.938         0.931        0.007\n",
       "6     70          0.938         0.931        0.007\n",
       "7     80          0.938         0.931        0.007\n",
       "8     90          0.938         0.931        0.007\n",
       "9    100          0.938         0.931        0.007"
      ]
     },
     "execution_count": 29,
     "metadata": {},
     "output_type": "execute_result"
    }
   ],
   "source": [
    "train_accuracy =[]; test_accuracy=[]; sub_accuracy=[]\n",
    "\n",
    "para_split = [n_split*10 for n_split in range(1,11)]\n",
    "\n",
    "for v_min_samples_split in para_split:\n",
    "    tree=DecisionTreeClassifier(max_depth=5,\n",
    "                                min_samples_split=v_min_samples_split,random_state=1234)\n",
    "    tree.fit(df_train_x, df_train_y)\n",
    "    train_accuracy.append(tree.score(df_train_x, df_train_y))\n",
    "    test_accuracy.append(tree.score(df_test_x, df_test_y))\n",
    "    sub_accuracy.append(abs(train_accuracy[-1]-test_accuracy[-1]))\n",
    "    \n",
    "df_accuracy_split = pd.DataFrame()\n",
    "df_accuracy_split['Split']=para_split\n",
    "df_accuracy_split['TrainAccuracy']=train_accuracy\n",
    "df_accuracy_split['TestAccuracy']=test_accuracy\n",
    "df_accuracy_split['SubAccuracy']=sub_accuracy\n",
    "df_accuracy_split.round(3)"
   ]
  },
  {
   "cell_type": "code",
   "execution_count": 30,
   "metadata": {},
   "outputs": [
    {
     "data": {
      "text/plain": [
       "<matplotlib.legend.Legend at 0x7f88268cffd0>"
      ]
     },
     "execution_count": 30,
     "metadata": {},
     "output_type": "execute_result"
    },
    {
     "data": {
      "image/png": "[encoded data removed]",
      "text/plain": [
       "<Figure size 432x288 with 1 Axes>"
      ]
     },
     "metadata": {
      "needs_background": "light"
     },
     "output_type": "display_data"
    }
   ],
   "source": [
    "plt.plot(para_split, train_accuracy, linestyle=\"-\", label=\"Train Accuracy\")\n",
    "plt.plot(para_split, test_accuracy, linestyle=\"--\", label=\"Test Accuracy\")\n",
    "plt.legend()"
   ]
  },
  {
   "cell_type": "markdown",
   "metadata": {},
   "source": [
    "### Split = 40"
   ]
  },
  {
   "cell_type": "markdown",
   "metadata": {},
   "source": [
    "##### min_samples_leaf정하기"
   ]
  },
  {
   "cell_type": "code",
   "execution_count": 32,
   "metadata": {},
   "outputs": [
    {
     "data": {
      "text/html": [
       "<div>\n",
       "<style scoped>\n",
       "    .dataframe tbody tr th:only-of-type {\n",
       "        vertical-align: middle;\n",
       "    }\n",
       "\n",
       "    .dataframe tbody tr th {\n",
       "        vertical-align: top;\n",
       "    }\n",
       "\n",
       "    .dataframe thead th {\n",
       "        text-align: right;\n",
       "    }\n",
       "</style>\n",
       "<table border=\"1\" class=\"dataframe\">\n",
       "  <thead>\n",
       "    <tr style=\"text-align: right;\">\n",
       "      <th></th>\n",
       "      <th>Leaf</th>\n",
       "      <th>TrainAccuracy</th>\n",
       "      <th>TestAccuracy</th>\n",
       "      <th>SubAccuracy</th>\n",
       "    </tr>\n",
       "  </thead>\n",
       "  <tbody>\n",
       "    <tr>\n",
       "      <th>0</th>\n",
       "      <td>2</td>\n",
       "      <td>0.938</td>\n",
       "      <td>0.931</td>\n",
       "      <td>0.007</td>\n",
       "    </tr>\n",
       "    <tr>\n",
       "      <th>1</th>\n",
       "      <td>4</td>\n",
       "      <td>0.936</td>\n",
       "      <td>0.929</td>\n",
       "      <td>0.007</td>\n",
       "    </tr>\n",
       "    <tr>\n",
       "      <th>2</th>\n",
       "      <td>6</td>\n",
       "      <td>0.935</td>\n",
       "      <td>0.930</td>\n",
       "      <td>0.005</td>\n",
       "    </tr>\n",
       "    <tr>\n",
       "      <th>3</th>\n",
       "      <td>8</td>\n",
       "      <td>0.935</td>\n",
       "      <td>0.930</td>\n",
       "      <td>0.005</td>\n",
       "    </tr>\n",
       "    <tr>\n",
       "      <th>4</th>\n",
       "      <td>10</td>\n",
       "      <td>0.935</td>\n",
       "      <td>0.930</td>\n",
       "      <td>0.005</td>\n",
       "    </tr>\n",
       "    <tr>\n",
       "      <th>5</th>\n",
       "      <td>12</td>\n",
       "      <td>0.934</td>\n",
       "      <td>0.926</td>\n",
       "      <td>0.008</td>\n",
       "    </tr>\n",
       "    <tr>\n",
       "      <th>6</th>\n",
       "      <td>14</td>\n",
       "      <td>0.933</td>\n",
       "      <td>0.923</td>\n",
       "      <td>0.010</td>\n",
       "    </tr>\n",
       "    <tr>\n",
       "      <th>7</th>\n",
       "      <td>16</td>\n",
       "      <td>0.932</td>\n",
       "      <td>0.924</td>\n",
       "      <td>0.008</td>\n",
       "    </tr>\n",
       "    <tr>\n",
       "      <th>8</th>\n",
       "      <td>18</td>\n",
       "      <td>0.932</td>\n",
       "      <td>0.924</td>\n",
       "      <td>0.008</td>\n",
       "    </tr>\n",
       "    <tr>\n",
       "      <th>9</th>\n",
       "      <td>20</td>\n",
       "      <td>0.932</td>\n",
       "      <td>0.924</td>\n",
       "      <td>0.008</td>\n",
       "    </tr>\n",
       "  </tbody>\n",
       "</table>\n",
       "</div>"
      ],
      "text/plain": [
       "   Leaf  TrainAccuracy  TestAccuracy  SubAccuracy\n",
       "0     2          0.938         0.931        0.007\n",
       "1     4          0.936         0.929        0.007\n",
       "2     6          0.935         0.930        0.005\n",
       "3     8          0.935         0.930        0.005\n",
       "4    10          0.935         0.930        0.005\n",
       "5    12          0.934         0.926        0.008\n",
       "6    14          0.933         0.923        0.010\n",
       "7    16          0.932         0.924        0.008\n",
       "8    18          0.932         0.924        0.008\n",
       "9    20          0.932         0.924        0.008"
      ]
     },
     "execution_count": 32,
     "metadata": {},
     "output_type": "execute_result"
    }
   ],
   "source": [
    "train_accuracy =[]; test_accuracy=[]; sub_accuracy=[]\n",
    "\n",
    "para_leaf = [n_leaf*2 for n_leaf in range(1,11)]\n",
    "\n",
    "for v_min_samples_leaf in para_leaf:\n",
    "    tree=DecisionTreeClassifier(max_depth=5,\n",
    "                                min_samples_split=40,\n",
    "                                min_samples_leaf=v_min_samples_leaf\n",
    "                                ,random_state=1234)\n",
    "    tree.fit(df_train_x, df_train_y)\n",
    "    train_accuracy.append(tree.score(df_train_x, df_train_y))\n",
    "    test_accuracy.append(tree.score(df_test_x, df_test_y))\n",
    "    sub_accuracy.append(abs(train_accuracy[-1]-test_accuracy[-1]))\n",
    "    \n",
    "df_accuracy_leaf = pd.DataFrame()\n",
    "df_accuracy_leaf['Leaf']=para_leaf\n",
    "df_accuracy_leaf['TrainAccuracy']=train_accuracy\n",
    "df_accuracy_leaf['TestAccuracy']=test_accuracy\n",
    "df_accuracy_leaf['SubAccuracy']=sub_accuracy\n",
    "df_accuracy_leaf.round(3)"
   ]
  },
  {
   "cell_type": "code",
   "execution_count": 108,
   "metadata": {
    "scrolled": true
   },
   "outputs": [
    {
     "data": {
      "text/plain": [
       "<matplotlib.legend.Legend at 0x7fdea55df2e8>"
      ]
     },
     "execution_count": 108,
     "metadata": {},
     "output_type": "execute_result"
    },
    {
     "data": {
      "image/png": "[encoded data removed]",
      "text/plain": [
       "<Figure size 432x288 with 1 Axes>"
      ]
     },
     "metadata": {
      "needs_background": "light"
     },
     "output_type": "display_data"
    }
   ],
   "source": [
    "plt.plot(para_leaf, train_accuracy, linestyle=\"-\", label=\"Train Accuracy\")\n",
    "plt.plot(para_leaf, test_accuracy, linestyle=\"--\", label=\"Test Accuracy\")\n",
    "plt.legend()"
   ]
  },
  {
   "cell_type": "markdown",
   "metadata": {},
   "source": [
    "### leaf = 10"
   ]
  },
  {
   "cell_type": "markdown",
   "metadata": {},
   "source": [
    "##### 최종 모델 선정"
   ]
  },
  {
   "cell_type": "code",
   "execution_count": 33,
   "metadata": {},
   "outputs": [
    {
     "data": {
      "text/plain": [
       "DecisionTreeClassifier(class_weight=None, criterion='gini', max_depth=5,\n",
       "                       max_features=None, max_leaf_nodes=None,\n",
       "                       min_impurity_decrease=0.0, min_impurity_split=None,\n",
       "                       min_samples_leaf=10, min_samples_split=40,\n",
       "                       min_weight_fraction_leaf=0.0, presort=False,\n",
       "                       random_state=1234, splitter='best')"
      ]
     },
     "execution_count": 33,
     "metadata": {},
     "output_type": "execute_result"
    }
   ],
   "source": [
    "tree_final = DecisionTreeClassifier(max_depth=5, min_samples_split=40,\n",
    "                                   min_samples_leaf=10, random_state=1234)\n",
    "tree_final.fit(df_train_x, df_train_y)"
   ]
  },
  {
   "cell_type": "code",
   "execution_count": 34,
   "metadata": {},
   "outputs": [
    {
     "data": {
      "text/plain": [
       "0.93"
      ]
     },
     "execution_count": 34,
     "metadata": {},
     "output_type": "execute_result"
    }
   ],
   "source": [
    "tree_final.score(df_test_x, df_test_y)"
   ]
  },
  {
   "cell_type": "code",
   "execution_count": null,
   "metadata": {},
   "outputs": [],
   "source": []
  }
 ],
 "metadata": {
  "kernelspec": {
   "display_name": "Python 3",
   "language": "python",
   "name": "python3"
  },
  "language_info": {
   "codemirror_mode": {
    "name": "ipython",
    "version": 3
   },
   "file_extension": ".py",
   "mimetype": "text/x-python",
   "name": "python",
   "nbconvert_exporter": "python",
   "pygments_lexer": "ipython3",
   "version": "3.7.3"
  }
 },
 "nbformat": 4,
 "nbformat_minor": 2
}
