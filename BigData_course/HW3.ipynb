{
 "cells": [
  {
   "cell_type": "markdown",
   "metadata": {},
   "source": [
    "# 1. 딕셔너리\n",
    "### 실습1. for문을 사용하여 딕셔너리 타입의 d의 모든 value를 출력해 보시오."
   ]
  },
  {
   "cell_type": "code",
   "execution_count": 1,
   "metadata": {},
   "outputs": [
    {
     "name": "stdout",
     "output_type": "stream",
     "text": [
      "1 2 10 "
     ]
    }
   ],
   "source": [
    "d={'youn':1, 'park':2, 'kim':10}\n",
    "\n",
    "for v in d.values():\n",
    "    print(v,end=\" \")"
   ]
  },
  {
   "cell_type": "markdown",
   "metadata": {},
   "source": [
    "### 실습2. key의 알파벳을 기준으로 순서대로 출력하시오."
   ]
  },
  {
   "cell_type": "code",
   "execution_count": 2,
   "metadata": {},
   "outputs": [
    {
     "name": "stdout",
     "output_type": "stream",
     "text": [
      "five 5\n",
      "four 4\n",
      "one 1\n",
      "three 3\n",
      "two 2\n"
     ]
    }
   ],
   "source": [
    "d={'one':1, 'two':2, 'three':3, 'four':4,'five':5}\n",
    "sortedD=sorted(d)\n",
    "for k in sortedD:\n",
    "    print(k,d[k])"
   ]
  },
  {
   "cell_type": "markdown",
   "metadata": {},
   "source": [
    "### 실습3. 어떤 문장을 입력 받으면 해당 문장에서 각 알파벳이 몇 개씩 나오는지 저장하는 딕셔너리를 만든 후, 아래와 같이 출력하시오."
   ]
  },
  {
   "cell_type": "code",
   "execution_count": 3,
   "metadata": {},
   "outputs": [
    {
     "name": "stdout",
     "output_type": "stream",
     "text": [
      "Enter a sentence : jupyter notebook\n",
      "{'j': 1, 'u': 1, 'p': 1, 'y': 1, 't': 2, 'e': 2, 'r': 1, ' ': 1, 'n': 1, 'o': 3, 'b': 1, 'k': 1}\n"
     ]
    }
   ],
   "source": [
    "alpha={}\n",
    "\n",
    "inputString=input(\"Enter a sentence : \")\n",
    "\n",
    "for a in inputString:\n",
    "    if a in alpha:\n",
    "        # 딕셔너리에 존재하는 알파벳 출현 => 개수 증가.\n",
    "        alpha[a]+=1\n",
    "    else:\n",
    "        #새로운 알파벳 출현 => 딕셔너리에 추가\n",
    "        alpha[a]=1\n",
    "    \n",
    "print(alpha)"
   ]
  },
  {
   "cell_type": "markdown",
   "metadata": {},
   "source": [
    "#### 집합(set)을 이용해서 문제 해결하기"
   ]
  },
  {
   "cell_type": "code",
   "execution_count": 4,
   "metadata": {},
   "outputs": [
    {
     "name": "stdout",
     "output_type": "stream",
     "text": [
      "Enter a sentence : jupyter notebook\n",
      "{'j': 1, 'n': 1, 'r': 1, 'k': 1, 't': 2, 'b': 1, 'y': 1, 'p': 1, 'e': 2, 'o': 3, ' ': 1, 'u': 1}\n"
     ]
    }
   ],
   "source": [
    "inputString=input(\"Enter a sentence : \")\n",
    "s = set(inputString)\n",
    "\n",
    "\n",
    "res=\"{\"\n",
    "for item in s:\n",
    "    res+=\"'\"+item+\"': \"+str(inputString.count(item))+\", \"\n",
    "    \n",
    "res=res[:-2] # 가장 마지막에 출력되는 ', ' 제거\n",
    "res+=\"}\"\n",
    "print(res)"
   ]
  },
  {
   "cell_type": "markdown",
   "metadata": {},
   "source": [
    "# 2. 파일\n",
    "\n",
    "### 실습1. 파일에 있는 각각의 단어 수 구하기"
   ]
  },
  {
   "cell_type": "code",
   "execution_count": 5,
   "metadata": {},
   "outputs": [],
   "source": [
    "import os"
   ]
  },
  {
   "cell_type": "code",
   "execution_count": 6,
   "metadata": {},
   "outputs": [
    {
     "name": "stdout",
     "output_type": "stream",
     "text": [
      "line 3\n",
      "first 1\n",
      "second 1\n",
      "third 1\n",
      "hello 1\n",
      "hi 1\n"
     ]
    }
   ],
   "source": [
    "if os.path.exists(\"test.txt\"):\n",
    "    f= open(\"test.txt\", \"r\")\n",
    "    words={}\n",
    "    for line in f:\n",
    "        for word in (line.splitlines()[0]).split(\" \"):\n",
    "            # 원본파일의 텍스트중 줄바꿈 문자('\\n')을 제거 후 단어 추출.\n",
    "            if word in words:\n",
    "                # 단어가 앞에서 나왔다면 개수증가\n",
    "                words[word]+=1\n",
    "            else:\n",
    "                # 새로운 단어가 등장했으면 딕셔너리에 단어 추가.\n",
    "                words[word]=1\n",
    "\n",
    "    f.close()\n",
    "\n",
    "    words=dict(sorted(words.items(), key=lambda x: x[1], reverse=True))\n",
    "    #단어 딕셔너리를 개수(value)의 내림차순으로 정렬.\n",
    "\n",
    "    for k, v in words.items():\n",
    "        print(\"%s %d\"%(k,v))\n",
    "else:\n",
    "    print(\"FILE NOT FOUND\")"
   ]
  },
  {
   "cell_type": "markdown",
   "metadata": {},
   "source": [
    "### 실습2. 파일명을 입력 받아, 해당 파일을 한 줄 씩 읽어 파일의 내용을 모두 대문자로 출력하는 프로그램을 작성하시오.\n"
   ]
  },
  {
   "cell_type": "code",
   "execution_count": 11,
   "metadata": {},
   "outputs": [
    {
     "name": "stdout",
     "output_type": "stream",
     "text": [
      "Enter a file name:src.txt\n",
      "HELLO\n",
      "MY NAME IS KIM HAYOUNG.\n",
      "GOOD TO SEE YOU!"
     ]
    }
   ],
   "source": [
    "fName=input(\"Enter a file name:\")\n",
    "if os.path.exists(fName):\n",
    "    with open(fName,\"r\") as f:\n",
    "        for line in f:\n",
    "            print(line.upper(),end=\"\")\n",
    "else:\n",
    "    print(\"해당 파일은 존재하지 않습니다.\")"
   ]
  },
  {
   "cell_type": "markdown",
   "metadata": {},
   "source": [
    "### 실습3. 리눅스 쉘에서 원본파일명(src.txt) 과 사본파일(dst.txt)을 입력받아, 복사하는 프로그램을 작성하시오."
   ]
  },
  {
   "cell_type": "code",
   "execution_count": 8,
   "metadata": {},
   "outputs": [],
   "source": [
    "# argv=input()\n",
    "# argv=argv.split()\n",
    "# with open(argv[0], \"r\") as inFile:\n",
    "#     with open(argv[1], \"w\") as outFile:\n",
    "#         for line in inFile:\n",
    "#             for alpha in line.splitlines()[0]:\n",
    "#                 outFile.write(alpha)\n",
    "#             outFile.write(\"\\n\")\n",
    "    \n",
    "            "
   ]
  },
  {
   "cell_type": "markdown",
   "metadata": {},
   "source": [
    "### 실습4. score.txt를 읽어서 학생들의 성적을 처리하여 그 결과를 report.txt로 출력하는 프로그램을 작성하시오.\n",
    "    <학점기준>\n",
    "       총점이 90 이상이면 A,\n",
    "       80이상 ~ 90 미만이면 B,\n",
    "       70이상 ~ 80 미만이면 C,\n",
    "       60이상 ~ 70 미만이면 D,\n",
    "       60미만이면 F"
   ]
  },
  {
   "cell_type": "code",
   "execution_count": 9,
   "metadata": {},
   "outputs": [],
   "source": [
    "if os.path.exists(\"score.txt\"):\n",
    "    with open(\"score.txt\", \"r\") as inFile:\n",
    "        with open(\"report.txt\",\"w\") as outFile:\n",
    "            for line in inFile:\n",
    "                ls=line.split()\n",
    "                mid=(int(ls[1])+int(ls[2]))/2\n",
    "\n",
    "                sen=line.splitlines()[0]\n",
    "                #print(sen)\n",
    "                if mid>=90:\n",
    "                    sen+=\" \"+str(mid)+\"(A)\\n\"\n",
    "                elif mid>=80 and mid<90:\n",
    "                    sen+=\" \"+str(mid)+\"(B)\\n\"\n",
    "                elif mid>=70 and mid<80:\n",
    "                    sen+=\" \"+str(mid)+\"(C)\\n\"\n",
    "                elif mid>=60 and mid<70:\n",
    "                    sen+=\" \"+str(mid)+\"(D)\\n\"\n",
    "                else:\n",
    "                    sen+=\" \"+str(mid)+\"(F)\\n\"\n",
    "\n",
    "                outFile.write(sen)\n",
    "else:\n",
    "    print(\"FILE NOT FOUND\")\n",
    "            "
   ]
  },
  {
   "cell_type": "markdown",
   "metadata": {},
   "source": [
    "# 3. Pythonic code\n",
    "### 실습1. 아래와 같이 주어진 2개의 리스트로 딕셔너리를 만들어 출력하시오. 단, 순서는 다를 수 있음"
   ]
  },
  {
   "cell_type": "code",
   "execution_count": 1,
   "metadata": {},
   "outputs": [
    {
     "name": "stdout",
     "output_type": "stream",
     "text": [
      "<zip object at 0x7f88141c8b48>\n"
     ]
    }
   ],
   "source": [
    "L1 =['one','two','three','four']\n",
    "L2 = [1,2,3,4]\n",
    "\n",
    "dict(zip(L1,L2))\n",
    "print(zip(L1,L2))"
   ]
  },
  {
   "cell_type": "code",
   "execution_count": null,
   "metadata": {},
   "outputs": [],
   "source": []
  },
  {
   "cell_type": "code",
   "execution_count": null,
   "metadata": {},
   "outputs": [],
   "source": []
  }
 ],
 "metadata": {
  "kernelspec": {
   "display_name": "Python 3",
   "language": "python",
   "name": "python3"
  },
  "language_info": {
   "codemirror_mode": {
    "name": "ipython",
    "version": 3
   },
   "file_extension": ".py",
   "mimetype": "text/x-python",
   "name": "python",
   "nbconvert_exporter": "python",
   "pygments_lexer": "ipython3",
   "version": "3.7.3"
  }
 },
 "nbformat": 4,
 "nbformat_minor": 2
}
