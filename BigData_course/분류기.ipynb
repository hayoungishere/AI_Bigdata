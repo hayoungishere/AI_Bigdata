{
 "cells": [
  {
   "cell_type": "code",
   "execution_count": 197,
   "metadata": {},
   "outputs": [],
   "source": [
    "import tensorflow as tf\n",
    "import numpy as np\n",
    "import pandas as pd\n",
    "from sklearn.preprocessing import StandardScaler\n",
    "from sklearn.model_selection import train_test_split"
   ]
  },
  {
   "cell_type": "code",
   "execution_count": 198,
   "metadata": {},
   "outputs": [
    {
     "data": {
      "text/plain": [
       "'1.15.0'"
      ]
     },
     "execution_count": 198,
     "metadata": {},
     "output_type": "execute_result"
    }
   ],
   "source": [
    "tf.__version__"
   ]
  },
  {
   "cell_type": "code",
   "execution_count": 201,
   "metadata": {},
   "outputs": [
    {
     "name": "stdout",
     "output_type": "stream",
     "text": [
      "JUDGE\n",
      "LOT_ID\n",
      "PANEL_ID\n",
      "BLACK_RTD_TEMP_GLASS_START\n",
      "BLACK_RTD_TEMP_GLASS_END\n",
      "BLACK_RTD_TEMP_WALL_START\n",
      "BLACK_RTD_TEMP_WALL_MAX\n",
      "BLACK_RTD_PRES_START\n",
      "BLACK_RTD_PRES_END\n",
      "BLACK_RTD_TEMP_GLASS_OUT\n",
      "BLACK_RTD_TEMP_HOOD_MAX\n",
      "AG_RTD_TEMP_GLASS_START\n",
      "AG_RTD_TEMP_GLASS_END\n",
      "AG_RTD_TEMP_WALL_START\n",
      "AG_RTD_TEMP_WALL_MAX\n",
      "AG_RTD_PRES_START\n",
      "AG_RTD_PRES_END\n",
      "AG_RTD_TEMP_GLASS_OUT\n",
      "AG_RTD_TEMP_HOOD_START\n",
      "AG_EXPOSURE_TEMP_MASK\n",
      "BUS_DEVELOP_TEMP_OVEN1\n",
      "BUS_DEVELOP_TEMP_OVEN2\n",
      "BUS_DEVELOP_TEMP_OVEN3\n",
      "BUS_DEVELOP_TEMP_TANK1\n",
      "BUS_DEVELOP_PH_TANK1.1\n",
      "BUS_DEVELOP_TEMP_TANK2\n",
      "BUS_DEVELOP_PH_TANK1.2\n",
      "BUS_DEVELOP_TEMP_TANK3\n",
      "BUS_DEVELOP_PRES2\n",
      "BUS_DEVELOP_PRES3\n",
      "BUS_FIRE_TEMP_HEAT1_CH01\n",
      "BUS_FIRE_TEMP_HEAT1_CH03\n",
      "BUS_FIRE_TEMP_HEAT2_CH01\n",
      "BUS_FIRE_TEMP_HEAT2_CH02\n",
      "BUS_FIRE_TEMP_HEAT2_CH03\n",
      "BUS_FIRE_TEMP_KEEP_CH02\n",
      "BUS_FIRE_TEMP_ANEAL_CH01\n",
      "BUS_FIRE_TEMP_ANEAL_CH02\n",
      "BUS_FIRE_TEMP_ANEAL_CH03\n",
      "DIELEC_FIRE_TEMP_HEAT1_CH01\n",
      "DIELEC_FIRE_TEMP_HEAT1_CH02\n",
      "DIELEC_FIRE_TEMP_HEAT1_CH03\n",
      "DIELEC_FIRE_TEMP_HEAT2_CH01\n",
      "DIELEC_FIRE_TEMP_HEAT2_CH02\n",
      "DIELEC_FIRE_TEMP_HEAT2_CH03\n",
      "DIELEC_FIRE_TEMP_KEEP_CH01\n",
      "DIELEC_FIRE_TEMP_KEEP_CH03\n",
      "DIELEC_FIRE_TEMP_ANEAL_CH01\n",
      "DIELEC_FIRE_TEMP_ANEAL_CH03\n",
      "DIELEC_FIRE_EXHAUST_HEAT1\n",
      "DIELEC_FIRE_EXHAUST_HEAT2\n",
      "DIELEC_FIRE_EXHAUST_HEAT4\n",
      "DIELEC_FIRE_EXHAUST_HEAT5\n",
      "DIELEC_FIRE_EXHAUST_HEAT6\n",
      "DIELEC_FIRE_EXHAUST_HEAT7\n",
      "PHOS_R_DRY_TEMP_GLASS_START\n",
      "PHOS_R_DRY_TEMP_GLASS_END\n",
      "PHOS_R_DRY_TEMP_WALL_START\n",
      "PHOS_R_DRY_TEMP_WALL_MAX\n",
      "PHOS_R_DRY_PRES_START\n",
      "PHOS_R_DRY_PRES_END\n",
      "PHOS_R_DRY_TEMP_GLASS_OUT\n",
      "PHOS_R_DRY_TEMP_HOOD_START\n",
      "PHOS_G_DRY_TEMP_GLASS_START\n",
      "PHOS_G_DRY_TEMP_GLASS_END\n",
      "PHOS_G_DRY_TEMP_WALL_START\n",
      "PHOS_G_DRY_PRES_START\n",
      "PHOS_G_DRY_PRES_END\n",
      "PHOS_G_DRY_TEMP_GLASS_OUT\n",
      "PHOS_G_DRY_TEMP_HOOD_MAX\n",
      "PHOS_FIRE_TEMP_HEAT_CH01\n",
      "PHOS_FIRE_TEMP_HEAT_CH02\n",
      "PHOS_FIRE_TEMP_HEAT_CH03\n",
      "PHOS_FIRE_TEMP_HEAT_CH04\n",
      "PHOS_FIRE_TEMP_KEEP_CH01\n",
      "PHOS_FIRE_TEMP_KEEP_CH02\n",
      "PHOS_FIRE_TEMP_KEEP_CH03\n",
      "PHOS_FIRE_TEMP_KEEP_CH04\n",
      "PHOS_FIRE_TEMP_ANEAL_CH01\n",
      "PHOS_FIRE_TEMP_ANEAL_CH03\n",
      "PHOS_FIRE_TEMP_ANEAL_CH04\n",
      "PHOS_FIRE_EXHAUST_HEAT1\n",
      "PHOS_FIRE_EXHAUST_HEAT2\n",
      "PHOS_FIRE_EXHAUST_HEAT3\n",
      "PHOS_FIRE_EXHAUST_HEAT4\n",
      "TAT_1BLACK_1PRINT\n",
      "TAT_1BLACK_2RTD\n",
      "TAT_2AG_1PRINT\n",
      "TAT_2AG_2RTD\n",
      "TAT_2AG_3EXPOSURE\n",
      "TAT_3BUS_1DEVELOP\n",
      "TAT_3BUS_2FIRE\n",
      "TAT_4DIELEC_FIRE\n",
      "TAT_5MGO\n",
      "TAT_6PHOS_1R_1DISPENSER\n",
      "TAT_6PHOS_1R_2DRY\n",
      "TAT_6PHOS_2G_1DISPENSER\n",
      "TAT_6PHOS_2G_2DRY\n",
      "TAT_6PHOS_3B_1DISPENSER\n",
      "TAT_6PHOS_4FIRE\n",
      "TAT_7PASTE\n",
      "TAT_8AGING\n",
      "MC_1BLACK_1PRINT\n",
      "MC_1BLACK_2RTD\n",
      "MC_2AG_1PRINT\n",
      "MC_2AG_2RTD\n",
      "MC_2AG_3EXPOSURE\n",
      "MC_3BUS_1DEVELOP\n",
      "MC_3BUS_2FIRE\n",
      "MC_4DIELEC_1FIRE\n",
      "MC_5MGO\n",
      "MC_6PHOS_1R_1DISPENSER\n",
      "MC_6PHOS_1R_2DRY\n",
      "MC_6PHOS_2G_1DISPENSER\n",
      "MC_6PHOS_2G_2DRY\n",
      "MC_6PHOS_3B_1DISPENSER\n",
      "MC_6PHOS_4FIRE\n",
      "MC_7PASTE\n",
      "MC_8AGING\n"
     ]
    }
   ],
   "source": [
    "data=pd.read_csv(\"data/sh_process_n_time.csv\", encoding=\"utf-8\")\n",
    "for c in data.columns:\n",
    "    print(c)"
   ]
  },
  {
   "cell_type": "code",
   "execution_count": 202,
   "metadata": {},
   "outputs": [
    {
     "data": {
      "text/plain": [
       "양품    3573\n",
       "명점     427\n",
       "Name: JUDGE, dtype: int64"
      ]
     },
     "execution_count": 202,
     "metadata": {},
     "output_type": "execute_result"
    }
   ],
   "source": [
    "data['JUDGE'].value_counts()"
   ]
  },
  {
   "cell_type": "code",
   "execution_count": 203,
   "metadata": {
    "scrolled": true
   },
   "outputs": [],
   "source": [
    "data['JUDGE']=np.where(data['JUDGE']==\"명점\",1,0)"
   ]
  },
  {
   "cell_type": "code",
   "execution_count": 204,
   "metadata": {},
   "outputs": [
    {
     "data": {
      "text/plain": [
       "0    3573\n",
       "1     427\n",
       "Name: JUDGE, dtype: int64"
      ]
     },
     "execution_count": 204,
     "metadata": {},
     "output_type": "execute_result"
    }
   ],
   "source": [
    "data['JUDGE'].value_counts()"
   ]
  },
  {
   "cell_type": "code",
   "execution_count": 205,
   "metadata": {},
   "outputs": [
    {
     "data": {
      "text/html": [
       "<div>\n",
       "<style scoped>\n",
       "    .dataframe tbody tr th:only-of-type {\n",
       "        vertical-align: middle;\n",
       "    }\n",
       "\n",
       "    .dataframe tbody tr th {\n",
       "        vertical-align: top;\n",
       "    }\n",
       "\n",
       "    .dataframe thead th {\n",
       "        text-align: right;\n",
       "    }\n",
       "</style>\n",
       "<table border=\"1\" class=\"dataframe\">\n",
       "  <thead>\n",
       "    <tr style=\"text-align: right;\">\n",
       "      <th></th>\n",
       "      <th>JUDGE</th>\n",
       "      <th>LOT_ID</th>\n",
       "      <th>PANEL_ID</th>\n",
       "      <th>BLACK_RTD_TEMP_GLASS_START</th>\n",
       "      <th>BLACK_RTD_TEMP_GLASS_END</th>\n",
       "      <th>BLACK_RTD_TEMP_WALL_START</th>\n",
       "      <th>BLACK_RTD_TEMP_WALL_MAX</th>\n",
       "      <th>BLACK_RTD_PRES_START</th>\n",
       "      <th>BLACK_RTD_PRES_END</th>\n",
       "      <th>BLACK_RTD_TEMP_GLASS_OUT</th>\n",
       "      <th>...</th>\n",
       "      <th>MC_4DIELEC_1FIRE</th>\n",
       "      <th>MC_5MGO</th>\n",
       "      <th>MC_6PHOS_1R_1DISPENSER</th>\n",
       "      <th>MC_6PHOS_1R_2DRY</th>\n",
       "      <th>MC_6PHOS_2G_1DISPENSER</th>\n",
       "      <th>MC_6PHOS_2G_2DRY</th>\n",
       "      <th>MC_6PHOS_3B_1DISPENSER</th>\n",
       "      <th>MC_6PHOS_4FIRE</th>\n",
       "      <th>MC_7PASTE</th>\n",
       "      <th>MC_8AGING</th>\n",
       "    </tr>\n",
       "  </thead>\n",
       "  <tbody>\n",
       "    <tr>\n",
       "      <th>1220</th>\n",
       "      <td>1</td>\n",
       "      <td>LOT-162</td>\n",
       "      <td>PNL-01</td>\n",
       "      <td>44.5</td>\n",
       "      <td>99.1</td>\n",
       "      <td>88.5</td>\n",
       "      <td>114.7</td>\n",
       "      <td>173.8</td>\n",
       "      <td>179.5</td>\n",
       "      <td>58.1</td>\n",
       "      <td>...</td>\n",
       "      <td>2호기</td>\n",
       "      <td>2호기</td>\n",
       "      <td>2호기</td>\n",
       "      <td>2호기</td>\n",
       "      <td>2호기</td>\n",
       "      <td>2호기</td>\n",
       "      <td>2호기</td>\n",
       "      <td>2호기</td>\n",
       "      <td>2호기</td>\n",
       "      <td>1호기</td>\n",
       "    </tr>\n",
       "  </tbody>\n",
       "</table>\n",
       "<p>1 rows × 119 columns</p>\n",
       "</div>"
      ],
      "text/plain": [
       "      JUDGE   LOT_ID PANEL_ID  BLACK_RTD_TEMP_GLASS_START  \\\n",
       "1220      1  LOT-162   PNL-01                        44.5   \n",
       "\n",
       "      BLACK_RTD_TEMP_GLASS_END  BLACK_RTD_TEMP_WALL_START  \\\n",
       "1220                      99.1                       88.5   \n",
       "\n",
       "      BLACK_RTD_TEMP_WALL_MAX  BLACK_RTD_PRES_START  BLACK_RTD_PRES_END  \\\n",
       "1220                    114.7                 173.8               179.5   \n",
       "\n",
       "      BLACK_RTD_TEMP_GLASS_OUT  ...  MC_4DIELEC_1FIRE  MC_5MGO  \\\n",
       "1220                      58.1  ...               2호기      2호기   \n",
       "\n",
       "      MC_6PHOS_1R_1DISPENSER  MC_6PHOS_1R_2DRY  MC_6PHOS_2G_1DISPENSER  \\\n",
       "1220                     2호기               2호기                     2호기   \n",
       "\n",
       "      MC_6PHOS_2G_2DRY  MC_6PHOS_3B_1DISPENSER  MC_6PHOS_4FIRE  MC_7PASTE  \\\n",
       "1220               2호기                     2호기             2호기        2호기   \n",
       "\n",
       "      MC_8AGING  \n",
       "1220        1호기  \n",
       "\n",
       "[1 rows x 119 columns]"
      ]
     },
     "execution_count": 205,
     "metadata": {},
     "output_type": "execute_result"
    }
   ],
   "source": [
    "data.sample(1)"
   ]
  },
  {
   "cell_type": "code",
   "execution_count": 206,
   "metadata": {},
   "outputs": [],
   "source": [
    "select_cols=['JUDGE','BLACK_RTD_TEMP_GLASS_START',\n",
    "'BLACK_RTD_TEMP_GLASS_END',\n",
    "'BLACK_RTD_TEMP_WALL_START',\n",
    "'BLACK_RTD_TEMP_WALL_MAX',\n",
    "'BLACK_RTD_PRES_START',\n",
    "'BLACK_RTD_PRES_END',\n",
    "'BLACK_RTD_TEMP_GLASS_OUT',\n",
    "'BLACK_RTD_TEMP_HOOD_MAX',\n",
    "'AG_RTD_TEMP_GLASS_START',\n",
    "'AG_RTD_TEMP_GLASS_END',\n",
    "'AG_RTD_TEMP_WALL_START',\n",
    "'AG_RTD_TEMP_WALL_MAX',\n",
    "'AG_RTD_PRES_START',\n",
    "'AG_RTD_PRES_END',\n",
    "'AG_RTD_TEMP_GLASS_OUT',\n",
    "'AG_RTD_TEMP_HOOD_START',\n",
    "'AG_EXPOSURE_TEMP_MASK',\n",
    "'BUS_DEVELOP_TEMP_OVEN1',\n",
    "'BUS_DEVELOP_TEMP_OVEN2',\n",
    "'BUS_DEVELOP_TEMP_OVEN3',\n",
    "'BUS_DEVELOP_TEMP_TANK1',\n",
    "'BUS_DEVELOP_PH_TANK1.1',\n",
    "'BUS_DEVELOP_TEMP_TANK2',\n",
    "'BUS_DEVELOP_PH_TANK1.2',\n",
    "'BUS_DEVELOP_TEMP_TANK3',\n",
    "'BUS_DEVELOP_PRES2',\n",
    "'BUS_DEVELOP_PRES3',\n",
    "'BUS_FIRE_TEMP_HEAT1_CH01',\n",
    "'BUS_FIRE_TEMP_HEAT1_CH03',\n",
    "'BUS_FIRE_TEMP_HEAT2_CH01',\n",
    "'BUS_FIRE_TEMP_HEAT2_CH02',\n",
    "'BUS_FIRE_TEMP_HEAT2_CH03',\n",
    "'BUS_FIRE_TEMP_KEEP_CH02',\n",
    "'BUS_FIRE_TEMP_ANEAL_CH01',\n",
    "'BUS_FIRE_TEMP_ANEAL_CH02',\n",
    "'BUS_FIRE_TEMP_ANEAL_CH03',\n",
    "'DIELEC_FIRE_TEMP_HEAT1_CH01',\n",
    "'DIELEC_FIRE_TEMP_HEAT1_CH02',\n",
    "'DIELEC_FIRE_TEMP_HEAT1_CH03',\n",
    "'DIELEC_FIRE_TEMP_HEAT2_CH01',\n",
    "'DIELEC_FIRE_TEMP_HEAT2_CH02',\n",
    "'DIELEC_FIRE_TEMP_HEAT2_CH03',\n",
    "'DIELEC_FIRE_TEMP_KEEP_CH01',\n",
    "'DIELEC_FIRE_TEMP_KEEP_CH03',\n",
    "'DIELEC_FIRE_TEMP_ANEAL_CH01',\n",
    "'DIELEC_FIRE_TEMP_ANEAL_CH03',\n",
    "'DIELEC_FIRE_EXHAUST_HEAT1',\n",
    "'DIELEC_FIRE_EXHAUST_HEAT2',\n",
    "'DIELEC_FIRE_EXHAUST_HEAT4',\n",
    "'DIELEC_FIRE_EXHAUST_HEAT5',\n",
    "'DIELEC_FIRE_EXHAUST_HEAT6',\n",
    "'DIELEC_FIRE_EXHAUST_HEAT7',\n",
    "'PHOS_R_DRY_TEMP_GLASS_START',\n",
    "'PHOS_R_DRY_TEMP_GLASS_END',\n",
    "'PHOS_R_DRY_TEMP_WALL_START',\n",
    "'PHOS_R_DRY_TEMP_WALL_MAX',\n",
    "'PHOS_R_DRY_PRES_START',\n",
    "'PHOS_R_DRY_PRES_END',\n",
    "'PHOS_R_DRY_TEMP_GLASS_OUT',\n",
    "'PHOS_R_DRY_TEMP_HOOD_START',\n",
    "'PHOS_G_DRY_TEMP_GLASS_START',\n",
    "'PHOS_G_DRY_TEMP_GLASS_END',\n",
    "'PHOS_G_DRY_TEMP_WALL_START',\n",
    "'PHOS_G_DRY_PRES_START',\n",
    "'PHOS_G_DRY_PRES_END',\n",
    "'PHOS_G_DRY_TEMP_GLASS_OUT',\n",
    "'PHOS_G_DRY_TEMP_HOOD_MAX',\n",
    "'PHOS_FIRE_TEMP_HEAT_CH01',\n",
    "'PHOS_FIRE_TEMP_HEAT_CH02',\n",
    "'PHOS_FIRE_TEMP_HEAT_CH03',\n",
    "'PHOS_FIRE_TEMP_HEAT_CH04',\n",
    "'PHOS_FIRE_TEMP_KEEP_CH01',\n",
    "'PHOS_FIRE_TEMP_KEEP_CH02',\n",
    "'PHOS_FIRE_TEMP_KEEP_CH03',\n",
    "'PHOS_FIRE_TEMP_KEEP_CH04',\n",
    "'PHOS_FIRE_TEMP_ANEAL_CH01',\n",
    "'PHOS_FIRE_TEMP_ANEAL_CH03',\n",
    "'PHOS_FIRE_TEMP_ANEAL_CH04',\n",
    "'PHOS_FIRE_EXHAUST_HEAT1',\n",
    "'PHOS_FIRE_EXHAUST_HEAT2',\n",
    "'PHOS_FIRE_EXHAUST_HEAT3',\n",
    "'PHOS_FIRE_EXHAUST_HEAT4']"
   ]
  },
  {
   "cell_type": "code",
   "execution_count": 114,
   "metadata": {},
   "outputs": [],
   "source": [
    "# data_selcol=data[1\"]\n",
    "# train_data=pd.DataFrame(data_selcol.values.T, data_selcol.columns, data_selcol.index, dtype=object).to_numpy()\n",
    "# train_data"
   ]
  },
  {
   "cell_type": "code",
   "execution_count": 207,
   "metadata": {},
   "outputs": [
    {
     "name": "stdout",
     "output_type": "stream",
     "text": [
      "82\n",
      "4000\n"
     ]
    }
   ],
   "source": [
    "x_data=train_data[1:]\n",
    "y_data=train_data[0]\n",
    "\n",
    "print(len(x_data))\n",
    "print(len(y_data))\n"
   ]
  },
  {
   "cell_type": "code",
   "execution_count": 208,
   "metadata": {
    "scrolled": false
   },
   "outputs": [
    {
     "data": {
      "text/plain": [
       "array([[44.3, 102.3, 88.8, ..., 3973.0, 4432.0, 2506.0],\n",
       "       [44.6, 101.6, 88.7, ..., 4097.0, 4499.0, 2573.0],\n",
       "       [45.0, 114.3, 90.3, ..., 3972.0, 4460.0, 2502.0],\n",
       "       ...,\n",
       "       [43.8, 106.3, 88.8, ..., 3986.0, 4425.0, 2513.0],\n",
       "       [43.7, 98.7, 89.6, ..., 3942.0, 4402.0, 2471.0],\n",
       "       [41.0, 120.0, 88.5, ..., 4005.0, 4436.0, 2474.0]], dtype=object)"
      ]
     },
     "execution_count": 208,
     "metadata": {},
     "output_type": "execute_result"
    }
   ],
   "source": [
    "x_data=x_data.T\n",
    "x_data"
   ]
  },
  {
   "cell_type": "code",
   "execution_count": 215,
   "metadata": {},
   "outputs": [
    {
     "data": {
      "text/plain": [
       "array([0.0, 1.0], dtype=object)"
      ]
     },
     "execution_count": 215,
     "metadata": {},
     "output_type": "execute_result"
    }
   ],
   "source": [
    "np.unique(y_data)"
   ]
  },
  {
   "cell_type": "code",
   "execution_count": 216,
   "metadata": {},
   "outputs": [
    {
     "name": "stdout",
     "output_type": "stream",
     "text": [
      "(4000, 82)\n",
      "(4000,)\n",
      "(1, 4000)\n"
     ]
    }
   ],
   "source": [
    "print(x_data.shape)\n",
    "print(y_data.shape)\n",
    "print(np.array([y_data]).shape)"
   ]
  },
  {
   "cell_type": "code",
   "execution_count": 217,
   "metadata": {},
   "outputs": [
    {
     "data": {
      "text/plain": [
       "(4000, 1)"
      ]
     },
     "execution_count": 217,
     "metadata": {},
     "output_type": "execute_result"
    }
   ],
   "source": [
    "temp = y_data.reshape((4000,1))\n",
    "temp.shape"
   ]
  },
  {
   "cell_type": "code",
   "execution_count": 218,
   "metadata": {
    "scrolled": true
   },
   "outputs": [
    {
     "data": {
      "text/plain": [
       "82"
      ]
     },
     "execution_count": 218,
     "metadata": {},
     "output_type": "execute_result"
    }
   ],
   "source": [
    "len(x_data[0])"
   ]
  },
  {
   "cell_type": "code",
   "execution_count": 219,
   "metadata": {},
   "outputs": [
    {
     "data": {
      "text/plain": [
       "array([0.0, 0.0, 0.0, ..., 0.0, 1.0, 0.0], dtype=object)"
      ]
     },
     "execution_count": 219,
     "metadata": {},
     "output_type": "execute_result"
    }
   ],
   "source": [
    "y_data"
   ]
  },
  {
   "cell_type": "code",
   "execution_count": 220,
   "metadata": {},
   "outputs": [],
   "source": [
    "encoder = StandardScaler()\n",
    "x_data = encoder.fit_transform(x_data)"
   ]
  },
  {
   "cell_type": "code",
   "execution_count": 221,
   "metadata": {},
   "outputs": [
    {
     "data": {
      "text/plain": [
       "82"
      ]
     },
     "execution_count": 221,
     "metadata": {},
     "output_type": "execute_result"
    }
   ],
   "source": [
    "len(x_data[0])#.shape"
   ]
  },
  {
   "cell_type": "code",
   "execution_count": 222,
   "metadata": {},
   "outputs": [
    {
     "data": {
      "text/plain": [
       "(4000,)"
      ]
     },
     "execution_count": 222,
     "metadata": {},
     "output_type": "execute_result"
    }
   ],
   "source": [
    "y_data.shape"
   ]
  },
  {
   "cell_type": "code",
   "execution_count": 223,
   "metadata": {},
   "outputs": [
    {
     "data": {
      "text/plain": [
       "array([[ 0.16438376, -0.97838254, -0.10575875, ..., -1.24814304,\n",
       "        -0.70802802, -0.99294789],\n",
       "       [ 0.39080768, -1.10248426, -0.20645739, ...,  0.91067157,\n",
       "         0.65734615,  0.4940908 ],\n",
       "       [ 0.69270624,  1.1490756 ,  1.40472087, ..., -1.26555283,\n",
       "        -0.13742389, -1.08172631],\n",
       "       ...,\n",
       "       [-0.21298943, -0.26922983, -0.10575875, ..., -1.0218157 ,\n",
       "        -0.85067906, -0.83758563],\n",
       "       [-0.28846407, -1.61661998,  0.69983038, ..., -1.78784669,\n",
       "        -1.31938959, -1.76975914],\n",
       "       [-2.32627934,  2.15961821, -0.40785467, ..., -0.69102959,\n",
       "        -0.62651315, -1.70317532]])"
      ]
     },
     "execution_count": 223,
     "metadata": {},
     "output_type": "execute_result"
    }
   ],
   "source": [
    "x_data"
   ]
  },
  {
   "cell_type": "code",
   "execution_count": 224,
   "metadata": {},
   "outputs": [
    {
     "name": "stdout",
     "output_type": "stream",
     "text": [
      "0 nan\n",
      "200 nan\n",
      "400 nan\n",
      "600 nan\n",
      "800 nan\n",
      "1000 nan\n",
      "1200 nan\n",
      "1400 nan\n",
      "1600 nan\n",
      "1800 nan\n",
      "2000 nan\n",
      "2200 nan\n",
      "2400 nan\n",
      "2600 nan\n",
      "2800 nan\n",
      "3000 nan\n",
      "3200 nan\n",
      "3400 nan\n",
      "3600 nan\n",
      "3800 nan\n",
      "4000 nan\n",
      "4200 nan\n",
      "4400 nan\n",
      "4600 nan\n",
      "4800 nan\n",
      "5000 nan\n",
      "5200 nan\n",
      "5400 nan\n",
      "5600 nan\n",
      "5800 nan\n",
      "6000 nan\n",
      "6200 nan\n",
      "6400 nan\n",
      "6600 nan\n",
      "6800 nan\n",
      "7000 nan\n",
      "7200 nan\n",
      "7400 nan\n",
      "7600 nan\n",
      "7800 nan\n",
      "8000 nan\n",
      "8200 nan\n",
      "8400 nan\n",
      "8600 nan\n",
      "8800 nan\n",
      "9000 nan\n",
      "9200 nan\n",
      "9400 nan\n",
      "9600 nan\n",
      "9800 nan\n",
      "10000 nan\n",
      "\n",
      "Hypothesis:  [[nan]\n",
      " [nan]\n",
      " [nan]\n",
      " ...\n",
      " [nan]\n",
      " [nan]\n",
      " [nan]] \n",
      "Correct (Y):  [[0.]\n",
      " [0.]\n",
      " [0.]\n",
      " ...\n",
      " [0.]\n",
      " [0.]\n",
      " [0.]] \n",
      "Accuracy:  0.89325\n",
      "Real y1: 0 Predict p1:  [0.]\n",
      "Real y2: 1 Predict p2:  [0.]\n"
     ]
    }
   ],
   "source": [
    "# placeholders for a tensor that will be always fed.\n",
    "X = tf.placeholder(tf.float32, shape=[None, 82])\n",
    "Y = tf.placeholder(tf.float32, shape=[None, 1])\n",
    "\n",
    "W = tf.Variable(tf.random_normal([len(x_data[0]), 1]), name='weight')\n",
    "b = tf.Variable(tf.random_normal([1]), name='bias')\n",
    "\n",
    "# Hypothesis using sigmoid: tf.div(1., 1. + tf.exp(tf.matmul(X, W)))\n",
    "hypothesis = tf.sigmoid(tf.matmul(X, W) + b)\n",
    "\n",
    "# cost/loss function\n",
    "cost = -tf.reduce_mean(Y * tf.log(hypothesis) + (1 - Y) *\n",
    "                       tf.log(1 - hypothesis))\n",
    "\n",
    "train = tf.train.GradientDescentOptimizer(learning_rate=0.000000001).minimize(cost)\n",
    "\n",
    "# Accuracy computation\n",
    "# True if hypothesis>0.5 else False\n",
    "predicted = tf.cast(hypothesis > 0.5, dtype=tf.float32)\n",
    "accuracy = tf.reduce_mean(tf.cast(tf.equal(predicted, Y), dtype=tf.float32))\n",
    "\n",
    "# Launch graph\n",
    "with tf.Session() as sess:\n",
    "    # Initialize TensorFlow variables\n",
    "    sess.run(tf.global_variables_initializer())\n",
    "\n",
    "    for step in range(10001):\n",
    "        cost_val, _ = sess.run([cost, train], feed_dict={X: x_data, Y: temp})\n",
    "        if step % 200 == 0:\n",
    "            print(step, cost_val)\n",
    "\n",
    "    # Accuracy report\n",
    "    h, c, a = sess.run([hypothesis, predicted, accuracy],\n",
    "                       feed_dict={X: x_data, Y: temp})\n",
    "    print(\"\\nHypothesis: \", h, \"\\nCorrect (Y): \", c, \"\\nAccuracy: \", a)\n",
    "\n",
    "    # Model test\n",
    "    y,p = sess.run([hypothesis, predicted],feed_dict={X: x_data})\n",
    "\n",
    "    #print result\n",
    "    print(\"Real y1: 0 Predict p1: \",p[0])\n",
    "    print(\"Real y2: 1 Predict p2: \",p[1])\n"
   ]
  },
  {
   "cell_type": "code",
   "execution_count": null,
   "metadata": {},
   "outputs": [],
   "source": []
  },
  {
   "cell_type": "code",
   "execution_count": null,
   "metadata": {},
   "outputs": [],
   "source": []
  },
  {
   "cell_type": "code",
   "execution_count": null,
   "metadata": {},
   "outputs": [],
   "source": []
  },
  {
   "cell_type": "code",
   "execution_count": null,
   "metadata": {},
   "outputs": [],
   "source": []
  },
  {
   "cell_type": "code",
   "execution_count": null,
   "metadata": {},
   "outputs": [],
   "source": []
  },
  {
   "cell_type": "code",
   "execution_count": null,
   "metadata": {},
   "outputs": [],
   "source": []
  },
  {
   "cell_type": "code",
   "execution_count": 16,
   "metadata": {},
   "outputs": [
    {
     "name": "stdout",
     "output_type": "stream",
     "text": [
      "[1 1 1 1 1 1] [0 0 0 1 1 1]\n",
      "0 0.71715593 [[-0.8668916   0.5111566   0.16650295]]\n",
      "20 0.54223496 [[-1.0893205   0.23304178  0.1632748 ]]\n",
      "40 0.5215861 [[-1.2609359   0.17663494  0.25521746]]\n",
      "60 0.50667423 [[-1.4232286   0.15728968  0.3107596 ]]\n",
      "80 0.49417785 [[-1.5768977   0.15531032  0.34802887]]\n",
      "100 0.48317453 [[-1.7225496   0.1613484   0.37589967]]\n",
      "120 0.4733256 [[-1.8607719   0.17092521  0.3987303 ]]\n",
      "140 0.46444857 [[-1.9921268   0.18188307  0.41868627]]\n",
      "160 0.4564134 [[-2.1171415   0.19318579  0.43686286]]\n",
      "180 0.4491148 [[-2.2363026   0.20434397  0.4538287 ]]\n",
      "200 0.4424645 [[-2.3500533   0.21513589  0.4698903 ]]\n",
      "220 0.43638662 [[-2.4587975   0.22547136  0.48522192]]\n",
      "240 0.43081608 [[-2.562902    0.23532426  0.49993035]]\n",
      "260 0.42569682 [[-2.6626992   0.24469906  0.514086  ]]\n",
      "280 0.42097995 [[-2.758491    0.25361428  0.5277401 ]]\n",
      "300 0.41662312 [[-2.8505516   0.26209426  0.54093206]]\n",
      "320 0.4125894 [[-2.93913     0.27016515  0.55369455]]\n",
      "340 0.40884635 [[-3.0244536   0.2778527   0.56605554]]\n",
      "360 0.40536574 [[-3.10673     0.28518176  0.57803965]]\n",
      "380 0.4021226 [[-3.1861482  0.2921754  0.5896689]]\n",
      "400 0.39909473 [[-3.2628815   0.29885527  0.6009634 ]]\n",
      "420 0.39626274 [[-3.3370898  0.3052413  0.6119414]]\n",
      "440 0.3936093 [[-3.4089184   0.311352    0.62261945]]\n",
      "460 0.3911189 [[-3.4785025  0.3172043  0.6330132]]\n",
      "480 0.38877788 [[-3.5459661   0.32281393  0.64313686]]\n",
      "500 0.38657382 [[-3.6114244   0.32819548  0.65300363]]\n",
      "520 0.38449582 [[-3.674982    0.33336222  0.66262585]]\n",
      "540 0.38253367 [[-3.7367387  0.3383266  0.6720149]]\n",
      "560 0.38067862 [[-3.7967849  0.3431     0.6811816]]\n",
      "580 0.37892267 [[-3.8552055   0.34769312  0.69013584]]\n",
      "600 0.37725827 [[-3.9120789   0.35211572  0.6988868 ]]\n",
      "620 0.37567893 [[-3.967479    0.35637698  0.7074433 ]]\n",
      "640 0.37417856 [[-4.0214744   0.36048552  0.7158136 ]]\n",
      "660 0.3727517 [[-4.0741296   0.36444935  0.72400504]]\n",
      "680 0.3713933 [[-4.1255045   0.36827576  0.7320253 ]]\n",
      "700 0.37009874 [[-4.175656    0.37197167  0.7398811 ]]\n",
      "720 0.36886385 [[-4.2246366  0.3755436  0.7475788]]\n",
      "740 0.36768484 [[-4.2724943   0.37899747  0.75512415]]\n",
      "760 0.3665582 [[-4.319277   0.382339   0.7625232]]\n",
      "780 0.36548063 [[-4.365027    0.3855734   0.76978093]]\n",
      "800 0.36444917 [[-4.4097867   0.38870567  0.7769028 ]]\n",
      "820 0.363461 [[-4.4535966   0.39174062  0.78389364]]\n",
      "840 0.36251363 [[-4.496491    0.39468253  0.7907579 ]]\n",
      "860 0.36160457 [[-4.538506    0.39753556  0.79749995]]\n",
      "880 0.36073184 [[-4.5796747   0.40030363  0.80412406]]\n",
      "900 0.3598933 [[-4.6200275  0.4029904  0.810634 ]]\n",
      "920 0.3590869 [[-4.659596    0.40559936  0.8170339 ]]\n",
      "940 0.35831118 [[-4.698405    0.40813375  0.82332677]]\n",
      "960 0.35756442 [[-4.7364817   0.41059646  0.82951605]]\n",
      "980 0.35684502 [[-4.7738523   0.41299072  0.8356052 ]]\n",
      "1000 0.3561516 [[-4.810541    0.41531914  0.8415973 ]]\n",
      "1020 0.3554829 [[-4.84657     0.41758436  0.8474952 ]]\n",
      "1040 0.35483757 [[-4.881961    0.41978887  0.8533017 ]]\n",
      "1060 0.35421458 [[-4.9167356   0.42193508  0.8590197 ]]\n",
      "1080 0.35361275 [[-4.9509134   0.42402515  0.86465156]]\n",
      "1100 0.353031 [[-4.9845157  0.4260616  0.8702002]]\n",
      "1120 0.35246858 [[-5.0175543   0.42804572  0.8756673 ]]\n",
      "1140 0.3519244 [[-5.0500503   0.42997983  0.88105536]]\n",
      "1160 0.35139766 [[-5.082019    0.43186566  0.88636667]]\n",
      "1180 0.3508877 [[-5.1134768   0.43370497  0.8916031 ]]\n",
      "1200 0.35039353 [[-5.1444387  0.4354996  0.8967669]]\n",
      "1220 0.34991476 [[-5.174919    0.43725088  0.9018598 ]]\n",
      "1240 0.34945035 [[-5.204932    0.43896043  0.90688396]]\n",
      "1260 0.34899998 [[-5.234492    0.44062987  0.911841  ]]\n",
      "1280 0.348563 [[-5.2636094   0.44226027  0.9167325 ]]\n",
      "1300 0.34813872 [[-5.2922974   0.44385308  0.9215602 ]]\n",
      "1320 0.34772667 [[-5.3205676   0.4454095   0.92632574]]\n",
      "1340 0.34732637 [[-5.3484316   0.44693083  0.9310305 ]]\n",
      "1360 0.34693742 [[-5.3758993   0.4484181   0.93567604]]\n",
      "1380 0.34655926 [[-5.4029837   0.4498726   0.94026405]]\n",
      "1400 0.34619138 [[-5.429691   0.4512951  0.9447953]]\n",
      "1420 0.34583354 [[-5.456033   0.4526869  0.9492716]]\n",
      "1440 0.34548536 [[-5.4820194   0.45404875  0.9536941 ]]\n",
      "1460 0.34514633 [[-5.507658    0.45538166  0.9580639 ]]\n",
      "1480 0.34481612 [[-5.5329585   0.45668647  0.9623825 ]]\n",
      "1500 0.34449467 [[-5.5579286   0.457964    0.96665084]]\n",
      "1520 0.3441812 [[-5.5825763   0.45921534  0.97087   ]]\n",
      "1540 0.34387589 [[-5.6069093  0.460441   0.9750412]]\n",
      "1560 0.3435781 [[-5.6309347   0.4616418   0.97916526]]\n",
      "1580 0.3432877 [[-5.6546607   0.4628185   0.98324335]]\n",
      "1600 0.34300447 [[-5.6780934   0.4639718   0.98727643]]\n",
      "1620 0.34272814 [[-5.7012396   0.46510231  0.99126536]]\n",
      "1640 0.34245825 [[-5.7241073   0.46621093  0.99521124]]\n",
      "1660 0.3421949 [[-5.7467012   0.467298    0.99911493]]\n",
      "1680 0.34193775 [[-5.7690277   0.46836424  1.0029771 ]]\n",
      "1700 0.34168646 [[-5.7910933   0.46941015  1.006799  ]]\n",
      "1720 0.34144107 [[-5.812904   0.4704364  1.0105811]]\n",
      "1740 0.34120116 [[-5.8344636   0.47144338  1.0143242 ]]\n",
      "1760 0.3409668 [[-5.8557787   0.47243178  1.018029  ]]\n",
      "1780 0.34073746 [[-5.8768544   0.47340196  1.0216967 ]]\n",
      "1800 0.34051335 [[-5.897695   0.4743544  1.0253273]]\n",
      "1820 0.34029412 [[-5.9183064  0.4752896  1.0289221]]\n",
      "1840 0.34007964 [[-5.938693    0.47620818  1.0324814 ]]\n",
      "1860 0.33986965 [[-5.958859    0.47711048  1.0360061 ]]\n",
      "1880 0.33966422 [[-5.978809    0.47799674  1.0394968 ]]\n",
      "1900 0.33946314 [[-5.998548    0.47886738  1.0429543 ]]\n",
      "1920 0.3392663 [[-6.0180793   0.47972304  1.0463787 ]]\n",
      "1940 0.3390734 [[-6.037408    0.48056403  1.0497711 ]]\n",
      "1960 0.33888447 [[-6.056536    0.48139066  1.0531317 ]]\n",
      "1980 0.33869943 [[-6.0754714   0.48220333  1.0564616 ]]\n",
      "2000 0.33851805 [[-6.094216    0.48300254  1.059761  ]]\n",
      "**************************************************\n",
      "[1, 3, 2] : [[False]]\n",
      "[1, 5, 1] : [[False]]\n",
      "[1, 7, 3] : [[ True]]\n",
      "x_data 값 : [[1 1 1 1 1 1]\n",
      " [2 3 3 5 7 2]\n",
      " [1 2 5 5 5 5]]\n",
      "y_data 값 : [0 0 0 1 1 1]\n"
     ]
    }
   ],
   "source": [
    "\n",
    "#train.txt\n",
    "# #x0 x1 x2 y\n",
    "# ex) \n",
    "# x1를 수업에 참여한 횟수 x2를 공부한 시간\n",
    "# y값이 1이면 합격 0이면 불합격 이라고 가정한다.  \n",
    "# xy =np.array([[ 1,   2,   1,   0],\n",
    "#               [ 1,   3,   2,   0],\n",
    "#               [ 1,   3,   5,   0],\n",
    "#               [ 1,   5,   5,   1],\n",
    "#               [ 1,   7,   5,   1],\n",
    "#               [ 1,   2,   5,   1]])\n",
    "xy=np.array([[1,1,1,1,1,1],[2,3,3,5,7,2],[1,2,5,5,5,5],[0,0,0,1,1,1]])\n",
    "\n",
    "# 원본 파일은 6행 4열이였다, 하지만 numpy 형식 텍스트 읽는것은 열 우선이라서 4행 6열로 가지고 왔다.\n",
    "#xy = np.loadtxt('train.txt', unpack=True, dtype='float32')\n",
    "print(xy[0], xy[-1])        # [ 1.  1.  1.  1.  1.  1.] [ 0.  0.  0.  1.  1.  1.]\n",
    " \n",
    "x_data = xy[:-1]            # [1. 1. 1. 1. 1. 1.] [2. 3. 3. 5. 7. 2.] [1. 2. 5. 5. 5. 5.]\n",
    "y_data = xy[-1]             # [ 0.  0.  0.  1.  1.  1.]\n",
    " \n",
    "X = tf.placeholder(tf.float32)\n",
    "Y = tf.placeholder(tf.float32)\n",
    " \n",
    "# 1행 * 3열 W를 만들고 각 요소를 -1.0~1.0 사이값으로 초기화\n",
    "W = tf.Variable(tf.random_uniform([1, len(x_data)], -1.0, 1.0))\n",
    " \n",
    "# 행렬 곱셈. W = (1*3) *  X = (3*6)   ->h = 1행*6열 나온 값의 합\n",
    "#exp()함수는 e 즉, 실수값만 전달하며,  자연상수(a) 안에 e의 a승이 도니다.\n",
    "h = tf.matmul(W, X)\n",
    "hypothesis = tf.div(1., 1. + tf.exp(-h))    \n",
    " \n",
    "#cost function\n",
    "cost = -tf.reduce_mean(Y * tf.log(hypothesis) + (1 - Y) * tf.log(1 - hypothesis))\n",
    " \n",
    "#cost값 최소화 하기\n",
    "rate = tf.Variable(0.1)\n",
    "optimizer = tf.train.GradientDescentOptimizer(rate)\n",
    "train = optimizer.minimize(cost)\n",
    " \n",
    "#초기화를 시켜주는 구문 ->텐서플로우 구동하기 전에 그래프에 연결된 모든 변수를 초기화 해야한다.\n",
    "init = tf.initialize_all_variables()\n",
    " \n",
    "c = tf.exp(1.0)\n",
    "d = tf.log(10.0)\n",
    " \n",
    "#세션 실행\n",
    "sess = tf.Session()\n",
    "sess.run(init)\n",
    " \n",
    " \n",
    "# 파이썬 3.x버전부터는 xrange 가 range로 통합되므로써 range를 사용\n",
    "# 0부터 2000까지 2001번 반복되는 반복문 \n",
    "# 너무 많은 출력을 피하기 위해서 step별로 계속 진행되다가 20번에 한번씩 출력\n",
    "for step in range(2001):\n",
    "    sess.run(train, feed_dict={X: x_data, Y: y_data})\n",
    "    if step % 20 == 0:\n",
    "        print(step, sess.run(cost, feed_dict={X: x_data, Y: y_data}), sess.run(W))\n",
    " \n",
    "print('*'*50)\n",
    " \n",
    "# 결과값이 0또는 1로 딱 떨어지는 것이 아니므로, True /False는 기준치 0.5로 판단하게 된다.\n",
    "#3번 수업 참여하고 2시간 공부했을 가정 ->불합격\n",
    "print('[1, 3, 2] :', sess.run(hypothesis, feed_dict={X: [[1], [2], [2]]}) > 0.5)\n",
    "#5번 수업 참여하고 1시간 공부했을 가정 ->불합격\n",
    "print('[1, 5, 1] :', sess.run(hypothesis, feed_dict={X: [[1], [5], [1]]}) > 0.5)\n",
    "#7번 수업 참여하고 3시간 공부했을 가정 ->합격\n",
    "print('[1, 7, 3] :', sess.run(hypothesis, feed_dict={X: [[1], [7], [3]]}) > 0.5)\n",
    " \n",
    "#x_data 값\n",
    "print('x_data 값 :',x_data)\n",
    "#y_data값\n",
    "print('y_data 값 :',y_data)\n",
    "sess.close()\n"
   ]
  },
  {
   "cell_type": "code",
   "execution_count": null,
   "metadata": {},
   "outputs": [],
   "source": []
  },
  {
   "cell_type": "code",
   "execution_count": null,
   "metadata": {},
   "outputs": [],
   "source": []
  },
  {
   "cell_type": "code",
   "execution_count": null,
   "metadata": {},
   "outputs": [],
   "source": []
  },
  {
   "cell_type": "code",
   "execution_count": null,
   "metadata": {},
   "outputs": [],
   "source": []
  },
  {
   "cell_type": "code",
   "execution_count": 225,
   "metadata": {},
   "outputs": [
    {
     "name": "stderr",
     "output_type": "stream",
     "text": [
      "Using TensorFlow backend.\n"
     ]
    }
   ],
   "source": [
    "import keras\n",
    "from keras import Sequential\n",
    "from keras.layers import Dense"
   ]
  },
  {
   "cell_type": "code",
   "execution_count": 226,
   "metadata": {},
   "outputs": [
    {
     "data": {
      "text/plain": [
       "'2.3.1'"
      ]
     },
     "execution_count": 226,
     "metadata": {},
     "output_type": "execute_result"
    }
   ],
   "source": [
    "keras.__version__"
   ]
  },
  {
   "cell_type": "code",
   "execution_count": 227,
   "metadata": {},
   "outputs": [
    {
     "name": "stdout",
     "output_type": "stream",
     "text": [
      "WARNING:tensorflow:From /home/pirl/anaconda3/lib/python3.7/site-packages/tensorflow_core/python/ops/resource_variable_ops.py:1630: calling BaseResourceVariable.__init__ (from tensorflow.python.ops.resource_variable_ops) with constraint is deprecated and will be removed in a future version.\n",
      "Instructions for updating:\n",
      "If using Keras pass *_constraint arguments to layers.\n"
     ]
    }
   ],
   "source": [
    "classifier = Sequential()\n",
    "#First Hidden Layer\n",
    "classifier.add(Dense(4, activation='relu', kernel_initializer='random_normal', input_dim=82))\n",
    "#Second  Hidden Layer\n",
    "classifier.add(Dense(4, activation='relu', kernel_initializer='random_normal'))\n",
    "#Output Layer\n",
    "classifier.add(Dense(1, activation='sigmoid', kernel_initializer='random_normal'))"
   ]
  },
  {
   "cell_type": "code",
   "execution_count": 228,
   "metadata": {},
   "outputs": [
    {
     "name": "stdout",
     "output_type": "stream",
     "text": [
      "WARNING:tensorflow:From /home/pirl/anaconda3/lib/python3.7/site-packages/tensorflow_core/python/ops/nn_impl.py:183: where (from tensorflow.python.ops.array_ops) is deprecated and will be removed in a future version.\n",
      "Instructions for updating:\n",
      "Use tf.where in 2.0, which has the same broadcast rule as np.where\n"
     ]
    }
   ],
   "source": [
    "#Compiling the neural network\n",
    "classifier.compile(optimizer ='adam',loss='binary_crossentropy', metrics =['accuracy'])"
   ]
  },
  {
   "cell_type": "code",
   "execution_count": 230,
   "metadata": {},
   "outputs": [
    {
     "data": {
      "text/plain": [
       "array([[ 0.16438376, -0.97838254, -0.10575875, ..., -1.24814304,\n",
       "        -0.70802802, -0.99294789],\n",
       "       [ 0.39080768, -1.10248426, -0.20645739, ...,  0.91067157,\n",
       "         0.65734615,  0.4940908 ],\n",
       "       [ 0.69270624,  1.1490756 ,  1.40472087, ..., -1.26555283,\n",
       "        -0.13742389, -1.08172631],\n",
       "       ...,\n",
       "       [-0.21298943, -0.26922983, -0.10575875, ..., -1.0218157 ,\n",
       "        -0.85067906, -0.83758563],\n",
       "       [-0.28846407, -1.61661998,  0.69983038, ..., -1.78784669,\n",
       "        -1.31938959, -1.76975914],\n",
       "       [-2.32627934,  2.15961821, -0.40785467, ..., -0.69102959,\n",
       "        -0.62651315, -1.70317532]])"
      ]
     },
     "execution_count": 230,
     "metadata": {},
     "output_type": "execute_result"
    }
   ],
   "source": [
    "x_data"
   ]
  },
  {
   "cell_type": "code",
   "execution_count": 250,
   "metadata": {},
   "outputs": [
    {
     "name": "stdout",
     "output_type": "stream",
     "text": [
      "train size is (2800, 82)\n",
      "test size is (1200, 82)\n"
     ]
    }
   ],
   "source": [
    "df_train_x, df_test_x, df_train_y, df_test_y = train_test_split(x_data, y_data, test_size=0.3, random_state=1234)\n",
    "print(\"train size is {}\".format(df_train_x.shape))\n",
    "print(\"test size is {}\".format(df_test_x.shape))\n"
   ]
  },
  {
   "cell_type": "code",
   "execution_count": null,
   "metadata": {},
   "outputs": [],
   "source": []
  },
  {
   "cell_type": "code",
   "execution_count": null,
   "metadata": {},
   "outputs": [],
   "source": []
  },
  {
   "cell_type": "code",
   "execution_count": 251,
   "metadata": {
    "scrolled": true
   },
   "outputs": [
    {
     "name": "stdout",
     "output_type": "stream",
     "text": [
      "Epoch 1/100\n",
      "2800/2800 [==============================] - 1s 233us/step - loss: 0.1252 - accuracy: 0.9575\n",
      "Epoch 2/100\n",
      "2800/2800 [==============================] - 1s 181us/step - loss: 0.1244 - accuracy: 0.9575\n",
      "Epoch 3/100\n",
      "2800/2800 [==============================] - 0s 176us/step - loss: 0.1249 - accuracy: 0.9546\n",
      "Epoch 4/100\n",
      "2800/2800 [==============================] - 1s 185us/step - loss: 0.1244 - accuracy: 0.9579\n",
      "Epoch 5/100\n",
      "2800/2800 [==============================] - 1s 208us/step - loss: 0.1235 - accuracy: 0.9575\n",
      "Epoch 6/100\n",
      "2800/2800 [==============================] - 1s 212us/step - loss: 0.1230 - accuracy: 0.9568\n",
      "Epoch 7/100\n",
      "2800/2800 [==============================] - 1s 202us/step - loss: 0.1224 - accuracy: 0.9582\n",
      "Epoch 8/100\n",
      "2800/2800 [==============================] - 1s 199us/step - loss: 0.1225 - accuracy: 0.9582\n",
      "Epoch 9/100\n",
      "2800/2800 [==============================] - 1s 189us/step - loss: 0.1242 - accuracy: 0.9546\n",
      "Epoch 10/100\n",
      "2800/2800 [==============================] - 1s 192us/step - loss: 0.1226 - accuracy: 0.9568\n",
      "Epoch 11/100\n",
      "2800/2800 [==============================] - 1s 193us/step - loss: 0.1222 - accuracy: 0.9568\n",
      "Epoch 12/100\n",
      "2800/2800 [==============================] - 1s 196us/step - loss: 0.1218 - accuracy: 0.9550\n",
      "Epoch 13/100\n",
      "2800/2800 [==============================] - 1s 193us/step - loss: 0.1219 - accuracy: 0.9557\n",
      "Epoch 14/100\n",
      "2800/2800 [==============================] - 1s 209us/step - loss: 0.1227 - accuracy: 0.9579\n",
      "Epoch 15/100\n",
      "2800/2800 [==============================] - 1s 190us/step - loss: 0.1209 - accuracy: 0.9568\n",
      "Epoch 16/100\n",
      "2800/2800 [==============================] - 1s 199us/step - loss: 0.1219 - accuracy: 0.9568\n",
      "Epoch 17/100\n",
      "2800/2800 [==============================] - 1s 188us/step - loss: 0.1213 - accuracy: 0.9543\n",
      "Epoch 18/100\n",
      "2800/2800 [==============================] - 1s 188us/step - loss: 0.1209 - accuracy: 0.9571\n",
      "Epoch 19/100\n",
      "2800/2800 [==============================] - 1s 191us/step - loss: 0.1212 - accuracy: 0.9557\n",
      "Epoch 20/100\n",
      "2800/2800 [==============================] - 1s 190us/step - loss: 0.1204 - accuracy: 0.9571\n",
      "Epoch 21/100\n",
      "2800/2800 [==============================] - 1s 188us/step - loss: 0.1207 - accuracy: 0.9564\n",
      "Epoch 22/100\n",
      "2800/2800 [==============================] - 1s 199us/step - loss: 0.1195 - accuracy: 0.9607\n",
      "Epoch 23/100\n",
      "2800/2800 [==============================] - 1s 182us/step - loss: 0.1210 - accuracy: 0.9571\n",
      "Epoch 24/100\n",
      "2800/2800 [==============================] - 1s 200us/step - loss: 0.1194 - accuracy: 0.9579\n",
      "Epoch 25/100\n",
      "2800/2800 [==============================] - 1s 195us/step - loss: 0.1190 - accuracy: 0.9582\n",
      "Epoch 26/100\n",
      "2800/2800 [==============================] - 1s 204us/step - loss: 0.1190 - accuracy: 0.9571\n",
      "Epoch 27/100\n",
      "2800/2800 [==============================] - 1s 207us/step - loss: 0.1209 - accuracy: 0.9582\n",
      "Epoch 28/100\n",
      "2800/2800 [==============================] - 1s 220us/step - loss: 0.1182 - accuracy: 0.9589\n",
      "Epoch 29/100\n",
      "2800/2800 [==============================] - 1s 205us/step - loss: 0.1202 - accuracy: 0.9575\n",
      "Epoch 30/100\n",
      "2800/2800 [==============================] - 1s 182us/step - loss: 0.1185 - accuracy: 0.9571\n",
      "Epoch 31/100\n",
      "2800/2800 [==============================] - 1s 195us/step - loss: 0.1192 - accuracy: 0.9564\n",
      "Epoch 32/100\n",
      "2800/2800 [==============================] - 1s 210us/step - loss: 0.1197 - accuracy: 0.9557\n",
      "Epoch 33/100\n",
      "2800/2800 [==============================] - 1s 205us/step - loss: 0.1193 - accuracy: 0.9600\n",
      "Epoch 34/100\n",
      "2800/2800 [==============================] - 1s 201us/step - loss: 0.1182 - accuracy: 0.9579\n",
      "Epoch 35/100\n",
      "2800/2800 [==============================] - 1s 221us/step - loss: 0.1169 - accuracy: 0.9593\n",
      "Epoch 36/100\n",
      "2800/2800 [==============================] - 1s 187us/step - loss: 0.1185 - accuracy: 0.9582\n",
      "Epoch 37/100\n",
      "2800/2800 [==============================] - 1s 189us/step - loss: 0.1175 - accuracy: 0.9579\n",
      "Epoch 38/100\n",
      "2800/2800 [==============================] - 0s 174us/step - loss: 0.1182 - accuracy: 0.9600\n",
      "Epoch 39/100\n",
      "2800/2800 [==============================] - 1s 203us/step - loss: 0.1176 - accuracy: 0.9554\n",
      "Epoch 40/100\n",
      "2800/2800 [==============================] - 1s 188us/step - loss: 0.1178 - accuracy: 0.9579\n",
      "Epoch 41/100\n",
      "2800/2800 [==============================] - 1s 190us/step - loss: 0.1171 - accuracy: 0.9575\n",
      "Epoch 42/100\n",
      "2800/2800 [==============================] - 1s 201us/step - loss: 0.1169 - accuracy: 0.9586\n",
      "Epoch 43/100\n",
      "2800/2800 [==============================] - 1s 183us/step - loss: 0.1178 - accuracy: 0.9571\n",
      "Epoch 44/100\n",
      "2800/2800 [==============================] - 1s 179us/step - loss: 0.1166 - accuracy: 0.9568\n",
      "Epoch 45/100\n",
      "2800/2800 [==============================] - 1s 193us/step - loss: 0.1169 - accuracy: 0.9607\n",
      "Epoch 46/100\n",
      "2800/2800 [==============================] - 1s 190us/step - loss: 0.1149 - accuracy: 0.9564\n",
      "Epoch 47/100\n",
      "2800/2800 [==============================] - 0s 173us/step - loss: 0.1170 - accuracy: 0.9579\n",
      "Epoch 48/100\n",
      "2800/2800 [==============================] - 0s 170us/step - loss: 0.1161 - accuracy: 0.9611\n",
      "Epoch 49/100\n",
      "2800/2800 [==============================] - 0s 175us/step - loss: 0.1164 - accuracy: 0.9589\n",
      "Epoch 50/100\n",
      "2800/2800 [==============================] - 1s 196us/step - loss: 0.1161 - accuracy: 0.9589\n",
      "Epoch 51/100\n",
      "2800/2800 [==============================] - 1s 182us/step - loss: 0.1148 - accuracy: 0.9589\n",
      "Epoch 52/100\n",
      "2800/2800 [==============================] - 1s 184us/step - loss: 0.1168 - accuracy: 0.9586\n",
      "Epoch 53/100\n",
      "2800/2800 [==============================] - 0s 176us/step - loss: 0.1147 - accuracy: 0.9596\n",
      "Epoch 54/100\n",
      "2800/2800 [==============================] - 1s 187us/step - loss: 0.1158 - accuracy: 0.9571\n",
      "Epoch 55/100\n",
      "2800/2800 [==============================] - 1s 192us/step - loss: 0.1154 - accuracy: 0.9586\n",
      "Epoch 56/100\n",
      "2800/2800 [==============================] - 1s 191us/step - loss: 0.1165 - accuracy: 0.9554\n",
      "Epoch 57/100\n",
      "2800/2800 [==============================] - 1s 195us/step - loss: 0.1155 - accuracy: 0.9571\n",
      "Epoch 58/100\n",
      "2800/2800 [==============================] - 1s 190us/step - loss: 0.1139 - accuracy: 0.9582\n",
      "Epoch 59/100\n",
      "2800/2800 [==============================] - 1s 186us/step - loss: 0.1163 - accuracy: 0.9589\n",
      "Epoch 60/100\n",
      "2800/2800 [==============================] - 1s 198us/step - loss: 0.1149 - accuracy: 0.9575\n",
      "Epoch 61/100\n",
      "2800/2800 [==============================] - 1s 188us/step - loss: 0.1144 - accuracy: 0.9596\n",
      "Epoch 62/100\n",
      "2800/2800 [==============================] - 0s 176us/step - loss: 0.1141 - accuracy: 0.9575\n",
      "Epoch 63/100\n",
      "2800/2800 [==============================] - 1s 192us/step - loss: 0.1138 - accuracy: 0.9589\n",
      "Epoch 64/100\n",
      "2800/2800 [==============================] - 1s 184us/step - loss: 0.1142 - accuracy: 0.9575\n",
      "Epoch 65/100\n",
      "2800/2800 [==============================] - 1s 197us/step - loss: 0.1142 - accuracy: 0.9582\n",
      "Epoch 66/100\n",
      "2800/2800 [==============================] - 0s 171us/step - loss: 0.1139 - accuracy: 0.9561\n",
      "Epoch 67/100\n",
      "2800/2800 [==============================] - 1s 188us/step - loss: 0.1140 - accuracy: 0.9596\n",
      "Epoch 68/100\n",
      "2800/2800 [==============================] - 1s 191us/step - loss: 0.1129 - accuracy: 0.9582\n",
      "Epoch 69/100\n",
      "2800/2800 [==============================] - 0s 177us/step - loss: 0.1133 - accuracy: 0.9596\n",
      "Epoch 70/100\n",
      "2800/2800 [==============================] - 1s 195us/step - loss: 0.1145 - accuracy: 0.9586\n",
      "Epoch 71/100\n",
      "2800/2800 [==============================] - 0s 172us/step - loss: 0.1136 - accuracy: 0.9596\n",
      "Epoch 72/100\n",
      "2800/2800 [==============================] - 1s 179us/step - loss: 0.1136 - accuracy: 0.9586\n",
      "Epoch 73/100\n",
      "2800/2800 [==============================] - 1s 184us/step - loss: 0.1124 - accuracy: 0.9586\n",
      "Epoch 74/100\n",
      "2800/2800 [==============================] - 1s 191us/step - loss: 0.1134 - accuracy: 0.9589\n",
      "Epoch 75/100\n",
      "2800/2800 [==============================] - 0s 176us/step - loss: 0.1119 - accuracy: 0.9604\n",
      "Epoch 76/100\n",
      "2800/2800 [==============================] - 1s 195us/step - loss: 0.1125 - accuracy: 0.9575\n",
      "Epoch 77/100\n",
      "2800/2800 [==============================] - 1s 206us/step - loss: 0.1135 - accuracy: 0.9586\n",
      "Epoch 78/100\n"
     ]
    },
    {
     "name": "stdout",
     "output_type": "stream",
     "text": [
      "2800/2800 [==============================] - 1s 182us/step - loss: 0.1126 - accuracy: 0.9593\n",
      "Epoch 79/100\n",
      "2800/2800 [==============================] - 1s 217us/step - loss: 0.1133 - accuracy: 0.9593\n",
      "Epoch 80/100\n",
      "2800/2800 [==============================] - 1s 200us/step - loss: 0.1130 - accuracy: 0.9593\n",
      "Epoch 81/100\n",
      "2800/2800 [==============================] - 1s 215us/step - loss: 0.1121 - accuracy: 0.9596\n",
      "Epoch 82/100\n",
      "2800/2800 [==============================] - 1s 201us/step - loss: 0.1126 - accuracy: 0.9596\n",
      "Epoch 83/100\n",
      "2800/2800 [==============================] - 1s 210us/step - loss: 0.1121 - accuracy: 0.9586\n",
      "Epoch 84/100\n",
      "2800/2800 [==============================] - 1s 213us/step - loss: 0.1122 - accuracy: 0.9600\n",
      "Epoch 85/100\n",
      "2800/2800 [==============================] - 1s 208us/step - loss: 0.1134 - accuracy: 0.9611\n",
      "Epoch 86/100\n",
      "2800/2800 [==============================] - 1s 212us/step - loss: 0.1129 - accuracy: 0.9596\n",
      "Epoch 87/100\n",
      "2800/2800 [==============================] - 1s 212us/step - loss: 0.1121 - accuracy: 0.9582\n",
      "Epoch 88/100\n",
      "2800/2800 [==============================] - 1s 222us/step - loss: 0.1118 - accuracy: 0.9614\n",
      "Epoch 89/100\n",
      "2800/2800 [==============================] - 1s 200us/step - loss: 0.1130 - accuracy: 0.9586\n",
      "Epoch 90/100\n",
      "2800/2800 [==============================] - 1s 208us/step - loss: 0.1132 - accuracy: 0.9593\n",
      "Epoch 91/100\n",
      "2800/2800 [==============================] - 1s 195us/step - loss: 0.1111 - accuracy: 0.9568\n",
      "Epoch 92/100\n",
      "2800/2800 [==============================] - 1s 191us/step - loss: 0.1119 - accuracy: 0.9593\n",
      "Epoch 93/100\n",
      "2800/2800 [==============================] - 1s 206us/step - loss: 0.1125 - accuracy: 0.9586\n",
      "Epoch 94/100\n",
      "2800/2800 [==============================] - 1s 217us/step - loss: 0.1107 - accuracy: 0.9604\n",
      "Epoch 95/100\n",
      "2800/2800 [==============================] - 1s 187us/step - loss: 0.1111 - accuracy: 0.9557\n",
      "Epoch 96/100\n",
      "2800/2800 [==============================] - 1s 208us/step - loss: 0.1124 - accuracy: 0.9600\n",
      "Epoch 97/100\n",
      "2800/2800 [==============================] - 1s 193us/step - loss: 0.1116 - accuracy: 0.9589\n",
      "Epoch 98/100\n",
      "2800/2800 [==============================] - 1s 205us/step - loss: 0.1109 - accuracy: 0.9582\n",
      "Epoch 99/100\n",
      "2800/2800 [==============================] - 1s 197us/step - loss: 0.1117 - accuracy: 0.9607\n",
      "Epoch 100/100\n",
      "2800/2800 [==============================] - 1s 205us/step - loss: 0.1115 - accuracy: 0.9596\n"
     ]
    },
    {
     "data": {
      "text/plain": [
       "<keras.callbacks.callbacks.History at 0x7f2d94d98240>"
      ]
     },
     "execution_count": 251,
     "metadata": {},
     "output_type": "execute_result"
    }
   ],
   "source": [
    "#Fitting the data to the training dataset\n",
    "classifier.fit(df_train_x,df_train_y, batch_size=10, epochs=100)"
   ]
  },
  {
   "cell_type": "code",
   "execution_count": 252,
   "metadata": {
    "scrolled": true
   },
   "outputs": [
    {
     "name": "stdout",
     "output_type": "stream",
     "text": [
      "2800/2800 [==============================] - 0s 32us/step\n"
     ]
    },
    {
     "data": {
      "text/plain": [
       "[0.09970754599464791, 0.9642857313156128]"
      ]
     },
     "execution_count": 252,
     "metadata": {},
     "output_type": "execute_result"
    }
   ],
   "source": [
    "eval_model = classifier.evaluate(df_train_x, df_train_y)\n",
    "eval_model"
   ]
  },
  {
   "cell_type": "code",
   "execution_count": 253,
   "metadata": {},
   "outputs": [],
   "source": [
    "from sklearn.metrics import accuracy_score\n"
   ]
  },
  {
   "cell_type": "code",
   "execution_count": 260,
   "metadata": {},
   "outputs": [
    {
     "data": {
      "text/plain": [
       "array([0.0, 1.0], dtype=object)"
      ]
     },
     "execution_count": 260,
     "metadata": {},
     "output_type": "execute_result"
    }
   ],
   "source": [
    "np.unique(df_test_y)"
   ]
  },
  {
   "cell_type": "code",
   "execution_count": 242,
   "metadata": {},
   "outputs": [
    {
     "data": {
      "text/plain": [
       "(1200,)"
      ]
     },
     "execution_count": 242,
     "metadata": {},
     "output_type": "execute_result"
    }
   ],
   "source": [
    "df_test_y.shape"
   ]
  },
  {
   "cell_type": "code",
   "execution_count": 269,
   "metadata": {},
   "outputs": [],
   "source": [
    "df_test_y=df_test_y.reshape((1200,1))\n"
   ]
  },
  {
   "cell_type": "code",
   "execution_count": 256,
   "metadata": {},
   "outputs": [],
   "source": [
    "y_pred=classifier.predict(df_test_x)\n",
    "y_pred =(y_pred>0.5)"
   ]
  },
  {
   "cell_type": "code",
   "execution_count": 262,
   "metadata": {
    "scrolled": true
   },
   "outputs": [
    {
     "data": {
      "text/plain": [
       "(1200, 1)"
      ]
     },
     "execution_count": 262,
     "metadata": {},
     "output_type": "execute_result"
    }
   ],
   "source": [
    "y_pred.shape"
   ]
  },
  {
   "cell_type": "code",
   "execution_count": 268,
   "metadata": {},
   "outputs": [
    {
     "data": {
      "text/plain": [
       "(1200, 1)"
      ]
     },
     "execution_count": 268,
     "metadata": {},
     "output_type": "execute_result"
    }
   ],
   "source": [
    "y_pred=np.where(y_pred==False, 0, 1)\n",
    "y_pred.shape"
   ]
  },
  {
   "cell_type": "code",
   "execution_count": 272,
   "metadata": {},
   "outputs": [
    {
     "data": {
      "text/plain": [
       "(1200, 1)"
      ]
     },
     "execution_count": 272,
     "metadata": {},
     "output_type": "execute_result"
    }
   ],
   "source": [
    "df_test_y.shape"
   ]
  },
  {
   "cell_type": "code",
   "execution_count": 282,
   "metadata": {},
   "outputs": [
    {
     "name": "stdout",
     "output_type": "stream",
     "text": [
      "[[0]\n",
      " [0]\n",
      " [0]\n",
      " ...\n",
      " [0]\n",
      " [0]\n",
      " [0]]\n",
      "[[0]\n",
      " [0]\n",
      " [0]\n",
      " ...\n",
      " [0]\n",
      " [0]\n",
      " [0]]\n"
     ]
    }
   ],
   "source": [
    "print(y_pred)\n",
    "print(df_test_y.astype(int))"
   ]
  },
  {
   "cell_type": "code",
   "execution_count": 283,
   "metadata": {},
   "outputs": [
    {
     "data": {
      "text/plain": [
       "0.92"
      ]
     },
     "execution_count": 283,
     "metadata": {},
     "output_type": "execute_result"
    }
   ],
   "source": [
    "accuracy_score(df_test_y.astype(int),  )\n"
   ]
  },
  {
   "cell_type": "code",
   "execution_count": 278,
   "metadata": {},
   "outputs": [
    {
     "name": "stdout",
     "output_type": "stream",
     "text": [
      "[[1041   38]\n",
      " [  58   63]]\n"
     ]
    }
   ],
   "source": [
    "\n",
    "#Now is the moment of truth. we check the accuracy on the test dataset\n",
    "from sklearn.metrics import confusion_matrix\n",
    "cm = confusion_matrix(df_test_y.astype(int), y_pred)\n",
    "print(cm)"
   ]
  },
  {
   "cell_type": "code",
   "execution_count": null,
   "metadata": {},
   "outputs": [],
   "source": []
  },
  {
   "cell_type": "code",
   "execution_count": null,
   "metadata": {},
   "outputs": [],
   "source": []
  },
  {
   "cell_type": "code",
   "execution_count": null,
   "metadata": {},
   "outputs": [],
   "source": []
  },
  {
   "cell_type": "code",
   "execution_count": null,
   "metadata": {},
   "outputs": [],
   "source": []
  },
  {
   "cell_type": "code",
   "execution_count": null,
   "metadata": {},
   "outputs": [],
   "source": []
  },
  {
   "cell_type": "code",
   "execution_count": null,
   "metadata": {},
   "outputs": [],
   "source": []
  },
  {
   "cell_type": "code",
   "execution_count": null,
   "metadata": {},
   "outputs": [],
   "source": []
  },
  {
   "cell_type": "code",
   "execution_count": null,
   "metadata": {},
   "outputs": [],
   "source": []
  },
  {
   "cell_type": "code",
   "execution_count": null,
   "metadata": {},
   "outputs": [],
   "source": []
  },
  {
   "cell_type": "code",
   "execution_count": null,
   "metadata": {},
   "outputs": [],
   "source": []
  },
  {
   "cell_type": "code",
   "execution_count": null,
   "metadata": {},
   "outputs": [],
   "source": []
  },
  {
   "cell_type": "code",
   "execution_count": null,
   "metadata": {},
   "outputs": [],
   "source": []
  },
  {
   "cell_type": "code",
   "execution_count": null,
   "metadata": {},
   "outputs": [],
   "source": []
  },
  {
   "cell_type": "code",
   "execution_count": null,
   "metadata": {},
   "outputs": [],
   "source": []
  },
  {
   "cell_type": "code",
   "execution_count": null,
   "metadata": {},
   "outputs": [],
   "source": []
  },
  {
   "cell_type": "code",
   "execution_count": null,
   "metadata": {},
   "outputs": [],
   "source": []
  },
  {
   "cell_type": "code",
   "execution_count": null,
   "metadata": {},
   "outputs": [],
   "source": []
  },
  {
   "cell_type": "code",
   "execution_count": null,
   "metadata": {},
   "outputs": [],
   "source": []
  },
  {
   "cell_type": "code",
   "execution_count": null,
   "metadata": {},
   "outputs": [],
   "source": []
  }
 ],
 "metadata": {
  "kernelspec": {
   "display_name": "Python 3",
   "language": "python",
   "name": "python3"
  },
  "language_info": {
   "codemirror_mode": {
    "name": "ipython",
    "version": 3
   },
   "file_extension": ".py",
   "mimetype": "text/x-python",
   "name": "python",
   "nbconvert_exporter": "python",
   "pygments_lexer": "ipython3",
   "version": "3.7.3"
  }
 },
 "nbformat": 4,
 "nbformat_minor": 2
}
