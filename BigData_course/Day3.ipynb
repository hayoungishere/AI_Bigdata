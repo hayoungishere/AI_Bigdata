{
 "cells": [
  {
   "cell_type": "markdown",
   "metadata": {},
   "source": [
    "### 디폴트 매개변수\n",
    "    매개 변수의 기본값을 지정해줄 수 있다.\n",
    "    앞 매개변수가 디폴트 값을 가지면, 뒤에 나타나는 모든 매개변수는 디폴트 값을 가져야된다."
   ]
  },
  {
   "cell_type": "code",
   "execution_count": 2,
   "metadata": {},
   "outputs": [
    {
     "name": "stdout",
     "output_type": "stream",
     "text": [
      "MY name is Chulsoo kim.\n",
      "MY name is Chulsoo Lee.\n"
     ]
    }
   ],
   "source": [
    "def printName(first, second=\"Lee\"): # second의 default value = \"Lee\"\n",
    "    print(\"MY name is %s %s\"%(first,second)+\".\")\n",
    "\n",
    "printName(\"Chulsoo\",\"kim\")\n",
    "printName(\"Chulsoo\")"
   ]
  },
  {
   "cell_type": "markdown",
   "metadata": {},
   "source": [
    "# 연습문제 4\n",
    "\n",
    "    초를 넘겨주면 시간, 분, 초를 리턴해주는 함수를 작성하시오."
   ]
  },
  {
   "cell_type": "code",
   "execution_count": 14,
   "metadata": {},
   "outputs": [
    {
     "name": "stdout",
     "output_type": "stream",
     "text": [
      "0시간 1분 40초\n"
     ]
    }
   ],
   "source": [
    "def hour_min_sec(second):\n",
    "    sec = second % 60\n",
    "    second //=60\n",
    "    \n",
    "    minu = second %60\n",
    "    second //=60\n",
    "    \n",
    "    hour = second % 60\n",
    "\n",
    "    return (hour, minu, sec)\n",
    "\n",
    "hour, minu, sec = hour_min_sec(100)\n",
    "print(\"%d시간 %d분 %d초\"%(hour, minu, sec))"
   ]
  },
  {
   "cell_type": "markdown",
   "metadata": {},
   "source": [
    "# 연습문제 5\n",
    "   \n",
    "   숫자로 구성된 리스트를 입력받아 최대값, 최소값을 리턴하고, 두 수를 리스트에서 제거하는 함수를 작성하시오."
   ]
  },
  {
   "cell_type": "code",
   "execution_count": 8,
   "metadata": {},
   "outputs": [
    {
     "name": "stdout",
     "output_type": "stream",
     "text": [
      "1\n",
      "9\n",
      "[3, 5, 2]\n"
     ]
    }
   ],
   "source": [
    "def get_min_max(l):\n",
    "   \n",
    "    mini=min(l)\n",
    "    l.remove(mini) # 참조된 리스트에서 최소값을 제거한다.\n",
    "    \n",
    "    maxi= max(l)\n",
    "    l.remove(maxi) # 참조된 리스트에서 최대값을 제거한다.\n",
    "       \n",
    "        \n",
    "    return mini, maxi\n",
    "\n",
    "l=[3,5,9,1,2]\n",
    "(min_val,max_val) = get_min_max(l)\n",
    "\n",
    "print(min_val)\n",
    "print(max_val)\n",
    "print(l)"
   ]
  },
  {
   "cell_type": "markdown",
   "metadata": {},
   "source": [
    "# 연습문제 6\n",
    "\n",
    "    Dot product(스칼라곱, 내적)을 계산하는 spareVectorDotProduct(v1,v2)함수 작성"
   ]
  },
  {
   "cell_type": "code",
   "execution_count": 19,
   "metadata": {},
   "outputs": [
    {
     "name": "stdout",
     "output_type": "stream",
     "text": [
      "<class 'dict_keys'>\n",
      "15\n",
      "<class 'dict_keys'>\n",
      "0\n",
      "<class 'dict_keys'>\n",
      "3\n"
     ]
    }
   ],
   "source": [
    "def sparseVectorDotProduct(v1, v2):\n",
    "    res=0\n",
    "    \n",
    "    v2_keys=v2.keys() #keys() 반복호출을 막기 위해 미리 dict_keys를 저장함.\n",
    "    \n",
    "    for k in v1.keys():\n",
    "        if k in v2_keys: # v2에 k라는 키가 존재한다면 같은 키를 사용하는 값으로 계산한다.\n",
    "            res+=(v1[k]*v2[k])\n",
    "    \n",
    "    return res\n",
    "\n",
    "\n",
    "#test case1\n",
    "v1={'a':5}; v2={'a':3, 'b':2}\n",
    "print(sparseVectorDotProduct(v1,v2))\n",
    "\n",
    "#test case2\n",
    "v1={'c':5}; v2={'a':2, 'b':1}\n",
    "print(sparseVectorDotProduct(v1,v2))\n",
    "\n",
    "#test case3\n",
    "v1={'a':5, 'b':4}; v2={'a':-1, 'b':2}\n",
    "print(sparseVectorDotProduct(v1,v2))"
   ]
  },
  {
   "cell_type": "markdown",
   "metadata": {},
   "source": [
    "#### 다른 방법"
   ]
  },
  {
   "cell_type": "code",
   "execution_count": 43,
   "metadata": {},
   "outputs": [
    {
     "name": "stdout",
     "output_type": "stream",
     "text": [
      "15\n",
      "0\n",
      "3\n"
     ]
    }
   ],
   "source": [
    "def dot_product(v1,v2):\n",
    "    res =0\n",
    "    \n",
    "    s3 = set(v1.keys()) & set(v2.keys())\n",
    "    # s1 = set(v2.keys())\n",
    "    # s2 = set(v2.keys())\n",
    "    # s3 = intersect s1 and s2\n",
    "    for k in s3:\n",
    "        res+=v1[k]*v2[k]\n",
    "            \n",
    "    \n",
    "    return res\n",
    "\n",
    "#test case1\n",
    "v1={'a':5}; v2={'a':3, 'b':2}\n",
    "print(dot_product(v1,v2))\n",
    "\n",
    "#test case2\n",
    "v1={'c':5}; v2={'a':2, 'b':1}\n",
    "print(dot_product(v1,v2))\n",
    "\n",
    "#test case3\n",
    "v1={'a':5, 'b':4}; v2={'a':-1, 'b':2}\n",
    "print(dot_product(v1,v2))"
   ]
  },
  {
   "cell_type": "code",
   "execution_count": 41,
   "metadata": {},
   "outputs": [
    {
     "name": "stdout",
     "output_type": "stream",
     "text": [
      "15\n",
      "0\n",
      "3\n"
     ]
    }
   ],
   "source": [
    "def dot_product2(v1,v2):\n",
    "    res=0\n",
    "    for k in v1:\n",
    "        try:\n",
    "            res+=v1[k]*v2[k]\n",
    "        except KeyError: # key Error에 대한 예외처리.\n",
    "            pass\n",
    "    return res\n",
    "\n",
    "#test case1\n",
    "v1={'a':5}; v2={'a':3, 'b':2}\n",
    "print(dot_product2(v1,v2))\n",
    "\n",
    "#test case2\n",
    "v1={'c':5}; v2={'a':2, 'b':1}\n",
    "print(dot_product2(v1,v2))\n",
    "\n",
    "#test case3\n",
    "v1={'a':5, 'b':4}; v2={'a':-1, 'b':2}\n",
    "print(dot_product2(v1,v2))"
   ]
  },
  {
   "cell_type": "code",
   "execution_count": 42,
   "metadata": {},
   "outputs": [
    {
     "data": {
      "text/plain": [
       "3"
      ]
     },
     "execution_count": 42,
     "metadata": {},
     "output_type": "execute_result"
    }
   ],
   "source": [
    "sum([v1[k]*v2[k] for k in v1.keys() if k in v2])"
   ]
  },
  {
   "cell_type": "code",
   "execution_count": 17,
   "metadata": {},
   "outputs": [
    {
     "name": "stdout",
     "output_type": "stream",
     "text": [
      "[1, 2, 3, 4, 5, 6]\n"
     ]
    }
   ],
   "source": [
    "t=[1,2,3]\n",
    "\n",
    "def test(a):\n",
    "    a+=[4,5,6] # 리스트 연결\n",
    "\n",
    "test(t)\n",
    "print(t)"
   ]
  },
  {
   "cell_type": "code",
   "execution_count": 44,
   "metadata": {},
   "outputs": [],
   "source": [
    "import random"
   ]
  },
  {
   "cell_type": "code",
   "execution_count": 46,
   "metadata": {},
   "outputs": [
    {
     "data": {
      "text/plain": [
       "'d'"
      ]
     },
     "execution_count": 46,
     "metadata": {},
     "output_type": "execute_result"
    }
   ],
   "source": [
    "random.choice('abcdes')"
   ]
  },
  {
   "cell_type": "code",
   "execution_count": 47,
   "metadata": {},
   "outputs": [
    {
     "data": {
      "text/plain": [
       "[2, 6, 5]"
      ]
     },
     "execution_count": 47,
     "metadata": {},
     "output_type": "execute_result"
    }
   ],
   "source": [
    "random.sample(list(range(1,7)),3)"
   ]
  },
  {
   "cell_type": "markdown",
   "metadata": {},
   "source": [
    "# 연습문제7\n",
    "    1~45 번호 중 6개 임의 선택 후 출력"
   ]
  },
  {
   "cell_type": "code",
   "execution_count": 56,
   "metadata": {},
   "outputs": [
    {
     "name": "stdout",
     "output_type": "stream",
     "text": [
      " ** 로또 추첨을 시작합니다. **\n",
      "추첨된 로또 번호 ==> [42, 21, 22, 20, 28, 1]\n"
     ]
    },
    {
     "data": {
      "text/plain": [
       "[45, 35, 29, 22, 5, 4]"
      ]
     },
     "execution_count": 56,
     "metadata": {},
     "output_type": "execute_result"
    }
   ],
   "source": [
    "print(\" ** 로또 추첨을 시작합니다. **\")\n",
    "print(\"추첨된 로또 번호 ==>\",random.sample(list(range(1,46)),6))\n",
    "random.sample([x for x in range(1,46)],6) #list comprehension"
   ]
  },
  {
   "cell_type": "code",
   "execution_count": 52,
   "metadata": {},
   "outputs": [],
   "source": [
    "import time\n"
   ]
  },
  {
   "cell_type": "code",
   "execution_count": 58,
   "metadata": {},
   "outputs": [
    {
     "data": {
      "text/plain": [
       "'date: 01th'"
      ]
     },
     "execution_count": 58,
     "metadata": {},
     "output_type": "execute_result"
    }
   ],
   "source": [
    "t=time.localtime()\n",
    "time.strftime('date: %dth',t) #strftime "
   ]
  },
  {
   "cell_type": "markdown",
   "metadata": {},
   "source": [
    "# 연습문제 8\n",
    "    1. 문장을 입력받으면 해당 문장에서 각 알파벳이 몇 개씩 나오는지 저장하는 딕셔너리를 반환하는 함수를 작성하시오.\n",
    "    2. 1의 함수를 통해 생성된 딕셔너리를 입력받으면, 가장 많이 등장한 알파벳을 리턴하는 함수를 작성하시오.(여러 개일 경우 하나만 리턴 해도 무관)\n",
    "   "
   ]
  },
  {
   "cell_type": "code",
   "execution_count": 86,
   "metadata": {},
   "outputs": [
    {
     "name": "stdout",
     "output_type": "stream",
     "text": [
      "{'r': 1, 'e': 2, 'd': 1, ' ': 1, 'a': 1, 'p': 2, 'l': 1}\n",
      "e\n"
     ]
    }
   ],
   "source": [
    "def letter_dict(sen):\n",
    "    #sen=sen.split()\n",
    "    d={}\n",
    "    #for word in sen:\n",
    "    for j in range(len(sen)):\n",
    "        if sen[j] in d.keys():\n",
    "            d[sen[j]]+=1\n",
    "        else:\n",
    "            d[sen[j]]=1\n",
    "    return d\n",
    "\n",
    "def max_letter(dic):\n",
    "    res=\"\"\n",
    "#     maxx=0\n",
    "#     for k,v in dic.items():\n",
    "#         if v>maxx:\n",
    "#             maxx=v\n",
    "#             res=k\n",
    "\n",
    "    #sorting\n",
    "    sortedList=sorted(dic.items(), key=lambda x:x[1], reverse=True)\n",
    "    res=sortedList[0][0]\n",
    "    return res\n",
    "\n",
    "a=letter_dict('red apple')\n",
    "print(a)\n",
    "print(max_letter(a))"
   ]
  },
  {
   "cell_type": "markdown",
   "metadata": {},
   "source": [
    "# 연습문제 9\n",
    "    1. 'yellow banana'를 letter_dict()에 입력하여 새로운 딕셔너리 b를 리턴 받는다.\n",
    "    2. 두 딕셔너리 a, b를 입력하면 각 딕셔너리에 등장한 값을 모두 더한 새로운 딕셔너리 c를 리턴하는 함수를 작성하시오."
   ]
  },
  {
   "cell_type": "code",
   "execution_count": 74,
   "metadata": {},
   "outputs": [
    {
     "name": "stdout",
     "output_type": "stream",
     "text": [
      "{'r': 1, 'e': 3, 'd': 1, ' ': 2, 'a': 4, 'p': 2, 'l': 3, 'y': 1, 'o': 1, 'w': 1, 'b': 1, 'n': 2}\n",
      "a\n"
     ]
    }
   ],
   "source": [
    "\n",
    "def comb_dict(dict1, dict2):\n",
    "    \n",
    "    d={}\n",
    " \n",
    "    for k,v in dict1.items():\n",
    "        if k in dict2: # v2에 k라는 키가 존재한다면 같은 키를 사용하는 값으로 계산한다.\n",
    "            d[k]=dict1[k]+dict2[k]\n",
    "        else :\n",
    "            d[k]=dict1[k]\n",
    "            \n",
    "    for k,v in dict2.items():\n",
    "        if k not in dict1:\n",
    "            d[k]=dict2[k]\n",
    "            \n",
    "    return d\n",
    "\n",
    "\n",
    "b=letter_dict('yellow banana')\n",
    "c=comb_dict(a,b)\n",
    "\n",
    "print(c)\n",
    "print(max_letter(c))\n"
   ]
  },
  {
   "cell_type": "markdown",
   "metadata": {},
   "source": [
    "++++++++++++++++++++++++++++++++++++++++++++++++++++++++++++++++++++++++++++++++++++++++++++++++++\n",
    "\n",
    "# OOP  & Numpy"
   ]
  },
  {
   "cell_type": "code",
   "execution_count": 117,
   "metadata": {},
   "outputs": [
    {
     "name": "stdout",
     "output_type": "stream",
     "text": [
      "1500 1000\n",
      "Sorry, minimum balance must be maintained\n",
      "1500\n",
      "1000\n"
     ]
    }
   ],
   "source": [
    "class Account:\n",
    "    # 계좌의 속성(Attribute)\n",
    "#     number = \"OOOO-OOO-OOOOOO\"\n",
    "#     balance = 0\n",
    "#     rate = 1.0\n",
    "\n",
    "    num_acc = 0\n",
    "\n",
    "    def __init__(self, num=\"OOO-OOO-OOOOO\", amnt=0, rate=1.0):\n",
    "        #Constructor\n",
    "        self.number = num\n",
    "        self.balance = amnt\n",
    "        self.rate = rate\n",
    "        Account.num_acc+=1 #static varible, 모든 인스턴스가 공유하는 변수.\n",
    "        \n",
    "    # 계좌의 기능(Method)\n",
    "    def deposit(self, money): #입금\n",
    "        self.balance += money\n",
    "        \n",
    "    def withdraw(self, money): #인출\n",
    "        self.balance -= money\n",
    "        return True\n",
    "    \n",
    "    def obtain_interest(self): #이자 획득\n",
    "        self.balance += self.balance*(self.rate/100)\n",
    "        \n",
    "    def __add__(self, another): #두 계좌 통합 기능\n",
    "        new_acc=Account(amnt=self.balance+another.balance, rate=self.rate)\n",
    "        return new_acc\n",
    "    \n",
    "    #연습문제1\n",
    "    def transfer(self, another, money):\n",
    "#         another.deposit(money)\n",
    "#         self.withdraw(money)\n",
    "        \n",
    "        if self.withdraw(money):\n",
    "            another.deposit(money)\n",
    "        #another.balance+=money\n",
    "        #self.balance-=money\n",
    "        \n",
    "        \n",
    "    def get_balance(self):\n",
    "        return self.balance\n",
    "    \n",
    "    def set_balance(self, money):\n",
    "        self.balance=money\n",
    "        \n",
    "        \n",
    "class MinBalanceAccount(Account): #Account 클래스를 상속받음\n",
    "    #잔액이 일정금액 이상 유지되어야 하는 계좌\n",
    "    def __init__(self, min_balance=0, num='OOOO-OOO-OOOOO', amnt=0, rate=1.0):\n",
    "        Account.__init__(self, num=num, amnt=amnt,rate=rate) #부모 생성자를 호출할 수 있음.\n",
    "        self.minimum_balance = min_balance\n",
    "        self.bonus_rate = 1.0\n",
    "    \n",
    "    def withdraw(self, amnt): # 인출 기능 수정\n",
    "        if self.balance - amnt < self.minimum_balance:\n",
    "            print('Sorry, minimum balance must be maintained')\n",
    "            return False\n",
    "        else:\n",
    "            return Account.withdraw(self, amnt)\n",
    "        \n",
    "    def obtain_interest(self): #보너스 이율 반영\n",
    "        self.balance +=(self.balance)*((self.rate+self.bonus_rate)/100.0)\n",
    "\n",
    "    \n",
    "acc1 = Account()\n",
    "acc2 = MinBalanceAccount(700)\n",
    "acc3 = Account()\n",
    "\n",
    "acc1.deposit(500) #object.method() // 클래스의 method를 호출 하는 방법\n",
    "acc2.deposit(1000) #Account.deposit(acc2,1000) -> self에 acc2의 주소를 전달해준다.\n",
    "\n",
    "# print(acc1.balance) #object.attribute() //클래스의 attribute에 접근하는 방법\n",
    "# print(acc2.balance)\n",
    "# print(acc3.balance)\n",
    "# print(Account.num_acc)\n",
    "# print(acc1.num_acc)\n",
    "\n",
    "acc4=acc1+acc2\n",
    "print(acc4.balance, acc2.balance)\n",
    "\n",
    "acc2.transfer(acc4, 500) # acc4에서 acc2로 100원 송금\n",
    "print(acc4.get_balance())\n",
    "print(acc2.get_balance())"
   ]
  },
  {
   "cell_type": "markdown",
   "metadata": {},
   "source": [
    "# 과제"
   ]
  },
  {
   "cell_type": "code",
   "execution_count": null,
   "metadata": {},
   "outputs": [],
   "source": [
    "def __repr__(self):\n",
    "    return str(self.member)"
   ]
  },
  {
   "cell_type": "code",
   "execution_count": null,
   "metadata": {},
   "outputs": [],
   "source": []
  },
  {
   "cell_type": "code",
   "execution_count": 125,
   "metadata": {},
   "outputs": [
    {
     "name": "stdout",
     "output_type": "stream",
     "text": [
      "1,234\n",
      "12,345,678\n",
      "12\n"
     ]
    }
   ],
   "source": [
    "def add_comma(val):\n",
    "    res=\"\"\n",
    "    \n",
    "    while val>0:\n",
    "        res=\",\"+str(val%1000)+res\n",
    "        val=val//1000\n",
    "    \n",
    "    res=res[1:]\n",
    "    return res\n",
    "\n",
    "\n",
    "def main():\n",
    "    comma_added_1234 = add_comma(1234)\n",
    "    comma_added_12345678 = add_comma(12345678)\n",
    "    comma_added_12 =add_comma(12)\n",
    "    \n",
    "    print(comma_added_1234)\n",
    "    print(comma_added_12345678)\n",
    "    print(comma_added_12)\n",
    "    \n",
    "if __name__ == '__main__':\n",
    "    main()"
   ]
  },
  {
   "cell_type": "code",
   "execution_count": 207,
   "metadata": {},
   "outputs": [
    {
     "name": "stdout",
     "output_type": "stream",
     "text": [
      "평균: [0.5, 0.5] 분산: [0.16666666666666666, 0.16666666666666666]\n",
      "([2.0, 3.0], [0.0, 0.0])\n"
     ]
    }
   ],
   "source": [
    "def mean_and_var(*val):\n",
    "    m=[]; v=[]\n",
    "\n",
    "    \n",
    "    for i in range(len(val[0])):\n",
    "        s=0\n",
    "        for j in range(len(val)):\n",
    "            s+=val[j][i]\n",
    "        m.append(s)\n",
    "        \n",
    "    m=[x/len(val) for x in m] #mean\n",
    "    \n",
    "    for i in range(len(val[0])):\n",
    "        dif=0\n",
    "        for j in range(len(val)):\n",
    "            dif+=(val[j][i]-m[i])*(val[j][i]-m[i])\n",
    "        v.append(dif)\n",
    "    \n",
    "    v=[x/len(val) for x in v] #variance\n",
    "    \n",
    "    \n",
    "    \n",
    "    \n",
    "    return m,v\n",
    "\n",
    "def main():\n",
    "    v1=(0,1)\n",
    "    v2=(0.5,0.5)\n",
    "    v3=(1,0)\n",
    "    \n",
    "    m,var = mean_and_var(v1,v2,v3)\n",
    "    print(\"평균:\",m,\"분산:\",var)\n",
    "    \n",
    "if __name__ == '__main__':\n",
    "    main()"
   ]
  },
  {
   "cell_type": "code",
   "execution_count": 14,
   "metadata": {},
   "outputs": [
    {
     "name": "stdout",
     "output_type": "stream",
     "text": [
      "original data in set of a ==> [1, 2, 3]\n",
      "original data in set of b ==> [2, 3, 4]\n",
      "==================================================\n",
      "After:: append 5 and 1 in a ==> [1, 2, 3, 5]\n",
      "After:: delete 1 in a ==> [2, 3, 5]\n",
      "==================================================\n",
      "[1,2,3,5].union([2,3,5]) ==> [2, 3, 5, 4]\n",
      "[1,2,3,5].difference([2,3,5]) ==> [5]\n",
      "[1,2,3,5].intersection([2,3,5]) ==> [2, 3]\n",
      "==================================================\n",
      "[1,3,5] + [2,4,6]: 합집합 ==> [1, 3, 5, 2, 4, 6]\n",
      "[1,2,3,4,5]-[1,3,6]: 차집합 ==> [2, 4, 5]\n",
      "[1,2,3,4,5]/[1]: 교집합 ==> [1]\n"
     ]
    }
   ],
   "source": [
    "class Set:\n",
    "    def __init__(self, member=[]):\n",
    "        \n",
    "        self.member=[]\n",
    "        self.member.append(member[0])\n",
    "        #객체를 생성할 때 받아온 데이터 리스트의 원소가 겹치는지 확인 후 제거한다.\n",
    "        for item in member[1:]:\n",
    "            if item not in self.member:\n",
    "                self.member.append(item)\n",
    "        return \n",
    "    \n",
    "    def append(self,a):\n",
    "        if a not in self.member:\n",
    "            #집합에 속하지 않은 새로운 변수가 들어온 경우\n",
    "            self.member.append(a)\n",
    "            return True\n",
    "        else:\n",
    "            # 집합에 이미 속한 변수가 입력으로 들어온 경우\n",
    "            # 실패의 의미로 False를 반환한다.\n",
    "            return False\n",
    "    \n",
    "    def delete(self, a):\n",
    "        #if a in self.member:\n",
    "            #print(a)\n",
    "            \n",
    "        for i in range(len(self.member)):\n",
    "            if self.member[i] == a:\n",
    "                #delete 하고 싶은 원소가 member list안에 속해 있으면 삭제.\n",
    "                del self.member[i]\n",
    "                return True\n",
    "        \n",
    "        # 전달받은 원소가 member list에 존재하지 않는 경우로.\n",
    "        # delete실패의 의미로 False를 반환한다.\n",
    "        return False \n",
    "\n",
    "    def union(self, s2):\n",
    "        uniSet=[item for item in self.member]\n",
    "        uniSet=uniSet+[item for item in s2.member if item not in uniSet]\n",
    "        \n",
    "        # New_Set이라는 Set을 상속받는 자식 클래스를 사용하여\n",
    "        # 새로운 New_Set 객체가 만들어지게 한다.\n",
    "        return New_Set(uniSet)\n",
    "    \n",
    "       \n",
    "    def intersection(self, s2):\n",
    "        interSet=[item for item in self.member if item in s2.member]\n",
    "        \n",
    "        # New_Set이라는 Set을 상속받는 자식 클래스를 사용하여\n",
    "        # 새로운 New_Set 객체가 만들어지게 한다.\n",
    "        return New_Set(interSet)\n",
    "        \n",
    "    def difference(self, s2):\n",
    "        diffSet=[item for item in self.member if item not in s2.member]\n",
    "        \n",
    "        # New_Set이라는 Set을 상속받는 자식 클래스를 사용하여\n",
    "        # 새로운 New_Set 객체가 만들어지게 한다.        \n",
    "        return New_Set(diffSet)\n",
    "    \n",
    "    # operation overriding of \"+\"\n",
    "    def __add__(self, another): #Union(+)\n",
    "        return self.union(another)\n",
    "    \n",
    "    # operation overriding of \"-\"        \n",
    "    def __sub__(self, another) : #Difference(-)\n",
    "        return self.difference(another)\n",
    "    \n",
    "    # operation overriding of \"/\" \n",
    "    def __truediv__(self, another): #Intersection(/)\n",
    "        return self.intersection(another)\n",
    "    \n",
    "    def __repr__(self):\n",
    "        return str(self.member)\n",
    "    \n",
    "class New_Set(Set):\n",
    "    # Set 클래스를 상속받는 자식 클래스를 선언한다.\n",
    "    # union / intersection / difference 수행후 \n",
    "    # set 객체를 반환하기 위한 클래스 이다.\n",
    "    pass\n",
    "\n",
    "\n",
    "\n",
    "\n",
    "def main():\n",
    "    a=Set([1,2,3,3])\n",
    "    b=Set([2,3,4])\n",
    "    print(\"original data in set of a ==>\", a)\n",
    "    print(\"original data in set of b ==>\", b)\n",
    "    \n",
    "    print(\"=\"*50)\n",
    "    a.append(5); a.append(1)\n",
    "    print(\"After:: append 5 and 1 in a ==>\", a)\n",
    "    \n",
    "    a.delete(1)\n",
    "    print(\"After:: delete 1 in a ==>\",a)\n",
    "\n",
    "    print(\"=\"*50)\n",
    "    c=a.union(b)\n",
    "    print(\"[1,2,3,5].union([2,3,5]) ==>\", c)\n",
    "\n",
    "    d=a.difference(b)\n",
    "    print(\"[1,2,3,5].difference([2,3,5]) ==>\",d)\n",
    "\n",
    "    e=a.intersection(b)\n",
    "    print(\"[1,2,3,5].intersection([2,3,5]) ==>\",e)\n",
    "\n",
    "    print(\"=\"*50)\n",
    "    f=Set([1,3,5])+Set([2,4,6])\n",
    "    print(\"[1,3,5] + [2,4,6]: 합집합 ==>\", f)\n",
    "\n",
    "    g=Set([1,2,3,4,5])-Set([1,3,6])\n",
    "    print(\"[1,2,3,4,5]-[1,3,6]: 차집합 ==>\",g)\n",
    "\n",
    "    h=Set([1,2,3,4,5])/Set([1])\n",
    "    print(\"[1,2,3,4,5]/[1]: 교집합 ==>\",h)\n",
    "\n",
    "if __name__ == '__main__':\n",
    "    main()\n"
   ]
  },
  {
   "cell_type": "code",
   "execution_count": 206,
   "metadata": {},
   "outputs": [
    {
     "name": "stdout",
     "output_type": "stream",
     "text": [
      "a: [2, 3, 5]\n",
      "b: [2, 3, 4]\n",
      "합집합 c [2, 3, 5, 4]\n",
      "차집합 d [5]\n",
      "교집합 e [2, 3]\n",
      "+ 합집합 [1, 3, 5, 2, 4, 6]\n",
      "- 차집합 [2, 4, 5]\n",
      "/ 교집합 [1]\n"
     ]
    }
   ],
   "source": []
  },
  {
   "cell_type": "code",
   "execution_count": 23,
   "metadata": {},
   "outputs": [
    {
     "name": "stdout",
     "output_type": "stream",
     "text": [
      "'제 이름은 kim, 나이는 30, 학과는 Computer, 지도교수님은 Lee 입니다'\n",
      "'제 이름은 Lee, 나이는 22, 학과는 Computer, 지도교수님은 Lee 입니다'\n",
      "'제 이름은 Lee, 나이는 55, 학과는 Computer, 지도학생은 kim, Lee 입니다'\n"
     ]
    }
   ],
   "source": [
    "class Person:\n",
    "\n",
    "    def __init__(self, name, age, dpt):\n",
    "        self.name=name\n",
    "        self.age=age\n",
    "        self.dpt=dpt\n",
    "    \n",
    "    def get_name(self):\n",
    "        return self.name\n",
    "        \n",
    "        \n",
    "class Student(Person):\n",
    "    def __init__(self, name, age, dpt, identifier, gpa):\n",
    "        Person.__init__(self, name=name,age=age,dpt=dpt)\n",
    "        self.identifier = identifier\n",
    "        self.gpa = gpa\n",
    "    \n",
    "    def print_info(self):\n",
    "        print(\"'제 이름은 %s, 나이는 %d, 학과는 %s, 지도교수님은 %s 입니다'\"\n",
    "             %(self.get_name(), self.age, self.dpt, self.reg_advisor_name))\n",
    "        return\n",
    "        \n",
    "    def reg_advisor(self, pName):\n",
    "        # pName이 Professor객체로 전달되기 때문에\n",
    "        # professor의 상위 클래스인 Person에 있는 get_name()을 사용해서\n",
    "        # 이름만 가져와서 저장한다.\n",
    "        self.reg_advisor_name=pName.get_name()\n",
    "        return\n",
    "\n",
    "    \n",
    "class Professor(Person):\n",
    "    reg_student_names=[]\n",
    "    \n",
    "    def __init__(self, name, age, dpt, position,laboratory):\n",
    "        Person.__init__(self, name=name, age=age, dpt=dpt)\n",
    "        self.position = position\n",
    "        self.laboratory = laboratory\n",
    "              \n",
    "      \n",
    "    def print_info(self):\n",
    "        \n",
    "        #저장된 담당 학생 리스트에서 학생이름을 가져와 문자열을 생성한다.\n",
    "        students=str(self.reg_student_names[0])\n",
    "        for s in self.reg_student_names[1:]:\n",
    "              students+=\", %s\"%s\n",
    "              \n",
    "        print(\"'제 이름은 %s, 나이는 %d, 학과는 %s, 지도학생은 %s 입니다'\"\n",
    "             %(self.get_name(), self.age, self.dpt, students))\n",
    "        return\n",
    "    \n",
    "    def reg_student(self, sName):\n",
    "        # sName이 Student객체로 전달되기 때문에\n",
    "        # student의 상위 클래스인 Person에 있는 get_name()을 사용해서\n",
    "        # 이름만 가져와서 담당 학생 리스트에 append한다.\n",
    "        self.reg_student_names.append(sName.get_name())\n",
    "        return\n",
    "\n",
    "def main():\n",
    "    stu1 =Student('kim',30,'Computer',20001234, 4.5)\n",
    "    stu2 = Student('Lee', 22, 'Computer', 20101234, 0.5)\n",
    "    prof1 = Professor('Lee', 55, 'Computer', 'Full', 'KLE')\n",
    "\n",
    "    stu1.reg_advisor(prof1)\n",
    "    stu2.reg_advisor(prof1)\n",
    "\n",
    "    prof1.reg_student(stu1)\n",
    "    prof1.reg_student(stu2)\n",
    "\n",
    "    stu1.print_info()\n",
    "    stu2.print_info()\n",
    "    prof1.print_info()\n",
    "\n",
    "\n",
    "if __name__ == '__main__':\n",
    "    main()\n"
   ]
  },
  {
   "cell_type": "code",
   "execution_count": null,
   "metadata": {},
   "outputs": [],
   "source": []
  },
  {
   "cell_type": "code",
   "execution_count": null,
   "metadata": {},
   "outputs": [],
   "source": []
  },
  {
   "cell_type": "code",
   "execution_count": 24,
   "metadata": {},
   "outputs": [
    {
     "name": "stdout",
     "output_type": "stream",
     "text": [
      "10 10 0\n",
      "20\n"
     ]
    }
   ],
   "source": [
    "def fun(a,b=10,c=0):\n",
    "    print(a,b,c)\n",
    "    return a+b+c\n",
    "\n",
    "print(fun(10))"
   ]
  },
  {
   "cell_type": "code",
   "execution_count": 261,
   "metadata": {},
   "outputs": [
    {
     "data": {
      "text/plain": [
       "'135'"
      ]
     },
     "execution_count": 261,
     "metadata": {},
     "output_type": "execute_result"
    }
   ],
   "source": [
    "word=\"12345\"\n",
    "word[::2]"
   ]
  },
  {
   "cell_type": "code",
   "execution_count": null,
   "metadata": {},
   "outputs": [],
   "source": []
  },
  {
   "cell_type": "code",
   "execution_count": null,
   "metadata": {},
   "outputs": [],
   "source": []
  },
  {
   "cell_type": "code",
   "execution_count": null,
   "metadata": {},
   "outputs": [],
   "source": []
  }
 ],
 "metadata": {
  "kernelspec": {
   "display_name": "Python 3",
   "language": "python",
   "name": "python3"
  },
  "language_info": {
   "codemirror_mode": {
    "name": "ipython",
    "version": 3
   },
   "file_extension": ".py",
   "mimetype": "text/x-python",
   "name": "python",
   "nbconvert_exporter": "python",
   "pygments_lexer": "ipython3",
   "version": "3.7.3"
  }
 },
 "nbformat": 4,
 "nbformat_minor": 2
}
